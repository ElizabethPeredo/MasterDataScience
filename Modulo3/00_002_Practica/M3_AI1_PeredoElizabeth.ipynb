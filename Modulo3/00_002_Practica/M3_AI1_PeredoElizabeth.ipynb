{
  "cells": [
    {
      "cell_type": "markdown",
      "metadata": {
        "id": "31wOhp6kpSym"
      },
      "source": [
        "# **M3_AI1_CONSULTA DE LA EUROSTAT**"
      ]
    },
    {
      "cell_type": "markdown",
      "metadata": {
        "id": "HLqFf1RLpXev"
      },
      "source": [
        "- Peredo Mescco, Elizabeth Evelin"
      ]
    },
    {
      "cell_type": "code",
      "source": [
        "!pip install eurostat"
      ],
      "metadata": {
        "id": "HCQqNb3SWQq6",
        "colab": {
          "base_uri": "https://localhost:8080/"
        },
        "outputId": "e9b2a3d0-d52b-4c3c-80cf-9d16ac68923d"
      },
      "execution_count": null,
      "outputs": [
        {
          "output_type": "stream",
          "name": "stdout",
          "text": [
            "Looking in indexes: https://pypi.org/simple, https://us-python.pkg.dev/colab-wheels/public/simple/\n",
            "Requirement already satisfied: eurostat in /usr/local/lib/python3.8/dist-packages (1.0.1)\n",
            "Requirement already satisfied: requests in /usr/local/lib/python3.8/dist-packages (from eurostat) (2.25.1)\n",
            "Requirement already satisfied: pandas in /usr/local/lib/python3.8/dist-packages (from eurostat) (1.3.5)\n",
            "Requirement already satisfied: python-dateutil>=2.7.3 in /usr/local/lib/python3.8/dist-packages (from pandas->eurostat) (2.8.2)\n",
            "Requirement already satisfied: pytz>=2017.3 in /usr/local/lib/python3.8/dist-packages (from pandas->eurostat) (2022.7.1)\n",
            "Requirement already satisfied: numpy>=1.17.3 in /usr/local/lib/python3.8/dist-packages (from pandas->eurostat) (1.22.4)\n",
            "Requirement already satisfied: certifi>=2017.4.17 in /usr/local/lib/python3.8/dist-packages (from requests->eurostat) (2022.12.7)\n",
            "Requirement already satisfied: urllib3<1.27,>=1.21.1 in /usr/local/lib/python3.8/dist-packages (from requests->eurostat) (1.26.14)\n",
            "Requirement already satisfied: chardet<5,>=3.0.2 in /usr/local/lib/python3.8/dist-packages (from requests->eurostat) (4.0.0)\n",
            "Requirement already satisfied: idna<3,>=2.5 in /usr/local/lib/python3.8/dist-packages (from requests->eurostat) (2.10)\n",
            "Requirement already satisfied: six>=1.5 in /usr/local/lib/python3.8/dist-packages (from python-dateutil>=2.7.3->pandas->eurostat) (1.15.0)\n"
          ]
        }
      ]
    },
    {
      "cell_type": "code",
      "source": [
        "import pandas as pd\n",
        "import numpy as np\n",
        "import matplotlib.pyplot as plt\n",
        "import requests\n",
        "import yaml\n",
        "from google.colab import drive\n",
        "from apiclient.discovery import build\n",
        "from oauth2client.service_account import ServiceAccountCredentials\n",
        "\n",
        "import eurostat\n",
        "from eurostat import get_data_df"
      ],
      "metadata": {
        "id": "NH_YfpUnEAIq"
      },
      "execution_count": null,
      "outputs": []
    },
    {
      "cell_type": "markdown",
      "source": [
        "## 1. Crea una variable string con la url de la llamada al api de Eurostat para obtener los datos del colectivo objetivo del estudio. Ejemplo: urlEUROSTAT =https://ec.europa.eu/eurostat/api/dissemination/statistics/1.0/data/XXX......"
      ],
      "metadata": {
        "id": "RYGhh-lYk7N6"
      }
    },
    {
      "cell_type": "code",
      "source": [
        "url_euro=\"https://ec.europa.eu/eurostat/api/dissemination/statistics/1.0/data/ilc_pw01?format=JSON\"\n",
        "result=json.load(urlopen(url_euro))"
      ],
      "metadata": {
        "id": "4yH6FFUhXSTh"
      },
      "execution_count": null,
      "outputs": []
    },
    {
      "cell_type": "markdown",
      "source": [
        "## 2. Crea un diccionario con el objeto JSON que se obtiene al realizar la petición a la API de la consulta del punto anterior. Imprime por pantalla el elemento \"dimension\" del diccionario creado.\n",
        "- Puedes utilizar la función urlopen() de la librería urllib.request."
      ],
      "metadata": {
        "id": "dCs9BnXLk_tR"
      }
    },
    {
      "cell_type": "code",
      "source": [
        "data=json.load(urlopen(url_euro))\n",
        "print(yaml.dump(data[\"dimension\"], sort_keys=False, default_flow_style=False))\n"
      ],
      "metadata": {
        "id": "4RbmRunSiDOA",
        "colab": {
          "base_uri": "https://localhost:8080/"
        },
        "outputId": "ab48b596-80fc-4be4-cce6-a1071988ecab"
      },
      "execution_count": null,
      "outputs": [
        {
          "output_type": "stream",
          "name": "stdout",
          "text": [
            "freq:\n",
            "  label: Time frequency\n",
            "  category:\n",
            "    index:\n",
            "      A: 0\n",
            "    label:\n",
            "      A: Annual\n",
            "unit:\n",
            "  label: Unit of measure\n",
            "  category:\n",
            "    index:\n",
            "      RTG: 0\n",
            "    label:\n",
            "      RTG: Rating (0-10)\n",
            "isced11:\n",
            "  label: International Standard Classification of Education (ISCED 2011)\n",
            "  category:\n",
            "    index:\n",
            "      TOTAL: 0\n",
            "      ED0-2: 1\n",
            "      ED3_4: 2\n",
            "      ED5-8: 3\n",
            "      ED5_6: 4\n",
            "    label:\n",
            "      TOTAL: All ISCED 2011 levels\n",
            "      ED0-2: Less than primary, primary and lower secondary education (levels 0-2)\n",
            "      ED3_4: Upper secondary and post-secondary non-tertiary education (levels 3 and\n",
            "        4)\n",
            "      ED5-8: Tertiary education (levels 5-8)\n",
            "      ED5_6: Short-cycle tertiary education and Bachelor's or equivalent level (levels\n",
            "        5 and 6)\n",
            "indic_wb:\n",
            "  label: Personnal well-being indicators\n",
            "  category:\n",
            "    index:\n",
            "      FINSAT: 0\n",
            "      ACCSAT: 1\n",
            "      JOBSAT: 2\n",
            "      COMSAT: 3\n",
            "      TIMESAT: 4\n",
            "      LIFESAT: 5\n",
            "      GREENSAT: 6\n",
            "      LIVENVSAT: 7\n",
            "      RELSAT: 8\n",
            "      MEANLIFE: 9\n",
            "    label:\n",
            "      FINSAT: Satisfaction with financial situation\n",
            "      ACCSAT: Satisfaction with accommodation\n",
            "      JOBSAT: Job satisfaction\n",
            "      COMSAT: Satisfaction with commuting time\n",
            "      TIMESAT: Satisfaction with time use\n",
            "      LIFESAT: Overall life satisfaction\n",
            "      GREENSAT: Satisfaction with recreational and green areas\n",
            "      LIVENVSAT: Satisfaction with living environment\n",
            "      RELSAT: Satisfaction with personal relationships\n",
            "      MEANLIFE: Meaning of life\n",
            "sex:\n",
            "  label: Sex\n",
            "  category:\n",
            "    index:\n",
            "      T: 0\n",
            "      M: 1\n",
            "      F: 2\n",
            "    label:\n",
            "      T: Total\n",
            "      M: Males\n",
            "      F: Females\n",
            "age:\n",
            "  label: Age class\n",
            "  category:\n",
            "    index:\n",
            "      Y16-19: 0\n",
            "      Y16-24: 1\n",
            "      Y16-29: 2\n",
            "      Y_GE16: 3\n",
            "      Y20-24: 4\n",
            "      Y25-29: 5\n",
            "      Y25-34: 6\n",
            "      Y25-64: 7\n",
            "      Y35-49: 8\n",
            "      Y50-64: 9\n",
            "      Y65-74: 10\n",
            "      Y_GE65: 11\n",
            "      Y_GE75: 12\n",
            "    label:\n",
            "      Y16-19: From 16 to 19 years\n",
            "      Y16-24: From 16 to 24 years\n",
            "      Y16-29: From 16 to 29 years\n",
            "      Y_GE16: 16 years or over\n",
            "      Y20-24: From 20 to 24 years\n",
            "      Y25-29: From 25 to 29 years\n",
            "      Y25-34: From 25 to 34 years\n",
            "      Y25-64: From 25 to 64 years\n",
            "      Y35-49: From 35 to 49 years\n",
            "      Y50-64: From 50 to 64 years\n",
            "      Y65-74: From 65 to 74 years\n",
            "      Y_GE65: 65 years or over\n",
            "      Y_GE75: 75 years or over\n",
            "geo:\n",
            "  label: Geopolitical entity (reporting)\n",
            "  category:\n",
            "    index:\n",
            "      EU: 0\n",
            "      EU27_2020: 1\n",
            "      EU28: 2\n",
            "      EU27_2007: 3\n",
            "      EA: 4\n",
            "      EA19: 5\n",
            "      EA18: 6\n",
            "      BE: 7\n",
            "      BG: 8\n",
            "      CZ: 9\n",
            "      DK: 10\n",
            "      DE: 11\n",
            "      EE: 12\n",
            "      IE: 13\n",
            "      EL: 14\n",
            "      ES: 15\n",
            "      FR: 16\n",
            "      HR: 17\n",
            "      IT: 18\n",
            "      CY: 19\n",
            "      LV: 20\n",
            "      LT: 21\n",
            "      LU: 22\n",
            "      HU: 23\n",
            "      MT: 24\n",
            "      NL: 25\n",
            "      AT: 26\n",
            "      PL: 27\n",
            "      PT: 28\n",
            "      RO: 29\n",
            "      SI: 30\n",
            "      SK: 31\n",
            "      FI: 32\n",
            "      SE: 33\n",
            "      IS: 34\n",
            "      'NO': 35\n",
            "      CH: 36\n",
            "      UK: 37\n",
            "      ME: 38\n",
            "      MK: 39\n",
            "      AL: 40\n",
            "      RS: 41\n",
            "      TR: 42\n",
            "      XK: 43\n",
            "    label:\n",
            "      EU: European Union (EU6-1958, EU9-1973, EU10-1981, EU12-1986, EU15-1995, EU25-2004,\n",
            "        EU27-2007, EU28-2013, EU27-2020)\n",
            "      EU27_2020: European Union - 27 countries (from 2020)\n",
            "      EU28: European Union - 28 countries (2013-2020)\n",
            "      EU27_2007: European Union - 27 countries (2007-2013)\n",
            "      EA: Euro area (EA11-1999, EA12-2001, EA13-2007, EA15-2008, EA16-2009, EA17-2011,\n",
            "        EA18-2014, EA19-2015, EA20-2023)\n",
            "      EA19: Euro area - 19 countries  (2015-2022)\n",
            "      EA18: Euro area - 18 countries (2014)\n",
            "      BE: Belgium\n",
            "      BG: Bulgaria\n",
            "      CZ: Czechia\n",
            "      DK: Denmark\n",
            "      DE: Germany (until 1990 former territory of the FRG)\n",
            "      EE: Estonia\n",
            "      IE: Ireland\n",
            "      EL: Greece\n",
            "      ES: Spain\n",
            "      FR: France\n",
            "      HR: Croatia\n",
            "      IT: Italy\n",
            "      CY: Cyprus\n",
            "      LV: Latvia\n",
            "      LT: Lithuania\n",
            "      LU: Luxembourg\n",
            "      HU: Hungary\n",
            "      MT: Malta\n",
            "      NL: Netherlands\n",
            "      AT: Austria\n",
            "      PL: Poland\n",
            "      PT: Portugal\n",
            "      RO: Romania\n",
            "      SI: Slovenia\n",
            "      SK: Slovakia\n",
            "      FI: Finland\n",
            "      SE: Sweden\n",
            "      IS: Iceland\n",
            "      'NO': Norway\n",
            "      CH: Switzerland\n",
            "      UK: United Kingdom\n",
            "      ME: Montenegro\n",
            "      MK: North Macedonia\n",
            "      AL: Albania\n",
            "      RS: Serbia\n",
            "      TR: \"T\\xFCrkiye\"\n",
            "      XK: Kosovo (under United Nations Security Council Resolution 1244/99)\n",
            "time:\n",
            "  label: Time\n",
            "  category:\n",
            "    index:\n",
            "      '2013': 0\n",
            "      '2018': 1\n",
            "      '2021': 2\n",
            "    label:\n",
            "      '2013': '2013'\n",
            "      '2018': '2018'\n",
            "      '2021': '2021'\n",
            "\n"
          ]
        }
      ]
    },
    {
      "cell_type": "markdown",
      "source": [
        "## 3. Descarga los datos de Satisfacción en Europa (código del dataset: ilc_pw01) en formato pandas a partir de la función get_data_df() de librería eurostat.\n",
        "- Para instalar la librería Eurostat ejecuta en colab: !pip install eurostat"
      ],
      "metadata": {
        "id": "pnVagqXqlLNd"
      }
    },
    {
      "cell_type": "code",
      "source": [
        "database = 'ilc_pw01'\n",
        "df = eurostat.get_data_df(database)\n",
        "print(df)"
      ],
      "metadata": {
        "id": "VtvrkWKslQh8",
        "colab": {
          "base_uri": "https://localhost:8080/"
        },
        "outputId": "70fea17f-a66f-4a4f-8a57-1f900d25ca2a"
      },
      "execution_count": null,
      "outputs": [
        {
          "output_type": "stream",
          "name": "stdout",
          "text": [
            "      freq unit isced11 indic_wb sex     age geo\\TIME_PERIOD  2013  2018  2021\n",
            "0        A  RTG   ED0-2   ACCSAT   F  Y16-19              AT   8.7   NaN   NaN\n",
            "1        A  RTG   ED0-2   ACCSAT   F  Y16-19              BE   8.0   NaN   NaN\n",
            "2        A  RTG   ED0-2   ACCSAT   F  Y16-19              BG   6.0   NaN   NaN\n",
            "3        A  RTG   ED0-2   ACCSAT   F  Y16-19              CH   8.5   NaN   NaN\n",
            "4        A  RTG   ED0-2   ACCSAT   F  Y16-19              CY   8.3   NaN   NaN\n",
            "...    ...  ...     ...      ...  ..     ...             ...   ...   ...   ...\n",
            "63856    A  RTG   TOTAL  TIMESAT   T  Y_GE75              SI   7.1   8.0   NaN\n",
            "63857    A  RTG   TOTAL  TIMESAT   T  Y_GE75              SK   7.9   7.4   NaN\n",
            "63858    A  RTG   TOTAL  TIMESAT   T  Y_GE75              TR   5.5   5.9   NaN\n",
            "63859    A  RTG   TOTAL  TIMESAT   T  Y_GE75              UK   8.1   8.4   NaN\n",
            "63860    A  RTG   TOTAL  TIMESAT   T  Y_GE75              XK   NaN   6.4   NaN\n",
            "\n",
            "[63861 rows x 10 columns]\n"
          ]
        }
      ]
    },
    {
      "cell_type": "markdown",
      "source": [
        "## 4. Filtra el conjunto de datos solicitados en el punto 1 directamente en este Data Frame y presenta las 6 primeras filas."
      ],
      "metadata": {
        "id": "QkATVEVDlQ-a"
      }
    },
    {
      "cell_type": "markdown",
      "source": [
        "El colectivo objetivo del estudio es:\n",
        "- Nivel de educación (isced11): Tertiary education ED5-8\n",
        "- Indicador (indic_wb):   JOBSAT\n",
        "- Género (sex): T – Total\n",
        "- Edad (age): Y25-34 – From 25 to 34 years"
      ],
      "metadata": {
        "id": "_zGne8dR9yr1"
      }
    },
    {
      "cell_type": "code",
      "source": [
        "df_new = df.loc[(df['isced11'] == 'ED5-8') & \n",
        "                     (df['indic_wb'] == 'JOBSAT') & \n",
        "                     (df['sex'] == 'T') & \n",
        "                     (df['age'] == 'Y25-34')]\n",
        "df_new.head(6)"
      ],
      "metadata": {
        "id": "vKNRnXYqlXTn",
        "colab": {
          "base_uri": "https://localhost:8080/",
          "height": 281
        },
        "outputId": "db274098-6c99-44db-fac4-25361c046c6f"
      },
      "execution_count": null,
      "outputs": [
        {
          "output_type": "execute_result",
          "data": {
            "text/plain": [
              "      freq unit isced11 indic_wb sex     age geo\\TIME_PERIOD  2013  2018  2021\n",
              "38077    A  RTG   ED5-8   JOBSAT   T  Y25-34              AL   NaN   6.5   NaN\n",
              "38078    A  RTG   ED5-8   JOBSAT   T  Y25-34              AT   8.1   8.0   NaN\n",
              "38079    A  RTG   ED5-8   JOBSAT   T  Y25-34              BE   7.4   7.6   NaN\n",
              "38080    A  RTG   ED5-8   JOBSAT   T  Y25-34              BG   6.9   7.0   NaN\n",
              "38081    A  RTG   ED5-8   JOBSAT   T  Y25-34              CH   7.6   7.5   NaN\n",
              "38082    A  RTG   ED5-8   JOBSAT   T  Y25-34              CY   7.4   7.4   NaN"
            ],
            "text/html": [
              "\n",
              "  <div id=\"df-32e652c2-b1f6-4b1a-9c7b-468575f5a056\">\n",
              "    <div class=\"colab-df-container\">\n",
              "      <div>\n",
              "<style scoped>\n",
              "    .dataframe tbody tr th:only-of-type {\n",
              "        vertical-align: middle;\n",
              "    }\n",
              "\n",
              "    .dataframe tbody tr th {\n",
              "        vertical-align: top;\n",
              "    }\n",
              "\n",
              "    .dataframe thead th {\n",
              "        text-align: right;\n",
              "    }\n",
              "</style>\n",
              "<table border=\"1\" class=\"dataframe\">\n",
              "  <thead>\n",
              "    <tr style=\"text-align: right;\">\n",
              "      <th></th>\n",
              "      <th>freq</th>\n",
              "      <th>unit</th>\n",
              "      <th>isced11</th>\n",
              "      <th>indic_wb</th>\n",
              "      <th>sex</th>\n",
              "      <th>age</th>\n",
              "      <th>geo\\TIME_PERIOD</th>\n",
              "      <th>2013</th>\n",
              "      <th>2018</th>\n",
              "      <th>2021</th>\n",
              "    </tr>\n",
              "  </thead>\n",
              "  <tbody>\n",
              "    <tr>\n",
              "      <th>38077</th>\n",
              "      <td>A</td>\n",
              "      <td>RTG</td>\n",
              "      <td>ED5-8</td>\n",
              "      <td>JOBSAT</td>\n",
              "      <td>T</td>\n",
              "      <td>Y25-34</td>\n",
              "      <td>AL</td>\n",
              "      <td>NaN</td>\n",
              "      <td>6.5</td>\n",
              "      <td>NaN</td>\n",
              "    </tr>\n",
              "    <tr>\n",
              "      <th>38078</th>\n",
              "      <td>A</td>\n",
              "      <td>RTG</td>\n",
              "      <td>ED5-8</td>\n",
              "      <td>JOBSAT</td>\n",
              "      <td>T</td>\n",
              "      <td>Y25-34</td>\n",
              "      <td>AT</td>\n",
              "      <td>8.1</td>\n",
              "      <td>8.0</td>\n",
              "      <td>NaN</td>\n",
              "    </tr>\n",
              "    <tr>\n",
              "      <th>38079</th>\n",
              "      <td>A</td>\n",
              "      <td>RTG</td>\n",
              "      <td>ED5-8</td>\n",
              "      <td>JOBSAT</td>\n",
              "      <td>T</td>\n",
              "      <td>Y25-34</td>\n",
              "      <td>BE</td>\n",
              "      <td>7.4</td>\n",
              "      <td>7.6</td>\n",
              "      <td>NaN</td>\n",
              "    </tr>\n",
              "    <tr>\n",
              "      <th>38080</th>\n",
              "      <td>A</td>\n",
              "      <td>RTG</td>\n",
              "      <td>ED5-8</td>\n",
              "      <td>JOBSAT</td>\n",
              "      <td>T</td>\n",
              "      <td>Y25-34</td>\n",
              "      <td>BG</td>\n",
              "      <td>6.9</td>\n",
              "      <td>7.0</td>\n",
              "      <td>NaN</td>\n",
              "    </tr>\n",
              "    <tr>\n",
              "      <th>38081</th>\n",
              "      <td>A</td>\n",
              "      <td>RTG</td>\n",
              "      <td>ED5-8</td>\n",
              "      <td>JOBSAT</td>\n",
              "      <td>T</td>\n",
              "      <td>Y25-34</td>\n",
              "      <td>CH</td>\n",
              "      <td>7.6</td>\n",
              "      <td>7.5</td>\n",
              "      <td>NaN</td>\n",
              "    </tr>\n",
              "    <tr>\n",
              "      <th>38082</th>\n",
              "      <td>A</td>\n",
              "      <td>RTG</td>\n",
              "      <td>ED5-8</td>\n",
              "      <td>JOBSAT</td>\n",
              "      <td>T</td>\n",
              "      <td>Y25-34</td>\n",
              "      <td>CY</td>\n",
              "      <td>7.4</td>\n",
              "      <td>7.4</td>\n",
              "      <td>NaN</td>\n",
              "    </tr>\n",
              "  </tbody>\n",
              "</table>\n",
              "</div>\n",
              "      <button class=\"colab-df-convert\" onclick=\"convertToInteractive('df-32e652c2-b1f6-4b1a-9c7b-468575f5a056')\"\n",
              "              title=\"Convert this dataframe to an interactive table.\"\n",
              "              style=\"display:none;\">\n",
              "        \n",
              "  <svg xmlns=\"http://www.w3.org/2000/svg\" height=\"24px\"viewBox=\"0 0 24 24\"\n",
              "       width=\"24px\">\n",
              "    <path d=\"M0 0h24v24H0V0z\" fill=\"none\"/>\n",
              "    <path d=\"M18.56 5.44l.94 2.06.94-2.06 2.06-.94-2.06-.94-.94-2.06-.94 2.06-2.06.94zm-11 1L8.5 8.5l.94-2.06 2.06-.94-2.06-.94L8.5 2.5l-.94 2.06-2.06.94zm10 10l.94 2.06.94-2.06 2.06-.94-2.06-.94-.94-2.06-.94 2.06-2.06.94z\"/><path d=\"M17.41 7.96l-1.37-1.37c-.4-.4-.92-.59-1.43-.59-.52 0-1.04.2-1.43.59L10.3 9.45l-7.72 7.72c-.78.78-.78 2.05 0 2.83L4 21.41c.39.39.9.59 1.41.59.51 0 1.02-.2 1.41-.59l7.78-7.78 2.81-2.81c.8-.78.8-2.07 0-2.86zM5.41 20L4 18.59l7.72-7.72 1.47 1.35L5.41 20z\"/>\n",
              "  </svg>\n",
              "      </button>\n",
              "      \n",
              "  <style>\n",
              "    .colab-df-container {\n",
              "      display:flex;\n",
              "      flex-wrap:wrap;\n",
              "      gap: 12px;\n",
              "    }\n",
              "\n",
              "    .colab-df-convert {\n",
              "      background-color: #E8F0FE;\n",
              "      border: none;\n",
              "      border-radius: 50%;\n",
              "      cursor: pointer;\n",
              "      display: none;\n",
              "      fill: #1967D2;\n",
              "      height: 32px;\n",
              "      padding: 0 0 0 0;\n",
              "      width: 32px;\n",
              "    }\n",
              "\n",
              "    .colab-df-convert:hover {\n",
              "      background-color: #E2EBFA;\n",
              "      box-shadow: 0px 1px 2px rgba(60, 64, 67, 0.3), 0px 1px 3px 1px rgba(60, 64, 67, 0.15);\n",
              "      fill: #174EA6;\n",
              "    }\n",
              "\n",
              "    [theme=dark] .colab-df-convert {\n",
              "      background-color: #3B4455;\n",
              "      fill: #D2E3FC;\n",
              "    }\n",
              "\n",
              "    [theme=dark] .colab-df-convert:hover {\n",
              "      background-color: #434B5C;\n",
              "      box-shadow: 0px 1px 3px 1px rgba(0, 0, 0, 0.15);\n",
              "      filter: drop-shadow(0px 1px 2px rgba(0, 0, 0, 0.3));\n",
              "      fill: #FFFFFF;\n",
              "    }\n",
              "  </style>\n",
              "\n",
              "      <script>\n",
              "        const buttonEl =\n",
              "          document.querySelector('#df-32e652c2-b1f6-4b1a-9c7b-468575f5a056 button.colab-df-convert');\n",
              "        buttonEl.style.display =\n",
              "          google.colab.kernel.accessAllowed ? 'block' : 'none';\n",
              "\n",
              "        async function convertToInteractive(key) {\n",
              "          const element = document.querySelector('#df-32e652c2-b1f6-4b1a-9c7b-468575f5a056');\n",
              "          const dataTable =\n",
              "            await google.colab.kernel.invokeFunction('convertToInteractive',\n",
              "                                                     [key], {});\n",
              "          if (!dataTable) return;\n",
              "\n",
              "          const docLinkHtml = 'Like what you see? Visit the ' +\n",
              "            '<a target=\"_blank\" href=https://colab.research.google.com/notebooks/data_table.ipynb>data table notebook</a>'\n",
              "            + ' to learn more about interactive tables.';\n",
              "          element.innerHTML = '';\n",
              "          dataTable['output_type'] = 'display_data';\n",
              "          await google.colab.output.renderOutput(dataTable, element);\n",
              "          const docLink = document.createElement('div');\n",
              "          docLink.innerHTML = docLinkHtml;\n",
              "          element.appendChild(docLink);\n",
              "        }\n",
              "      </script>\n",
              "    </div>\n",
              "  </div>\n",
              "  "
            ]
          },
          "metadata": {},
          "execution_count": 187
        }
      ]
    },
    {
      "cell_type": "markdown",
      "source": [
        "## 5. Construye un gráfico donde se presente el nivel de satisfacción en cada país del colectivo objetivo del estudio en el año 2018.:"
      ],
      "metadata": {
        "id": "sdaAFhtulXtr"
      }
    },
    {
      "cell_type": "code",
      "source": [
        "df_satf = pd.pivot_table(df, values='2018', \n",
        "                         index='geo\\\\TIME_PERIOD', \n",
        "                         columns='indic_wb', \n",
        "                         aggfunc='mean')\n",
        "df_satf.head(5)"
      ],
      "metadata": {
        "id": "XpNeIpel-jdX",
        "colab": {
          "base_uri": "https://localhost:8080/",
          "height": 237
        },
        "outputId": "8000bb32-9a6c-48b8-c95b-bacb7734442b"
      },
      "execution_count": null,
      "outputs": [
        {
          "output_type": "execute_result",
          "data": {
            "text/plain": [
              "indic_wb           FINSAT    JOBSAT   LIFESAT    RELSAT   TIMESAT\n",
              "geo\\TIME_PERIOD                                                  \n",
              "AL               4.920261  5.348837  5.598039  6.952288  5.750980\n",
              "AT               7.322876  8.018919  8.015789  8.635294  7.454902\n",
              "BE               7.000654  7.579091  7.637255  7.973856  7.160784\n",
              "BG               4.219595  6.270833  5.554730  6.700000  5.865541\n",
              "CH               7.116340  8.051200  7.966225  8.690728  7.511921"
            ],
            "text/html": [
              "\n",
              "  <div id=\"df-08b4735d-36c1-4763-9eba-5576c22e8bd2\">\n",
              "    <div class=\"colab-df-container\">\n",
              "      <div>\n",
              "<style scoped>\n",
              "    .dataframe tbody tr th:only-of-type {\n",
              "        vertical-align: middle;\n",
              "    }\n",
              "\n",
              "    .dataframe tbody tr th {\n",
              "        vertical-align: top;\n",
              "    }\n",
              "\n",
              "    .dataframe thead th {\n",
              "        text-align: right;\n",
              "    }\n",
              "</style>\n",
              "<table border=\"1\" class=\"dataframe\">\n",
              "  <thead>\n",
              "    <tr style=\"text-align: right;\">\n",
              "      <th>indic_wb</th>\n",
              "      <th>FINSAT</th>\n",
              "      <th>JOBSAT</th>\n",
              "      <th>LIFESAT</th>\n",
              "      <th>RELSAT</th>\n",
              "      <th>TIMESAT</th>\n",
              "    </tr>\n",
              "    <tr>\n",
              "      <th>geo\\TIME_PERIOD</th>\n",
              "      <th></th>\n",
              "      <th></th>\n",
              "      <th></th>\n",
              "      <th></th>\n",
              "      <th></th>\n",
              "    </tr>\n",
              "  </thead>\n",
              "  <tbody>\n",
              "    <tr>\n",
              "      <th>AL</th>\n",
              "      <td>4.920261</td>\n",
              "      <td>5.348837</td>\n",
              "      <td>5.598039</td>\n",
              "      <td>6.952288</td>\n",
              "      <td>5.750980</td>\n",
              "    </tr>\n",
              "    <tr>\n",
              "      <th>AT</th>\n",
              "      <td>7.322876</td>\n",
              "      <td>8.018919</td>\n",
              "      <td>8.015789</td>\n",
              "      <td>8.635294</td>\n",
              "      <td>7.454902</td>\n",
              "    </tr>\n",
              "    <tr>\n",
              "      <th>BE</th>\n",
              "      <td>7.000654</td>\n",
              "      <td>7.579091</td>\n",
              "      <td>7.637255</td>\n",
              "      <td>7.973856</td>\n",
              "      <td>7.160784</td>\n",
              "    </tr>\n",
              "    <tr>\n",
              "      <th>BG</th>\n",
              "      <td>4.219595</td>\n",
              "      <td>6.270833</td>\n",
              "      <td>5.554730</td>\n",
              "      <td>6.700000</td>\n",
              "      <td>5.865541</td>\n",
              "    </tr>\n",
              "    <tr>\n",
              "      <th>CH</th>\n",
              "      <td>7.116340</td>\n",
              "      <td>8.051200</td>\n",
              "      <td>7.966225</td>\n",
              "      <td>8.690728</td>\n",
              "      <td>7.511921</td>\n",
              "    </tr>\n",
              "  </tbody>\n",
              "</table>\n",
              "</div>\n",
              "      <button class=\"colab-df-convert\" onclick=\"convertToInteractive('df-08b4735d-36c1-4763-9eba-5576c22e8bd2')\"\n",
              "              title=\"Convert this dataframe to an interactive table.\"\n",
              "              style=\"display:none;\">\n",
              "        \n",
              "  <svg xmlns=\"http://www.w3.org/2000/svg\" height=\"24px\"viewBox=\"0 0 24 24\"\n",
              "       width=\"24px\">\n",
              "    <path d=\"M0 0h24v24H0V0z\" fill=\"none\"/>\n",
              "    <path d=\"M18.56 5.44l.94 2.06.94-2.06 2.06-.94-2.06-.94-.94-2.06-.94 2.06-2.06.94zm-11 1L8.5 8.5l.94-2.06 2.06-.94-2.06-.94L8.5 2.5l-.94 2.06-2.06.94zm10 10l.94 2.06.94-2.06 2.06-.94-2.06-.94-.94-2.06-.94 2.06-2.06.94z\"/><path d=\"M17.41 7.96l-1.37-1.37c-.4-.4-.92-.59-1.43-.59-.52 0-1.04.2-1.43.59L10.3 9.45l-7.72 7.72c-.78.78-.78 2.05 0 2.83L4 21.41c.39.39.9.59 1.41.59.51 0 1.02-.2 1.41-.59l7.78-7.78 2.81-2.81c.8-.78.8-2.07 0-2.86zM5.41 20L4 18.59l7.72-7.72 1.47 1.35L5.41 20z\"/>\n",
              "  </svg>\n",
              "      </button>\n",
              "      \n",
              "  <style>\n",
              "    .colab-df-container {\n",
              "      display:flex;\n",
              "      flex-wrap:wrap;\n",
              "      gap: 12px;\n",
              "    }\n",
              "\n",
              "    .colab-df-convert {\n",
              "      background-color: #E8F0FE;\n",
              "      border: none;\n",
              "      border-radius: 50%;\n",
              "      cursor: pointer;\n",
              "      display: none;\n",
              "      fill: #1967D2;\n",
              "      height: 32px;\n",
              "      padding: 0 0 0 0;\n",
              "      width: 32px;\n",
              "    }\n",
              "\n",
              "    .colab-df-convert:hover {\n",
              "      background-color: #E2EBFA;\n",
              "      box-shadow: 0px 1px 2px rgba(60, 64, 67, 0.3), 0px 1px 3px 1px rgba(60, 64, 67, 0.15);\n",
              "      fill: #174EA6;\n",
              "    }\n",
              "\n",
              "    [theme=dark] .colab-df-convert {\n",
              "      background-color: #3B4455;\n",
              "      fill: #D2E3FC;\n",
              "    }\n",
              "\n",
              "    [theme=dark] .colab-df-convert:hover {\n",
              "      background-color: #434B5C;\n",
              "      box-shadow: 0px 1px 3px 1px rgba(0, 0, 0, 0.15);\n",
              "      filter: drop-shadow(0px 1px 2px rgba(0, 0, 0, 0.3));\n",
              "      fill: #FFFFFF;\n",
              "    }\n",
              "  </style>\n",
              "\n",
              "      <script>\n",
              "        const buttonEl =\n",
              "          document.querySelector('#df-08b4735d-36c1-4763-9eba-5576c22e8bd2 button.colab-df-convert');\n",
              "        buttonEl.style.display =\n",
              "          google.colab.kernel.accessAllowed ? 'block' : 'none';\n",
              "\n",
              "        async function convertToInteractive(key) {\n",
              "          const element = document.querySelector('#df-08b4735d-36c1-4763-9eba-5576c22e8bd2');\n",
              "          const dataTable =\n",
              "            await google.colab.kernel.invokeFunction('convertToInteractive',\n",
              "                                                     [key], {});\n",
              "          if (!dataTable) return;\n",
              "\n",
              "          const docLinkHtml = 'Like what you see? Visit the ' +\n",
              "            '<a target=\"_blank\" href=https://colab.research.google.com/notebooks/data_table.ipynb>data table notebook</a>'\n",
              "            + ' to learn more about interactive tables.';\n",
              "          element.innerHTML = '';\n",
              "          dataTable['output_type'] = 'display_data';\n",
              "          await google.colab.output.renderOutput(dataTable, element);\n",
              "          const docLink = document.createElement('div');\n",
              "          docLink.innerHTML = docLinkHtml;\n",
              "          element.appendChild(docLink);\n",
              "        }\n",
              "      </script>\n",
              "    </div>\n",
              "  </div>\n",
              "  "
            ]
          },
          "metadata": {},
          "execution_count": 188
        }
      ]
    },
    {
      "cell_type": "code",
      "source": [
        "df_new_18 = df_new[['geo\\\\TIME_PERIOD', '2018']]\n",
        "df_new_18 = df_new_18.sort_values(by='2018')\n",
        "\n",
        "fig, ax = plt.subplots(figsize=(8,15))\n",
        "ax.barh(df_new_18['geo\\\\TIME_PERIOD'], df_new_18['2018'])\n",
        "ax.set_xlabel('Nivel de satisfacción')\n",
        "ax.set_ylabel('País')\n",
        "ax.set_title('''GRAFICO 1\n",
        "Nivel de satisfacción por país en 2018''')\n",
        "\n",
        "for i, v in enumerate(df_new_18['2018']):\n",
        "    ax.text(v + 0.05, i , str(v), color='black', fontsize=10)\n",
        "\n",
        "plt.show()"
      ],
      "metadata": {
        "colab": {
          "base_uri": "https://localhost:8080/"
        },
        "id": "cfcOKAehle5p",
        "outputId": "c9b951db-ee72-4fba-e90e-088d4c79ae1a"
      },
      "execution_count": null,
      "outputs": [
        {
          "output_type": "display_data",
          "data": {
            "text/plain": [
              "<Figure size 576x1080 with 1 Axes>"
            ],
            "image/png": "[encoded data removed]"
          },
          "metadata": {
            "needs_background": "light"
          }
        }
      ]
    },
    {
      "cell_type": "markdown",
      "source": [
        "El gráfico (GRÁFICO 1) precedente evidencia que el minimo valor de satisfacción es 6.5 y el máximo valor de satisfacción es 8.4 ambos en una escala de 1 al 10. Con respecto a la UE27-2020 evidencia un promedio de 7.5 de los paises que conforman este, esto refleja que la satisfacción de los trabajadores es satisfactorio."
      ],
      "metadata": {
        "id": "yK0JbKVGEnTk"
      }
    },
    {
      "cell_type": "markdown",
      "source": [
        "## 6. ¿En qué país están más satisfechos con el trabajo en 2018? ¿En qué país están menos satisfechos?"
      ],
      "metadata": {
        "id": "gLT-4nItlbrv"
      }
    },
    {
      "cell_type": "code",
      "source": [
        "df_top5 = df_new_18.nlargest(5, columns='2018')\n",
        "df_bottom5 = df_new_18.nsmallest(5, columns='2018')\n",
        "\n",
        "fig, axs = plt.subplots(1, 2, figsize=(11, 5))\n",
        "\n",
        "axs[0].barh(df_top5['geo\\TIME_PERIOD'], df_top5['2018'])\n",
        "axs[0].set_xlabel('Nivel de satisfacción')\n",
        "axs[0].set_ylabel('País')\n",
        "axs[0].set_title('''GRAFICO 2.1\n",
        "Los 5 países más satisfechos con el trabajo en 2018''')\n",
        "\n",
        "axs[1].barh(df_bottom5['geo\\TIME_PERIOD'], df_bottom5['2018'])\n",
        "axs[1].set_xlabel('Nivel de satisfacción')\n",
        "axs[1].set_ylabel('País')\n",
        "axs[1].set_title('''GRAFICO 2.2\n",
        "Los 5 países menos satisfechos con el trabajo en 2018''')\n",
        "\n",
        "for i, v in enumerate(df_top5['2018']):\n",
        "    axs[0].text(v + 0.1, i, str(v), color='black')\n",
        "for i, v in enumerate(df_bottom5['2018']):\n",
        "    axs[1].text(v + 0.1, i, str(v), color='black')\n",
        "    \n",
        "plt.tight_layout()\n",
        "plt.show()"
      ],
      "metadata": {
        "colab": {
          "base_uri": "https://localhost:8080/",
          "height": 315
        },
        "id": "kk6jZVx9KTx4",
        "outputId": "297c12d4-9b61-452e-aaee-fdbfd7e3d557"
      },
      "execution_count": null,
      "outputs": [
        {
          "output_type": "display_data",
          "data": {
            "text/plain": [
              "<Figure size 792x360 with 2 Axes>"
            ],
            "image/png": "[encoded data removed]"
          },
          "metadata": {
            "needs_background": "light"
          }
        }
      ]
    },
    {
      "cell_type": "markdown",
      "source": [
        "- Según el gráfico precedente (GRÁFICO 2.1) el pais con mayor satisfacción es Rumania, con una aceptación de 8.4 en la escala de 1 al 10.\n",
        "- El GRAFICO 2.2 evidencia que el pais con menor satisfacción existe un empate entre Albania (AL) y Grecia (EL) con 6.5 de aceptación, en una escala de 1 al 10."
      ],
      "metadata": {
        "id": "_Xh5YwH9KTGM"
      }
    }
  ],
  "metadata": {
    "colab": {
      "provenance": []
    },
    "kernelspec": {
      "display_name": "Python 3.11.0 64-bit",
      "language": "python",
      "name": "python3"
    },
    "language_info": {
      "name": "python",
      "version": "3.11.0"
    },
    "vscode": {
      "interpreter": {
        "hash": "6ae8529147ccb9d33df701f347986e210c9a7a1d6d4d5547492a51dd24d46ea9"
      }
    }
  },
  "nbformat": 4,
  "nbformat_minor": 0
}