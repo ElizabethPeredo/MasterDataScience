{
  "nbformat": 4,
  "nbformat_minor": 0,
  "metadata": {
    "colab": {
      "private_outputs": true,
      "provenance": []
    },
    "kernelspec": {
      "name": "ir",
      "display_name": "R"
    },
    "language_info": {
      "name": "R"
    },
    "gpuClass": "standard"
  },
  "cells": [
    {
      "cell_type": "markdown",
      "metadata": {
        "id": "31wOhp6kpSym"
      },
      "source": [
        "# **M3_AI3_PREPARAR DATOS DE FACEBOOK POR PAÍS**\n",
        "\n",
        "---\n",
        "\n",
        "\n",
        "\n"
      ]
    },
    {
      "cell_type": "markdown",
      "metadata": {
        "id": "HLqFf1RLpXev"
      },
      "source": [
        "- Peredo Mescco, Elizabeth Evelin"
      ]
    },
    {
      "cell_type": "markdown",
      "source": [
        "El objetivo de esta actividad consiste en realizar la preparación de datos inicial para analizar, en fases posteriores, las métricas y mejorar la calidad de los datos.\n",
        "\n",
        "Los datos a preparar están contenidos en la tabla FACEBOOK_2010_2018_RAW.csv.\n",
        "\n",
        "- Pais: nombre del país. Un mismo país puede variar su nombre según el indicador.\n",
        "- Valor: Valores numéricos. Puede presentar formatos distintos, según el indicador.\n",
        "- Indicador: Formato: Año | indicador:\n",
        "  - Año: 2010 o 2018.\n",
        "  - Indicador:\n",
        "    - Facebook: número de usuarios de Facebook en todo el país.\n",
        "    - Internet_por: porcentaje de población usuaria de internet.\n",
        "    - poblacion: total de población por país."
      ],
      "metadata": {
        "id": "Tjubm841KVuH"
      }
    },
    {
      "cell_type": "code",
      "source": [
        "R.version.string\n",
        "print(installed.packages())"
      ],
      "metadata": {
        "id": "AyU44u9iK_Bb"
      },
      "execution_count": null,
      "outputs": []
    },
    {
      "cell_type": "code",
      "source": [
        "library(readr) \n",
        "library(tidyr)\n",
        "library(stringr)\n",
        "library(dplyr)\n",
        "library(ggplot2)"
      ],
      "metadata": {
        "id": "kFuRXsyvQAgZ"
      },
      "execution_count": null,
      "outputs": []
    },
    {
      "cell_type": "code",
      "source": [
        "getwd()\n",
        "download.file(\"https://raw.githubusercontent.com/griu/mbdds_fc20/master/gestion_datos/www/Facebook_10_18_raw.csv\", \"/content/dnld_direct_from_web.csv\")"
      ],
      "metadata": {
        "id": "CB2-_hd7LGF4"
      },
      "execution_count": null,
      "outputs": []
    },
    {
      "cell_type": "markdown",
      "source": [
        "# 1. Carga los datos del fichero en un data frame. ¿Por qué no es un conjunto de datos ordenado?\n"
      ],
      "metadata": {
        "id": "7gPo11a9Ki1J"
      }
    },
    {
      "cell_type": "code",
      "source": [
        " df <- read.csv(\"/content/dnld_direct_from_web.csv\", sep=\";\", header=TRUE)\n",
        "head(df)"
      ],
      "metadata": {
        "id": "IHx_HlheLNto"
      },
      "execution_count": null,
      "outputs": []
    },
    {
      "cell_type": "markdown",
      "source": [
        "# 2. Separa el año y el “indicador” en dos columnas separadas: anyo, variable. Presenta la tabla de las frecuencias de cada nueva variable.\n"
      ],
      "metadata": {
        "id": "B3-L8CLGKmaQ"
      }
    },
    {
      "cell_type": "code",
      "source": [
        "nombres_columnas <- colnames(df)\n",
        "nombres_columnas"
      ],
      "metadata": {
        "id": "sfBpjhPdTvyi"
      },
      "execution_count": null,
      "outputs": []
    },
    {
      "cell_type": "code",
      "source": [
        "df_new <- cbind(df)\n",
        "df_new <- separate(df, col = 'indicador', into = c('anyo', 'variable'), sep = '\\\\|')\n",
        "\n",
        "table(df_new$anyo)\n",
        "table(df_new$variable)\n",
        "\n",
        "head(df_new)"
      ],
      "metadata": {
        "id": "0nbkWLHqKpH-"
      },
      "execution_count": null,
      "outputs": []
    },
    {
      "cell_type": "markdown",
      "source": [
        "# 3. Codifica el nombre de los países en una nueva columna “pais_r” donde, al analizar la tabla de frecuencias cada país, tenga frecuencia 6.\n"
      ],
      "metadata": {
        "id": "MgpxfSa9Kph1"
      }
    },
    {
      "cell_type": "code",
      "source": [
        "df_filter6 <- df_new %>%\n",
        "  group_by(pais) %>%\n",
        "  summarise(pais_n = n()) %>%\n",
        "  filter(pais_n != 6)\n",
        "\n",
        "df_pais <- df_new\n",
        "\n",
        "# Cambiar el orden de las palabras\n",
        "df_pais$pais_r <- gsub(pattern = \"^(.*), (.*)$\", replacement = \"\\\\2 \\\\1\", x = df_pais$pais)\n",
        "\n",
        "df_pais <- mutate(df_pais,\n",
        "                  pais_r = case_when(#pais_r == \"Egypt, Arab Rep.\" ~ \"Arab Rep. Egypt\",\n",
        "                                     #pais_r == \"Yemen, Rep.\" ~ \"Rep. Yemen\",\n",
        "                                     pais_r == \"Russian Federation\" ~ \"Russian\",\n",
        "                                     TRUE ~ pais_r))\n",
        "\n",
        "head(df_filter6)\n",
        "head(df_pais)"
      ],
      "metadata": {
        "id": "scFutUraKsDc"
      },
      "execution_count": null,
      "outputs": []
    },
    {
      "cell_type": "markdown",
      "source": [
        "# 4. Pivota la tabla a formato wide de forma que cada variable tenga su propia columna y cada país dos filas (una para cada año). Comenta la estructura de la tabla (glimpse).\n"
      ],
      "metadata": {
        "id": "PszSJa6_KsgI"
      }
    },
    {
      "cell_type": "code",
      "source": [
        "df_var <- df_pais[,c('pais_r','anyo','valor','variable')] %>%\n",
        "  pivot_wider(names_from = c(variable), values_from = c(valor))\n",
        "\n",
        "glimpse(df_var)\n",
        "\n",
        "head(df_var)"
      ],
      "metadata": {
        "id": "DdvXvqwZKvlT"
      },
      "execution_count": null,
      "outputs": []
    },
    {
      "cell_type": "markdown",
      "source": [
        "La función glimpse() muestra un resumen de df_var:\n",
        "\n",
        "\n",
        "*   **pais_r**: un vector de caracteres que representa los nombres de los países.\n",
        "*   **anyo**: un vector de caracteres que representa el año de la observación.\n",
        "*   **Internet_por**: un vector de caracteres que representa el porcentaje de personas en el país que usan internet.\n",
        "*   **Facebook**: un vector de caracteres que representa el número de usuarios de Facebook en el país.\n",
        "*   **poblacion**: un vector de caracteres que representa la población del país.\n",
        "\n",
        "Todas las columnas del dataframe son vectores de caracteres, lo que significa que es necesario convertir algunos de ellos a tipos de datos numéricos para realizar cualquier análisis. "
      ],
      "metadata": {
        "id": "FWk5lDHE1CY1"
      }
    },
    {
      "cell_type": "markdown",
      "source": [
        "# 5. Transforma las tres variables (Facebook, Internet_por, poblacion) a formato numérico en tres variables nuevas con el sufijo “_num”. Aplica antes la/s transformación/es de las variables de texto que creas conveniente. Presenta el summary de las variables nuevas.\n"
      ],
      "metadata": {
        "id": "iT9461AiKwK4"
      }
    },
    {
      "cell_type": "code",
      "source": [
        "df_var$Internet_por_num <- ifelse(is.na(df_var$Internet_por), 0, round(as.numeric(str_replace_all(df_var$Internet_por, \"\\\\s|,\", \".\")), 3))\n",
        "df_var$Facebook_num <- ifelse(is.na(df_var$Facebook), 0, as.numeric(str_replace_all(df_var$Facebook, \"\\\\s|,\", \".\")))\n",
        "df_var$poblacion_num <- as.numeric(gsub(\",\", \".\", gsub(\"\\\\.\", \"\", df_var$poblacion)))\n",
        "\n",
        "head(df_var)"
      ],
      "metadata": {
        "id": "yYnLYvUCKy_g"
      },
      "execution_count": null,
      "outputs": []
    },
    {
      "cell_type": "code",
      "source": [
        "summary(df_var)"
      ],
      "metadata": {
        "id": "ScZ_P78teX0y"
      },
      "execution_count": null,
      "outputs": []
    },
    {
      "cell_type": "markdown",
      "source": [
        "# 6. Analiza y comenta si observas alguna otra inconsistencia en los datos preparados.\n"
      ],
      "metadata": {
        "id": "UoLC5P8_K00c"
      }
    },
    {
      "cell_type": "code",
      "source": [
        "df1 <- df_var\n",
        "df1$Internet_num <-round(as.numeric(df1$poblacion_num)*as.numeric(df1$Internet_por_num)/100)\n",
        "df1$Facebook_por_Internet <- round(as.numeric(df1$Facebook_num)*100/as.numeric(df1$Internet_num),2)\n",
        "\n",
        "summary(df1)"
      ],
      "metadata": {
        "id": "HOUJDlp0K0O0"
      },
      "execution_count": null,
      "outputs": []
    },
    {
      "cell_type": "markdown",
      "source": [
        "Existe una inconsistencia entre los datos de la cantidad total de usuarios que utilizan internet y los usuarios que usan Facebook, en este caso en específico que se creó una nueva variable Facebook_por_Internet que debería estar en un rango de 0 a 1, debido a que dentro de los usuarios que usan internet están aquellos que usan Facebook, sin embargo, el valor máximo de este último es mayor al del uso de internet."
      ],
      "metadata": {
        "id": "0MRUxMGngysq"
      }
    },
    {
      "cell_type": "markdown",
      "source": [
        "# 7. Escribe cuatro líneas explicando (para un lector no técnico) la penetración de Facebook y de Internet en España.\n"
      ],
      "metadata": {
        "id": "0DIGti0dK2c_"
      }
    },
    {
      "cell_type": "code",
      "source": [
        "df_spain <- df1\n",
        "\n",
        "df_spain <- df_spain[,c('pais_r','anyo','poblacion_num','Internet_num','Internet_por_num','Facebook_num','Facebook_por_Internet')]\n",
        "df_spain <- df_spain[df_spain$pais_r == 'Spain', ]\n",
        "df_spain <- df_spain[order(df_spain$pais_r, decreasing = TRUE), ]\n",
        "\n",
        "df_spain"
      ],
      "metadata": {
        "id": "vi4lPPuyK50t"
      },
      "execution_count": null,
      "outputs": []
    },
    {
      "cell_type": "markdown",
      "source": [
        "Según la tabla precedente, la población de España en 2018 era de 46723 de personas, y de ese total, 40232 personas utilizaban Internet, lo que representa una penetración del 86,1% en la población. Esto significa que la gran mayoría de las personas en España tienen acceso a la red.\n",
        "\n",
        "En cuanto a la penetración de Facebook, en 2010, 11 millones de personas usaban esta red social, en 2018 había 23 millones de personas en España, lo que indica que el uso de esta red social se ha multiplicado significativamente en los últimos años.\n",
        "\n",
        "En resumen, los datos presentados sugieren que tanto la penetración de Internet como la de Facebook han aumentado significativamente en España en los últimos años. Esto indica que cada vez más personas tienen acceso a la red y están utilizando las redes sociales en su vida cotidiana."
      ],
      "metadata": {
        "id": "YvM-d4xEv0gc"
      }
    }
  ]
}