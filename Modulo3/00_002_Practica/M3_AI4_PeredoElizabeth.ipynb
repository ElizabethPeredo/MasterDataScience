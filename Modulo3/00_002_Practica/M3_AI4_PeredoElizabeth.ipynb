{
  "nbformat": 4,
  "nbformat_minor": 0,
  "metadata": {
    "colab": {
      "private_outputs": true,
      "provenance": []
    },
    "kernelspec": {
      "name": "ir",
      "display_name": "R"
    },
    "language_info": {
      "name": "R"
    },
    "gpuClass": "standard"
  },
  "cells": [
    {
      "cell_type": "markdown",
      "metadata": {
        "id": "31wOhp6kpSym"
      },
      "source": [
        "# **M3_AI4_PENETRACIÓN Y CRECIMIENTO DE FACEBOOK**\n",
        "---\n",
        "\n",
        "\n",
        "\n"
      ]
    },
    {
      "cell_type": "markdown",
      "metadata": {
        "id": "HLqFf1RLpXev"
      },
      "source": [
        "- Peredo Mescco, Elizabeth Evelin"
      ]
    },
    {
      "cell_type": "code",
      "source": [
        "R.version.string\n",
        "#print(installed.packages())"
      ],
      "metadata": {
        "id": "AyU44u9iK_Bb"
      },
      "execution_count": null,
      "outputs": []
    },
    {
      "cell_type": "code",
      "source": [
        "library(readr) \n",
        "library(tidyr)\n",
        "library(stringr)\n",
        "library(dplyr)\n",
        "library(ggplot2)\n",
        "install.packages(\"psych\")\n",
        "library(psych)\n",
        "install.packages('moments')\n",
        "library(moments)\n",
        "install.packages('gridExtra')\n",
        "library(gridExtra)\n",
        "install.packages('grid')\n",
        "library(grid)\n",
        "install.packages('stargazer')\n",
        "library(stargazer)\n",
        "install.packages('kableExtra')\n",
        "library(kableExtra)\n",
        "install.packages('scales')\n",
        "library(scales)\n",
        "#install.packages('stats')\n",
        "library(stats)"
      ],
      "metadata": {
        "id": "kFuRXsyvQAgZ"
      },
      "execution_count": null,
      "outputs": []
    },
    {
      "cell_type": "code",
      "source": [
        "getwd()\n",
        "download.file(\"https://raw.githubusercontent.com/griu/mbdds_fc20/master/gestion_datos/www/fb_long.csv\", \"/content/dnld_direct_from_web.csv\")"
      ],
      "metadata": {
        "id": "CB2-_hd7LGF4"
      },
      "execution_count": null,
      "outputs": []
    },
    {
      "cell_type": "code",
      "source": [
        "df <- read.csv(\"/content/dnld_direct_from_web.csv\", sep=\";\", header=TRUE)"
      ],
      "metadata": {
        "id": "IHx_HlheLNto"
      },
      "execution_count": null,
      "outputs": []
    },
    {
      "cell_type": "markdown",
      "source": [
        "# PALETA DE COLORES Y TEMA"
      ],
      "metadata": {
        "id": "IPcoE52nLXVO"
      }
    },
    {
      "cell_type": "code",
      "source": [
        "color1 <- c(\"#FF8C00\", \"#008080\")\n",
        "color2 <- c(\"#fbd1a2\", \"#70EAAF\")\n",
        "\n",
        "theme <- theme(plot.title = element_text(colour = \"black\", face = \"bold\", size = 18, hjust = 0.5),\n",
        "        axis.title = element_text(colour = \"black\", face = \"bold\", size = 12),\n",
        "        strip.text = element_text(size = 15, face = \"bold\"),\n",
        "        axis.text = element_text(colour = \"black\", size = 12),\n",
        "        axis.ticks = element_line(colour = \"black\", linewidth = 0.5),\n",
        "        panel.grid.major = element_blank(), \n",
        "        panel.grid.minor = element_blank(),\n",
        "        panel.border = element_rect(fill = NA, colour = \"black\", linewidth = 0.8))\n",
        "\n",
        "theme1 <- theme(plot.title = element_text(colour = \"black\", face = \"bold\", size = 18, hjust = 0.5),\n",
        "        plot.subtitle = element_text(colour = \"black\", face = \"bold\", size = 16, hjust = 0.5),\n",
        "        axis.title = element_text(colour = \"black\", size = 14),\n",
        "        strip.text = element_text(size = 16, face = \"bold\"),\n",
        "        axis.text = element_text(colour = \"black\", size = 12),\n",
        "        axis.ticks = element_line(colour = \"black\", linewidth = 0.5),\n",
        "        panel.background = element_rect(fill = \"white\", colour = NA),\n",
        "        panel.grid.major = element_line(colour = \"gray80\", size = 0.5),\n",
        "        panel.grid.minor = element_line(colour = \"gray90\", size = 0.5),\n",
        "        panel.border = element_rect(fill = NA, colour = \"black\", linewidth = 0.8),\n",
        "        #legend.position = \"right\",\n",
        "        legend.background = element_blank(),\n",
        "        legend.title = element_text(size = 14, face = \"bold\"),\n",
        "        legend.text = element_text(size = 12),\n",
        "        legend.key.size = unit(1, \"cm\"))"
      ],
      "metadata": {
        "id": "ZVLeJDyAtU74"
      },
      "execution_count": null,
      "outputs": []
    },
    {
      "cell_type": "markdown",
      "source": [
        "# 1. Carga los datos del fichero en un data frame y calcula “Facebook_por_num” = “porcentaje de usuarios de Facebook sobre el total de población”. Presenta el summary de todas las variables del data frame.\n",
        "\n",
        "- Consejo: procura que Facebook_por_num tenga las mismas unidades de medida que Internet_por_num."
      ],
      "metadata": {
        "id": "eegR4V_-HPzQ"
      }
    },
    {
      "cell_type": "code",
      "source": [
        "df_new <- df\n",
        "head(df_new)"
      ],
      "metadata": {
        "id": "0nbkWLHqKpH-"
      },
      "execution_count": null,
      "outputs": []
    },
    {
      "cell_type": "code",
      "source": [
        "df_new$Internet_por_num <- ifelse(is.na(df_new$Internet_por), 0, round(as.numeric(str_replace_all(df_new$Internet_por, \"\\\\s|,\", \".\")), 3))\n",
        "df_new$Facebook_num <- ifelse(is.na(df_new$Facebook), 0, as.numeric(str_replace_all(df_new$Facebook, \"\\\\s|,\", \".\")))\n",
        "df_new$poblacion_num <- as.numeric(gsub(\",\", \".\", gsub(\"\\\\.\", \"\", df_new$poblacion)))\n",
        "df_new$Internet_num <-round(as.numeric(df_new$poblacion_num)*as.numeric(df_new$Internet_por_num)/100)\n",
        "df_new$Facebook_por_num <- round(as.numeric(df_new$Facebook_num)*100/as.numeric(df_new$poblacion_num),2)\n",
        "\n",
        "df_new <- df_new[order(df_new$pais_r), ]\n",
        "\n",
        "head(df_new)"
      ],
      "metadata": {
        "id": "yYnLYvUCKy_g"
      },
      "execution_count": null,
      "outputs": []
    },
    {
      "cell_type": "code",
      "source": [
        "summary(df_new)"
      ],
      "metadata": {
        "id": "yg48ioG-pfjL"
      },
      "execution_count": null,
      "outputs": []
    },
    {
      "cell_type": "markdown",
      "source": [
        "# 2. Haz un análisis univariante de Internet_por_num y Facebook_por_num separado por año. Calcula y comenta el histograma y estadísticos univariantes (centralización, dispersión, posición, concentración y forma)."
      ],
      "metadata": {
        "id": "e-TjrL1xJurI"
      }
    },
    {
      "cell_type": "code",
      "source": [
        "df_new <- na.omit(df_new)\n",
        "\n",
        "df_2010 <- subset(df_new, anyo == 2010)\n",
        "df_2018 <- subset(df_new, anyo == 2018)\n",
        "\n",
        "rbind(\n",
        "  data.frame(Variable=\"Internet_por_num_2010\",x=df_2010$Internet_por_num),\n",
        "  data.frame(Variable=\"Internet_por_num_2018\",x=df_2018$Internet_por_num),\n",
        "  data.frame(Variable=\"Facebook_por_num_2010\",x=df_2010$Facebook_por_num),\n",
        "  data.frame(Variable=\"Facebook_por_num_2018\",x=df_2018$Facebook_por_num)) %>% \n",
        "  group_by(Variable)%>%\n",
        "    \n",
        "  summarise(\n",
        "  media=mean(x),\n",
        "  sd=sd(x),\n",
        "  CV=sd(x)/mean(x),\n",
        "  minimo=min(x),\n",
        "  Q25=quantile(x, 0.25),\n",
        "  mediana=median(x),\n",
        "  Q75=quantile(x, 0.75),\n",
        "  maximo=max(x),\n",
        "  Skewness = skewness(x), #asimetria\n",
        "  Kurtosis = kurtosis(x) #apuntamiento\n",
        "  ) %>% \n",
        "    \n",
        "  pivot_longer (cols =-1, names_to = \"Metrica\", values_to = \"Valor\") %>%\n",
        "    arrange (desc(Variable)) %>%\n",
        "    pivot_wider (names_from=Variable, values_from= Valor)"
      ],
      "metadata": {
        "id": "MmcJuP1MhX55"
      },
      "execution_count": null,
      "outputs": []
    },
    {
      "cell_type": "code",
      "source": [
        "options(repr.plot.width = 15, repr.plot.height = 5)\n",
        "\n",
        "Facebook <- ggplot(df_new, aes(Facebook_por_num)) + \n",
        "  geom_histogram(\n",
        "    aes(colour = factor(anyo), \n",
        "    fill = factor(anyo)), \n",
        "    bins = nclass.Sturges(df_new$Facebook_por_num)) +\n",
        "  facet_grid(~ anyo) + \n",
        "  scale_colour_manual(values = color1) +\n",
        "  scale_fill_manual(values = color2) +\n",
        "  xlab(\"% usuarios de Facebook\") +\n",
        "  ylab(\"Frecuencia\") +\n",
        "  ggtitle(\"Facebook_por_num\") +\n",
        "  theme1 + guides(colour = \"none\", fill = \"none\")\n",
        "\n",
        "Internet <- ggplot(df_new, aes(Internet_por_num)) + \n",
        "  geom_histogram(\n",
        "    aes(colour = factor(anyo), \n",
        "    fill = factor(anyo)), \n",
        "    bins = nclass.Sturges(df_new$Internet_por_num)) +\n",
        "  facet_grid(~ anyo) + \n",
        "  scale_colour_manual(values = color1) +\n",
        "  scale_fill_manual(values = color2) +\n",
        "  xlab(\"% usuarios de Internet\") +\n",
        "  ylab(\"Frecuencia\") +\n",
        "  ggtitle(\"Internet_por_num\") +\n",
        "  theme1 + guides(colour = \"none\", fill = \"none\")\n",
        "\n",
        "grid.arrange(Facebook, Internet, nrow = 1, ncol = 2)"
      ],
      "metadata": {
        "id": "d0PgpBfEoEbE"
      },
      "execution_count": null,
      "outputs": []
    },
    {
      "cell_type": "markdown",
      "source": [
        "# 3. Haz un gráfico para cada variable (Facebook_por_num y Internet_por_num) donde se pueda visualizar la variación entre 2010 y 2018 del valor medio (o el estadístico que prefieras). Explica qué observas en el gráfico."
      ],
      "metadata": {
        "id": "yz3WoIo8J3yb"
      }
    },
    {
      "cell_type": "code",
      "source": [
        "options(repr.plot.width = 15, repr.plot.height = 5)\n",
        "\n",
        "Facebook <- ggplot(df_new, aes(Facebook_por_num)) + \n",
        "  geom_boxplot(aes(colour = factor(anyo), fill = factor(anyo))) + coord_flip() +\n",
        "  facet_grid(~ anyo) + \n",
        "  scale_colour_manual(values = color1) +\n",
        "  scale_fill_manual(values = color2) +\n",
        "  ylab(\"\") + xlab(\"% usuarios de Facebook\") +\n",
        "  ggtitle(\"Facebook_por_num\") +\n",
        "  theme1 + guides(colour = \"none\", fill = \"none\")\n",
        "\n",
        "Internet <- ggplot(df_new, aes(Internet_por_num)) + \n",
        "  geom_boxplot(aes(colour = factor(anyo), fill = factor(anyo))) + coord_flip() +\n",
        "  facet_grid(~ anyo) + \n",
        "  scale_colour_manual(values = color1) +\n",
        "  scale_fill_manual(values = color2) +\n",
        "  ylab(\"\") + xlab(\"% usuarios de Internet\") +\n",
        "  ggtitle(\"Internet_por_num\") +\n",
        "  theme1 + guides(colour = \"none\", fill = \"none\") \n",
        "\n",
        "grid.arrange(Facebook, Internet, nrow = 1, ncol = 2)"
      ],
      "metadata": {
        "id": "ENPvHr3cMOxB"
      },
      "execution_count": null,
      "outputs": []
    },
    {
      "cell_type": "markdown",
      "source": [
        "# 4. Haz un análisis bivariante entre Facebook_por_num sobre Internet_por_num:\n",
        "- Gráfico de dispersión separando el año de observación en colores distintos.\n",
        "- Introduce, en el gráfico de dispersión, una recta de regresión (una por año).\n",
        "- Comenta si crees que la relación observada es lineal."
      ],
      "metadata": {
        "id": "tW3vseJ9J86A"
      }
    },
    {
      "cell_type": "code",
      "source": [
        "df_new$Facebook_por_Internet <- round(ifelse(df_new$Internet_num > 0, \n",
        "                                             as.numeric(df_new$Facebook_num) * 100 / as.numeric(df_new$Internet_num), \n",
        "                                             0), 2)\n"
      ],
      "metadata": {
        "id": "myTytp20KFke"
      },
      "execution_count": null,
      "outputs": []
    },
    {
      "cell_type": "code",
      "source": [
        "options(repr.plot.width = 10, repr.plot.height = 7)\n",
        "\n",
        "df_plot <- df_new[, c(\"Facebook_por_num\", \"Internet_por_num\", \"anyo\")]\n",
        "\n",
        "ggplot(df_plot, aes(\n",
        "  y = Facebook_por_num, \n",
        "  x = Internet_por_num, \n",
        "  color = factor(anyo))) +\n",
        "  geom_point() +\n",
        "  geom_smooth(method = \"lm\", se = FALSE) +\n",
        "  scale_color_manual(values = c(\"#FF8C00\", \"#008080\"))+\n",
        "  theme1 +\n",
        "  labs(y = \"% usuarios de Facebook\", x = \"% usuarios de Internet\") +\n",
        "  ggtitle(\"Relación entre Facebook y el uso de Internet\") \n"
      ],
      "metadata": {
        "id": "UJOhT81Xpp_t"
      },
      "execution_count": null,
      "outputs": []
    },
    {
      "cell_type": "markdown",
      "source": [
        "**COMENTARIO:**\n",
        "El grafico precedente muestra que las variables Facebook_por_num y Internet_por_num tienen una correlación positiva entre ambas en los dos años 2010 y 2018. Lo que muestra una relación significativa y positiva entre Facebook_por_num e Internet_por_num en ambos años."
      ],
      "metadata": {
        "id": "QBXsxVs-d26I"
      }
    },
    {
      "cell_type": "markdown",
      "source": [
        "# 5. Propón alguna transformación sobre las variables del análisis y argumenta cuál es la mejor."
      ],
      "metadata": {
        "id": "5lV-OU3EKF23"
      }
    },
    {
      "cell_type": "markdown",
      "source": [
        "Segun el punto 3, se puede evidenciar que las variables en los diferentes años 2010 y 2018 hay variaciones en la distribución de datos. Para ello, se utilizaron las siguiente transformaciones según la asimetría de cada variable y de cada año. Al aplicar estas transformaciones, se espera que las variables tengan una distribución más cercana a la normalidad, lo que puede mejorar la precisión del modelo de regresión lineal:\n",
        "\n",
        "- No realizamos ninguna transformación en la variable `Internet_por_num` del año `2010`, ya que su distribución parece ser cercana a una normal.\n",
        "- En la variable `Internet_por_num` del año `2018`, observamos una asimetría negativa en su distribución, por lo que elevamos al cuadrado la variable (x^2).\n",
        "- Para la variable `Facebook_por_num` del año `2010`, observamos una asimetría positiva, por lo que aplicamos la transformación de la raíz cuadrada (sqrt(x)).\n",
        "- En la variable `Facebook_por_num` del año `2018`, observamos una asimetría negativa en su distribución, por lo que elevamos al cuadrado la variable (x^2)."
      ],
      "metadata": {
        "id": "fB5G7HWAYzJ5"
      }
    },
    {
      "cell_type": "markdown",
      "source": [
        "Adicionalmente se uso scale para tener las variables dentro del rango de 0 a 100"
      ],
      "metadata": {
        "id": "ywA4vS7vfmci"
      }
    },
    {
      "cell_type": "code",
      "source": [
        "# Transformación de Internet_por_num y Facebook_por_num según el año\n",
        "df_trans1 <- na.omit(df_new)\n",
        "\n",
        "df_trans1$Internet_por_num_t <- ifelse(df_trans1$anyo == 2010, df_trans1$Internet_por_num,\n",
        "                                    df_trans1$Internet_por_num^2)\n",
        "\n",
        "df_trans1$Facebook_por_num_t <- ifelse(df_trans1$anyo == 2010, rescale(sqrt(df_trans1$Facebook_por_num),to=c(0,100)),\n",
        "                                    rescale(df_trans1$Facebook_por_num^2,to=c(0,100)))\n",
        "\n",
        "df_trans1$Internet_por_num_t2 <-ifelse(df_trans1$anyo == 2010, df_trans1$Internet_por_num_t, rescale(df_trans1$Internet_por_num_t,to=c(0,100)))\n",
        "df_trans1$Facebook_por_num_t2 <-rescale(df_trans1$Facebook_por_num_t,to=c(0,100))\n",
        "\n",
        "summary(df_trans1[c('Facebook_por_num_t','Internet_por_num_t','Facebook_por_num_t2','Internet_por_num_t2')])"
      ],
      "metadata": {
        "id": "lRZBVRq5pTMZ"
      },
      "execution_count": null,
      "outputs": []
    },
    {
      "cell_type": "code",
      "source": [
        "options(repr.plot.width = 15, repr.plot.height = 10)\n",
        "\n",
        "h_Facebook <- ggplot(df_trans1, aes(Facebook_por_num_t2)) + \n",
        "  geom_histogram(\n",
        "    aes(colour = factor(anyo), \n",
        "    fill = factor(anyo)), \n",
        "    bins = nclass.Sturges(df_trans1$Facebook_por_num_t2)) +\n",
        "  facet_grid(~ anyo) + \n",
        "  scale_colour_manual(values = color1) +\n",
        "  scale_fill_manual(values = color2) +\n",
        "  xlab(\"% usuarios de Facebook\") +\n",
        "  ylab(\"Frecuencia\") +\n",
        "  ggtitle(\"Facebook_por_num_t2\") +\n",
        "  theme1 + guides(colour = \"none\", fill = \"none\")\n",
        "\n",
        "h_Internet <- ggplot(df_trans1, aes(Internet_por_num_t2)) + \n",
        "  geom_histogram(\n",
        "    aes(colour = factor(anyo), \n",
        "    fill = factor(anyo)), \n",
        "    bins = nclass.Sturges(df_trans1$Internet_por_num_t2)) +\n",
        "  facet_grid(~ anyo) + \n",
        "  scale_colour_manual(values = color1) +\n",
        "  scale_fill_manual(values = color2) +\n",
        "  xlab(\"% usuarios de Internet\") +\n",
        "  ylab(\"Frecuencia\") +\n",
        "  ggtitle(\"Internet_por_num_t2\") +\n",
        "  theme1 + guides(colour = \"none\", fill = \"none\")\n",
        "\n",
        "\n",
        "bx_Facebook <- ggplot(df_trans1, aes(Facebook_por_num_t2)) + \n",
        "  geom_boxplot(aes(colour = factor(anyo), fill = factor(anyo))) + coord_flip() +\n",
        "  facet_grid(~ anyo) + \n",
        "  scale_colour_manual(values = color1) +\n",
        "  scale_fill_manual(values = color2) +\n",
        "  ylab(\"\") + xlab(\"% usuarios de Facebook\") +\n",
        "  ggtitle(\"Facebook_por_num_t2\") +\n",
        "  theme1 + guides(colour = \"none\", fill = \"none\")\n",
        "\n",
        "bx_Internet <- ggplot(df_trans1, aes(Internet_por_num_t2)) + \n",
        "  geom_boxplot(aes(colour = factor(anyo), fill = factor(anyo))) + coord_flip() +\n",
        "  facet_grid(~ anyo) + \n",
        "  scale_colour_manual(values = color1) +\n",
        "  scale_fill_manual(values = color2) +\n",
        "  ylab(\"\") + xlab(\"% usuarios de Internet\") +\n",
        "  ggtitle(\"Internet_por_num_t2\") +\n",
        "  theme1 + guides(colour = \"none\", fill = \"none\") \n",
        "\n",
        "grid.arrange(h_Facebook, h_Internet, bx_Facebook, bx_Internet, nrow = 2, ncol = 2)"
      ],
      "metadata": {
        "id": "tCf81C8O50hI"
      },
      "execution_count": null,
      "outputs": []
    },
    {
      "cell_type": "code",
      "source": [
        "df_trans1 <- na.omit(df_trans1)\n",
        "\n",
        "df_2010 <- subset(df_trans1, anyo == 2010)\n",
        "df_2018 <- subset(df_trans1, anyo == 2018)\n",
        "\n",
        "df_metric_t <- rbind(\n",
        "                  data.frame(Variable=\"Int_por_2010\",x=df_2010$Internet_por_num),\n",
        "                  data.frame(Variable=\"Int_por_2018\",x=df_2018$Internet_por_num),\n",
        "                  data.frame(Variable=\"Fac_por_2010\",x=df_2010$Facebook_por_num),\n",
        "                  data.frame(Variable=\"Fac_por_2018\",x=df_2018$Facebook_por_num),\n",
        "                  data.frame(Variable=\"Int_por_t_2010\",x=df_2010$Internet_por_num_t2),\n",
        "                  data.frame(Variable=\"Int_por_t_2018\",x=df_2018$Internet_por_num_t2),\n",
        "                  data.frame(Variable=\"Fac_por_t_2010\",x=df_2010$Facebook_por_num_t2),\n",
        "                  data.frame(Variable=\"Fac_por_t_2018\",x=df_2018$Facebook_por_num_t2)) %>% \n",
        "                  group_by(Variable)%>%\n",
        "                    \n",
        "                  summarise(\n",
        "                  media=mean(x),\n",
        "                  sd=sd(x),\n",
        "                  CV=sd(x)/mean(x),\n",
        "                  minimo=min(x),\n",
        "                  Q25=quantile(x, 0.25),\n",
        "                  mediana=median(x),\n",
        "                  Q75=quantile(x, 0.75),\n",
        "                  maximo=max(x),\n",
        "                  Skewness = skewness(x), #asimetria\n",
        "                  Kurtosis = kurtosis(x) #apuntamiento\n",
        "                  ) %>% \n",
        "                    \n",
        "                  pivot_longer (cols =-1, names_to = \"Metrica\", values_to = \"Valor\") %>%\n",
        "                    arrange (desc(Variable)) %>%\n",
        "                    pivot_wider (names_from=Variable, values_from= Valor)\n",
        "\n",
        "df_metric_t <- df_metric_t[c('Metrica','Int_por_2010','Int_por_t_2010','Int_por_2018','Int_por_t_2018','Fac_por_2010','Fac_por_2018','Fac_por_t_2010','Fac_por_t_2018')]\n",
        "df_metric_t"
      ],
      "metadata": {
        "id": "q5uQ2yTTEPTp"
      },
      "execution_count": null,
      "outputs": []
    },
    {
      "cell_type": "markdown",
      "source": [
        "# 6. Compara, mediante stargazer, los coeficientes de la recta de regresión de Facebook_por_num sobre Internet_por_num en 2010 y 2018. Interpreta el significado de los coeficientes de la regresión en cada año."
      ],
      "metadata": {
        "id": "zYNgFqmOKJ6l"
      }
    },
    {
      "cell_type": "code",
      "source": [
        "model_2010 <- lm(Facebook_por_num ~ Internet_por_num, data = subset(df_new, anyo == 2010))\n",
        "model_2018 <- lm(Facebook_por_num ~ Internet_por_num, data = subset(df_new, anyo == 2018))"
      ],
      "metadata": {
        "id": "uZtibP0cKNsR"
      },
      "execution_count": null,
      "outputs": []
    },
    {
      "cell_type": "code",
      "source": [
        "summary(model_2010)"
      ],
      "metadata": {
        "id": "cIXtmrs3US6m"
      },
      "execution_count": null,
      "outputs": []
    },
    {
      "cell_type": "markdown",
      "source": [
        "**La ecuación del modelo para el año 2010 es:**\n",
        "\n",
        "`Facebook_por_num = -0.37314 + 0.41329 * Internet_por_num`\n",
        "\n",
        "- Los resultados muestran que la relación entre las dos variables es significativa (p < 0.001), con un coeficiente de regresión de 0.41329, lo que indica que por cada unidad adicional de Internet_por_num se espera un aumento de 0.41329 en Facebook_por_num.\n",
        "- El coeficiente de determinación R-cuadrado es 0.4673, lo que significa que el modelo explica el 46.73% de la variabilidad en la variable Facebook_por_num, lo que indica que el modelo se ajusta adecuadamente a los datos.\n",
        "- El error estándar residual es 12.26, lo que significa que en promedio, las predicciones del modelo están dentro de 12.26 de las observaciones reales.\n",
        "- El valor F de la prueba de significancia global es 66.67 con un p-valor muy bajo, lo que indica que el modelo es significativo."
      ],
      "metadata": {
        "id": "kGCPmUTEsR5L"
      }
    },
    {
      "cell_type": "code",
      "source": [
        "summary(model_2018)"
      ],
      "metadata": {
        "id": "9XiNcTEpUUr9"
      },
      "execution_count": null,
      "outputs": []
    },
    {
      "cell_type": "markdown",
      "source": [
        "**La ecuación del modelo para el año 2018 es:**\n",
        "\n",
        "`Facebook_por_num = -3.91856 + 0.72047 * Internet_por_num`\n",
        "\n",
        "- La variable explicativa Internet_por_num tiene un coeficiente de regresión estimado de 0.72047 y un valor p muy bajo, lo que sugiere una fuerte asociación entre Internet_por_num y Facebook_por_num.\n",
        "-El modelo tiene un R2 ajustado de 0.4823, lo que significa que el 48.23% de la variación en Facebook_por_num se puede explicar por la variable Internet_por_num en el modelo. \n",
        "-El F estadístico es 72.74 y tiene un valor p muy bajo, lo que sugiere que el modelo es significativo en general.\n"
      ],
      "metadata": {
        "id": "deyKL1tQWhOS"
      }
    },
    {
      "cell_type": "markdown",
      "source": [
        "### ANALISIS DE AMBOS MODELOS\n",
        "Los dos cuadros presentan un modelo de regresión lineal simple en el que se busca explicar la relación entre la cantidad de usuarios de Facebook y la cantidad de usuarios de Internet en los años 2010 y 2018.\n",
        "\n",
        "En ambos casos, se encuentra que la variable explicativa Internet_por_num es significativa para explicar la variable respuesta Facebook_por_num, lo que se demuestra por la p-value muy baja. La pendiente de la recta de regresión es positiva en ambos casos, lo que indica que a medida que aumenta el número de usuarios de Internet, también lo hace el número de usuarios de Facebook.\n",
        "\n",
        "El modelo del año 2010 tiene un R-cuadrado ajustado de 0.46, lo que indica que el modelo explica aproximadamente el 46% de la variabilidad en la variable respuesta. Por otro lado, el modelo del año 2018 tiene un R-cuadrado ajustado de 0.48, lo que indica que el modelo explica aproximadamente el 48% de la variabilidad en la variable respuesta.\n",
        "\n",
        "Cabe destacar que el modelo del año 2018 presenta una mayor magnitud de los residuos respecto a la variable respuesta, lo que podría indicar una mayor dispersión de los datos en este año en comparación con el año 2010."
      ],
      "metadata": {
        "id": "B7w9SCWDWhoo"
      }
    },
    {
      "cell_type": "markdown",
      "source": [
        "# 7. Compara, mediante stargazer, los coeficientes de la recta de regresión de Facebook_por_num sobre Internet_por_num en 2010 y 2018. Interpreta el significado de los coeficientes de la regresión en cada año."
      ],
      "metadata": {
        "id": "Giev1vm8KRQM"
      }
    },
    {
      "cell_type": "code",
      "source": [
        "stargazer(model_2010, model_2018, type = \"text\", title = \"Coeficientes del modelo de regresión de Facebook_por_num - Internet_por_num\")"
      ],
      "metadata": {
        "id": "FpnDCZCCOply"
      },
      "execution_count": null,
      "outputs": []
    },
    {
      "cell_type": "markdown",
      "source": [
        "La tabla precedente muestra los coeficientes de las rectas de regresión para la variable dependiente Facebook_por_num en función de la variable independiente Internet_por_num, en dos años distintos (2010 y 2018).\n",
        "\n",
        "Para el año 2010, el modelo indica que por cada aumento de una unidad en Internet_por_num, Facebook_por_num aumenta en 0.413 unidades. Este coeficiente es significativo con un valor p < 0.01, lo que indica que es altamente improbable que se haya obtenido este resultado por azar. El valor del intercepto (constante) no es significativo, lo que indica que no hay una relación significativa entre Facebook_por_num e Internet_por_num cuando esta última variable tiene un valor de cero.\n",
        "\n",
        "Para el año 2018, el modelo indica que por cada aumento de una unidad en Internet_por_num, Facebook_por_num aumenta en 0.720 unidades. Este coeficiente también es significativo con un valor p < 0.01. El valor del intercepto es nuevamente no significativo.\n",
        "\n",
        "En cuanto al coeficiente de determinación (R2), se observa que en ambos años es relativamente similar (0.467 y 0.489 respectivamente), lo que indica que el modelo explica alrededor del 46% al 49% de la variabilidad de Facebook_por_num. El valor del estadístico F es significativo en ambos casos, lo que indica que la regresión es significativa y que hay una relación significativa entre las dos variables."
      ],
      "metadata": {
        "id": "zg_fUWb3YQh0"
      }
    },
    {
      "cell_type": "markdown",
      "source": [
        "### ANALISIS CON DATOS TRANSFORMADOS"
      ],
      "metadata": {
        "id": "ea-AV4-rdTul"
      }
    },
    {
      "cell_type": "code",
      "source": [
        "model_2010_t <- lm(Facebook_por_num_t2 ~ Internet_por_num_t2, data = subset(df_trans1, anyo == 2010))\n",
        "model_2018_t <- lm(Facebook_por_num_t2 ~ Internet_por_num_t2, data = subset(df_trans1, anyo == 2018))"
      ],
      "metadata": {
        "id": "p-Sa_G2Ra5w-"
      },
      "execution_count": null,
      "outputs": []
    },
    {
      "cell_type": "code",
      "source": [
        "stargazer(model_2010_t, model_2018_t, type = \"text\", title = \"Coeficientes del modelo de regresión de Facebook_por_num - Internet_por_num\")"
      ],
      "metadata": {
        "id": "bA9_wfmFbNNH"
      },
      "execution_count": null,
      "outputs": []
    },
    {
      "cell_type": "markdown",
      "source": [
        "En este análisis se aplicó una transformación cuadrática a las variables predictoras antes de ajustar los modelos de regresión lineal. Se utilizaron los mismos datos que en el análisis anterior, pero con las variables transformadas.\n",
        "\n",
        "Los coeficientes de regresión muestran una relación positiva y significativa entre Facebook_por_num_t2 e Internet_por_num_t2 en ambos años (2010 y 2018), lo que indica que a medida que aumenta Internet_por_num_t2, también lo hace Facebook_por_num_t2.\n",
        "\n",
        "Sin embargo, el coeficiente de determinación (R-cuadrado) para el año 2010 (0.509) es mayor que para el año 2018 (0.443), lo que indica que el modelo de regresión es más explicativo para el año 2010 que para el año 2018. Además, el modelo de regresión para el año 2010 tiene un F-statistic mayor que el del año 2018, lo que indica que el modelo de regresión es más significativo en el año 2010 que en el año 2018."
      ],
      "metadata": {
        "id": "G3cwLcbPb2Mp"
      }
    }
  ]
}