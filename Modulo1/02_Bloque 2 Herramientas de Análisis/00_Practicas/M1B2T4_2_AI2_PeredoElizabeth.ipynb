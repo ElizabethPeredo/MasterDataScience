{
  "cells": [
    {
      "cell_type": "markdown",
      "metadata": {
        "id": "tW3jK_BDgjno"
      },
      "source": [
        "# **Herramientas de Análisis**\n",
        "\n",
        "---\n",
        "---\n",
        "\n",
        "<!-- script html for image -->\n",
        "\n",
        "<center>\n",
        "\n",
        "\n",
        "<img src=\"https://upload.wikimedia.org/wikipedia/commons/thumb/a/ac/Sw-ep1-logo.svg/1280px-Sw-ep1-logo.svg.png\"  width=\"500\" height=\"150\"/>\n",
        "\n",
        "\n",
        "<br>\n",
        "\n",
        "Fuente de la imagen: [https://es.wikipedia.org](https://es.wikipedia.org/wiki/Star_Wars:_Episodio_I_-_La_amenaza_fantasma)\n",
        "\n",
        "</center>\n",
        "\n",
        "<br>"
      ]
    },
    {
      "cell_type": "markdown",
      "metadata": {
        "id": "tkVFjwt0z16s"
      },
      "source": [
        "# NOMBRE: Elizabeth Evelin Peredo Mescco"
      ]
    },
    {
      "cell_type": "markdown",
      "metadata": {
        "id": "CLuiMPEMSvF6"
      },
      "source": [
        "# **Índice**\n",
        "\n",
        "---\n",
        "---\n",
        "\n",
        "> [Herramientas de Análisis](#scrollTo=tW3jK_BDgjno&line=20&uniqifier=1)\n",
        "<br>\n",
        ">>\n",
        ">> [Preparación del Entorno](#scrollTo=5zZfGqOugjnr&line=3&uniqifier=1) \\\\\n",
        ">>   \\\\\n",
        ">> [Ejercicio 2](#scrollTo=EljLebnxgjqM) \\\\"
      ]
    },
    {
      "cell_type": "markdown",
      "metadata": {
        "id": "5zZfGqOugjnr"
      },
      "source": [
        "# Preparación del entorno\n",
        "\n",
        "Padawan! Cuando inicies sesión en Colab, prepara el entorno ejecutando el siguiente código."
      ]
    },
    {
      "cell_type": "code",
      "execution_count": 18,
      "metadata": {
        "colab": {
          "base_uri": "https://localhost:8080/"
        },
        "id": "JiKiPQdQgjnu",
        "outputId": "9c6212ec-6fdf-4030-c9ee-d54a8bb2f436"
      },
      "outputs": [
        {
          "output_type": "stream",
          "name": "stdout",
          "text": [
            "fatal: destination path '/content/mbdds_fc20' already exists and is not an empty directory.\n",
            "Already up to date.\n",
            "/content/mbdds_fc20/Python\n",
            "Looking in indexes: https://pypi.org/simple, https://us-python.pkg.dev/colab-wheels/public/simple/\n",
            "Requirement already satisfied: pandas==1.3 in /usr/local/lib/python3.8/dist-packages (from -r requirementsColab.txt (line 1)) (1.3.0)\n",
            "Requirement already satisfied: matplotlib==3.2.2 in /usr/local/lib/python3.8/dist-packages (from -r requirementsColab.txt (line 2)) (3.2.2)\n",
            "Requirement already satisfied: numpy==1.21 in /usr/local/lib/python3.8/dist-packages (from -r requirementsColab.txt (line 3)) (1.21.0)\n",
            "Requirement already satisfied: ipython==7.9.0 in /usr/local/lib/python3.8/dist-packages (from -r requirementsColab.txt (line 4)) (7.9.0)\n",
            "Requirement already satisfied: seaborn==0.11.2 in /usr/local/lib/python3.8/dist-packages (from -r requirementsColab.txt (line 5)) (0.11.2)\n",
            "Requirement already satisfied: beautifulsoup4==4.6.3 in /usr/local/lib/python3.8/dist-packages (from -r requirementsColab.txt (line 6)) (4.6.3)\n",
            "Requirement already satisfied: eurostat==0.2.1 in /usr/local/lib/python3.8/dist-packages (from -r requirementsColab.txt (line 7)) (0.2.1)\n",
            "Requirement already satisfied: world-bank-data==0.1.3 in /usr/local/lib/python3.8/dist-packages (from -r requirementsColab.txt (line 8)) (0.1.3)\n",
            "Requirement already satisfied: apiclient==1.0.4 in /usr/local/lib/python3.8/dist-packages (from -r requirementsColab.txt (line 9)) (1.0.4)\n",
            "Requirement already satisfied: oauth2client==4.1.3 in /usr/local/lib/python3.8/dist-packages (from -r requirementsColab.txt (line 10)) (4.1.3)\n",
            "Requirement already satisfied: pymongo==3.11.0 in /usr/local/lib/python3.8/dist-packages (from -r requirementsColab.txt (line 11)) (3.11.0)\n",
            "Requirement already satisfied: tweepy==3.6.0 in /usr/local/lib/python3.8/dist-packages (from -r requirementsColab.txt (line 12)) (3.6.0)\n",
            "Requirement already satisfied: facebook-business==9.0.3 in /usr/local/lib/python3.8/dist-packages (from -r requirementsColab.txt (line 13)) (9.0.3)\n",
            "Requirement already satisfied: lxml in /usr/local/lib/python3.8/dist-packages (from -r requirementsColab.txt (line 14)) (4.9.2)\n",
            "Requirement already satisfied: bs4==0.0.1 in /usr/local/lib/python3.8/dist-packages (from -r requirementsColab.txt (line 15)) (0.0.1)\n",
            "Requirement already satisfied: selenium==3.141.0 in /usr/local/lib/python3.8/dist-packages (from -r requirementsColab.txt (line 16)) (3.141.0)\n",
            "Requirement already satisfied: httplib2==0.19.0 in /usr/local/lib/python3.8/dist-packages (from -r requirementsColab.txt (line 17)) (0.19.0)\n",
            "Requirement already satisfied: hootsweet==0.7.1 in /usr/local/lib/python3.8/dist-packages (from -r requirementsColab.txt (line 18)) (0.7.1)\n",
            "Requirement already satisfied: ipykernel==5.3.4 in /usr/local/lib/python3.8/dist-packages (from -r requirementsColab.txt (line 19)) (5.3.4)\n",
            "Requirement already satisfied: jupyter==1.0.0 in /usr/local/lib/python3.8/dist-packages (from -r requirementsColab.txt (line 20)) (1.0.0)\n",
            "Requirement already satisfied: jupyter-nbextensions-configurator==0.4.1 in /usr/local/lib/python3.8/dist-packages (from -r requirementsColab.txt (line 21)) (0.4.1)\n",
            "Requirement already satisfied: jupytext==1.6.0 in /usr/local/lib/python3.8/dist-packages (from -r requirementsColab.txt (line 22)) (1.6.0)\n",
            "Requirement already satisfied: nbconvert==5.6.1 in /usr/local/lib/python3.8/dist-packages (from -r requirementsColab.txt (line 23)) (5.6.1)\n",
            "Requirement already satisfied: folium==0.9.1 in /usr/local/lib/python3.8/dist-packages (from -r requirementsColab.txt (line 24)) (0.9.1)\n",
            "Requirement already satisfied: imgaug==0.2.5 in /usr/local/lib/python3.8/dist-packages (from -r requirementsColab.txt (line 25)) (0.2.5)\n",
            "Requirement already satisfied: python-dateutil>=2.7.3 in /usr/local/lib/python3.8/dist-packages (from pandas==1.3->-r requirementsColab.txt (line 1)) (2.8.2)\n",
            "Requirement already satisfied: pytz>=2017.3 in /usr/local/lib/python3.8/dist-packages (from pandas==1.3->-r requirementsColab.txt (line 1)) (2019.3)\n",
            "Requirement already satisfied: cycler>=0.10 in /usr/local/lib/python3.8/dist-packages (from matplotlib==3.2.2->-r requirementsColab.txt (line 2)) (0.11.0)\n",
            "Requirement already satisfied: pyparsing!=2.0.4,!=2.1.2,!=2.1.6,>=2.0.1 in /usr/local/lib/python3.8/dist-packages (from matplotlib==3.2.2->-r requirementsColab.txt (line 2)) (2.4.7)\n",
            "Requirement already satisfied: kiwisolver>=1.0.1 in /usr/local/lib/python3.8/dist-packages (from matplotlib==3.2.2->-r requirementsColab.txt (line 2)) (1.4.4)\n",
            "Requirement already satisfied: backcall in /usr/local/lib/python3.8/dist-packages (from ipython==7.9.0->-r requirementsColab.txt (line 4)) (0.2.0)\n",
            "Requirement already satisfied: pexpect in /usr/local/lib/python3.8/dist-packages (from ipython==7.9.0->-r requirementsColab.txt (line 4)) (4.8.0)\n",
            "Requirement already satisfied: decorator in /usr/local/lib/python3.8/dist-packages (from ipython==7.9.0->-r requirementsColab.txt (line 4)) (4.4.2)\n",
            "Requirement already satisfied: traitlets>=4.2 in /usr/local/lib/python3.8/dist-packages (from ipython==7.9.0->-r requirementsColab.txt (line 4)) (5.7.1)\n",
            "Requirement already satisfied: jedi>=0.10 in /usr/local/lib/python3.8/dist-packages (from ipython==7.9.0->-r requirementsColab.txt (line 4)) (0.18.2)\n",
            "Requirement already satisfied: setuptools>=18.5 in /usr/local/lib/python3.8/dist-packages (from ipython==7.9.0->-r requirementsColab.txt (line 4)) (57.4.0)\n",
            "Requirement already satisfied: pickleshare in /usr/local/lib/python3.8/dist-packages (from ipython==7.9.0->-r requirementsColab.txt (line 4)) (0.7.5)\n",
            "Requirement already satisfied: pygments in /usr/local/lib/python3.8/dist-packages (from ipython==7.9.0->-r requirementsColab.txt (line 4)) (2.6.1)\n",
            "Requirement already satisfied: prompt-toolkit<2.1.0,>=2.0.0 in /usr/local/lib/python3.8/dist-packages (from ipython==7.9.0->-r requirementsColab.txt (line 4)) (2.0.10)\n",
            "Requirement already satisfied: scipy>=1.0 in /usr/local/lib/python3.8/dist-packages (from seaborn==0.11.2->-r requirementsColab.txt (line 5)) (1.7.3)\n",
            "Requirement already satisfied: requests in /usr/local/lib/python3.8/dist-packages (from eurostat==0.2.1->-r requirementsColab.txt (line 7)) (2.25.1)\n",
            "Requirement already satisfied: pandasdmx<=0.9 in /usr/local/lib/python3.8/dist-packages (from eurostat==0.2.1->-r requirementsColab.txt (line 7)) (0.9)\n",
            "Requirement already satisfied: cachetools in /usr/local/lib/python3.8/dist-packages (from world-bank-data==0.1.3->-r requirementsColab.txt (line 8)) (5.2.0)\n",
            "Requirement already satisfied: urllib3 in /usr/local/lib/python3.8/dist-packages (from apiclient==1.0.4->-r requirementsColab.txt (line 9)) (1.24.3)\n",
            "Requirement already satisfied: certifi in /usr/local/lib/python3.8/dist-packages (from apiclient==1.0.4->-r requirementsColab.txt (line 9)) (2022.12.7)\n",
            "Requirement already satisfied: pyasn1-modules>=0.0.5 in /usr/local/lib/python3.8/dist-packages (from oauth2client==4.1.3->-r requirementsColab.txt (line 10)) (0.2.8)\n",
            "Requirement already satisfied: pyasn1>=0.1.7 in /usr/local/lib/python3.8/dist-packages (from oauth2client==4.1.3->-r requirementsColab.txt (line 10)) (0.4.8)\n",
            "Requirement already satisfied: rsa>=3.1.4 in /usr/local/lib/python3.8/dist-packages (from oauth2client==4.1.3->-r requirementsColab.txt (line 10)) (4.9)\n",
            "Requirement already satisfied: six>=1.6.1 in /usr/local/lib/python3.8/dist-packages (from oauth2client==4.1.3->-r requirementsColab.txt (line 10)) (1.15.0)\n",
            "Requirement already satisfied: PySocks>=1.5.7 in /usr/local/lib/python3.8/dist-packages (from tweepy==3.6.0->-r requirementsColab.txt (line 12)) (1.7.1)\n",
            "Requirement already satisfied: requests-oauthlib>=0.7.0 in /usr/local/lib/python3.8/dist-packages (from tweepy==3.6.0->-r requirementsColab.txt (line 12)) (1.3.1)\n",
            "Requirement already satisfied: curlify>=2.1.0 in /usr/local/lib/python3.8/dist-packages (from facebook-business==9.0.3->-r requirementsColab.txt (line 13)) (2.2.1)\n",
            "Requirement already satisfied: pycountry>=19.8.18 in /usr/local/lib/python3.8/dist-packages (from facebook-business==9.0.3->-r requirementsColab.txt (line 13)) (22.3.5)\n",
            "Requirement already satisfied: aiohttp in /usr/local/lib/python3.8/dist-packages (from facebook-business==9.0.3->-r requirementsColab.txt (line 13)) (3.8.3)\n",
            "Requirement already satisfied: cherrypy<19.0.0,>=18.5.0 in /usr/local/lib/python3.8/dist-packages (from hootsweet==0.7.1->-r requirementsColab.txt (line 18)) (18.8.0)\n",
            "Requirement already satisfied: tornado>=4.2 in /usr/local/lib/python3.8/dist-packages (from ipykernel==5.3.4->-r requirementsColab.txt (line 19)) (6.0.4)\n",
            "Requirement already satisfied: jupyter-client in /usr/local/lib/python3.8/dist-packages (from ipykernel==5.3.4->-r requirementsColab.txt (line 19)) (6.1.12)\n",
            "Requirement already satisfied: qtconsole in /usr/local/lib/python3.8/dist-packages (from jupyter==1.0.0->-r requirementsColab.txt (line 20)) (5.4.0)\n",
            "Requirement already satisfied: ipywidgets in /usr/local/lib/python3.8/dist-packages (from jupyter==1.0.0->-r requirementsColab.txt (line 20)) (7.7.1)\n",
            "Requirement already satisfied: notebook in /usr/local/lib/python3.8/dist-packages (from jupyter==1.0.0->-r requirementsColab.txt (line 20)) (5.7.16)\n",
            "Requirement already satisfied: jupyter-console in /usr/local/lib/python3.8/dist-packages (from jupyter==1.0.0->-r requirementsColab.txt (line 20)) (6.1.0)\n",
            "Requirement already satisfied: jupyter-contrib-core>=0.3.3 in /usr/local/lib/python3.8/dist-packages (from jupyter-nbextensions-configurator==0.4.1->-r requirementsColab.txt (line 21)) (0.4.2)\n",
            "Requirement already satisfied: pyyaml in /usr/local/lib/python3.8/dist-packages (from jupyter-nbextensions-configurator==0.4.1->-r requirementsColab.txt (line 21)) (6.0)\n",
            "Requirement already satisfied: jupyter-core in /usr/local/lib/python3.8/dist-packages (from jupyter-nbextensions-configurator==0.4.1->-r requirementsColab.txt (line 21)) (5.1.2)\n",
            "Requirement already satisfied: nbformat>=4.0.0 in /usr/local/lib/python3.8/dist-packages (from jupytext==1.6.0->-r requirementsColab.txt (line 22)) (5.7.1)\n",
            "Requirement already satisfied: toml in /usr/local/lib/python3.8/dist-packages (from jupytext==1.6.0->-r requirementsColab.txt (line 22)) (0.10.2)\n",
            "Requirement already satisfied: markdown-it-py~=0.5.2 in /usr/local/lib/python3.8/dist-packages (from jupytext==1.6.0->-r requirementsColab.txt (line 22)) (0.5.8)\n",
            "Requirement already satisfied: jinja2>=2.4 in /usr/local/lib/python3.8/dist-packages (from nbconvert==5.6.1->-r requirementsColab.txt (line 23)) (2.11.3)\n",
            "Requirement already satisfied: testpath in /usr/local/lib/python3.8/dist-packages (from nbconvert==5.6.1->-r requirementsColab.txt (line 23)) (0.6.0)\n",
            "Requirement already satisfied: bleach in /usr/local/lib/python3.8/dist-packages (from nbconvert==5.6.1->-r requirementsColab.txt (line 23)) (5.0.1)\n",
            "Requirement already satisfied: entrypoints>=0.2.2 in /usr/local/lib/python3.8/dist-packages (from nbconvert==5.6.1->-r requirementsColab.txt (line 23)) (0.4)\n",
            "Requirement already satisfied: pandocfilters>=1.4.1 in /usr/local/lib/python3.8/dist-packages (from nbconvert==5.6.1->-r requirementsColab.txt (line 23)) (1.5.0)\n",
            "Requirement already satisfied: defusedxml in /usr/local/lib/python3.8/dist-packages (from nbconvert==5.6.1->-r requirementsColab.txt (line 23)) (0.7.1)\n",
            "Requirement already satisfied: mistune<2,>=0.8.1 in /usr/local/lib/python3.8/dist-packages (from nbconvert==5.6.1->-r requirementsColab.txt (line 23)) (0.8.4)\n",
            "Requirement already satisfied: branca>=0.3.0 in /usr/local/lib/python3.8/dist-packages (from folium==0.9.1->-r requirementsColab.txt (line 24)) (0.6.0)\n",
            "Requirement already satisfied: scikit-image>=0.11.0 in /usr/local/lib/python3.8/dist-packages (from imgaug==0.2.5->-r requirementsColab.txt (line 25)) (0.18.3)\n",
            "Requirement already satisfied: jaraco.collections in /usr/local/lib/python3.8/dist-packages (from cherrypy<19.0.0,>=18.5.0->hootsweet==0.7.1->-r requirementsColab.txt (line 18)) (3.8.0)\n",
            "Requirement already satisfied: portend>=2.1.1 in /usr/local/lib/python3.8/dist-packages (from cherrypy<19.0.0,>=18.5.0->hootsweet==0.7.1->-r requirementsColab.txt (line 18)) (3.1.0)\n",
            "Requirement already satisfied: zc.lockfile in /usr/local/lib/python3.8/dist-packages (from cherrypy<19.0.0,>=18.5.0->hootsweet==0.7.1->-r requirementsColab.txt (line 18)) (2.0)\n",
            "Requirement already satisfied: cheroot>=8.2.1 in /usr/local/lib/python3.8/dist-packages (from cherrypy<19.0.0,>=18.5.0->hootsweet==0.7.1->-r requirementsColab.txt (line 18)) (9.0.0)\n",
            "Requirement already satisfied: more-itertools in /usr/local/lib/python3.8/dist-packages (from cherrypy<19.0.0,>=18.5.0->hootsweet==0.7.1->-r requirementsColab.txt (line 18)) (9.0.0)\n",
            "Requirement already satisfied: parso<0.9.0,>=0.8.0 in /usr/local/lib/python3.8/dist-packages (from jedi>=0.10->ipython==7.9.0->-r requirementsColab.txt (line 4)) (0.8.3)\n",
            "Requirement already satisfied: MarkupSafe>=0.23 in /usr/local/lib/python3.8/dist-packages (from jinja2>=2.4->nbconvert==5.6.1->-r requirementsColab.txt (line 23)) (2.0.1)\n",
            "Requirement already satisfied: attrs<21,>=19 in /usr/local/lib/python3.8/dist-packages (from markdown-it-py~=0.5.2->jupytext==1.6.0->-r requirementsColab.txt (line 22)) (20.3.0)\n",
            "Requirement already satisfied: fastjsonschema in /usr/local/lib/python3.8/dist-packages (from nbformat>=4.0.0->jupytext==1.6.0->-r requirementsColab.txt (line 22)) (2.16.2)\n",
            "Requirement already satisfied: jsonschema>=2.6 in /usr/local/lib/python3.8/dist-packages (from nbformat>=4.0.0->jupytext==1.6.0->-r requirementsColab.txt (line 22)) (4.3.3)\n",
            "Requirement already satisfied: terminado>=0.8.1 in /usr/local/lib/python3.8/dist-packages (from notebook->jupyter==1.0.0->-r requirementsColab.txt (line 20)) (0.13.3)\n",
            "Requirement already satisfied: ipython-genutils in /usr/local/lib/python3.8/dist-packages (from notebook->jupyter==1.0.0->-r requirementsColab.txt (line 20)) (0.2.0)\n",
            "Requirement already satisfied: prometheus-client in /usr/local/lib/python3.8/dist-packages (from notebook->jupyter==1.0.0->-r requirementsColab.txt (line 20)) (0.15.0)\n",
            "Requirement already satisfied: pyzmq>=17 in /usr/local/lib/python3.8/dist-packages (from notebook->jupyter==1.0.0->-r requirementsColab.txt (line 20)) (23.2.1)\n",
            "Requirement already satisfied: Send2Trash in /usr/local/lib/python3.8/dist-packages (from notebook->jupyter==1.0.0->-r requirementsColab.txt (line 20)) (1.8.0)\n",
            "Requirement already satisfied: platformdirs>=2.5 in /usr/local/lib/python3.8/dist-packages (from jupyter-core->jupyter-nbextensions-configurator==0.4.1->-r requirementsColab.txt (line 21)) (2.6.2)\n",
            "Requirement already satisfied: jsonpath-rw in /usr/local/lib/python3.8/dist-packages (from pandasdmx<=0.9->eurostat==0.2.1->-r requirementsColab.txt (line 7)) (1.4.0)\n",
            "Requirement already satisfied: wcwidth in /usr/local/lib/python3.8/dist-packages (from prompt-toolkit<2.1.0,>=2.0.0->ipython==7.9.0->-r requirementsColab.txt (line 4)) (0.2.5)\n",
            "Requirement already satisfied: chardet<5,>=3.0.2 in /usr/local/lib/python3.8/dist-packages (from requests->eurostat==0.2.1->-r requirementsColab.txt (line 7)) (4.0.0)\n",
            "Requirement already satisfied: idna<3,>=2.5 in /usr/local/lib/python3.8/dist-packages (from requests->eurostat==0.2.1->-r requirementsColab.txt (line 7)) (2.10)\n",
            "Requirement already satisfied: oauthlib>=3.0.0 in /usr/local/lib/python3.8/dist-packages (from requests-oauthlib>=0.7.0->tweepy==3.6.0->-r requirementsColab.txt (line 12)) (3.2.2)\n",
            "Requirement already satisfied: pillow!=7.1.0,!=7.1.1,>=4.3.0 in /usr/local/lib/python3.8/dist-packages (from scikit-image>=0.11.0->imgaug==0.2.5->-r requirementsColab.txt (line 25)) (7.1.2)\n",
            "Requirement already satisfied: PyWavelets>=1.1.1 in /usr/local/lib/python3.8/dist-packages (from scikit-image>=0.11.0->imgaug==0.2.5->-r requirementsColab.txt (line 25)) (1.4.1)\n",
            "Requirement already satisfied: tifffile>=2019.7.26 in /usr/local/lib/python3.8/dist-packages (from scikit-image>=0.11.0->imgaug==0.2.5->-r requirementsColab.txt (line 25)) (2022.10.10)\n",
            "Requirement already satisfied: networkx>=2.0 in /usr/local/lib/python3.8/dist-packages (from scikit-image>=0.11.0->imgaug==0.2.5->-r requirementsColab.txt (line 25)) (2.8.8)\n",
            "Requirement already satisfied: imageio>=2.3.0 in /usr/local/lib/python3.8/dist-packages (from scikit-image>=0.11.0->imgaug==0.2.5->-r requirementsColab.txt (line 25)) (2.9.0)\n",
            "Requirement already satisfied: yarl<2.0,>=1.0 in /usr/local/lib/python3.8/dist-packages (from aiohttp->facebook-business==9.0.3->-r requirementsColab.txt (line 13)) (1.8.2)\n",
            "Requirement already satisfied: async-timeout<5.0,>=4.0.0a3 in /usr/local/lib/python3.8/dist-packages (from aiohttp->facebook-business==9.0.3->-r requirementsColab.txt (line 13)) (4.0.2)\n",
            "Requirement already satisfied: aiosignal>=1.1.2 in /usr/local/lib/python3.8/dist-packages (from aiohttp->facebook-business==9.0.3->-r requirementsColab.txt (line 13)) (1.3.1)\n",
            "Requirement already satisfied: frozenlist>=1.1.1 in /usr/local/lib/python3.8/dist-packages (from aiohttp->facebook-business==9.0.3->-r requirementsColab.txt (line 13)) (1.3.3)\n",
            "Requirement already satisfied: charset-normalizer<3.0,>=2.0 in /usr/local/lib/python3.8/dist-packages (from aiohttp->facebook-business==9.0.3->-r requirementsColab.txt (line 13)) (2.1.1)\n",
            "Requirement already satisfied: multidict<7.0,>=4.5 in /usr/local/lib/python3.8/dist-packages (from aiohttp->facebook-business==9.0.3->-r requirementsColab.txt (line 13)) (6.0.4)\n",
            "Requirement already satisfied: webencodings in /usr/local/lib/python3.8/dist-packages (from bleach->nbconvert==5.6.1->-r requirementsColab.txt (line 23)) (0.5.1)\n",
            "Requirement already satisfied: widgetsnbextension~=3.6.0 in /usr/local/lib/python3.8/dist-packages (from ipywidgets->jupyter==1.0.0->-r requirementsColab.txt (line 20)) (3.6.1)\n",
            "Requirement already satisfied: jupyterlab-widgets>=1.0.0 in /usr/local/lib/python3.8/dist-packages (from ipywidgets->jupyter==1.0.0->-r requirementsColab.txt (line 20)) (3.0.5)\n",
            "Requirement already satisfied: ptyprocess>=0.5 in /usr/local/lib/python3.8/dist-packages (from pexpect->ipython==7.9.0->-r requirementsColab.txt (line 4)) (0.7.0)\n",
            "Requirement already satisfied: qtpy>=2.0.1 in /usr/local/lib/python3.8/dist-packages (from qtconsole->jupyter==1.0.0->-r requirementsColab.txt (line 20)) (2.3.0)\n",
            "Requirement already satisfied: jaraco.functools in /usr/local/lib/python3.8/dist-packages (from cheroot>=8.2.1->cherrypy<19.0.0,>=18.5.0->hootsweet==0.7.1->-r requirementsColab.txt (line 18)) (3.5.2)\n",
            "Requirement already satisfied: pyrsistent!=0.17.0,!=0.17.1,!=0.17.2,>=0.14.0 in /usr/local/lib/python3.8/dist-packages (from jsonschema>=2.6->nbformat>=4.0.0->jupytext==1.6.0->-r requirementsColab.txt (line 22)) (0.19.3)\n",
            "Requirement already satisfied: importlib-resources>=1.4.0 in /usr/local/lib/python3.8/dist-packages (from jsonschema>=2.6->nbformat>=4.0.0->jupytext==1.6.0->-r requirementsColab.txt (line 22)) (5.10.2)\n",
            "Requirement already satisfied: tempora>=1.8 in /usr/local/lib/python3.8/dist-packages (from portend>=2.1.1->cherrypy<19.0.0,>=18.5.0->hootsweet==0.7.1->-r requirementsColab.txt (line 18)) (5.2.0)\n",
            "Requirement already satisfied: packaging in /usr/local/lib/python3.8/dist-packages (from qtpy>=2.0.1->qtconsole->jupyter==1.0.0->-r requirementsColab.txt (line 20)) (21.3)\n",
            "Requirement already satisfied: jaraco.classes in /usr/local/lib/python3.8/dist-packages (from jaraco.collections->cherrypy<19.0.0,>=18.5.0->hootsweet==0.7.1->-r requirementsColab.txt (line 18)) (3.2.3)\n",
            "Requirement already satisfied: jaraco.text in /usr/local/lib/python3.8/dist-packages (from jaraco.collections->cherrypy<19.0.0,>=18.5.0->hootsweet==0.7.1->-r requirementsColab.txt (line 18)) (3.11.0)\n",
            "Requirement already satisfied: ply in /usr/local/lib/python3.8/dist-packages (from jsonpath-rw->pandasdmx<=0.9->eurostat==0.2.1->-r requirementsColab.txt (line 7)) (3.11)\n",
            "Requirement already satisfied: zipp>=3.1.0 in /usr/local/lib/python3.8/dist-packages (from importlib-resources>=1.4.0->jsonschema>=2.6->nbformat>=4.0.0->jupytext==1.6.0->-r requirementsColab.txt (line 22)) (3.11.0)\n",
            "Requirement already satisfied: jaraco.context>=4.1 in /usr/local/lib/python3.8/dist-packages (from jaraco.text->jaraco.collections->cherrypy<19.0.0,>=18.5.0->hootsweet==0.7.1->-r requirementsColab.txt (line 18)) (4.2.0)\n",
            "Requirement already satisfied: inflect in /usr/local/lib/python3.8/dist-packages (from jaraco.text->jaraco.collections->cherrypy<19.0.0,>=18.5.0->hootsweet==0.7.1->-r requirementsColab.txt (line 18)) (2.1.0)\n",
            "Requirement already satisfied: autocommand in /usr/local/lib/python3.8/dist-packages (from jaraco.text->jaraco.collections->cherrypy<19.0.0,>=18.5.0->hootsweet==0.7.1->-r requirementsColab.txt (line 18)) (2.2.2)\n"
          ]
        }
      ],
      "source": [
        "if 'google.colab' in str(get_ipython()):\n",
        "    !git clone https://github.com/griu/mbdds_fc20.git /content/mbdds_fc20\n",
        "    !git -C /content/mbdds_fc20 pull\n",
        "    %cd /content/mbdds_fc20/Python\n",
        "    !python -m pip install -r requirementsColab.txt"
      ]
    },
    {
      "cell_type": "markdown",
      "metadata": {
        "id": "EljLebnxgjqM"
      },
      "source": [
        "# Ejercicio 2\n",
        "\n",
        "Para el ejercicio 2, añadimos los datos del ejercicio 1 los datos de planetas."
      ]
    },
    {
      "cell_type": "code",
      "execution_count": 19,
      "metadata": {
        "colab": {
          "base_uri": "https://localhost:8080/",
          "height": 237
        },
        "id": "2V3mrVHSgjn7",
        "outputId": "acbe089b-32f7-41d2-db1c-853e407dea56"
      },
      "outputs": [
        {
          "output_type": "execute_result",
          "data": {
            "text/plain": [
              "          orbital_period                              url\n",
              "name                                                     \n",
              "Tatooine           304.0  http://swapi.dev/api/planets/1/\n",
              "Alderaan           364.0  http://swapi.dev/api/planets/2/\n",
              "Yavin IV          4818.0  http://swapi.dev/api/planets/3/\n",
              "Hoth               549.0  http://swapi.dev/api/planets/4/\n",
              "Dagobah            341.0  http://swapi.dev/api/planets/5/"
            ],
            "text/html": [
              "\n",
              "  <div id=\"df-0fbdc402-1b6d-41ae-80b2-ddbd49bec23c\">\n",
              "    <div class=\"colab-df-container\">\n",
              "      <div>\n",
              "<style scoped>\n",
              "    .dataframe tbody tr th:only-of-type {\n",
              "        vertical-align: middle;\n",
              "    }\n",
              "\n",
              "    .dataframe tbody tr th {\n",
              "        vertical-align: top;\n",
              "    }\n",
              "\n",
              "    .dataframe thead th {\n",
              "        text-align: right;\n",
              "    }\n",
              "</style>\n",
              "<table border=\"1\" class=\"dataframe\">\n",
              "  <thead>\n",
              "    <tr style=\"text-align: right;\">\n",
              "      <th></th>\n",
              "      <th>orbital_period</th>\n",
              "      <th>url</th>\n",
              "    </tr>\n",
              "    <tr>\n",
              "      <th>name</th>\n",
              "      <th></th>\n",
              "      <th></th>\n",
              "    </tr>\n",
              "  </thead>\n",
              "  <tbody>\n",
              "    <tr>\n",
              "      <th>Tatooine</th>\n",
              "      <td>304.0</td>\n",
              "      <td>http://swapi.dev/api/planets/1/</td>\n",
              "    </tr>\n",
              "    <tr>\n",
              "      <th>Alderaan</th>\n",
              "      <td>364.0</td>\n",
              "      <td>http://swapi.dev/api/planets/2/</td>\n",
              "    </tr>\n",
              "    <tr>\n",
              "      <th>Yavin IV</th>\n",
              "      <td>4818.0</td>\n",
              "      <td>http://swapi.dev/api/planets/3/</td>\n",
              "    </tr>\n",
              "    <tr>\n",
              "      <th>Hoth</th>\n",
              "      <td>549.0</td>\n",
              "      <td>http://swapi.dev/api/planets/4/</td>\n",
              "    </tr>\n",
              "    <tr>\n",
              "      <th>Dagobah</th>\n",
              "      <td>341.0</td>\n",
              "      <td>http://swapi.dev/api/planets/5/</td>\n",
              "    </tr>\n",
              "  </tbody>\n",
              "</table>\n",
              "</div>\n",
              "      <button class=\"colab-df-convert\" onclick=\"convertToInteractive('df-0fbdc402-1b6d-41ae-80b2-ddbd49bec23c')\"\n",
              "              title=\"Convert this dataframe to an interactive table.\"\n",
              "              style=\"display:none;\">\n",
              "        \n",
              "  <svg xmlns=\"http://www.w3.org/2000/svg\" height=\"24px\"viewBox=\"0 0 24 24\"\n",
              "       width=\"24px\">\n",
              "    <path d=\"M0 0h24v24H0V0z\" fill=\"none\"/>\n",
              "    <path d=\"M18.56 5.44l.94 2.06.94-2.06 2.06-.94-2.06-.94-.94-2.06-.94 2.06-2.06.94zm-11 1L8.5 8.5l.94-2.06 2.06-.94-2.06-.94L8.5 2.5l-.94 2.06-2.06.94zm10 10l.94 2.06.94-2.06 2.06-.94-2.06-.94-.94-2.06-.94 2.06-2.06.94z\"/><path d=\"M17.41 7.96l-1.37-1.37c-.4-.4-.92-.59-1.43-.59-.52 0-1.04.2-1.43.59L10.3 9.45l-7.72 7.72c-.78.78-.78 2.05 0 2.83L4 21.41c.39.39.9.59 1.41.59.51 0 1.02-.2 1.41-.59l7.78-7.78 2.81-2.81c.8-.78.8-2.07 0-2.86zM5.41 20L4 18.59l7.72-7.72 1.47 1.35L5.41 20z\"/>\n",
              "  </svg>\n",
              "      </button>\n",
              "      \n",
              "  <style>\n",
              "    .colab-df-container {\n",
              "      display:flex;\n",
              "      flex-wrap:wrap;\n",
              "      gap: 12px;\n",
              "    }\n",
              "\n",
              "    .colab-df-convert {\n",
              "      background-color: #E8F0FE;\n",
              "      border: none;\n",
              "      border-radius: 50%;\n",
              "      cursor: pointer;\n",
              "      display: none;\n",
              "      fill: #1967D2;\n",
              "      height: 32px;\n",
              "      padding: 0 0 0 0;\n",
              "      width: 32px;\n",
              "    }\n",
              "\n",
              "    .colab-df-convert:hover {\n",
              "      background-color: #E2EBFA;\n",
              "      box-shadow: 0px 1px 2px rgba(60, 64, 67, 0.3), 0px 1px 3px 1px rgba(60, 64, 67, 0.15);\n",
              "      fill: #174EA6;\n",
              "    }\n",
              "\n",
              "    [theme=dark] .colab-df-convert {\n",
              "      background-color: #3B4455;\n",
              "      fill: #D2E3FC;\n",
              "    }\n",
              "\n",
              "    [theme=dark] .colab-df-convert:hover {\n",
              "      background-color: #434B5C;\n",
              "      box-shadow: 0px 1px 3px 1px rgba(0, 0, 0, 0.15);\n",
              "      filter: drop-shadow(0px 1px 2px rgba(0, 0, 0, 0.3));\n",
              "      fill: #FFFFFF;\n",
              "    }\n",
              "  </style>\n",
              "\n",
              "      <script>\n",
              "        const buttonEl =\n",
              "          document.querySelector('#df-0fbdc402-1b6d-41ae-80b2-ddbd49bec23c button.colab-df-convert');\n",
              "        buttonEl.style.display =\n",
              "          google.colab.kernel.accessAllowed ? 'block' : 'none';\n",
              "\n",
              "        async function convertToInteractive(key) {\n",
              "          const element = document.querySelector('#df-0fbdc402-1b6d-41ae-80b2-ddbd49bec23c');\n",
              "          const dataTable =\n",
              "            await google.colab.kernel.invokeFunction('convertToInteractive',\n",
              "                                                     [key], {});\n",
              "          if (!dataTable) return;\n",
              "\n",
              "          const docLinkHtml = 'Like what you see? Visit the ' +\n",
              "            '<a target=\"_blank\" href=https://colab.research.google.com/notebooks/data_table.ipynb>data table notebook</a>'\n",
              "            + ' to learn more about interactive tables.';\n",
              "          element.innerHTML = '';\n",
              "          dataTable['output_type'] = 'display_data';\n",
              "          await google.colab.output.renderOutput(dataTable, element);\n",
              "          const docLink = document.createElement('div');\n",
              "          docLink.innerHTML = docLinkHtml;\n",
              "          element.appendChild(docLink);\n",
              "        }\n",
              "      </script>\n",
              "    </div>\n",
              "  </div>\n",
              "  "
            ]
          },
          "metadata": {},
          "execution_count": 19
        }
      ],
      "source": [
        "import numpy as np\n",
        "import pandas as pd\n",
        "import matplotlib.pyplot as plt\n",
        "import seaborn as sns; sns.set()  # para el estilo de graficos\n",
        "import datetime\n",
        "import locale\n",
        "#from pyspark.sql import functions as F\n",
        "\n",
        "entidades = ['planets','starships','vehicles','people','species']\n",
        "entidades_df = {x: pd.read_pickle('www/' + x + '_df.pkl') for x in entidades}\n",
        "\n",
        "# Datos people\n",
        "people_df = entidades_df['people'][[\"height\",\"mass\",\"birth_year\",\"gender\",\"homeworld\"]].dropna()\n",
        "\n",
        "# planetas\n",
        "planets_df = entidades_df['planets'][[\"orbital_period\",\"url\"]].dropna()\n",
        "planets_df.head()"
      ]
    },
    {
      "cell_type": "markdown",
      "metadata": {
        "id": "XfAwzyybgjqV"
      },
      "source": [
        "## Ejercicio 2.1.\n",
        "\n",
        "Construye una función que diga \"buenos días\", \"buenas tardes\" o \"buenas noches\" en función de la hora del día.\n",
        "\n",
        "> Truco 1: Para testear la función haz que tenga un parametro de entrada que tenga como valor por defecto: `datetime.now()` (primero carga `from datetime import datetime`).\n",
        "\n",
        "> Truco 2: Puedes extraer la hora de un datetime con `.hour`."
      ]
    },
    {
      "cell_type": "code",
      "execution_count": 20,
      "metadata": {
        "colab": {
          "base_uri": "https://localhost:8080/",
          "height": 36
        },
        "id": "ztjRWz0kgjqW",
        "outputId": "c061a45f-7b03-4826-97e0-5c3c03266182"
      },
      "outputs": [
        {
          "output_type": "execute_result",
          "data": {
            "text/plain": [
              "'Buenas tardes'"
            ],
            "application/vnd.google.colaboratory.intrinsic+json": {
              "type": "string"
            }
          },
          "metadata": {},
          "execution_count": 20
        }
      ],
      "source": [
        "# Solución:\n",
        "def saludo():\n",
        "    hora=(datetime.datetime.now()).strftime(\"%H:%M:%S\")\n",
        "    #hora=\"06:00:00\"\n",
        "    #hora=\"13:00:00\"\n",
        "    if hora<\"12:00:00\":\n",
        "      saludar=\"Buenos días\"\n",
        "    elif  hora<\"17:00:00\":\n",
        "      saludar=\"Buenas tardes\"\n",
        "    else:\n",
        "      saludar=\"Buenas noches\"\n",
        "    return saludar\n",
        "\n",
        "saludo()\n"
      ]
    },
    {
      "cell_type": "markdown",
      "metadata": {
        "id": "N4CDynU2gjqe"
      },
      "source": [
        "## Ejercicio 2.2.\n",
        "\n",
        "En el data frame personajes_df, calcula de nuevo el IMC y crea una nueva variable con el trameado de la variable IMC definido en la siguiente tabla:\n",
        "\n",
        " | Categoría de nivel de peso | Intervalo del percentil |\n",
        " | -------------------------- | ----------------------- | \n",
        " | Bajo peso | < 18.5 |\n",
        " | Normal | >= 18.5 y < 25 |\n",
        " | Sobrepeso | >= 25 y <30 |\n",
        " | Obeso | >= 30 |\n",
        "\n",
        "> Truco: utiliza `pd.cut(..., right=False)` y modifica las etiquetas con `.cat.categories`.  "
      ]
    },
    {
      "cell_type": "code",
      "execution_count": 21,
      "metadata": {
        "colab": {
          "base_uri": "https://localhost:8080/",
          "height": 237
        },
        "id": "1DPbZLk4gjqf",
        "outputId": "bc7200a7-72f6-4df7-b588-037724e7a991"
      },
      "outputs": [
        {
          "output_type": "execute_result",
          "data": {
            "text/plain": [
              "                height   mass  birth_year  gender  \\\n",
              "name                                                \n",
              "Luke Skywalker   172.0   77.0        19.0    male   \n",
              "C-3PO            167.0   75.0       112.0    none   \n",
              "R2-D2             96.0   32.0        33.0    none   \n",
              "Darth Vader      202.0  136.0        41.9    male   \n",
              "Leia Organa      150.0   49.0        19.0  female   \n",
              "\n",
              "                                      homeworld        IMC   peso_cat  \n",
              "name                                                                   \n",
              "Luke Skywalker  http://swapi.dev/api/planets/1/  26.027582  Sobrepeso  \n",
              "C-3PO           http://swapi.dev/api/planets/1/  26.892323  Sobrepeso  \n",
              "R2-D2           http://swapi.dev/api/planets/8/  34.722222      Obeso  \n",
              "Darth Vader     http://swapi.dev/api/planets/1/  33.330066      Obeso  \n",
              "Leia Organa     http://swapi.dev/api/planets/2/  21.777778     Normal  "
            ],
            "text/html": [
              "\n",
              "  <div id=\"df-c02c0cf3-ce3b-41b5-84ab-c5db6732aa8e\">\n",
              "    <div class=\"colab-df-container\">\n",
              "      <div>\n",
              "<style scoped>\n",
              "    .dataframe tbody tr th:only-of-type {\n",
              "        vertical-align: middle;\n",
              "    }\n",
              "\n",
              "    .dataframe tbody tr th {\n",
              "        vertical-align: top;\n",
              "    }\n",
              "\n",
              "    .dataframe thead th {\n",
              "        text-align: right;\n",
              "    }\n",
              "</style>\n",
              "<table border=\"1\" class=\"dataframe\">\n",
              "  <thead>\n",
              "    <tr style=\"text-align: right;\">\n",
              "      <th></th>\n",
              "      <th>height</th>\n",
              "      <th>mass</th>\n",
              "      <th>birth_year</th>\n",
              "      <th>gender</th>\n",
              "      <th>homeworld</th>\n",
              "      <th>IMC</th>\n",
              "      <th>peso_cat</th>\n",
              "    </tr>\n",
              "    <tr>\n",
              "      <th>name</th>\n",
              "      <th></th>\n",
              "      <th></th>\n",
              "      <th></th>\n",
              "      <th></th>\n",
              "      <th></th>\n",
              "      <th></th>\n",
              "      <th></th>\n",
              "    </tr>\n",
              "  </thead>\n",
              "  <tbody>\n",
              "    <tr>\n",
              "      <th>Luke Skywalker</th>\n",
              "      <td>172.0</td>\n",
              "      <td>77.0</td>\n",
              "      <td>19.0</td>\n",
              "      <td>male</td>\n",
              "      <td>http://swapi.dev/api/planets/1/</td>\n",
              "      <td>26.027582</td>\n",
              "      <td>Sobrepeso</td>\n",
              "    </tr>\n",
              "    <tr>\n",
              "      <th>C-3PO</th>\n",
              "      <td>167.0</td>\n",
              "      <td>75.0</td>\n",
              "      <td>112.0</td>\n",
              "      <td>none</td>\n",
              "      <td>http://swapi.dev/api/planets/1/</td>\n",
              "      <td>26.892323</td>\n",
              "      <td>Sobrepeso</td>\n",
              "    </tr>\n",
              "    <tr>\n",
              "      <th>R2-D2</th>\n",
              "      <td>96.0</td>\n",
              "      <td>32.0</td>\n",
              "      <td>33.0</td>\n",
              "      <td>none</td>\n",
              "      <td>http://swapi.dev/api/planets/8/</td>\n",
              "      <td>34.722222</td>\n",
              "      <td>Obeso</td>\n",
              "    </tr>\n",
              "    <tr>\n",
              "      <th>Darth Vader</th>\n",
              "      <td>202.0</td>\n",
              "      <td>136.0</td>\n",
              "      <td>41.9</td>\n",
              "      <td>male</td>\n",
              "      <td>http://swapi.dev/api/planets/1/</td>\n",
              "      <td>33.330066</td>\n",
              "      <td>Obeso</td>\n",
              "    </tr>\n",
              "    <tr>\n",
              "      <th>Leia Organa</th>\n",
              "      <td>150.0</td>\n",
              "      <td>49.0</td>\n",
              "      <td>19.0</td>\n",
              "      <td>female</td>\n",
              "      <td>http://swapi.dev/api/planets/2/</td>\n",
              "      <td>21.777778</td>\n",
              "      <td>Normal</td>\n",
              "    </tr>\n",
              "  </tbody>\n",
              "</table>\n",
              "</div>\n",
              "      <button class=\"colab-df-convert\" onclick=\"convertToInteractive('df-c02c0cf3-ce3b-41b5-84ab-c5db6732aa8e')\"\n",
              "              title=\"Convert this dataframe to an interactive table.\"\n",
              "              style=\"display:none;\">\n",
              "        \n",
              "  <svg xmlns=\"http://www.w3.org/2000/svg\" height=\"24px\"viewBox=\"0 0 24 24\"\n",
              "       width=\"24px\">\n",
              "    <path d=\"M0 0h24v24H0V0z\" fill=\"none\"/>\n",
              "    <path d=\"M18.56 5.44l.94 2.06.94-2.06 2.06-.94-2.06-.94-.94-2.06-.94 2.06-2.06.94zm-11 1L8.5 8.5l.94-2.06 2.06-.94-2.06-.94L8.5 2.5l-.94 2.06-2.06.94zm10 10l.94 2.06.94-2.06 2.06-.94-2.06-.94-.94-2.06-.94 2.06-2.06.94z\"/><path d=\"M17.41 7.96l-1.37-1.37c-.4-.4-.92-.59-1.43-.59-.52 0-1.04.2-1.43.59L10.3 9.45l-7.72 7.72c-.78.78-.78 2.05 0 2.83L4 21.41c.39.39.9.59 1.41.59.51 0 1.02-.2 1.41-.59l7.78-7.78 2.81-2.81c.8-.78.8-2.07 0-2.86zM5.41 20L4 18.59l7.72-7.72 1.47 1.35L5.41 20z\"/>\n",
              "  </svg>\n",
              "      </button>\n",
              "      \n",
              "  <style>\n",
              "    .colab-df-container {\n",
              "      display:flex;\n",
              "      flex-wrap:wrap;\n",
              "      gap: 12px;\n",
              "    }\n",
              "\n",
              "    .colab-df-convert {\n",
              "      background-color: #E8F0FE;\n",
              "      border: none;\n",
              "      border-radius: 50%;\n",
              "      cursor: pointer;\n",
              "      display: none;\n",
              "      fill: #1967D2;\n",
              "      height: 32px;\n",
              "      padding: 0 0 0 0;\n",
              "      width: 32px;\n",
              "    }\n",
              "\n",
              "    .colab-df-convert:hover {\n",
              "      background-color: #E2EBFA;\n",
              "      box-shadow: 0px 1px 2px rgba(60, 64, 67, 0.3), 0px 1px 3px 1px rgba(60, 64, 67, 0.15);\n",
              "      fill: #174EA6;\n",
              "    }\n",
              "\n",
              "    [theme=dark] .colab-df-convert {\n",
              "      background-color: #3B4455;\n",
              "      fill: #D2E3FC;\n",
              "    }\n",
              "\n",
              "    [theme=dark] .colab-df-convert:hover {\n",
              "      background-color: #434B5C;\n",
              "      box-shadow: 0px 1px 3px 1px rgba(0, 0, 0, 0.15);\n",
              "      filter: drop-shadow(0px 1px 2px rgba(0, 0, 0, 0.3));\n",
              "      fill: #FFFFFF;\n",
              "    }\n",
              "  </style>\n",
              "\n",
              "      <script>\n",
              "        const buttonEl =\n",
              "          document.querySelector('#df-c02c0cf3-ce3b-41b5-84ab-c5db6732aa8e button.colab-df-convert');\n",
              "        buttonEl.style.display =\n",
              "          google.colab.kernel.accessAllowed ? 'block' : 'none';\n",
              "\n",
              "        async function convertToInteractive(key) {\n",
              "          const element = document.querySelector('#df-c02c0cf3-ce3b-41b5-84ab-c5db6732aa8e');\n",
              "          const dataTable =\n",
              "            await google.colab.kernel.invokeFunction('convertToInteractive',\n",
              "                                                     [key], {});\n",
              "          if (!dataTable) return;\n",
              "\n",
              "          const docLinkHtml = 'Like what you see? Visit the ' +\n",
              "            '<a target=\"_blank\" href=https://colab.research.google.com/notebooks/data_table.ipynb>data table notebook</a>'\n",
              "            + ' to learn more about interactive tables.';\n",
              "          element.innerHTML = '';\n",
              "          dataTable['output_type'] = 'display_data';\n",
              "          await google.colab.output.renderOutput(dataTable, element);\n",
              "          const docLink = document.createElement('div');\n",
              "          docLink.innerHTML = docLinkHtml;\n",
              "          element.appendChild(docLink);\n",
              "        }\n",
              "      </script>\n",
              "    </div>\n",
              "  </div>\n",
              "  "
            ]
          },
          "metadata": {},
          "execution_count": 21
        }
      ],
      "source": [
        "# Solución:\n",
        "personajes_df = people_df.copy()\n",
        "personajes_df[\"IMC\"]=people_df[\"mass\"]/(people_df[\"height\"]/100)**2\n",
        "\n",
        "personajes_df[\"peso_cat\"]=pd.cut(x=personajes_df[\"IMC\"],\n",
        "                                  bins=[0,18.5, 25, 30,np.infty],\n",
        "                                  labels=[\"Bajo peso\", \"Normal\", \"Sobrepeso\",\"Obeso\"])\n",
        "\n",
        "personajes_df.head()"
      ]
    },
    {
      "cell_type": "markdown",
      "metadata": {
        "id": "edo1k7Y-gjqn"
      },
      "source": [
        "## Ejercicio 2.3.\n",
        "\n",
        "Muestra las frecuencias de la nueva variable definida en 2.2."
      ]
    },
    {
      "cell_type": "code",
      "execution_count": 22,
      "metadata": {
        "colab": {
          "base_uri": "https://localhost:8080/",
          "height": 175
        },
        "id": "6OxcRrVpgjqo",
        "outputId": "723a9965-7690-4d43-f7a2-3aaedc571af9"
      },
      "outputs": [
        {
          "output_type": "execute_result",
          "data": {
            "text/plain": [
              "    peso_cat  size\n",
              "0  Bajo peso     4\n",
              "1     Normal    14\n",
              "2  Sobrepeso    11\n",
              "3      Obeso     7"
            ],
            "text/html": [
              "\n",
              "  <div id=\"df-ed44d391-4722-44e0-ade3-c0933ce9fbfa\">\n",
              "    <div class=\"colab-df-container\">\n",
              "      <div>\n",
              "<style scoped>\n",
              "    .dataframe tbody tr th:only-of-type {\n",
              "        vertical-align: middle;\n",
              "    }\n",
              "\n",
              "    .dataframe tbody tr th {\n",
              "        vertical-align: top;\n",
              "    }\n",
              "\n",
              "    .dataframe thead th {\n",
              "        text-align: right;\n",
              "    }\n",
              "</style>\n",
              "<table border=\"1\" class=\"dataframe\">\n",
              "  <thead>\n",
              "    <tr style=\"text-align: right;\">\n",
              "      <th></th>\n",
              "      <th>peso_cat</th>\n",
              "      <th>size</th>\n",
              "    </tr>\n",
              "  </thead>\n",
              "  <tbody>\n",
              "    <tr>\n",
              "      <th>0</th>\n",
              "      <td>Bajo peso</td>\n",
              "      <td>4</td>\n",
              "    </tr>\n",
              "    <tr>\n",
              "      <th>1</th>\n",
              "      <td>Normal</td>\n",
              "      <td>14</td>\n",
              "    </tr>\n",
              "    <tr>\n",
              "      <th>2</th>\n",
              "      <td>Sobrepeso</td>\n",
              "      <td>11</td>\n",
              "    </tr>\n",
              "    <tr>\n",
              "      <th>3</th>\n",
              "      <td>Obeso</td>\n",
              "      <td>7</td>\n",
              "    </tr>\n",
              "  </tbody>\n",
              "</table>\n",
              "</div>\n",
              "      <button class=\"colab-df-convert\" onclick=\"convertToInteractive('df-ed44d391-4722-44e0-ade3-c0933ce9fbfa')\"\n",
              "              title=\"Convert this dataframe to an interactive table.\"\n",
              "              style=\"display:none;\">\n",
              "        \n",
              "  <svg xmlns=\"http://www.w3.org/2000/svg\" height=\"24px\"viewBox=\"0 0 24 24\"\n",
              "       width=\"24px\">\n",
              "    <path d=\"M0 0h24v24H0V0z\" fill=\"none\"/>\n",
              "    <path d=\"M18.56 5.44l.94 2.06.94-2.06 2.06-.94-2.06-.94-.94-2.06-.94 2.06-2.06.94zm-11 1L8.5 8.5l.94-2.06 2.06-.94-2.06-.94L8.5 2.5l-.94 2.06-2.06.94zm10 10l.94 2.06.94-2.06 2.06-.94-2.06-.94-.94-2.06-.94 2.06-2.06.94z\"/><path d=\"M17.41 7.96l-1.37-1.37c-.4-.4-.92-.59-1.43-.59-.52 0-1.04.2-1.43.59L10.3 9.45l-7.72 7.72c-.78.78-.78 2.05 0 2.83L4 21.41c.39.39.9.59 1.41.59.51 0 1.02-.2 1.41-.59l7.78-7.78 2.81-2.81c.8-.78.8-2.07 0-2.86zM5.41 20L4 18.59l7.72-7.72 1.47 1.35L5.41 20z\"/>\n",
              "  </svg>\n",
              "      </button>\n",
              "      \n",
              "  <style>\n",
              "    .colab-df-container {\n",
              "      display:flex;\n",
              "      flex-wrap:wrap;\n",
              "      gap: 12px;\n",
              "    }\n",
              "\n",
              "    .colab-df-convert {\n",
              "      background-color: #E8F0FE;\n",
              "      border: none;\n",
              "      border-radius: 50%;\n",
              "      cursor: pointer;\n",
              "      display: none;\n",
              "      fill: #1967D2;\n",
              "      height: 32px;\n",
              "      padding: 0 0 0 0;\n",
              "      width: 32px;\n",
              "    }\n",
              "\n",
              "    .colab-df-convert:hover {\n",
              "      background-color: #E2EBFA;\n",
              "      box-shadow: 0px 1px 2px rgba(60, 64, 67, 0.3), 0px 1px 3px 1px rgba(60, 64, 67, 0.15);\n",
              "      fill: #174EA6;\n",
              "    }\n",
              "\n",
              "    [theme=dark] .colab-df-convert {\n",
              "      background-color: #3B4455;\n",
              "      fill: #D2E3FC;\n",
              "    }\n",
              "\n",
              "    [theme=dark] .colab-df-convert:hover {\n",
              "      background-color: #434B5C;\n",
              "      box-shadow: 0px 1px 3px 1px rgba(0, 0, 0, 0.15);\n",
              "      filter: drop-shadow(0px 1px 2px rgba(0, 0, 0, 0.3));\n",
              "      fill: #FFFFFF;\n",
              "    }\n",
              "  </style>\n",
              "\n",
              "      <script>\n",
              "        const buttonEl =\n",
              "          document.querySelector('#df-ed44d391-4722-44e0-ade3-c0933ce9fbfa button.colab-df-convert');\n",
              "        buttonEl.style.display =\n",
              "          google.colab.kernel.accessAllowed ? 'block' : 'none';\n",
              "\n",
              "        async function convertToInteractive(key) {\n",
              "          const element = document.querySelector('#df-ed44d391-4722-44e0-ade3-c0933ce9fbfa');\n",
              "          const dataTable =\n",
              "            await google.colab.kernel.invokeFunction('convertToInteractive',\n",
              "                                                     [key], {});\n",
              "          if (!dataTable) return;\n",
              "\n",
              "          const docLinkHtml = 'Like what you see? Visit the ' +\n",
              "            '<a target=\"_blank\" href=https://colab.research.google.com/notebooks/data_table.ipynb>data table notebook</a>'\n",
              "            + ' to learn more about interactive tables.';\n",
              "          element.innerHTML = '';\n",
              "          dataTable['output_type'] = 'display_data';\n",
              "          await google.colab.output.renderOutput(dataTable, element);\n",
              "          const docLink = document.createElement('div');\n",
              "          docLink.innerHTML = docLinkHtml;\n",
              "          element.appendChild(docLink);\n",
              "        }\n",
              "      </script>\n",
              "    </div>\n",
              "  </div>\n",
              "  "
            ]
          },
          "metadata": {},
          "execution_count": 22
        }
      ],
      "source": [
        "# Solución:\n",
        "df3=personajes_df.groupby(['peso_cat'],as_index=False).size()\n",
        "df3.head()"
      ]
    },
    {
      "cell_type": "markdown",
      "metadata": {
        "id": "1CKTldfbgjqv"
      },
      "source": [
        "## Ejercicio 2.4.\n",
        "\n",
        "Calcula ahora un trameado de la edad en 5 grupos equiprobables.\n",
        "\n",
        "Muestra los recuentos (frecuencias) de la nueva obtenida por pantalla.\n",
        "\n",
        "> Truco: Busca ayuda de la función [pd.qcut()](https://pandas.pydata.org/pandas-docs/stable/reference/api/pandas.qcut.html)"
      ]
    },
    {
      "cell_type": "code",
      "execution_count": 23,
      "metadata": {
        "colab": {
          "base_uri": "https://localhost:8080/",
          "height": 206
        },
        "id": "O_WpukQVgjqx",
        "outputId": "7b2d9d7f-36e2-4b09-f742-3d37c9232f00"
      },
      "outputs": [
        {
          "output_type": "execute_result",
          "data": {
            "text/plain": [
              "      rango_edad  size\n",
              "0  (7.999, 29.0]     8\n",
              "1   (29.0, 41.9]     8\n",
              "2   (41.9, 52.0]     6\n",
              "3   (52.0, 82.0]     7\n",
              "4  (82.0, 896.0]     7"
            ],
            "text/html": [
              "\n",
              "  <div id=\"df-69015e25-d272-4287-a23b-0f805031d19f\">\n",
              "    <div class=\"colab-df-container\">\n",
              "      <div>\n",
              "<style scoped>\n",
              "    .dataframe tbody tr th:only-of-type {\n",
              "        vertical-align: middle;\n",
              "    }\n",
              "\n",
              "    .dataframe tbody tr th {\n",
              "        vertical-align: top;\n",
              "    }\n",
              "\n",
              "    .dataframe thead th {\n",
              "        text-align: right;\n",
              "    }\n",
              "</style>\n",
              "<table border=\"1\" class=\"dataframe\">\n",
              "  <thead>\n",
              "    <tr style=\"text-align: right;\">\n",
              "      <th></th>\n",
              "      <th>rango_edad</th>\n",
              "      <th>size</th>\n",
              "    </tr>\n",
              "  </thead>\n",
              "  <tbody>\n",
              "    <tr>\n",
              "      <th>0</th>\n",
              "      <td>(7.999, 29.0]</td>\n",
              "      <td>8</td>\n",
              "    </tr>\n",
              "    <tr>\n",
              "      <th>1</th>\n",
              "      <td>(29.0, 41.9]</td>\n",
              "      <td>8</td>\n",
              "    </tr>\n",
              "    <tr>\n",
              "      <th>2</th>\n",
              "      <td>(41.9, 52.0]</td>\n",
              "      <td>6</td>\n",
              "    </tr>\n",
              "    <tr>\n",
              "      <th>3</th>\n",
              "      <td>(52.0, 82.0]</td>\n",
              "      <td>7</td>\n",
              "    </tr>\n",
              "    <tr>\n",
              "      <th>4</th>\n",
              "      <td>(82.0, 896.0]</td>\n",
              "      <td>7</td>\n",
              "    </tr>\n",
              "  </tbody>\n",
              "</table>\n",
              "</div>\n",
              "      <button class=\"colab-df-convert\" onclick=\"convertToInteractive('df-69015e25-d272-4287-a23b-0f805031d19f')\"\n",
              "              title=\"Convert this dataframe to an interactive table.\"\n",
              "              style=\"display:none;\">\n",
              "        \n",
              "  <svg xmlns=\"http://www.w3.org/2000/svg\" height=\"24px\"viewBox=\"0 0 24 24\"\n",
              "       width=\"24px\">\n",
              "    <path d=\"M0 0h24v24H0V0z\" fill=\"none\"/>\n",
              "    <path d=\"M18.56 5.44l.94 2.06.94-2.06 2.06-.94-2.06-.94-.94-2.06-.94 2.06-2.06.94zm-11 1L8.5 8.5l.94-2.06 2.06-.94-2.06-.94L8.5 2.5l-.94 2.06-2.06.94zm10 10l.94 2.06.94-2.06 2.06-.94-2.06-.94-.94-2.06-.94 2.06-2.06.94z\"/><path d=\"M17.41 7.96l-1.37-1.37c-.4-.4-.92-.59-1.43-.59-.52 0-1.04.2-1.43.59L10.3 9.45l-7.72 7.72c-.78.78-.78 2.05 0 2.83L4 21.41c.39.39.9.59 1.41.59.51 0 1.02-.2 1.41-.59l7.78-7.78 2.81-2.81c.8-.78.8-2.07 0-2.86zM5.41 20L4 18.59l7.72-7.72 1.47 1.35L5.41 20z\"/>\n",
              "  </svg>\n",
              "      </button>\n",
              "      \n",
              "  <style>\n",
              "    .colab-df-container {\n",
              "      display:flex;\n",
              "      flex-wrap:wrap;\n",
              "      gap: 12px;\n",
              "    }\n",
              "\n",
              "    .colab-df-convert {\n",
              "      background-color: #E8F0FE;\n",
              "      border: none;\n",
              "      border-radius: 50%;\n",
              "      cursor: pointer;\n",
              "      display: none;\n",
              "      fill: #1967D2;\n",
              "      height: 32px;\n",
              "      padding: 0 0 0 0;\n",
              "      width: 32px;\n",
              "    }\n",
              "\n",
              "    .colab-df-convert:hover {\n",
              "      background-color: #E2EBFA;\n",
              "      box-shadow: 0px 1px 2px rgba(60, 64, 67, 0.3), 0px 1px 3px 1px rgba(60, 64, 67, 0.15);\n",
              "      fill: #174EA6;\n",
              "    }\n",
              "\n",
              "    [theme=dark] .colab-df-convert {\n",
              "      background-color: #3B4455;\n",
              "      fill: #D2E3FC;\n",
              "    }\n",
              "\n",
              "    [theme=dark] .colab-df-convert:hover {\n",
              "      background-color: #434B5C;\n",
              "      box-shadow: 0px 1px 3px 1px rgba(0, 0, 0, 0.15);\n",
              "      filter: drop-shadow(0px 1px 2px rgba(0, 0, 0, 0.3));\n",
              "      fill: #FFFFFF;\n",
              "    }\n",
              "  </style>\n",
              "\n",
              "      <script>\n",
              "        const buttonEl =\n",
              "          document.querySelector('#df-69015e25-d272-4287-a23b-0f805031d19f button.colab-df-convert');\n",
              "        buttonEl.style.display =\n",
              "          google.colab.kernel.accessAllowed ? 'block' : 'none';\n",
              "\n",
              "        async function convertToInteractive(key) {\n",
              "          const element = document.querySelector('#df-69015e25-d272-4287-a23b-0f805031d19f');\n",
              "          const dataTable =\n",
              "            await google.colab.kernel.invokeFunction('convertToInteractive',\n",
              "                                                     [key], {});\n",
              "          if (!dataTable) return;\n",
              "\n",
              "          const docLinkHtml = 'Like what you see? Visit the ' +\n",
              "            '<a target=\"_blank\" href=https://colab.research.google.com/notebooks/data_table.ipynb>data table notebook</a>'\n",
              "            + ' to learn more about interactive tables.';\n",
              "          element.innerHTML = '';\n",
              "          dataTable['output_type'] = 'display_data';\n",
              "          await google.colab.output.renderOutput(dataTable, element);\n",
              "          const docLink = document.createElement('div');\n",
              "          docLink.innerHTML = docLinkHtml;\n",
              "          element.appendChild(docLink);\n",
              "        }\n",
              "      </script>\n",
              "    </div>\n",
              "  </div>\n",
              "  "
            ]
          },
          "metadata": {},
          "execution_count": 23
        }
      ],
      "source": [
        "# Solución:\n",
        "personajes_df[\"rango_edad\"] = pd.qcut(\n",
        "    personajes_df[\"birth_year\"],5)\n",
        "\n",
        "# FORMA 1\n",
        "df4_1=personajes_df[\"rango_edad\"].value_counts().sort_index()\n",
        "\n",
        "# FORMA 2\n",
        "df4_2=personajes_df.groupby(['rango_edad'],as_index=False).size()\n",
        "\n",
        "df4_2.head()"
      ]
    },
    {
      "cell_type": "markdown",
      "metadata": {
        "id": "ounCvVAGgjq6"
      },
      "source": [
        "## Ejercicio 2.5.\n",
        "\n",
        "Presenta la tabla cruzada de tramos de edad (ej. 2.4) por tramos de IMC (ej. 2.2). \n",
        "\n",
        "¿Qué tramo de edad tiene un mayor número de personajes con Bajo peso?"
      ]
    },
    {
      "cell_type": "code",
      "execution_count": 24,
      "metadata": {
        "colab": {
          "base_uri": "https://localhost:8080/",
          "height": 313
        },
        "id": "umepvEN9gjq8",
        "outputId": "5afee288-0a23-4e58-dd61-206f7baf8421"
      },
      "outputs": [
        {
          "output_type": "stream",
          "name": "stdout",
          "text": [
            "rango_edad  (7.999, 29.0]  (29.0, 41.9]  (41.9, 52.0]  (52.0, 82.0]  \\\n",
            "peso_cat                                                              \n",
            "Bajo peso               0             1             3             0   \n",
            "Normal                  3             2             1             4   \n",
            "Sobrepeso               4             3             1             2   \n",
            "Obeso                   1             2             1             1   \n",
            "All                     8             8             6             7   \n",
            "\n",
            "rango_edad  (82.0, 896.0]  All  \n",
            "peso_cat                        \n",
            "Bajo peso               0    4  \n",
            "Normal                  4   14  \n",
            "Sobrepeso               1   11  \n",
            "Obeso                   2    7  \n",
            "All                     7   36  \n"
          ]
        },
        {
          "output_type": "execute_result",
          "data": {
            "text/plain": [
              "' \\nLos personajes que tienen entre 41.9 y 52 \\nson los que tienen mayor cantidad de personas\\ncon bajo peso\\n'"
            ],
            "application/vnd.google.colaboratory.intrinsic+json": {
              "type": "string"
            }
          },
          "metadata": {},
          "execution_count": 24
        }
      ],
      "source": [
        "# Solución:\n",
        "df5=pd.crosstab(personajes_df.peso_cat,\n",
        "                   personajes_df.rango_edad, \n",
        "                   margins=True)\n",
        "print(df5)\n",
        "\n",
        "\"\"\" \n",
        "Los personajes que tienen entre 41.9 y 52 \n",
        "son los que tienen mayor cantidad de personas\n",
        "con bajo peso\n",
        "\"\"\""
      ]
    },
    {
      "cell_type": "markdown",
      "metadata": {
        "id": "l2716nMZgjrE"
      },
      "source": [
        "## Ejercicio 2.6.\n",
        "\n",
        "Calcula una tabla resumen (data frame) donde se presente la media del IMC en cada tramo de edad calculado en ejercicio 2.4.\n",
        "\n",
        "Presenta por pantalla la nueva tabla resumen.\n"
      ]
    },
    {
      "cell_type": "code",
      "execution_count": 25,
      "metadata": {
        "colab": {
          "base_uri": "https://localhost:8080/",
          "height": 206
        },
        "id": "6fMs6ud7gjrG",
        "outputId": "caf8bb31-c126-4e96-81be-4dc5245e1f93"
      },
      "outputs": [
        {
          "output_type": "execute_result",
          "data": {
            "text/plain": [
              "      rango_edad        IMC  birth_year\n",
              "0  (7.999, 29.0]  25.960538        20.0\n",
              "1   (29.0, 41.9]  26.242997        38.5\n",
              "2   (41.9, 52.0]  22.972490        47.5\n",
              "3   (52.0, 82.0]  24.774935        58.0\n",
              "4  (82.0, 896.0]  85.311313       112.0"
            ],
            "text/html": [
              "\n",
              "  <div id=\"df-ba1a4693-4fb1-412f-a6ec-770c889cf426\">\n",
              "    <div class=\"colab-df-container\">\n",
              "      <div>\n",
              "<style scoped>\n",
              "    .dataframe tbody tr th:only-of-type {\n",
              "        vertical-align: middle;\n",
              "    }\n",
              "\n",
              "    .dataframe tbody tr th {\n",
              "        vertical-align: top;\n",
              "    }\n",
              "\n",
              "    .dataframe thead th {\n",
              "        text-align: right;\n",
              "    }\n",
              "</style>\n",
              "<table border=\"1\" class=\"dataframe\">\n",
              "  <thead>\n",
              "    <tr style=\"text-align: right;\">\n",
              "      <th></th>\n",
              "      <th>rango_edad</th>\n",
              "      <th>IMC</th>\n",
              "      <th>birth_year</th>\n",
              "    </tr>\n",
              "  </thead>\n",
              "  <tbody>\n",
              "    <tr>\n",
              "      <th>0</th>\n",
              "      <td>(7.999, 29.0]</td>\n",
              "      <td>25.960538</td>\n",
              "      <td>20.0</td>\n",
              "    </tr>\n",
              "    <tr>\n",
              "      <th>1</th>\n",
              "      <td>(29.0, 41.9]</td>\n",
              "      <td>26.242997</td>\n",
              "      <td>38.5</td>\n",
              "    </tr>\n",
              "    <tr>\n",
              "      <th>2</th>\n",
              "      <td>(41.9, 52.0]</td>\n",
              "      <td>22.972490</td>\n",
              "      <td>47.5</td>\n",
              "    </tr>\n",
              "    <tr>\n",
              "      <th>3</th>\n",
              "      <td>(52.0, 82.0]</td>\n",
              "      <td>24.774935</td>\n",
              "      <td>58.0</td>\n",
              "    </tr>\n",
              "    <tr>\n",
              "      <th>4</th>\n",
              "      <td>(82.0, 896.0]</td>\n",
              "      <td>85.311313</td>\n",
              "      <td>112.0</td>\n",
              "    </tr>\n",
              "  </tbody>\n",
              "</table>\n",
              "</div>\n",
              "      <button class=\"colab-df-convert\" onclick=\"convertToInteractive('df-ba1a4693-4fb1-412f-a6ec-770c889cf426')\"\n",
              "              title=\"Convert this dataframe to an interactive table.\"\n",
              "              style=\"display:none;\">\n",
              "        \n",
              "  <svg xmlns=\"http://www.w3.org/2000/svg\" height=\"24px\"viewBox=\"0 0 24 24\"\n",
              "       width=\"24px\">\n",
              "    <path d=\"M0 0h24v24H0V0z\" fill=\"none\"/>\n",
              "    <path d=\"M18.56 5.44l.94 2.06.94-2.06 2.06-.94-2.06-.94-.94-2.06-.94 2.06-2.06.94zm-11 1L8.5 8.5l.94-2.06 2.06-.94-2.06-.94L8.5 2.5l-.94 2.06-2.06.94zm10 10l.94 2.06.94-2.06 2.06-.94-2.06-.94-.94-2.06-.94 2.06-2.06.94z\"/><path d=\"M17.41 7.96l-1.37-1.37c-.4-.4-.92-.59-1.43-.59-.52 0-1.04.2-1.43.59L10.3 9.45l-7.72 7.72c-.78.78-.78 2.05 0 2.83L4 21.41c.39.39.9.59 1.41.59.51 0 1.02-.2 1.41-.59l7.78-7.78 2.81-2.81c.8-.78.8-2.07 0-2.86zM5.41 20L4 18.59l7.72-7.72 1.47 1.35L5.41 20z\"/>\n",
              "  </svg>\n",
              "      </button>\n",
              "      \n",
              "  <style>\n",
              "    .colab-df-container {\n",
              "      display:flex;\n",
              "      flex-wrap:wrap;\n",
              "      gap: 12px;\n",
              "    }\n",
              "\n",
              "    .colab-df-convert {\n",
              "      background-color: #E8F0FE;\n",
              "      border: none;\n",
              "      border-radius: 50%;\n",
              "      cursor: pointer;\n",
              "      display: none;\n",
              "      fill: #1967D2;\n",
              "      height: 32px;\n",
              "      padding: 0 0 0 0;\n",
              "      width: 32px;\n",
              "    }\n",
              "\n",
              "    .colab-df-convert:hover {\n",
              "      background-color: #E2EBFA;\n",
              "      box-shadow: 0px 1px 2px rgba(60, 64, 67, 0.3), 0px 1px 3px 1px rgba(60, 64, 67, 0.15);\n",
              "      fill: #174EA6;\n",
              "    }\n",
              "\n",
              "    [theme=dark] .colab-df-convert {\n",
              "      background-color: #3B4455;\n",
              "      fill: #D2E3FC;\n",
              "    }\n",
              "\n",
              "    [theme=dark] .colab-df-convert:hover {\n",
              "      background-color: #434B5C;\n",
              "      box-shadow: 0px 1px 3px 1px rgba(0, 0, 0, 0.15);\n",
              "      filter: drop-shadow(0px 1px 2px rgba(0, 0, 0, 0.3));\n",
              "      fill: #FFFFFF;\n",
              "    }\n",
              "  </style>\n",
              "\n",
              "      <script>\n",
              "        const buttonEl =\n",
              "          document.querySelector('#df-ba1a4693-4fb1-412f-a6ec-770c889cf426 button.colab-df-convert');\n",
              "        buttonEl.style.display =\n",
              "          google.colab.kernel.accessAllowed ? 'block' : 'none';\n",
              "\n",
              "        async function convertToInteractive(key) {\n",
              "          const element = document.querySelector('#df-ba1a4693-4fb1-412f-a6ec-770c889cf426');\n",
              "          const dataTable =\n",
              "            await google.colab.kernel.invokeFunction('convertToInteractive',\n",
              "                                                     [key], {});\n",
              "          if (!dataTable) return;\n",
              "\n",
              "          const docLinkHtml = 'Like what you see? Visit the ' +\n",
              "            '<a target=\"_blank\" href=https://colab.research.google.com/notebooks/data_table.ipynb>data table notebook</a>'\n",
              "            + ' to learn more about interactive tables.';\n",
              "          element.innerHTML = '';\n",
              "          dataTable['output_type'] = 'display_data';\n",
              "          await google.colab.output.renderOutput(dataTable, element);\n",
              "          const docLink = document.createElement('div');\n",
              "          docLink.innerHTML = docLinkHtml;\n",
              "          element.appendChild(docLink);\n",
              "        }\n",
              "      </script>\n",
              "    </div>\n",
              "  </div>\n",
              "  "
            ]
          },
          "metadata": {},
          "execution_count": 25
        }
      ],
      "source": [
        "# Solución:\n",
        "df6=personajes_df.groupby(\n",
        "    'rango_edad', as_index=False).agg(\n",
        "        {\"IMC\": \"mean\",\"birth_year\":\"median\"})\n",
        "    \n",
        "df6.head()"
      ]
    },
    {
      "cell_type": "markdown",
      "metadata": {
        "id": "pcJwb6B5gjrO"
      },
      "source": [
        "## Ejercicio 2.7.\n",
        "\n",
        "Presenta los datos del ej. 2.6. como un gráfico de líneas donde el eje x sea la edad y el eje y el IMC medio.\n",
        "\n",
        "> Truco: Como eje x del gráfico de líneas, puedes calcular en 2.6., en el mismo cálculo del IMC medio, la mediana de edad de cada tramo de edad."
      ]
    },
    {
      "cell_type": "code",
      "execution_count": 26,
      "metadata": {
        "colab": {
          "base_uri": "https://localhost:8080/",
          "height": 285
        },
        "id": "U8dJ4dr5gjrQ",
        "outputId": "21db0b7d-7b88-4945-89e4-e072ca47d1e0"
      },
      "outputs": [
        {
          "output_type": "display_data",
          "data": {
            "text/plain": [
              "<Figure size 432x288 with 1 Axes>"
            ],
            "image/png": "[encoded data removed]"
          },
          "metadata": {}
        }
      ],
      "source": [
        "# Solución:\n",
        "palette = sns.color_palette(\"mako_r\", 6)\n",
        "\n",
        "fig=sns.lineplot(data=df6,\n",
        "             x='birth_year',\n",
        "             y='IMC')\n",
        "\n",
        "fig.set(xlabel=\"Mediana - Edad\",ylabel=\"Promedio - IMC\")\n",
        "fig.lines[0].set_linestyle(\"--\")\n",
        "plt.show()\n"
      ]
    },
    {
      "cell_type": "markdown",
      "metadata": {
        "id": "qmjm1lwigjrY"
      },
      "source": [
        "## Ejercicio 2.8.\n",
        "\n",
        "Calcula el ratio del IMC sobre la mediana del IMC de su tramo de edad (definidos en el ejercicio 2.2.) mediante la función groupby(...).apply(...).\n",
        "\n",
        "> truco: primero crea una función que devuelva:  `x / np.nanmedian(x)`.\n",
        "\n",
        "Presenta los datos mediante un boxplot de la nueva variable: [pd.boxplot()](https://pandas.pydata.org/pandas-docs/stable/reference/api/pandas.DataFrame.boxplot.html). "
      ]
    },
    {
      "cell_type": "code",
      "execution_count": 27,
      "metadata": {
        "colab": {
          "base_uri": "https://localhost:8080/",
          "height": 361
        },
        "id": "XH3ijt6Dgjra",
        "outputId": "65e5dd0b-dd28-414d-c791-a022f9cc9d59"
      },
      "outputs": [
        {
          "output_type": "stream",
          "name": "stderr",
          "text": [
            "/usr/local/lib/python3.8/dist-packages/matplotlib/cbook/__init__.py:1376: VisibleDeprecationWarning: Creating an ndarray from ragged nested sequences (which is a list-or-tuple of lists-or-tuples-or ndarrays with different lengths or shapes) is deprecated. If you meant to do this, you must specify 'dtype=object' when creating the ndarray.\n",
            "  X = np.atleast_1d(X.T if isinstance(X, np.ndarray) else np.asarray(X))\n"
          ]
        },
        {
          "output_type": "display_data",
          "data": {
            "text/plain": [
              "<Figure size 432x288 with 1 Axes>"
            ],
            "image/png": "[encoded data removed]"
          },
          "metadata": {}
        }
      ],
      "source": [
        "# Solución:\n",
        "df_8 = personajes_df.groupby(\"rango_edad\")\\\n",
        ".apply(lambda x:x[\"IMC\"]/np.nanmedian(x[\"IMC\"])).to_frame('ratio')\n",
        "\n",
        "df_8.boxplot(column= \"ratio\", by= \"rango_edad\")\n",
        "plt.show()"
      ]
    },
    {
      "cell_type": "markdown",
      "metadata": {
        "id": "mkK-wUxCgjrg"
      },
      "source": [
        "## Ejercicio 2.9.\n",
        "\n",
        "¿Cual es planeta con un menor índice IMC medio de sus personajes?\n",
        "¿Que personaje/s son de ese planeta?"
      ]
    },
    {
      "cell_type": "code",
      "execution_count": 28,
      "metadata": {
        "colab": {
          "base_uri": "https://localhost:8080/"
        },
        "id": "WsgelSYigjrh",
        "outputId": "1fe6b8e0-99b3-4d59-a0cb-aeb96308c8b6"
      },
      "outputs": [
        {
          "output_type": "stream",
          "name": "stdout",
          "text": [
            "        name_y         IMC  name_x\n",
            "14      Ryloth   17.358919       1\n",
            "2        Cerea   20.916233       1\n",
            "9     Kashyyyk   21.545091       1\n",
            "0     Alderaan   21.777778       1\n",
            "5        Dorin   22.634676       1\n",
            "11       Naboo   22.750601       4\n",
            "8       Kamino   23.350951       1\n",
            "7   Haruun Kal   23.766410       1\n",
            "13       Rodia   24.725183       1\n",
            "15     Socorro   25.216253       1\n",
            "10    Mon Cala   25.617284       1\n",
            "3     Corellia   25.667478       2\n",
            "1       Bespin   25.795918       1\n",
            "6        Endor   25.826446       1\n",
            "4     Dathomir   26.122449       1\n",
            "16    Tatooine   28.645923       7\n",
            "17   Trandosha   31.301939       1\n",
            "18     unknown   32.639963       3\n",
            "12   Nal Hutta  443.428571       1\n"
          ]
        }
      ],
      "source": [
        "# Solución:\n",
        "people_df1=people_df.reset_index(drop=False)\n",
        "planets_df1=planets_df.reset_index(drop=False)\n",
        "\n",
        "df_9=pd.merge(people_df1[['name','height','mass','homeworld']],\n",
        "              planets_df1[['name','url']],\n",
        "              how='left',\n",
        "              left_on=['homeworld'],\n",
        "              right_on=['url'])\n",
        "\n",
        "df_9['IMC']=people_df1['mass']/(people_df1['height']/100)**2\n",
        "\n",
        "df_9_1=df_9.groupby(\n",
        "    'name_y', as_index=False).agg(\n",
        "        {\"IMC\": \"mean\",\"name_x\":\"count\"}).sort_values(['IMC'],ascending=True)\n",
        "        \n",
        "print(df_9_1)\n",
        "\n"
      ]
    },
    {
      "cell_type": "code",
      "execution_count": 29,
      "metadata": {
        "colab": {
          "base_uri": "https://localhost:8080/"
        },
        "id": "ovX4gTNoPFc4",
        "outputId": "b92a5110-fb5b-439b-ccf2-bb4b4278245d"
      },
      "outputs": [
        {
          "output_type": "stream",
          "name": "stdout",
          "text": [
            "         name_x  height  mass                         homeworld  name_y  \\\n",
            "28  Ayla Secura   178.0  55.0  http://swapi.dev/api/planets/37/  Ryloth   \n",
            "\n",
            "                                 url        IMC  \n",
            "28  http://swapi.dev/api/planets/37/  17.358919  \n"
          ]
        }
      ],
      "source": [
        "print(df_9[(df_9.name_y==\"Ryloth\")])"
      ]
    },
    {
      "cell_type": "markdown",
      "metadata": {
        "id": "evQ5zvH0OW2w"
      },
      "source": [
        "El planeta con menor indice es Ryloth con una media de IMC de 17.36 y el personaje es Ayla Secura"
      ]
    },
    {
      "cell_type": "markdown",
      "metadata": {
        "id": "7tWxDDGmgjrn"
      },
      "source": [
        "## Ejercicio 2.10.\n",
        "\n",
        "Convierte a datetime los siguientes strings con la función [datetime.strptime()](https://docs.python.org/3/library/datetime.html#strftime-strptime-behavior) (consulta la ayuda si es necesario) de la libreria datetime:\n",
        "\n",
        "- \"1 january, 2020\"\n",
        "- \"15-feb.-2017\"\n",
        "- \"20190701 22:30\"  # 1 de julio de 2019\n",
        "\n"
      ]
    },
    {
      "cell_type": "code",
      "execution_count": 30,
      "metadata": {
        "colab": {
          "base_uri": "https://localhost:8080/"
        },
        "id": "ajD2V-K3gjrp",
        "outputId": "2898b71b-0f7e-4080-ea9d-9997d1fa35e0"
      },
      "outputs": [
        {
          "output_type": "stream",
          "name": "stdout",
          "text": [
            "1: 2020-01-01 00:00:00\n",
            "2: 2017-02-15 00:00:00\n",
            "3: 2019-07-01 22:30:00\n"
          ]
        }
      ],
      "source": [
        "# Solución:\n",
        "date1 = datetime.datetime.strptime(\"1 january, 2020\",\"%d %B, %Y\")\n",
        "print(\"1:\",date1)\n",
        "\n",
        "date2 = datetime.datetime.strptime(\"15-feb.-2017\",\"%d-%b.-%Y\")\n",
        "print(\"2:\",date2)\n",
        "\n",
        "date3 = datetime.datetime.strptime(\"20190701 22:30\", \"%Y%m%d %H:%M\")\n",
        "print(\"3:\",date3)"
      ]
    }
  ],
  "metadata": {
    "colab": {
      "provenance": []
    },
    "gpuClass": "standard",
    "kernelspec": {
      "display_name": "mbdds_rpy20",
      "language": "python",
      "name": "mbdds_rpy20"
    },
    "language_info": {
      "codemirror_mode": {
        "name": "ipython",
        "version": 3
      },
      "file_extension": ".py",
      "mimetype": "text/x-python",
      "name": "python",
      "nbconvert_exporter": "python",
      "pygments_lexer": "ipython3",
      "version": "3.6.9"
    }
  },
  "nbformat": 4,
  "nbformat_minor": 0
}