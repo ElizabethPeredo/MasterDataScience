{
  "cells": [
    {
      "cell_type": "markdown",
      "metadata": {
        "id": "tW3jK_BDgjno"
      },
      "source": [
        "# **Herramientas de Análisis**\n",
        "\n",
        "---\n",
        "---\n",
        "\n",
        "<!-- script html for image -->\n",
        "\n",
        "<center>\n",
        "\n",
        "\n",
        "<img src=\"https://upload.wikimedia.org/wikipedia/commons/thumb/a/ac/Sw-ep1-logo.svg/1280px-Sw-ep1-logo.svg.png\"  width=\"500\" height=\"150\"/>\n",
        "\n",
        "\n",
        "<br>\n",
        "\n",
        "Fuente de la imagen: [https://es.wikipedia.org](https://es.wikipedia.org/wiki/Star_Wars:_Episodio_I_-_La_amenaza_fantasma)\n",
        "\n",
        "</center>\n",
        "\n",
        "<br>"
      ]
    },
    {
      "cell_type": "markdown",
      "source": [
        "# NOMBRE: Elizabeth Evelin Peredo Mescco"
      ],
      "metadata": {
        "id": "H6DcTWjuz95s"
      }
    },
    {
      "cell_type": "markdown",
      "metadata": {
        "id": "CLuiMPEMSvF6"
      },
      "source": [
        "# **Índice**\n",
        "\n",
        "---\n",
        "---\n",
        "\n",
        "> [Herramientas de Análisis](#scrollTo=tW3jK_BDgjno&line=20&uniqifier=1)\n",
        "<br>\n",
        ">>\n",
        ">> [Preparación del Entorno](#scrollTo=5zZfGqOugjnr&line=3&uniqifier=1) \\\\\n",
        ">>   \\\\\n",
        ">> [Ejercicio 1](#scrollTo=1J4h6kTngjn5&line=1&uniqifier=1) \\\\\n",
        ">>"
      ]
    },
    {
      "cell_type": "markdown",
      "metadata": {
        "id": "5zZfGqOugjnr"
      },
      "source": [
        "# Preparación del entorno\n",
        "\n",
        "Padawan! Cuando inicies sesión en Colab, prepara el entorno ejecutando el siguiente código."
      ]
    },
    {
      "cell_type": "code",
      "execution_count": null,
      "metadata": {
        "id": "JiKiPQdQgjnu"
      },
      "outputs": [],
      "source": [
        "if 'google.colab' in str(get_ipython()):\n",
        "    !git clone https://github.com/griu/mbdds_fc20.git /content/mbdds_fc20\n",
        "    !git -C /content/mbdds_fc20 pull\n",
        "    %cd /content/mbdds_fc20/Python\n",
        "    !python -m pip install -r requirementsColab.txt"
      ]
    },
    {
      "cell_type": "markdown",
      "metadata": {
        "id": "1J4h6kTngjn5"
      },
      "source": [
        "# Ejercicio 1\n",
        "\n",
        "Para realizar el ejercicio cargamos los datos de *Especies* en STARWARS SWAPI y las librerías principales."
      ]
    },
    {
      "cell_type": "code",
      "execution_count": 71,
      "metadata": {
        "id": "2V3mrVHSgjn7"
      },
      "outputs": [],
      "source": [
        "import numpy as np\n",
        "import pandas as pd\n",
        "import matplotlib.pyplot as plt\n",
        "import seaborn as sns; sns.set()  # para el estilo de graficos"
      ]
    },
    {
      "cell_type": "code",
      "execution_count": 72,
      "metadata": {
        "colab": {
          "base_uri": "https://localhost:8080/",
          "height": 1209
        },
        "id": "K9V4DO9A7nuM",
        "outputId": "84d3509e-b577-4ccc-f629-9d10aa17be42"
      },
      "outputs": [
        {
          "output_type": "execute_result",
          "data": {
            "text/plain": [
              "                       height    mass  birth_year         gender  \\\n",
              "name                                                               \n",
              "Luke Skywalker          172.0    77.0        19.0           male   \n",
              "C-3PO                   167.0    75.0       112.0           none   \n",
              "R2-D2                    96.0    32.0        33.0           none   \n",
              "Darth Vader             202.0   136.0        41.9           male   \n",
              "Leia Organa             150.0    49.0        19.0         female   \n",
              "Owen Lars               178.0   120.0        52.0           male   \n",
              "Beru Whitesun lars      165.0    75.0        47.0         female   \n",
              "Biggs Darklighter       183.0    84.0        24.0           male   \n",
              "Obi-Wan Kenobi          182.0    77.0        57.0           male   \n",
              "Anakin Skywalker        188.0    84.0        41.9           male   \n",
              "Chewbacca               228.0   112.0       200.0           male   \n",
              "Han Solo                180.0    80.0        29.0           male   \n",
              "Greedo                  173.0    74.0        44.0           male   \n",
              "Jabba Desilijic Tiure   175.0  1358.0       600.0  hermaphrodite   \n",
              "Wedge Antilles          170.0    77.0        21.0           male   \n",
              "Yoda                     66.0    17.0       896.0           male   \n",
              "Palpatine               170.0    75.0        82.0           male   \n",
              "Boba Fett               183.0    78.2        31.5           male   \n",
              "IG-88                   200.0   140.0        15.0           none   \n",
              "Bossk                   190.0   113.0        53.0           male   \n",
              "Lando Calrissian        177.0    79.0        31.0           male   \n",
              "Lobot                   175.0    79.0        37.0           male   \n",
              "Ackbar                  180.0    83.0        41.0           male   \n",
              "Wicket Systri Warrick    88.0    20.0         8.0           male   \n",
              "Qui-Gon Jinn            193.0    89.0        92.0           male   \n",
              "Padmé Amidala           185.0    45.0        46.0         female   \n",
              "Jar Jar Binks           196.0    66.0        52.0           male   \n",
              "Darth Maul              175.0    80.0        54.0           male   \n",
              "Ayla Secura             178.0    55.0        48.0         female   \n",
              "Mace Windu              188.0    84.0        72.0           male   \n",
              "Ki-Adi-Mundi            198.0    82.0        92.0           male   \n",
              "Plo Koon                188.0    80.0        22.0           male   \n",
              "Luminara Unduli         170.0    56.2        58.0         female   \n",
              "Barriss Offee           166.0    50.0        40.0         female   \n",
              "Dooku                   193.0    80.0       102.0           male   \n",
              "Jango Fett              183.0    79.0        66.0           male   \n",
              "\n",
              "                                              homeworld  \n",
              "name                                                     \n",
              "Luke Skywalker          http://swapi.dev/api/planets/1/  \n",
              "C-3PO                   http://swapi.dev/api/planets/1/  \n",
              "R2-D2                   http://swapi.dev/api/planets/8/  \n",
              "Darth Vader             http://swapi.dev/api/planets/1/  \n",
              "Leia Organa             http://swapi.dev/api/planets/2/  \n",
              "Owen Lars               http://swapi.dev/api/planets/1/  \n",
              "Beru Whitesun lars      http://swapi.dev/api/planets/1/  \n",
              "Biggs Darklighter       http://swapi.dev/api/planets/1/  \n",
              "Obi-Wan Kenobi         http://swapi.dev/api/planets/20/  \n",
              "Anakin Skywalker        http://swapi.dev/api/planets/1/  \n",
              "Chewbacca              http://swapi.dev/api/planets/14/  \n",
              "Han Solo               http://swapi.dev/api/planets/22/  \n",
              "Greedo                 http://swapi.dev/api/planets/23/  \n",
              "Jabba Desilijic Tiure  http://swapi.dev/api/planets/24/  \n",
              "Wedge Antilles         http://swapi.dev/api/planets/22/  \n",
              "Yoda                   http://swapi.dev/api/planets/28/  \n",
              "Palpatine               http://swapi.dev/api/planets/8/  \n",
              "Boba Fett              http://swapi.dev/api/planets/10/  \n",
              "IG-88                  http://swapi.dev/api/planets/28/  \n",
              "Bossk                  http://swapi.dev/api/planets/29/  \n",
              "Lando Calrissian       http://swapi.dev/api/planets/30/  \n",
              "Lobot                   http://swapi.dev/api/planets/6/  \n",
              "Ackbar                 http://swapi.dev/api/planets/31/  \n",
              "Wicket Systri Warrick   http://swapi.dev/api/planets/7/  \n",
              "Qui-Gon Jinn           http://swapi.dev/api/planets/28/  \n",
              "Padmé Amidala           http://swapi.dev/api/planets/8/  \n",
              "Jar Jar Binks           http://swapi.dev/api/planets/8/  \n",
              "Darth Maul             http://swapi.dev/api/planets/36/  \n",
              "Ayla Secura            http://swapi.dev/api/planets/37/  \n",
              "Mace Windu             http://swapi.dev/api/planets/42/  \n",
              "Ki-Adi-Mundi           http://swapi.dev/api/planets/43/  \n",
              "Plo Koon               http://swapi.dev/api/planets/49/  \n",
              "Luminara Unduli        http://swapi.dev/api/planets/51/  \n",
              "Barriss Offee          http://swapi.dev/api/planets/51/  \n",
              "Dooku                  http://swapi.dev/api/planets/52/  \n",
              "Jango Fett             http://swapi.dev/api/planets/53/  "
            ],
            "text/html": [
              "\n",
              "  <div id=\"df-09880380-075f-4a1f-b614-70efc80f0bd1\">\n",
              "    <div class=\"colab-df-container\">\n",
              "      <div>\n",
              "<style scoped>\n",
              "    .dataframe tbody tr th:only-of-type {\n",
              "        vertical-align: middle;\n",
              "    }\n",
              "\n",
              "    .dataframe tbody tr th {\n",
              "        vertical-align: top;\n",
              "    }\n",
              "\n",
              "    .dataframe thead th {\n",
              "        text-align: right;\n",
              "    }\n",
              "</style>\n",
              "<table border=\"1\" class=\"dataframe\">\n",
              "  <thead>\n",
              "    <tr style=\"text-align: right;\">\n",
              "      <th></th>\n",
              "      <th>height</th>\n",
              "      <th>mass</th>\n",
              "      <th>birth_year</th>\n",
              "      <th>gender</th>\n",
              "      <th>homeworld</th>\n",
              "    </tr>\n",
              "    <tr>\n",
              "      <th>name</th>\n",
              "      <th></th>\n",
              "      <th></th>\n",
              "      <th></th>\n",
              "      <th></th>\n",
              "      <th></th>\n",
              "    </tr>\n",
              "  </thead>\n",
              "  <tbody>\n",
              "    <tr>\n",
              "      <th>Luke Skywalker</th>\n",
              "      <td>172.0</td>\n",
              "      <td>77.0</td>\n",
              "      <td>19.0</td>\n",
              "      <td>male</td>\n",
              "      <td>http://swapi.dev/api/planets/1/</td>\n",
              "    </tr>\n",
              "    <tr>\n",
              "      <th>C-3PO</th>\n",
              "      <td>167.0</td>\n",
              "      <td>75.0</td>\n",
              "      <td>112.0</td>\n",
              "      <td>none</td>\n",
              "      <td>http://swapi.dev/api/planets/1/</td>\n",
              "    </tr>\n",
              "    <tr>\n",
              "      <th>R2-D2</th>\n",
              "      <td>96.0</td>\n",
              "      <td>32.0</td>\n",
              "      <td>33.0</td>\n",
              "      <td>none</td>\n",
              "      <td>http://swapi.dev/api/planets/8/</td>\n",
              "    </tr>\n",
              "    <tr>\n",
              "      <th>Darth Vader</th>\n",
              "      <td>202.0</td>\n",
              "      <td>136.0</td>\n",
              "      <td>41.9</td>\n",
              "      <td>male</td>\n",
              "      <td>http://swapi.dev/api/planets/1/</td>\n",
              "    </tr>\n",
              "    <tr>\n",
              "      <th>Leia Organa</th>\n",
              "      <td>150.0</td>\n",
              "      <td>49.0</td>\n",
              "      <td>19.0</td>\n",
              "      <td>female</td>\n",
              "      <td>http://swapi.dev/api/planets/2/</td>\n",
              "    </tr>\n",
              "    <tr>\n",
              "      <th>Owen Lars</th>\n",
              "      <td>178.0</td>\n",
              "      <td>120.0</td>\n",
              "      <td>52.0</td>\n",
              "      <td>male</td>\n",
              "      <td>http://swapi.dev/api/planets/1/</td>\n",
              "    </tr>\n",
              "    <tr>\n",
              "      <th>Beru Whitesun lars</th>\n",
              "      <td>165.0</td>\n",
              "      <td>75.0</td>\n",
              "      <td>47.0</td>\n",
              "      <td>female</td>\n",
              "      <td>http://swapi.dev/api/planets/1/</td>\n",
              "    </tr>\n",
              "    <tr>\n",
              "      <th>Biggs Darklighter</th>\n",
              "      <td>183.0</td>\n",
              "      <td>84.0</td>\n",
              "      <td>24.0</td>\n",
              "      <td>male</td>\n",
              "      <td>http://swapi.dev/api/planets/1/</td>\n",
              "    </tr>\n",
              "    <tr>\n",
              "      <th>Obi-Wan Kenobi</th>\n",
              "      <td>182.0</td>\n",
              "      <td>77.0</td>\n",
              "      <td>57.0</td>\n",
              "      <td>male</td>\n",
              "      <td>http://swapi.dev/api/planets/20/</td>\n",
              "    </tr>\n",
              "    <tr>\n",
              "      <th>Anakin Skywalker</th>\n",
              "      <td>188.0</td>\n",
              "      <td>84.0</td>\n",
              "      <td>41.9</td>\n",
              "      <td>male</td>\n",
              "      <td>http://swapi.dev/api/planets/1/</td>\n",
              "    </tr>\n",
              "    <tr>\n",
              "      <th>Chewbacca</th>\n",
              "      <td>228.0</td>\n",
              "      <td>112.0</td>\n",
              "      <td>200.0</td>\n",
              "      <td>male</td>\n",
              "      <td>http://swapi.dev/api/planets/14/</td>\n",
              "    </tr>\n",
              "    <tr>\n",
              "      <th>Han Solo</th>\n",
              "      <td>180.0</td>\n",
              "      <td>80.0</td>\n",
              "      <td>29.0</td>\n",
              "      <td>male</td>\n",
              "      <td>http://swapi.dev/api/planets/22/</td>\n",
              "    </tr>\n",
              "    <tr>\n",
              "      <th>Greedo</th>\n",
              "      <td>173.0</td>\n",
              "      <td>74.0</td>\n",
              "      <td>44.0</td>\n",
              "      <td>male</td>\n",
              "      <td>http://swapi.dev/api/planets/23/</td>\n",
              "    </tr>\n",
              "    <tr>\n",
              "      <th>Jabba Desilijic Tiure</th>\n",
              "      <td>175.0</td>\n",
              "      <td>1358.0</td>\n",
              "      <td>600.0</td>\n",
              "      <td>hermaphrodite</td>\n",
              "      <td>http://swapi.dev/api/planets/24/</td>\n",
              "    </tr>\n",
              "    <tr>\n",
              "      <th>Wedge Antilles</th>\n",
              "      <td>170.0</td>\n",
              "      <td>77.0</td>\n",
              "      <td>21.0</td>\n",
              "      <td>male</td>\n",
              "      <td>http://swapi.dev/api/planets/22/</td>\n",
              "    </tr>\n",
              "    <tr>\n",
              "      <th>Yoda</th>\n",
              "      <td>66.0</td>\n",
              "      <td>17.0</td>\n",
              "      <td>896.0</td>\n",
              "      <td>male</td>\n",
              "      <td>http://swapi.dev/api/planets/28/</td>\n",
              "    </tr>\n",
              "    <tr>\n",
              "      <th>Palpatine</th>\n",
              "      <td>170.0</td>\n",
              "      <td>75.0</td>\n",
              "      <td>82.0</td>\n",
              "      <td>male</td>\n",
              "      <td>http://swapi.dev/api/planets/8/</td>\n",
              "    </tr>\n",
              "    <tr>\n",
              "      <th>Boba Fett</th>\n",
              "      <td>183.0</td>\n",
              "      <td>78.2</td>\n",
              "      <td>31.5</td>\n",
              "      <td>male</td>\n",
              "      <td>http://swapi.dev/api/planets/10/</td>\n",
              "    </tr>\n",
              "    <tr>\n",
              "      <th>IG-88</th>\n",
              "      <td>200.0</td>\n",
              "      <td>140.0</td>\n",
              "      <td>15.0</td>\n",
              "      <td>none</td>\n",
              "      <td>http://swapi.dev/api/planets/28/</td>\n",
              "    </tr>\n",
              "    <tr>\n",
              "      <th>Bossk</th>\n",
              "      <td>190.0</td>\n",
              "      <td>113.0</td>\n",
              "      <td>53.0</td>\n",
              "      <td>male</td>\n",
              "      <td>http://swapi.dev/api/planets/29/</td>\n",
              "    </tr>\n",
              "    <tr>\n",
              "      <th>Lando Calrissian</th>\n",
              "      <td>177.0</td>\n",
              "      <td>79.0</td>\n",
              "      <td>31.0</td>\n",
              "      <td>male</td>\n",
              "      <td>http://swapi.dev/api/planets/30/</td>\n",
              "    </tr>\n",
              "    <tr>\n",
              "      <th>Lobot</th>\n",
              "      <td>175.0</td>\n",
              "      <td>79.0</td>\n",
              "      <td>37.0</td>\n",
              "      <td>male</td>\n",
              "      <td>http://swapi.dev/api/planets/6/</td>\n",
              "    </tr>\n",
              "    <tr>\n",
              "      <th>Ackbar</th>\n",
              "      <td>180.0</td>\n",
              "      <td>83.0</td>\n",
              "      <td>41.0</td>\n",
              "      <td>male</td>\n",
              "      <td>http://swapi.dev/api/planets/31/</td>\n",
              "    </tr>\n",
              "    <tr>\n",
              "      <th>Wicket Systri Warrick</th>\n",
              "      <td>88.0</td>\n",
              "      <td>20.0</td>\n",
              "      <td>8.0</td>\n",
              "      <td>male</td>\n",
              "      <td>http://swapi.dev/api/planets/7/</td>\n",
              "    </tr>\n",
              "    <tr>\n",
              "      <th>Qui-Gon Jinn</th>\n",
              "      <td>193.0</td>\n",
              "      <td>89.0</td>\n",
              "      <td>92.0</td>\n",
              "      <td>male</td>\n",
              "      <td>http://swapi.dev/api/planets/28/</td>\n",
              "    </tr>\n",
              "    <tr>\n",
              "      <th>Padmé Amidala</th>\n",
              "      <td>185.0</td>\n",
              "      <td>45.0</td>\n",
              "      <td>46.0</td>\n",
              "      <td>female</td>\n",
              "      <td>http://swapi.dev/api/planets/8/</td>\n",
              "    </tr>\n",
              "    <tr>\n",
              "      <th>Jar Jar Binks</th>\n",
              "      <td>196.0</td>\n",
              "      <td>66.0</td>\n",
              "      <td>52.0</td>\n",
              "      <td>male</td>\n",
              "      <td>http://swapi.dev/api/planets/8/</td>\n",
              "    </tr>\n",
              "    <tr>\n",
              "      <th>Darth Maul</th>\n",
              "      <td>175.0</td>\n",
              "      <td>80.0</td>\n",
              "      <td>54.0</td>\n",
              "      <td>male</td>\n",
              "      <td>http://swapi.dev/api/planets/36/</td>\n",
              "    </tr>\n",
              "    <tr>\n",
              "      <th>Ayla Secura</th>\n",
              "      <td>178.0</td>\n",
              "      <td>55.0</td>\n",
              "      <td>48.0</td>\n",
              "      <td>female</td>\n",
              "      <td>http://swapi.dev/api/planets/37/</td>\n",
              "    </tr>\n",
              "    <tr>\n",
              "      <th>Mace Windu</th>\n",
              "      <td>188.0</td>\n",
              "      <td>84.0</td>\n",
              "      <td>72.0</td>\n",
              "      <td>male</td>\n",
              "      <td>http://swapi.dev/api/planets/42/</td>\n",
              "    </tr>\n",
              "    <tr>\n",
              "      <th>Ki-Adi-Mundi</th>\n",
              "      <td>198.0</td>\n",
              "      <td>82.0</td>\n",
              "      <td>92.0</td>\n",
              "      <td>male</td>\n",
              "      <td>http://swapi.dev/api/planets/43/</td>\n",
              "    </tr>\n",
              "    <tr>\n",
              "      <th>Plo Koon</th>\n",
              "      <td>188.0</td>\n",
              "      <td>80.0</td>\n",
              "      <td>22.0</td>\n",
              "      <td>male</td>\n",
              "      <td>http://swapi.dev/api/planets/49/</td>\n",
              "    </tr>\n",
              "    <tr>\n",
              "      <th>Luminara Unduli</th>\n",
              "      <td>170.0</td>\n",
              "      <td>56.2</td>\n",
              "      <td>58.0</td>\n",
              "      <td>female</td>\n",
              "      <td>http://swapi.dev/api/planets/51/</td>\n",
              "    </tr>\n",
              "    <tr>\n",
              "      <th>Barriss Offee</th>\n",
              "      <td>166.0</td>\n",
              "      <td>50.0</td>\n",
              "      <td>40.0</td>\n",
              "      <td>female</td>\n",
              "      <td>http://swapi.dev/api/planets/51/</td>\n",
              "    </tr>\n",
              "    <tr>\n",
              "      <th>Dooku</th>\n",
              "      <td>193.0</td>\n",
              "      <td>80.0</td>\n",
              "      <td>102.0</td>\n",
              "      <td>male</td>\n",
              "      <td>http://swapi.dev/api/planets/52/</td>\n",
              "    </tr>\n",
              "    <tr>\n",
              "      <th>Jango Fett</th>\n",
              "      <td>183.0</td>\n",
              "      <td>79.0</td>\n",
              "      <td>66.0</td>\n",
              "      <td>male</td>\n",
              "      <td>http://swapi.dev/api/planets/53/</td>\n",
              "    </tr>\n",
              "  </tbody>\n",
              "</table>\n",
              "</div>\n",
              "      <button class=\"colab-df-convert\" onclick=\"convertToInteractive('df-09880380-075f-4a1f-b614-70efc80f0bd1')\"\n",
              "              title=\"Convert this dataframe to an interactive table.\"\n",
              "              style=\"display:none;\">\n",
              "        \n",
              "  <svg xmlns=\"http://www.w3.org/2000/svg\" height=\"24px\"viewBox=\"0 0 24 24\"\n",
              "       width=\"24px\">\n",
              "    <path d=\"M0 0h24v24H0V0z\" fill=\"none\"/>\n",
              "    <path d=\"M18.56 5.44l.94 2.06.94-2.06 2.06-.94-2.06-.94-.94-2.06-.94 2.06-2.06.94zm-11 1L8.5 8.5l.94-2.06 2.06-.94-2.06-.94L8.5 2.5l-.94 2.06-2.06.94zm10 10l.94 2.06.94-2.06 2.06-.94-2.06-.94-.94-2.06-.94 2.06-2.06.94z\"/><path d=\"M17.41 7.96l-1.37-1.37c-.4-.4-.92-.59-1.43-.59-.52 0-1.04.2-1.43.59L10.3 9.45l-7.72 7.72c-.78.78-.78 2.05 0 2.83L4 21.41c.39.39.9.59 1.41.59.51 0 1.02-.2 1.41-.59l7.78-7.78 2.81-2.81c.8-.78.8-2.07 0-2.86zM5.41 20L4 18.59l7.72-7.72 1.47 1.35L5.41 20z\"/>\n",
              "  </svg>\n",
              "      </button>\n",
              "      \n",
              "  <style>\n",
              "    .colab-df-container {\n",
              "      display:flex;\n",
              "      flex-wrap:wrap;\n",
              "      gap: 12px;\n",
              "    }\n",
              "\n",
              "    .colab-df-convert {\n",
              "      background-color: #E8F0FE;\n",
              "      border: none;\n",
              "      border-radius: 50%;\n",
              "      cursor: pointer;\n",
              "      display: none;\n",
              "      fill: #1967D2;\n",
              "      height: 32px;\n",
              "      padding: 0 0 0 0;\n",
              "      width: 32px;\n",
              "    }\n",
              "\n",
              "    .colab-df-convert:hover {\n",
              "      background-color: #E2EBFA;\n",
              "      box-shadow: 0px 1px 2px rgba(60, 64, 67, 0.3), 0px 1px 3px 1px rgba(60, 64, 67, 0.15);\n",
              "      fill: #174EA6;\n",
              "    }\n",
              "\n",
              "    [theme=dark] .colab-df-convert {\n",
              "      background-color: #3B4455;\n",
              "      fill: #D2E3FC;\n",
              "    }\n",
              "\n",
              "    [theme=dark] .colab-df-convert:hover {\n",
              "      background-color: #434B5C;\n",
              "      box-shadow: 0px 1px 3px 1px rgba(0, 0, 0, 0.15);\n",
              "      filter: drop-shadow(0px 1px 2px rgba(0, 0, 0, 0.3));\n",
              "      fill: #FFFFFF;\n",
              "    }\n",
              "  </style>\n",
              "\n",
              "      <script>\n",
              "        const buttonEl =\n",
              "          document.querySelector('#df-09880380-075f-4a1f-b614-70efc80f0bd1 button.colab-df-convert');\n",
              "        buttonEl.style.display =\n",
              "          google.colab.kernel.accessAllowed ? 'block' : 'none';\n",
              "\n",
              "        async function convertToInteractive(key) {\n",
              "          const element = document.querySelector('#df-09880380-075f-4a1f-b614-70efc80f0bd1');\n",
              "          const dataTable =\n",
              "            await google.colab.kernel.invokeFunction('convertToInteractive',\n",
              "                                                     [key], {});\n",
              "          if (!dataTable) return;\n",
              "\n",
              "          const docLinkHtml = 'Like what you see? Visit the ' +\n",
              "            '<a target=\"_blank\" href=https://colab.research.google.com/notebooks/data_table.ipynb>data table notebook</a>'\n",
              "            + ' to learn more about interactive tables.';\n",
              "          element.innerHTML = '';\n",
              "          dataTable['output_type'] = 'display_data';\n",
              "          await google.colab.output.renderOutput(dataTable, element);\n",
              "          const docLink = document.createElement('div');\n",
              "          docLink.innerHTML = docLinkHtml;\n",
              "          element.appendChild(docLink);\n",
              "        }\n",
              "      </script>\n",
              "    </div>\n",
              "  </div>\n",
              "  "
            ]
          },
          "metadata": {},
          "execution_count": 72
        }
      ],
      "source": [
        "entidades = ['planets','starships','vehicles','people','species']\n",
        "entidades_df = {x: pd.read_pickle('www/' + x + '_df.pkl') for x in entidades}\n",
        "\n",
        "# Datos principales\n",
        "people_df = entidades_df['people'][[\"height\",\"mass\",\"birth_year\",\"gender\",\"homeworld\"]].dropna()\n",
        "\n",
        "people_df"
      ]
    },
    {
      "cell_type": "markdown",
      "metadata": {
        "id": "8y6PLIR-gjoF"
      },
      "source": [
        "## Ejercicio 1.1. \n",
        "\n",
        "Construye un gráfico de dispersión de los personajes donde se visualice: la altura (height), el peso (mass), la edad en años BBY (birth_year) y el género (gender). Para ello utiliza la función `sns.scatterplot()` de la librería seaborn. Aprovecha todos los parámetros: `x`, `y`, `size`, `hue` y `style` (consulta la ayuda de la función [.scatterplot()](https://seaborn.pydata.org/generated/seaborn.scatterplot.html)."
      ]
    },
    {
      "cell_type": "code",
      "execution_count": 73,
      "metadata": {
        "colab": {
          "base_uri": "https://localhost:8080/",
          "height": 285
        },
        "id": "fURT1ovigjoH",
        "outputId": "77796684-f51a-42cd-8e59-309c32bef196"
      },
      "outputs": [
        {
          "output_type": "display_data",
          "data": {
            "text/plain": [
              "<Figure size 432x288 with 1 Axes>"
            ],
            "image/png": "[encoded data removed]"
          },
          "metadata": {}
        }
      ],
      "source": [
        "# Solución:\n",
        "grafico1=sns.scatterplot(\n",
        "    data=people_df, \n",
        "    x=\"mass\", \n",
        "    y=\"height\", \n",
        "    hue=\"birth_year\", \n",
        "    style=\"gender\",\n",
        "    palette='cool')\n",
        "grafico1.legend(loc='center left', bbox_to_anchor=(1, 0.5))\n",
        "plt.show()"
      ]
    },
    {
      "cell_type": "markdown",
      "metadata": {
        "id": "1MofC8dugjoQ"
      },
      "source": [
        "## Ejercicio 1.2.\n",
        "\n",
        "Sobre el gráfico del ejercicio 1.1:\n",
        "\n",
        "- Pon título al gráfico y a los ejes x e y. \n",
        "- Modifica los límites del eje y para que aparezcan sólo personajes de menos de 150 Kg de peso.\n",
        "- Sitúa en el gráfico los nombres de \"Darth Vader\" y \"Anakin Skywalker\". ¿Cómo es posible tengan un peso y altura tan distintos si eran la misma persona?"
      ]
    },
    {
      "cell_type": "code",
      "execution_count": 74,
      "metadata": {
        "colab": {
          "base_uri": "https://localhost:8080/",
          "height": 301
        },
        "id": "iHmGn9OrgjoS",
        "outputId": "753caa3e-6f31-4525-f577-108113a5a6c9"
      },
      "outputs": [
        {
          "output_type": "display_data",
          "data": {
            "text/plain": [
              "<Figure size 432x288 with 1 Axes>"
            ],
            "image/png": "[encoded data removed]"
          },
          "metadata": {}
        }
      ],
      "source": [
        "# Solución:\n",
        "grafico1=sns.scatterplot(\n",
        "    data=people_df, \n",
        "    x=\"mass\", \n",
        "    y=\"height\", \n",
        "    hue=\"birth_year\", \n",
        "    style=\"gender\",\n",
        "    palette='cool')\n",
        "grafico1.legend(loc='center left', bbox_to_anchor=(1, 0.5))\n",
        "\n",
        "# Titulo al g´raficos y a los ejes x e y\n",
        "grafico1.set_title(\"Altura y masa\")\n",
        "grafico1.set(xlabel='Masa', ylabel='Altura')\n",
        "\n",
        "# Limite del eje x = masa\n",
        "grafico1.set_xlim([0,150])\n",
        "\n",
        "people_df1=people_df.reset_index(drop=False)\n",
        "\n",
        "for i in range(0,people_df1.shape[0]):\n",
        "  if people_df1.name[i]==\"Darth Vader\" or people_df1.name[i]==\"Anakin Skywalker\":\n",
        "    # Forma 1: text\n",
        "     \"\"\"plt.text(people_df1.mass[i], \n",
        "              people_df1.height[i], \n",
        "              people_df1.name[i], \n",
        "              horizontalalignment='left', \n",
        "              size='medium')\"\"\"\n",
        "\n",
        "     # Forma 2: annotate\n",
        "     plt.annotate(people_df1.name[i],\n",
        "                  xy=(people_df1.mass[i],people_df1.height[i]),\n",
        "                  xytext =(people_df1.mass[i],people_df1.height[i]+20),\n",
        "                  arrowprops = dict(facecolor ='blue',\n",
        "                                  shrink = 0.05),)\n",
        "                  \n",
        "plt.show()"
      ]
    },
    {
      "cell_type": "markdown",
      "metadata": {
        "id": "D2pjJXbcgjoa"
      },
      "source": [
        "## Ejercicio 1.3.\n",
        "\n",
        "Utiliza las *list comprehension* para calcular el cuadrado de los valores positivos de la siguiente lista:\n",
        "\n",
        "Muestra el resultado por pantalla."
      ]
    },
    {
      "cell_type": "code",
      "execution_count": 75,
      "metadata": {
        "id": "WJjNiT3Qgjoc"
      },
      "outputs": [],
      "source": [
        "val = [5, 6, -1, 2, -3, -7, 9, 1]"
      ]
    },
    {
      "cell_type": "code",
      "execution_count": 76,
      "metadata": {
        "colab": {
          "base_uri": "https://localhost:8080/",
          "height": 0
        },
        "id": "9Hf_uH8ugjol",
        "outputId": "86ec610d-06a8-44d0-89a5-7fc161b28ae4"
      },
      "outputs": [
        {
          "output_type": "stream",
          "name": "stdout",
          "text": [
            "[25, 36, 4, 81, 1]\n"
          ]
        }
      ],
      "source": [
        "# Solución:\n",
        "new_val = [x*x for x in val if x>0]\n",
        "print(new_val)\n"
      ]
    },
    {
      "cell_type": "markdown",
      "metadata": {
        "id": "AE6CcvVggjou"
      },
      "source": [
        "## Ejercicio 1.4.\n",
        "\n",
        "Construye un diccionario donde se identifique, mediante claves y valores, las siguientes características del personaje Yoda: \"nombre\", \"altura\", \"peso\", \"edad\" y \"genero\". Utiliza los datos de people_df.\n",
        "\n",
        "Muestra el diccionario por pantalla."
      ]
    },
    {
      "cell_type": "code",
      "execution_count": 77,
      "metadata": {
        "colab": {
          "base_uri": "https://localhost:8080/",
          "height": 0
        },
        "id": "eaq6M61-gjo4",
        "outputId": "79723874-d008-495f-e9a4-d2f62b1e17f9"
      },
      "outputs": [
        {
          "output_type": "stream",
          "name": "stdout",
          "text": [
            "{'Yoda': {'height': 66.0, 'mass': 17.0, 'birth_year': 896.0, 'gender': 'male'}}\n"
          ]
        }
      ],
      "source": [
        "# Solución:\n",
        "#datos4=people_df[[\"name\",\"height\",\"mass\",\"birth_year\",\"gender\"]]\n",
        "\n",
        "diccionario=(people_df.iloc[:,0:4]).to_dict('index')\n",
        "\n",
        "yoda = { key:value \n",
        "           for (key,value) in diccionario.items() if key == \"Yoda\"}\n",
        "\n",
        "print(yoda)\n"
      ]
    },
    {
      "cell_type": "markdown",
      "metadata": {
        "id": "Z2bkPuuEgjpA"
      },
      "source": [
        "## Ejercicio 1.5.\n",
        "\n",
        "Calcula, a partir de los vectores numpy de altura y peso, definidos a continuación, el [índice de masa corporal (IMC)](https://es.wikipedia.org/wiki/%C3%8Dndice_de_masa_corporal) de los personajes de star wars contenidos en people_df: \n",
        "\n",
        "$IMC = \\frac{peso}{altura^{2}}$ donde altura está en metros y el peso en kg.\n",
        "\n",
        "Muestra los datos por pantalla."
      ]
    },
    {
      "cell_type": "code",
      "execution_count": 78,
      "metadata": {
        "colab": {
          "base_uri": "https://localhost:8080/",
          "height": 0
        },
        "id": "j6vDGHHngjpK",
        "outputId": "316e8a03-ff70-4856-d1f3-17c7a8cad693"
      },
      "outputs": [
        {
          "output_type": "stream",
          "name": "stdout",
          "text": [
            "[ 26.02758248  26.89232314  34.72222222  33.33006568  21.77777778\n",
            "  37.87400581  27.54820937  25.08286303  23.24598478  23.76641014\n",
            "  21.5450908   24.69135802  24.72518293 443.42857143  26.64359862\n",
            "  39.02662994  25.95155709  23.35095106  35.          31.30193906\n",
            "  25.21625331  25.79591837  25.61728395  25.82644628  23.89325888\n",
            "  13.14828342  17.18034152  26.12244898  17.35891933  23.76641014\n",
            "  20.91623304  22.63467632  19.44636678  18.14486863  21.47708663\n",
            "  23.58983547]\n"
          ]
        }
      ],
      "source": [
        "# Solución:\n",
        "IMC = np.array(people_df[\"mass\"]) / (np.array(people_df[\"height\"])/100)**2\n",
        "print(IMC)"
      ]
    },
    {
      "cell_type": "markdown",
      "metadata": {
        "id": "165OA48hgjpR"
      },
      "source": [
        "## Ejercicio 1.6.\n",
        "\n",
        "A partir del IMC que has calculado en el ejercicio 1.5. Construye un panel con dos histogramas:\n",
        "\n",
        "- Un histograma con toda la muestra\n",
        "- Un histograma seleccionando los valores con un IMC inferior a 100."
      ]
    },
    {
      "cell_type": "code",
      "execution_count": 79,
      "metadata": {
        "colab": {
          "base_uri": "https://localhost:8080/",
          "height": 297
        },
        "id": "tRACj-JDgjpT",
        "outputId": "9257e478-c7a4-4fc4-d845-f633bfa17484"
      },
      "outputs": [
        {
          "output_type": "display_data",
          "data": {
            "text/plain": [
              "<Figure size 432x288 with 2 Axes>"
            ],
            "image/png": "[encoded data removed]"
          },
          "metadata": {}
        }
      ],
      "source": [
        "# Solución:\n",
        "fig, (ax1, ax2) = plt.subplots(2)\n",
        "fig.suptitle('Histograma IMC')\n",
        "ax1.hist(x=IMC, color='#483D8B')\n",
        "ax1.legend(([\"IMC\"]), loc='best',prop={'size': 9})\n",
        "ax2.hist(IMC[IMC<100], color='#ADFF2F')\n",
        "ax2.legend(([\"IMC<100\"]), loc='best',prop={'size': 9})\n",
        "\n",
        "plt.show()"
      ]
    },
    {
      "cell_type": "markdown",
      "metadata": {
        "id": "zsqrzaingjpb"
      },
      "source": [
        "## Ejercicio 1.7.\n",
        "\n",
        "A partir del vector 1 y 2 que se definen a continuación contesta las siguientes preguntas:\n",
        "\n",
        "- Calcula el shape, ndim, size del vector1 y vector2\n",
        "- Explica cual es la diferencia entre vector1 y vector2 a partir de los que hayas observado"
      ]
    },
    {
      "cell_type": "code",
      "execution_count": 80,
      "metadata": {
        "id": "DYLofIqugjpc"
      },
      "outputs": [],
      "source": [
        "#vector1 = np.hstack([altura,peso])\n",
        "#vector2 = np.vstack([altura,peso])"
      ]
    },
    {
      "cell_type": "code",
      "execution_count": 81,
      "metadata": {
        "colab": {
          "base_uri": "https://localhost:8080/",
          "height": 70
        },
        "id": "1WBV3vUxgjpm",
        "outputId": "9aeb7d0f-81e8-4bbc-ad3e-792ea00508c6"
      },
      "outputs": [
        {
          "output_type": "stream",
          "name": "stdout",
          "text": [
            "HSTACK -> SHAPE:  (72,) NDIM:  1 SIZE:  72\n",
            "VSTACK -> SHAPE:  (2, 36) NDIM:  2 SIZE:  72\n"
          ]
        },
        {
          "output_type": "execute_result",
          "data": {
            "text/plain": [
              "\" \\nLa diferencia entre hstack y vstack es \\nque la primera muestra la unión en forma\\nhorizontal (hstack) por eso el shape es '72',\\npor otro lado vstack muestra la unión de\\nforma vertical '2,36'\\n\""
            ],
            "application/vnd.google.colaboratory.intrinsic+json": {
              "type": "string"
            }
          },
          "metadata": {},
          "execution_count": 81
        }
      ],
      "source": [
        "# Solución:\n",
        "peso = np.array(people_df[\"mass\"]) \n",
        "altura = np.array(people_df[\"height\"])\n",
        "vector1 = np.hstack([altura,peso])\n",
        "vector2 = np.vstack([altura,peso])\n",
        "\n",
        "print(\"HSTACK -> SHAPE: \",str(vector1.shape),\n",
        "      \"NDIM: \",str(vector1.ndim),\n",
        "      \"SIZE: \",str(vector1.size))\n",
        "\n",
        "print(\"VSTACK -> SHAPE: \",str(vector2.shape),\n",
        "      \"NDIM: \",str(vector2.ndim),\n",
        "      \"SIZE: \",str(vector2.size))\n",
        "\n",
        "\"\"\" \n",
        "La diferencia entre hstack y vstack es \n",
        "que la primera muestra la unión en forma\n",
        "horizontal (hstack) por eso el shape es '72',\n",
        "por otro lado vstack muestra la unión de\n",
        "forma vertical '2,36'\n",
        "\"\"\""
      ]
    },
    {
      "cell_type": "markdown",
      "metadata": {
        "id": "W6I8zQOljd2j"
      },
      "source": [
        "![hSM5G.png](data:image/png;base64,iVBORw0KGgoAAAANSUhEUgAAA4UAAAIjCAYAAAC04r7nAAAgAElEQVR4Aey9CbgUZZqgW909d7pv36npaef23MeZO13PdE+Pbd9bXVNdfbv6Vt3q7mplUVFEBUERFBUFBMEFFbBEcQGVzX3j7BsHDusBz2GRRVbZFARBQVlEwB1FROGc7z5fHCPJk3/kEktmRkS+PE+SeTIi//jj/TO/L9/8l/iR8A8CEIAABCAAAQhAAAIQgAAESpbAj0r2zDlxCEAAAhCAAAQgAAEIQAACEBCkkDcBBCAAAQhAAAIQgAAEIACBEiaAFJZw43PqEIAABCAAAQhAAAIQgAAEkELeAxCAAAQgAAEIQAACEIAABEqYAFJYwo3PqUMAAhCAAAQgAAEIQAACEEAKeQ9AAAIQgAAEIAABCOSdwMcffyxjx46VdevWZT1We3u7bNmyRUaNGiWffPJJ1v2jtENjY6NMmTJFTpw4kbXaJ0+etJgtXbpU2trasu7PDhDwSgAp9EqO10EAAhCAAAQgAAEIZCWggrds2TL52c9+Jj/60Y9k8uTJos+l+6ci9OSTT8qPf/xjOffcc2Xjxo3pdo3c86dOnZIRI0ZYHLp27Srbtm3LeA7vv/++/PKXv7T2v+uuu+Szzz7LuD8bIeCVAFLolRyvgwAEIAABCECgZAm0r6mTtiF/bt3a502KL4cTX0jbw906zvWuvxU5tNPVuar81dfXyznnnGOJzXnnnScNDQ1y5swZx3K09+z222+39lWB7NGjh+zYscNx3yg+qVL40ksvdeKxatWqtKdy9OhRGTx4cIJH7969RZ/jHwSCJoAUBk2U8iAAAQhAAAIQiD2BTlK4pi6+55sshaP/TuTj/a7OdeXKlfKTn/zEkppLLrlE9u9P//rTp0/LxIkTEwI0fvx40V7DOP7TobG//vWvrXPVnsBdu3alPU3lUlFRkRDJoUOH5jT0NG2BbICAAwGk0AEKT0EAAhCAAAQgAIFMBAomhbvXSNuD/yptd/5U2qvuylSl/GzzIYUffvih/Pa3v7XEp2fPnll7uFpbW60ho9pDqHKoMhTnfyqC9tDQAQMGyPHjx9Oerva41tbWJvhob2OmIbhpC2IDBNIQQArTgOFpCEAAAhCAAAQgkI5AoaSwUMdJd57iUQpVWKZNm2YJofYUbtq0Ke0hdMPnn38uOjRShVDv9e9S+Ddv3jxL9HT+pD7O9E+Hnt55550WI+1l/OCDDzLtzjYIuCKAFLrCxc4QgAAEIAABCEBApFCy1r6y8uzcxWIMU80khbpYzEnn3q2PPvpILrzwQktg7r///rRzCO33ki5Eo2KkN31cKv90DuX1119vcdL7bCuSvv3223L++edb+7/yyiulgonzLAABpLAAkDkEBCAAAQhAAAL+COjcsltuucX6Mqz3epkCXdZfe6F0ERNdnOTgwYOJg6xZs8baV3ueVq9eLQsWLJDf/OY31nMXXHCBNDU1+Rqe2EkKX6+V9pUV0jbml9I29CfSNuJ/SHvtvSLffp2oj/Xg+1PS3vrc2f10oZqRfy1tzwwQeX/r2X1PHpe2Ry5KyKC9oE2n+4e7ifbiJf59+3VH2eN+LW3D/qLjtcP/Stoe7ymyL00vnf0au95a93t+Ie2zxot8/WlH0emksL1d2lueOXusZ2/odL7K35Y8fZzpn/YqTpgwwWqb7t27Z78ExdefWnVsu/fvO3jbHJ+7QeTIe5kOlZdteqWI1946Lj0f3CN/1neL/GnvzfKzYdvl4frDcuyL7ENga2pqrHPX1Vl3796dsY6pn4O4zrnMCIGNeSGAFOYFK4VCAAIQgAAEIBAkgeQvwzq8sH///gnpU/HTW69evUSvhaf/kqVQ91VBsfez7/3MW0uWwrbf/dNZOflhRVIVOGsOoH3phe9PSdvzg9KL3rC/kPZF0zqQJYtYUnlppfDrT8+uEOq0v5a9sqJzcxzdK20P/HP6+oz9lcjh3ZZ4JlYftReaUSGcN6lDCFUkX7hJ5PtTncqvrKy0eP/qV7/KuLiMvuibb76Rm266ydpfr0v43XffdSqr0x8fviNt9/1D+nqP+huRt1/r9JJ8/nH8mzMy5JkPLBFUGUy9/XTIdtnxQebFcjZv3mxdekPfl0uWLMlaXf0xRPf9l3/5Fzl8+HDW/dkBArkQQApzocQ+EIAABCAAAQgUlUCyFOoX4n79+sm7775rDbebOnVqQvjmz59v1TNZCrU3sbq62hJG7YnR12oZucx1S3fSnaRw6E86egaPHxPZ+4ZYPVgqZ/f8QuTovo4i9qyVtpHnW/JoyeLnH4mcOiGya5W0jf8XayEZ2ftDj56KpG7/eL8llpYMau/jhqaO1T91BVDdbgunSEdP5R3/t7QvmipydG/Ha5fPkLZRf9MhUPf/fyJfHOmoi0rnY5d0PK9S9/wgkf1vWa9rXzy9o562XCULqkrh0X3SPntChwSnEUI9yEMPPWQx7tatm3z66Q+9jmlg6nbdT9tEX5fxnwrprPEdPZorKzt4HN0r7XMfO9tr+eQVHWwzFuR/4+kz7TK28lBCBK+fvE92HfzW6h1s3fKl/PrOnfKfr90qLZu/zHgwfU/a13DUXsNs/9z0LGYri+0QsAkghTYJ7iEAAQhAAAIQCC2BZCnUFRv1ot72P73MgfZIJUtFshSOHj2601DR5HlZjz76qF2Mq/tOUqhDJ0+f7Slre3lIh3Ddfp4lfVbByVJYPbrTUEtL1nY5X6uuvWGcWZZTTVUQv//W2NJeeUfH64f/d5Ftr1rb21+vTfRsdurN/OHV7etnic5ltP4lS+GdP5W2Z69PCGF72Qijh/CHIvInhXqAttPmcU+fkrbJV3Wcq4frKdr1dnOvPYB/OehNSwqHPvuBfH+6vdPLdx44KbUrPk12907b7T+QQpsE98UkgBQWkz7HhgAEIOCRgM5T0fkq5w9+y/pCor9G95rwrjWvRee38A8CcSOQLIU6p1D/tv859TQlS2Fq70vycMXUsuwys90nS2H7khc67d7e+IApcqnDR3Xe3yPdRXvmEj14nUrp+KPtqf4dZY08X2TPWoc9kp764ohVnjUf8e6fS5veRv1fHa/X4aw/LFTT9uwNZv2Siun0MFkKk4emas/jZ4c67Zr8R956Cu2DHHm3o8dSL9dhn6vOz9Q6Jsu4vX8e7me0fmzF3/949WZZus15wZ1cDosU5kKJffJNACnMN2HKh4ATAXtyv5sFAZzK4bmSJKALGti/TqfOX9EvJzqcKfUX65IExUnHioAfKVRBTP6Xqazk/TI97iSFKauCOkqhFqaxf9aD1kI0neYH6jDMl4eIfGMOM0xIoT2fz6lSOqRywRPSpgvLJItbyuOEFNqimalM+zjppFDL1mGnKXMJ7ZfZQxx/8YtfyHvvZV78Jbk99MLs335r9nja5erx2stHJno6Hc+3QFL4wqJjlhRqPM42bzBRf4cH69evT8x5TX2vOuwu2rutveK5DM11ej3PQcCJAFLoRIXnIJBPAl4WBMhnfSg7UgR0OJLdO6hfRBpWfSpHPv9ePjh6ypJBXfmu78T3RBc/4B8E4kQgWRxSe/ey9RQ2NDR0QvHVV1/JddddZ32xTi2r044Z/vAkhfYQUx3+uG9zh9zokMwf5K295h7jiAkpzDAksn3jnLPz6SZdJvLuho4hljrXcMkLZ8v321OoC9YseV4SPY06l3LhZKPO+kS+Fk/R41krvNpzIT98JzG3MjFUtkBSGFRP4QsvvGC9F3NZlCf5vZt1UR7HluFJCDgTQAqdufAsBPJKwFq6PNcFAfJaEwqPEgGdMnTnywesX6Z/MnCbvLHnRKfq6/ZnFh6VDz/9vtPz/AGBOBDwI4Wp18nLNqfw9OnTsnTpUtEv6/ZqpqkMXUvhkXet+Xjy1Sedi9JhpU9e0SFuqZeZUKlzmBNoFaAfeJVLnWJnz2HUxWH2vnG2fC17Sh9DCtuXvXy2p82pt+/gDpFPDnSUk9xTaPcsHt59dgVQe0Gas0e1HunF53U1WO3RGjFihOiF1zP927hxY2IFTr1ciOO/UyekbdJlHecz5pedh69+caRjwR4V7AJJ4da934jGYh2x4fRj3MdfnpYDxzKspCoieeHkCI8nIZCZAFKYmQ9bIZAfAi4WBMhPBSg1igQ+OX5afnXH29YXkD6PvicnvmXyYBTbkTp7I+BHCnWVUV2VVHsUc1l9tLm5OTGcL90Fxd1KofYCWj2Co//Our5fYoXQLc1nVyud1q/TgjVKKrmnTwXPukzEtsXS9uC/ii4Yo/8SUjjsv1nDSHXVUt1PF4KxetXsnkh7mGuyQGmP2xO9OuYr6mtq7+0YhvrIRWIJrJMU6kF3LLfkyzqnMf/YseKpVZuz/+nF1VUKzz33XFm+fPnZDQ6Pki/ifskll8iRIz+slJq8b7IU3n5ex/nrue5/S9qmXp2QXycpVNFXydf3Qo8ePayVa5OL9vJYh+nrAjP2MP5LHtht/VinozcaV38m5938pvzm7p1pf6jT6zPqqrjKSC+ZsmzZsozVUEY333yztf+FF14oH330Ucb92QgBNwSQQje02BcCQRLIcUGAIA9JWdEmoIvL/MPtHVJ4x0s//Iof7VOi9hDImYAfKVQp0S/eqbd01ym0h/Pp/ioo2puT+s+VFJ4+1dHjpwL2g6AZ92l63FQe28b8o/Prnr+xo1rbXj0raMnl6/EcFpqxXrRvc/pytYx7/94a4irppNC+NIR9Tg49jtrLavcWKsdDh9IvTKN10vl0Km3KXReqcepdbF/6YifRTXDUhXtuP6+Dk0NP4cGDB+XXv/514j0wYcIEUSnz+097A7WX0BbD1Hsd7r9259eOh9mxY4foSrp6vrfddlunxZNSX9DW1mYJpMqj3urr61N34W8I+CKAFPrCx4sh4IGAywUBPByBl8SUAD2FMW1YTisnAn6ksLW1VaZNmyY///nPrS/gF1xwgegQRe09cvp39OhRufbaa+W8886TOXPmOMqDKym0D/L+Vml7/kZpu/t/nhUbXTHzuRtEjmRYjGX/m9I2oUvHa1TC7vmFtM+b2PmyFm+2WL2HiZ7Bu/+ndc3C9ob7E0Kpde7075svO67vd88vOpc9a7zI1z9cWzCdFGpBOjz1mQEd5ev8Qn1dimgli56KoV4+JN2/M2fOyOOPP54Qt/Hjx5uipDl0ZYW0jfnl2TqP+aW0r2uUtqeuTSuFKpj33ntvouysC9qkq6TD89pj2LzxC7ngvl2i87pVDH82bLu1QrT+mOf0T+dc2kKo93rNzXT/9H2qva4qg7kIZLpyeB4CmQgghZnosA0CeSDgdkGAPFSBIiNKQC+UPPz5/dYXDqcLIut3se0fnGTl0Yi2L9UOloDKiH6B1lsuKzoGe3RKSyawcuXKRA+ginZdXV1aIVcB0h5cu+10qOe2bduSi/P8WHsuddillj1lyhTP5fh5of64occ+55xzrHqoEGqPYbp/2sM5YMCABI8hQ4aILjbDPwgETQApDJoo5UEgC4HE3I8cFwTIUhybS4yALi5jL2yg99Pndywss+vgt3Lj1H3yn/ptkRcXH0v9sb7EKHG6EOgYimiLBVJY/HfEli1bEsM3s634qmJYUVGREKfU60x6PZu33npLzj//fKuHLlPPnNfyc3ndJ598It27d7ckT4fWZuo51fL0vWsPGdUhryqV/INAPggghfmgSpkQyEAgIYW5LgiQoSw2lR4B7Q1sWvt5QgxT56/o3yNf3C/fnGIRmtJ7d3DGyQToKUymEY7HulCK9pI1NjbmVKEPPvhARo4cmXFoZU4FiYgOCe7Zs6clWLW1tY5DgnMty89+Oo9RGWhvqdOcydSyVSL10hMq1UHMgUwtn78hYBNACm0S3EOgUAS8LAhQqLpxnMgQOPTJd3JP2UH5qxvfTAwn7TXhXdEL27fhg5FpRyqaPwJIYf7YRrFku/dx8uTJaYeuRvG8qDMEgiKAFAZFknIg4IaAlwUB3JTPvhCAAAQgAAEIQAACEMiRAFKYIyh2gwAEIAABCEAAAhCAAAQgEEcCSGEcW5VzggAEIAABCEAAAhCAAAQgkCMBpDBHUOwGAQhAAAIQgAAEIAABCEAgjgSQwji2KucEAQhAAAIQgAAEIAABCEAgRwJIYY6g2A0CEIAABCAAAQhAAAIQgEAcCSCFcWxVzgkCEIAABCAAAQhAAAIQgECOBJDCHEGxGwQgAAEIQAACEIAABCAAgTgSQArj2KqcEwQgAAEIQAACEIAABCAAgRwJIIU5gmI3CEAAAhCAAAQgAAEIQAACcSSAFMaxVUN8Ttu3b5dly5bJ1q1bi35raWmRtWvXFr0e69evl8WLFxe9Htomr732mnULQ/sokyNHjoTq3az1mT9/fijaKrmN9L28Zs2aUNVr9erVVp1C1YBUJhIEzpw5Y33ONmzYUPT3dJji86pVq0KTP5cuXSr6GU+OQ8V6vGjRItF2Ktbx7eNqHcKSH7Rt9P3CPwi4IYAUuqHFvr4JtLa2Sk11hSyeV1v0W0V5mTTNrCp6PebOqpaysrKi10PbpL6mQupqwtE+ymTXrl2+33NBFrBnzx6rrRqamiVMt/KKCqmpnxWqOlXXzpT6+vog8VNWiRA4efKk9TmbP7um6HFxbmN44vPMukqpqQpHfK6uKpfG+sqit4/mLc0VtQ1zih7/6mbODU1+0PhbW1tbIhGD0wyKAFIYFEnKyYnApk2bpHVBnchHy4p+q6+tlL2b5xe9Hoe3N1uJJAxMVrfOlFUtDUVnoiw00R8+fDin91WhdtKeQq3XxndPhepWXTdTWlbvDFWdmpdtkubm5kI1DceJEYHvv//e+px9untx0WPRwTcXSmVFedHroTFx04pZ0jI/HPmzeU6NbFvdFAouGpOXb9xf9Pi3YvOh0OSH5uVbZMGCBTGKCpxKIQgghYWgzDESBJBCU4aRQpMJUuhOOpHCRIjhQQwIIIXOMREpdOaCFJr5AimMQSAswikghUWAXsqHRArNpIYUmkyQQjPJZ+qdRApLOarG79yRQueYiBQ6c0EKzXyBFMYvLhbijJDCQlDmGAkCSKGZ1JBCkwlSaCZ5pDARRngQcwJIoXNMRAqduSCFZr5ACmMeJPN0ekhhnsBSrDMBpNBMakihyQQpNJM8UugcU3g2fgSQQueYiBQ6c0EKzXyBFMYvLhbijJDCQlDmGAkCSKGZ1JBCkwlSaCZ5pDARRngQcwJIoXNMRAqduSCFZr5ACmMeJPN0ekhhnsBSrDMBpNBMakihyQQpNJM8UugcU3g2fgSQQueYiBQ6c0EKzXyBFMYvLhbijJDCQlDmGAkCSKGZ1JBCkwlSaCZ5pDARRngQcwJIoXNMRAqduSCFZr5ACmMeJPN0ekhhnsBSrDMBpNBMakihyQQpNJM8UugcU3g2fgSQQueYiBQ6c0EKzXyBFMYvLhbijJDCQlDmGAkCSKGZ1JBCkwlSaCZ5pDARRngQcwJIoXNMRAqduSCFZr5ACmMeJPN0ekhhnsBSrDMBpNBMakihyQQpNJM8UugcU3g2fgSQQueYiBQ6c0EKzXyBFMYvLhbijJDCQlDmGAkCSKGZ1JBCkwlSaCZ5pDARRngQcwJIoXNMRAqduSCFZr5ACmMeJPN0ekhhnsBSrDMBpNBMakihyQQpNJM8UugcU3g2fgSQQueYiBQ6c0EKzXyBFMYvLhbijJDCQlDmGAkCfqXwm32LpOGlh+WySy+W++4YLN9+sFhUILzc6msrZe/m+Z5e++nOufL4gyPl4ou6S9euXeTeUTfL4W2zPJXlRwq/298icysmyrV9r5ALLrhA+vXpJUsap0rbh0s81WV160xZ1dLg6bXJbXDkrdnSv9+VMvWRuzyXpYn+8OHDifdOGB4cOXJEtF6ZBC3btg17vpU5y96Wm24dabVZ9dy1vsrT41XXzZSW1Ts9l7N+90mZMXO59Onb36pTryv6yPSXm2TdrhOey2xetkmam5vD0GzUIWIE/Eph++Gl8u66Ghk17Abr/fxGy4ue49DBNxdKZUW5p9drPbavKJOhN/eXLl0utPLWjOn3e85bfqRQc+cr08bJlb0utZjcdH1f2bLkZdE6JsfuXB83z6mRbaubPL02+RhB5YrlG/d7ilVBxuMVmw95zg9aj4ZFm2XgoCHSpUsXuaTHZTLhiZfk9R1fejovpDBiQS8k1UUKQ9IQpVINP1K4dekr0qtnDyuhqQAVSwo/3jFHBg/qZwnhhDG3id5UDm8ZdI2oLCYnvFwe+5FCTeqX97xERtw60BIwlUL98vH6gmdd10PrGoQUqqhOGHub1U5IYedfcDXB33HvBCvp63tYb8WWQv0yMvXFRqtO1w64Ue4b/6TovX4xUTHMJrnptiOFpRLVgz9PP1KoPxQ+Mm64FQftz1ixpHD9ohes3KBxWWOhxmmNz88/eZ+cOeT+hzs/Uri4brJc1L2blTf1B03Npfrj6u41VZ5yRRBSGGSu8CKFQcdjP1JY2bRaul90sVzZu58VgwcN1vdwF3ng0Wdk3TvfuI7DSGHwcakUSkQKS6GVQ3SOfqRQe+LqXnxIVs17xkpoxZLCL3bPl4kP3C6bWl9KJNM5FROtL/hevnz4kUIVueN7FiR+7d21ulJ6XHKR5x66IKSwpWFK4gsZUthZClXAnimbL+WzVlpyGBYpLG9cIXePfSzxq/SyTR9Jv/43yJAR9ySeSyd/6Z5HCkMUeCNWFT9SqD1fi+qelLULn7PkUD9jXuKy/YOen57Ct1dWyO9GD5HP3+kYkaLCqnnr+v59Es/Zx8nl3o8UKhfNFfZxNI8qG81d9nNu7oOQwiBzhRcpDDoe+5HCxle3yvA7xsmyzUcsAVRh1fjb95qBiefSxVqn55HCiAW9kFQXKQxJQ5RKNfxIoZ2w9q6vLaoU2vVIvm+dObVoUphcjx0ryi0pLHvqfk+J3q8Uvr+xTvpc1VMeGjPMaiOksLMUJidv7ZELgxQm18l+/NrWj61hTEhhqUTmcJ2nHylMjocaf4ophcl10cffH2iRB+8bVhQpTK3La01PWT/eLZs93VOu8CuFQecKL1Joxzu9DyIe+5HC5Lro47W7vpbb734AKQxXaIp9bZDC2DdxuE4wjlKow4CefOgOz0Nx/PYUarLXX8LtIUEjh17vaRirluNHCvVX8PvvvtWax/Pm8jKk8N30QhjUlxD7i4TfOYV2OfZ905Lt1pyWe343ydPQJS2HnsJwxd4o1SauUnhsR5MM7N9b7hw+SE7sbXYtY356CjW+a65aNntaYsrDpPEjPdVDy/IjhfnIFXGTwtYNB+XqawbIzUNHyaq3PmP4aJQCWITrihRGuPGiWPU4SqE9b0QT7OmDra4TfRBSaP8iroveaD10iKsmbrc3r1KoQ5PmVDxm9VK+uXyG2L259BSmF8Mgfpm2JS5IKdQvIMNG3mdJ4ayWba6/jNh1QgqjGKHDUec4SqHmhmcm3WP1zq2c+7Tr2Kyx3K8U2sNXtfdU58HrwjP6nNs8oft7lcJ85Yo4SaEu8DXu4enWnMJX6pd6isEMHw1HLItaLZDCqLVYxOsbNyl8b12tNVxSF57RBWi8JNcgpFCPqyuOrp7/jJXstefSy0IGXqXQHgo08Nre1hcfXeihe/euMmjA1fLy1LFybLv7VeriuvqoLU1hlMLkLyO6+IzOubHr6/YeKYx4sC5i9eMmhbYI6SIzKoZefjzUGO9XCu38pMefNeNRS1DrX5rgKW95lcJ85Yq4SGHywl8qhl5XgEYKixjAInxopDDCjRfFqsdJCrU3TFeV0zl0Kod2wnV7H5QU6nF1IQFd/tzrQgZepVCHr+qvz043XeVOWbnlghSm72VMFbQgegr1y4eudKcr3vn5MmLXDSmMYoQOR53jJIUqhPOrHrcuXTT2rls8D9fU+BmUFGpZh7bMlL69e3lexdurFOYrV8RBClUIdcXnLl27WqM1vAwbTcTf5VtkwYIF4fhAU4vIEEAKI9NU8ahoXKQwWQh3r6l2LTzJguRHCr96d6G1yp5+8dAyP3pzliWqKobJK80lHy/TY69SmFomw0ezC12Yego7CeGEabJm51eeewgTX0q4TmE8gnYRziIuUpgqhF+/534eYXJs9SOFR7c3ic71tsuzFyXThW90ARz7+VzvvUphavlB5YqoS2GqEK5881NfMZiewiIErhgcEimMQSNG6RTiIIV6aYzrrrnK6hW77ZbrrOFAOiRIb+uan3edXP1Ioa4yqkOSRt9+kzz12Girh1D/1l+mU5NvLn8jhZk/TUFcvN6WpjBJ4aNTZlg9hBdd3ENG3z/R6inU3kK9ePKKbZ94+nJCT2Hm9xJb0xOIixQub5pu9RB269bVunarnSdenDJGNI/kEpOT9/EqhSp9OqRf55zrytA61/uqKy6zphq80XL20krJx8r2GCk0f/jzs/roS7UtVg9h167dZNToBxMxePzE52Tx2g9cx2CkMH18YUt6AkhhejZsyQOBOEih/cum01BJL9d88iOFuqCMftG4stellqTqUFYVQq9zVpDCzG/6uEqhLaip72mv18hS8UUKM7+X2JqeQFyk0L5+bernyuuQeq9SqIKnEqpCqBes1/roD5trFj6buMZtNglM3Y4UBiuFOoc79X2if196WS+Zt3wXUpg+XLAlQAJIYYAwKSo7gSCkMDU5ef27vrZS9m72tkqn12M6vc6PFDqV5+e5oKTQTx3s18Z9TqHdYxjEfRBzCoOoR3IZSGH2eMgezgSCkkI7lvi593Pxej/HdXqtHyl0Ks/Pc0FJoZ862K/VXOF3+Ghy7PL62E9PoddjpnsdPYXOsYVnMxNACjPzYWvABJBC8zIRSKHJRJM9Umj+Ep3uCwBSGHCgoriiEkAKnWMiUujMBSk0cwVSWNQQFtmDI4WRbbpoVhwpNJMaUmgyQQrNJJ9OCPV5pDCa8ZBaOxNACp1jIlLozAUpNPMFUugcW3g2M0w5RYwAACAASURBVAGkMDMftgZMACk0kxpSaDJBCs0kjxQGHIwoLrQEkELnmIgUOnNBCs18gRSGNryFumJIYaibJ36VQwrNpIYUmkyQQjPJI4Xxi4eckTMBpNA5JiKFzlyQQjNfIIXOsYVnMxNACjPzYWvABJBCM6khhSYTpNBM8khhwMGI4kJLACl0jolIoTMXpNDMF0hhaMNbqCuGFIa6eeJXOaTQTGpIockEKTSTPFIYv3jIGTkTQAqdYyJS6MwFKTTzBVLoHFt4NjMBpDAzH7YGTAApNJMaUmgyQQrNJI8UBhyMKC60BJBC55iIFDpzQQrNfIEUhja8hbpiSGGomyd+lUMKzaSGFJpMkEIzySOF8YuHnJEzAaTQOSYihc5ckEIzXyCFzrGFZzMTQAoz82FrwASQQjOpIYUmE6TQTPJIYcDBiOJCSwApdI6JSKEzF6TQzBdIYWjDW6grhhSGunniVzmk0ExqSKHJBCk0kzxSGL94yBk5E0AKnWMiUujMBSk08wVS6BxbeDYzAaQwMx+2BkwAKTSTGlJoMkEKzSSPFAYcjIpcXNV7InV7RT79VqS9vciVCdnhkULnmIgUOnNBCs18gRSGLKhFpDpIYUQaKi7VbG1tlZrqClk8r7bot4ryMmmaWVX0esydVS2a1MLApL6mQupqwtE+ymTXrl2heuvv2bPHaquGpmYJ0628okJq6meFqk7VtTOlvr4+VO0XpsqMWC/yv9eITHpL5MMTHWKIHHa00MmTJ63P2fzZNUWPi3MbwxOfZ9ZVSk1VOOJzdVW5NNZXFr19NG9qrqhtmFP0+Fc3c25o8oPG39ra2jCFPOoSAQJIYQQaKU5VXLFihcyqr5Stq2YX/VZVWS7LmuuLXo9VrzbIjBkzil4PbRMV1LmNVaGoizLZu3dvqN7+77//vtVWC5e+IWG6VVRWS+Pc1lDVqWF2s8yePTtU7RemygxfL/KjGSJ/Wi0yZK3IW5+JtNFjaDWR9hTq53/NkplFj0UrFjdIeVlZ0euh8bl5To0lYmHInw21FbJ4bm0ouOh7pWnha0WPf3OaV4YmPzQ0LZLGxsYwhTzqEgECSGEEGilOVWT4qDn8heGjJhOGj5rDgRg+GqdIKGJLoYrh/1oh0vVVkdZDIidPi5S6GzJ81DkmMnzUmQvDR818wfDReOWLQp0NUlgo0hzHIoAUmkkNKTSZIIVmkkcK4xVEk6VQxfDflIn8TZPIK7tFvvyutHsNkULnmIgUOnNBCs18gRTGK18U6myQwkKR5jgWAaTQTGpIockEKTSTPFIYryCaKoUqhnrTeYYPbxU59MM8w3iddW5ngxQ6x0Sk0JkLUmjmC6Qwt1jDXp0JIIWdefBXngkghWZSQwpNJkihmeSRwjwHpwIXn04Kf2+GyB9XiAxYKbL2qMh3bQWuWAgOhxQ6x0Sk0JkLUmjmC6QwBIEsglVACiPYaFGuMlJoJjWk0GSCFJpJHimMcuQz655OCu0ewz8qF/lNs0jzQZGvvy+ty1Yghc4xESl05oIUmvkCKTRjLs9kJ4AUZmfEHgESQArNpIYUmkyQQjPJI4UBBqIQFJVNClUOf3+GyH+fJTLtbZEvToWg0gWqAlLoHBORQmcuSKGZL5DCAgWrmB0GKYxZg4b9dJBCM6khhSYTpNBM8khh2KObu/rlIoV2r+F/bRAZsU5k95cip864O04U90YKnWMiUujMBSk08wVSGMXIV/w6I4XFb4OSqgFSaCY1pNBkghSaSR4pjFeodCOFKod62YqLW0U2fhz/eYZIoXNMRAqduSCFZr5ACuOVLwp1NkhhoUhzHIsAUmgmNaTQZIIUmkkeKYxXEHUrhSqGetmKf5gv0rBP5Ph38b2eIVLoHBORQmcuSKGZL5DCeOWLQp0NUlgo0hzHIoAUmkkNKTSZIIVmkkcK4xVEvUihiqGuTvqXjSJPbhc59HU8F6BBCp1jIlLozAUpNPMFUhivfFGos0EKC0Wa41gEkEIzqSGFJhOk0EzySGG8gqhXKbTnGZ5TLXLTapF9x0XOxOyyFUihc0xECp25IIVmvkAK45UvCnU2SGGhSHMciwBSaCY1pNBkghSaSR4pDE8QbW8X+b5N5ORp77chazsuVm9Lnpd7nWf4/y4QWfKhyOm2+PQaIoXOMREpdOaCFJr5AikMT76IUk2Qwii1VgzqihSaSQ0pNJkghWaSRwrDEwDb2kUmbxf5+Vzvtz+r9S+FKpI6z/Dv54u8slvk029FtG5R/4cUOsdEpNCZC1Jo5gukMOpRsDj1RwqLw71kj+pHCj9/Z75c37+PXHDBBZ1uUx+5S1Qi3N7qaytl7+b5rl9nH+f9jXUyatgN0qXLhdLnqp5S9ex4+faDxa7L8yOFb7S82ImFzUY5KS+7rrner26dKataGly/Tss/fbBV5lc9brHQelx3zVWyqfUlaT+81FN5mugPHz4cqs/KkSNHROuVSdAybduw51tpWLRZBg0eLl26dpXuF10s9z/ylKx881PPZerxqutmSsvqnb7KsOu9btcJuXvso9L3moGybPMRz2U2L9skzc3NoWq/oCpzpl3kjg3BSJ2XHkKn15xTI/LImyIfnhDR+kX5n18pnFMx0YiLvXr2kL3ra13HooNvLpTKinLXr7NjbtuHS2RJ41Tp16eXlStuGXSNrF/0gqe46EcKnZhonL7vjsGe8lbznBrZtrrJE5d85IrlG/e7jlVBx+MVmw/5yg92DNZ6TXqqUi69rJfMW77L9XlpOUhhlCNg8eqOFBaPfUkeOQgpHDTganlm0j2J27LZ0z0lJj9SqEKoInjZpRfLpPEjZfTtN4km+493zHFdFz9SqPVIZvHIuOHSvXtXuXP4IDmxt9l1XfxIYUvDFOtLz9Cb+4uKun4J8/pFTL9QxVEKVbJuuPk2ubJ3P7lv/JMdctili9zzu0my7p1vPCX/oKXwucpm6dKlC1KYIUKHUQp1AZp/XyVyw2qRDccyVD4Cm4KQQo2DGg/t+Pjy1LFybLt7ifErhfpDmf5wqD/UaVzUe62TipEtjrne+5HCLUteTrDQ499/962WOD/50B1y5tAS13XxI4X5yBVepDDoeByUFNY3v2H9YIgURiBYxayKSGHMGjTsp+NHCj94o16u7HWpvDRlrOsE5pR0vUqhJlBNpCqEO1dVWHXRX4NPffCqp3r5kcLU81pcP9lK9Hqfui2Xv71K4fcHWuTB+4ZJ/35XytEfvnjZdVk2e5qnusRRClXgVm//Qtbs/MoSwFVvfSY33nK7bwELqqewefVeS1i1B4GewvTRNIxSaPce/sEMkW4tInP2i3yll62IYK+hXyl8euJo6du7lxzaMtNT7EmOlX6k8NiOJhnYv7c1ouSrdxdaddFY6UUItU5+pDD5nHT0xotTxlg/IG5bNsMTI69SmK9c4UUKg47HQUjha1uOycBBQ6w8jhSmj8FsyQ8BpDA/XCk1DQE/UqhDf7TnSYfBJCc4r4+9SuGnO+daif6Be4bId/tbfNclKCnUumid/HwZ8iqF2gYq6/rrvA4Z1b+rnxtv/f3Wa2WeGMVVCvWLiH17bevHMmjwCLn+pmGyYtsnieft7bneByGFr+/4Um67Y6wMvHGo9aUEKUwTxKRjeGbYho/aUqj3f1Am8l8bRKZs77ieYfozCecWv1Jo98h5GUKfmk/8SOH6Rc/7+pEutS5BSeEXu+dbI1t0VMfxPQs8xWevUpivXOFVCpNjrN947FcKdbTIA48+I9dcN0huGjKS4aPhDE+xrhVSGOvmDd/J+ZHCXasrpcclF1m9URdf1F309viDI0UTXGryzOVvr1L43roaS051yOi9o262hgbddH1feXO5N/kJSgp3r6myei+9DgdSZn6kUIfODh7UL1EHFXjtPfQyz1LrEmcpbFl/QB547Fm5dsCNVuKvmb/esxDql5ogpHD6y01yac9eUrtggwwZcQ89hRnCZ5h7Cm051OGk59aJ3L1RZO/xH1YnzXBOYdrkRwp1JMfEB2638sO1fa+wpEznN69Z+KyneXx+pHDWjEet4z/12GhrTmHXrl1kwtjbRH9YzCVHpe4TlBS+vuBZK2/VvzTBUz20Xn6kMB+5wo8UBhWP/Uph9dy1ctHFPeSV+qXW9AJ6CsMUlUqjLkhhabRzaM7SjxTai6ror5s6J0LvdZibzunzMhzHqxTa9dB5IiqG9vw5XUjg4Gb3w5WCkkJN8FqnN1o6eupSv1Dk8rcfKVQ5nzDmNunWratVD+01nF81SXRobS7HTt0nzlKoyV/fu3q77vrB0vjq1qJK4dzlO6XXFX3kocdflFVvfY4UZomYUZBCWw7/pEpk2FqRI9+IRGUkqR8p1B+hdPEUe7635gd9nDzcPzXWZPrbjxRqbtDPuF2X8fcOtWKjiqGXUSZBSKE9/cHPfG/l5UcK85Er/EhhUPHYjxQu2XhI+g+8WUaNftCaXqBzzpHCLIGYzYETQAoDR0qBmQj4kUIVv4/enJUQQJ2joat/eh0u6VcKdREDW0Zfa3rKSv4qQZm+YDhtC0IKdVGZkUOvF12E57Nd81zXwa6XVynUL2K6cIEuvrN7TbX1S7jdi6q/Stvlu7mPsxTaQ5YWrXnf+iJw9TUDpHXDQc9i6Ken0B42qr9Qj75/oox9aIo1r/CSHpfJvb97XGrnb/BUL1YfLf7qpL8/Q+T82SLT3xb5/FSmyByubX6kUGOMSkfy0NGVc5+2ZMzLfPQgpFDzg9ZL84XmDZ0br3Pk3cRD3TcIKdQ53zr32+uqo3advUphvnKFHykMKh57lUJ72GjXrt0sKRz38HTp1/8G6datu9xx7wR5seZV1zGY1UfDFdOiUhukMCotFZN6+pFCOxkl39u9dF6WGvcqhfbcRj22XRd7SKmX+Y5BSKE9tHb6Y3d7GiJln4dXKbTPf/KEOxLHt5/ToVxeVrcrBSnULyMPTuqYd6S/VttfTtze+5FCXYFP5w/aPZep91NfbPRUL6SwuFKo1y/s2iKy6KDIN99Ha8EZv1JoxzP73ilm29uy3fuRQvsyEDq6xD6ODin12ksXhBSumveM9Vn3kqvsc9B7r1Jo54Wgc0UQUug3HnuVQv1hTofsp8Ze+2/tNXSbE5DCmHxpLvBpIIUFBl7qh/MjhfoLoy7vba/iZvcU6upuuspbcsLK5bFXKdSJ+Tp0VS9BYc9ntHsKNeHmcuzkfYKQQl3Uxe/QUa2TVym0pTR58Z0dK8qtOaBI4dmFZfT6U+WzViYWldFrAuovwfqLcMOiTa4Tv/1FwY8U2mXY9/YXFBaaSR+twz589M9qRQasFNn8scj3benPI6xb/Erh9hVliQWvNK7ZPYVe5tD5kUJdZEuH0etKn7rip91TmLxKc3IuyPbYrxTa8y29Smly/bxKYb5yhRcpDDoee5VCO/Ym3zN8NKzRKd71Qgrj3b6hOzs/UqgXh9dfzvQ6Tzpx355T+Mq0cYneqeSkle2xVynUcpOvs2TPWVFJ9LKAgF8ptIeOepXjZE5epdCex5M8z/KqKy6zFnvwOscxjj2FOndQL1ivwjX2oalyy213WdcE1FU/VcaSvxS4eYwUFjbUhVkK/6hc5OFtHZejaIvKJMKU5vMjhTrFQKVLF3V5aMwwa865zunzOufbjxTqvEGdP2jXReega4x8/sn7PI2e8CuF9tBRr9exTc4VXqUwX7nCixQGHY+RwpQPMn9GjgBSGLkmi3aF/UihJti5FRPFXlFO56/p314m7Gty8yOF+ouv9lrqL66a5O8aMUgOb5vlupdQ6+FXCu1fXr32yCUneq9SqGVor6muBqurwqq8+1nxT8uLoxRqz+Cz5Qus+SJ6gXgVxLvHPSbLtxz1LIQqj0hhYeNiGKXwD8tF/p95IlXviRw7WVgeQR/NjxRq7Di0pdFaGVpjkQqZzm/W55JjXa6P/UihHkPjov5wqPXQ+uiPmCpGuR4/eT+/UmgPHdWRJcnlennsVQr1WPnIFV6kMOh4jBQGHQkor9AEkMJCEy/x4/mRQi+JK9Nr/EhhpnLdbvMrhW6Pl2l/P1KYqVwv2+IohW56/9zsG6QUujlupn2ZU1i4OYX/W6XIxa0i6452XHoi6mnGrxR6iTfpXuNXCtOV6+V5v1Lo5ZjpXuNHCtOV6fV5zRVepDBT/PKyLUgp9HL85NcwpzDqUbA49UcKi8O9ZI+KFC4zfqFFCk0m+uUAKTw7FzE52Ts9RgoLG1J1WKYu4DJms/fb388PRhr/XaXIkLUib38ercVkMrUYUugcE5FCZy5IoZkrkMJMEYZt6QgghenI8HxeCCCFZlJDCk0mSKGZ5J1k0H4OKcxLuMprocPX+5NCvdzEebNEnnpb5MMTea1qwQtHCp1jIlLozAUpNPMFUljwsBWLAyKFsWjG6JwEUmgmNaTQZIIUmkneFkCne6QwOjHQrqkfKfy35SL/uECkfp/I1xG73IR9/pnukULnmIgUOnNBCs18gRRmijBsS0cAKUxHhufzQgApNJMaUmgyQQrNJO8kg/ZzSGFewlVeC/UqhX9cIdJzqcj2zzrmD0Z0gdGMbJFC55iIFDpzQQrNfIEUZgwxbExDAClMA4an80MAKTSTGlJoMkEKzSRvC6DTPVKYn3iVz1LdSuHvzRD5P+tF7nlD5N3jImcieP3BXHkihc4xESl05oIUmvkCKcw12rBfMgGkMJkGj/NOACk0kxpSaDJBCs0k7ySD9nNIYd5DV+AHcCOFf1Am8jezRaa/LfLJt4FXJXQFIoXOMREpdOaCFJr5AikMXViLRIWQwkg0U3wqiRSaSQ0pNJkghWaStwXQ6R4pjF6MzFUKdUGZbi0irx4SOXUmPiuMZmoxpNA5JiKFzlyQQjNfIIWZIgzb0hFACtOR4fm8EEAKzaSGFJpMkEIzyTvJoP0cUpiXcJXXQrNJoQ4X/dNqketXiaw/1iGEea1QiApHCp1jIlLozAUpNPMFUhiigBahqiCFEWqsOFQVKTSTGlJoMkEKzSRvC6DTPVIYveiYTQr/yw/zBz8+KaLXRSylf0ihc0xECp25IIVmvkAKSyliBneuSGFwLCkpBwJIoZnUkEKTCVJoJnknGbSfQwpzCD4h2yWdFOrlJn46R6TiXZETMbzcRC7NgBQ6x0Sk0JkLUmjmC6Qwl0jDPqkEkMJUIvydVwJIoZnUkEKTCVJoJnlbAJ3ukcK8hq28FO4khX9UIXLpEpFVH4mcPF0a8wed4CKFzjERKXTmghSa+QIpdIosPJeNAFKYjRDbAyXQ2toqNdUVsnhebdFvFeVl0jSzquj1mDurWjSphYFJfU2F1NWEo32Uya5duwJ9//ktbM+ePVZbNTQ1S5hu5RUVUlM/K1R1qq6dKfX19X6Rx/b1qVL4H6pFRqwX2fVF6cqg3dgnT560PmfzZ9cUPS7ObQxPfJ5ZVyk1VeGIz9VV5dJYX1n09tG8qbmitmFO0eNf3cy5ockPGn9ra2vtjxT3EMiJAFKYEyZ2CorAihUrZFZ9pWxdNbvot6rKclnWXF/0eqx6tUFmzJhR9Hpom6igzm2sCkVdlMnevXuDeusFUs77779vtdXCpW9ImG4VldXSOLc1VHVqmN0ss2fPDoR7HAtJlsL/XCfyxFsix04ihNrW2lOon/81S2YWPRatWNwg5WVlRa+HxufmOTWWiIUhfzbUVsjiubWh4KLvlaaFrxU9/s1pXhma/NDQtEgaGxvjGDo5pzwSQArzCJeiTQIMHzWHvzB81GTC8FFzOJDTsFH7OYaPmrEm7M+oFOr8wV8vFGncJ/L5KYTQbjOGjzrHRIaPOnNh+KiZLxg+akcT7t0QQArd0GJf3wSQQjOpIYUmE6TQTPK2ADrdI4W+Q1PBCxizSeTCxSJbPy291UWzwUYKnWMiUujMBSk08wVSmC3KsN2JAFLoRIXn8kYAKTSTGlJoMkEKzSTvJIP2c0hh3kJW3grecEzkveMi37fRQ5gKGSl0jolIoTMXpNDMF0hhalTh71wIIIW5UGKfwAgghWZSQwpNJkihmeRtAXS6RwoDC1EUFAICSKFzTEQKnbkghWa+QApDEMgiWAWkMIKNFuUqI4VmUkMKTSZIoZnknWTQfg4pjHJUpO6pBJBC55iIFDpzQQrNfIEUpkYV/s6FAFKYCyX2CYwAUmgmNaTQZIIUmkneFkCne6QwsBBFQSEggBQ6x0Sk0JkLUmjmC6QwBIEsglVACiPYaFGuMlJoJjWk0GSCFJpJ3kkG7eeQwihHReqeSgApdI6JSKEzF6TQzBdIYWpU4e9cCCCFuVBin8AIIIVmUkMKTSZIoZnkbQF0ukcKAwtRFBQCAkihc0xECp25IIVmvkAKQxDIIlgFpDCCjRblKiOFZlJDCk0mSKGZ5J1k0H4OKYxyVKTuqQSQQueYiBQ6c0EKzXyBFKZGFf7OhQBSmAsl9gmMAFJoJjWk0GSCFJpJ3hZAp3ukMLAQRUEhIIAUOsdEpNCZC1Jo5gukMASBLIJVQAoj2GhRrjJSaCY1pNBkghSaSd5JBu3nkMIoR0XqnkoAKXSOiUihMxek0MwXSGFqVOHvXAgghblQYp/ACCCFZlJDCk0mSKGZ5G0BdLpHCgMLURQUAgJIoXNMRAqduSCFZr5ACkMQyCJYBaQwgo0W5SojhWZSQwpNJkihmeSdZNB+DimMclSk7qkEkELnmIgUOnNBCs18gRSmRhX+zoUAUpgLJfYJjIBfKXx7ZYXcMugaueCCC6Rfn16yZuGz0n54qahEuL3V11bK3s3zc3qdHuPddTUyatgN1rHfaHmx0+vaPlwii+snS5+rekrXrl1kzJ2D5dj2pk77pKufWyn8Zt8iaXjpYbns0ovlvjsGy7cfLO50nGx1TVcPfX5160xZ1dLQqbxM+3+4tVEmjLlNunS5UOZUTOz0OmWyev4zct01V1nMlM38qsfl9MHWTvulK18T/eHDhwN77wVR0JEjR0TrZcuYl/upLzZaPPQ9bN8uvayXzFu+y3O5QUjhmp1fyRPP1MilPXtJl65dZfDQO2T2krc816l52SZpbm4OAjtllBgBv1KoMfGVaePk4ou6W/F40viR8sXu3GJ9ajw6+OZCqawozylm6Wuzxefv9rdI1bPjrfit9Zs84Q75+r3mnMp3K4WZ4rPWVeuybPY0ueqKy+T6/n3k83dyZ9Q8p0a2rc4tx2XLSUHkiuUb93uKVUHG4xWbD/nKD+t3n5TnqxbJlb37SZcuXeS66wdLZdNq2bDnW9fnhhSWWNAM6HSRwoBAUkxuBPxI4ZvLZ1hJXpPX1EfuspKYJlV9PjWR5/J3rlKoXzAeGTfcEh/7S3yqFK6c+7S1fejN/UW/gKiwqUB+9e7CrHVzI4Vbl74ivXr2SMhEqhTmUtdMbHKVQk3iM6bfb33hspkkS6F+CZhT8ZjF5Kbr+1rtpfcqjyqGmepgb4uzFHbr1l3uuHeCjHt4unV76PEXpHXDQdeJ35ZSv1K47p1v5IFHn7HeVwMHDZH7xj8pva7oI/qFycsXEq0XUphbTGQvk4AfKVTRmTD2Nis2PTRmmOhNf6jT53SbHV9yvXcjhdnis8bF2hcesuLg6NtvStRNc0YuP5blKoXZ4rOe+/5NDTKwf+9ELsmXFGbLSUHlCj9SGFQ89iuF019usmSw7zUDrRis95oj1u064To3IIVmXOGZ7ASQwuyM2CNAAl6l8MyhJfLkQ3dYPXEHNnf0ZO1eU2XJ1/TH7vbUW5irFGrSWlT3pKxd+JwlhypByVJ4Ym+z3Dl8kNWDaf8arb2GKkCvL3g265cQN1J4eNssqXvxIVk17xlLDlOlMFtds30RylUKtRzl0TpzqlQ884D1xSJVCtcsfM4SZP1SoPt/tmueDBpwtWPvplO94iqF4yZMkyuu6ivNr+9znehtCUy99yuFTUu2yyU9LpO7xz6a+ALy+tvHRX+5Tj1Wrn8jhQEGzhIryo8U2nnhxSljrLxg5w79MW3v+tqs8Tg1FrmRwmzx+diOJkvEHrhniCWoGq+1nvojotY79dipf+cqhfq6TPFZt3+5Z4HUvzRBNix+wRrNkS8pzJaTdHsQucKrFAYZj/1Iof4oePU1A+SmW0fKim2fWHF37c6vE/E417hr74cUlljQDOh0kcKAQFJMbgS8SqGKhQrQ8FsHJHrfju9ZINozp7+4nny/8xDK1GTq9HeuUpj8Wu2hTJXC99bVWIL20pSxVlLXX3yfmXSPtZ8ODdKkl1xG6mM3Umi/Vr/c6JecVCm0t+u9U12Ttzs9diOF9utVBpVJshTa25Lv7fbKVOfk/eMqhdoLp78AL9t8xLNw2YnfvvcrhZOfqxf9tbxu4RuB1QkpzC0mspdJwI8U6g92Go9ea3oqEXf1xyt9bv2i5xPPJceaTI/dSKFdTrr4rMfXemh9dF/9QXHsXbdYz82a8WjWurmRQrsu2eKzDhlVIcyXFNr10Ptcc5KXXOFVCoOMx36kUIeJ6nvj2fIFgcRgpNCMKzyTnQBSmJ0RewRIwKsUfn+gRR68b5g1j/CjN2dZydMWRbfJzE5SQUmh/SVEk68KoA6bHDyoX1Zps+tRKlJo/4KvPb766719/unu4yiFOkzzrjGPSveLLpar+nTMje3Tt7+UNa7wPExTxdCPFOrw0Ht/97g1l1C/IOmcQq3f7x59Wla99ZnnLyhIYYCBs8SK8iOFb71WJt27d5XKZx5I/CCXHKPTxZt0zwcphbagaX3sHw9vvfFa6XHJRZYwpauD/XypSKGXXOFFCoOOx36kUH+YUykc+9DUjjmFXbvKqNEPytI3DnuKwUhhiQXNgE4XKQwIJMXkRsCrFGpStOft6UIz2hOnPYQ6RDMsUqiJfv2iF+S2W64THeKqPWK59IqVghTav4jrMKmdqyqyCqG2dxyl8PUdX8qQEff8MFTzMbl77GPWYx26Oatlm6fk71cKLTeApAAAIABJREFU7TrpF5Keva6y5rLoIjP690OPv+hZVpHC3GIie5kE/EihzuPW+dw633ziA7dbsqULqej7OdtoBlu+ku+DlkJ7GKv+eDjurlvl0JaZVg7TXrTk4zo9LgUp9JorvEihHfs6hs77j8d+pFB/kNP3qF2XEXf9zppfqGKoi4DZo0JyvUcKzbjCM9kJIIXZGbFHgAT8SKFOnl/SONXqLVQZ1PlpmmCLPXzU/hVaFzTQHsL31tVaq7iprCKFyxK/iGub6RehbMNp7S9DcZRCTejLtxztNHT0lfqlVvJ/cNLzrhO//QXBT0+h/cXooot7yMzFW6w6vLb1Yxk0eIRcc90gq772cdzcI4UBBs4SK8qPFGr80JWf7cVm9Icoe8XqYg8ftXsKn3hwlPXj4cc75ljzHDWPIYX+coUXKQw6HgchhS/VtVoxWBeX0cXILrv8Slmwco/r3IAUlljQDOh0kcKAQFJMbgT8SKEtC/b90e1N0r/fldavwbkMR7RfZ98HNXzUnlOov0xrT6GWb9et1OcU6hCp55+8z+rR1d7dXFbYs9snrlKYKlZ6KQq9JIX+Upy6Lde//UihHsMaNpp0WQx7SKmfuY9IYW4xkb1MAn6l0I4h9n31c+OtIZq7Vldm7Y2zX2PfB9lTaM8p1Mvz6I+Hegytkw4fLfU5hX5zhVcpTI2xfuKxHym0L41RPXdtIg/okFKvlytCCs24wjPZCSCF2RmxR4AE/EihJo1P3p5rJVLtbWoqf8wabmFP2reTeK73QUmhPSn+9iEDRR/r8e2hrrnULa7DR5OT/NMTR7teDj6uUtiwaLPUzFuXSPx2T+HjT1cnnkv9opLtb79S+HxVs/VZshc5sHsKb7zlds/zCpHCAANniRXlVwp1FWh71WPtNbxxYF9rUTI7PueaI3S/IKVQh4r27d3LWsVa46PmMb1Ehc6B1LmQ2eoV1+GjQeQKr1IYZDz2I4UNizZZi32Nn/icNWTf7insffW10rL+gOvcgBSWWNAM6HSRwoBAUkxuBPxIoV6o/spel1qXObCvPaWrj+rS2tmSqdP2oKRQy25pmGL1hulKcnphYh0OlGvd4iqFutCDDhnVX8F1uJT2FOpNr2+Yy/Ub4yiFr67dL5rk9eLwI0ePT8wp1IsVN6/e6zrx27LoVwpf23JM9PqE9nwWfawXT9brZtnHcHuPFOYWE9nLJOBHCnVO2r2jbrbi71OPjbbm62kc0hjtlAeyPRekFKoEvjJtnBUXdcEtHUWhI0xyvYZiXKUwiFzhRQqDjsd+pFDnDer8QTs33HLbXVYM1uvH6oI4ruPv8i2yYMEC88PFMxDIQAApzACHTcET8COF77xeJXeNGGRdiNi+GLH+CpwtqafbHqQU6i+delF2lUH9AqL11GtWpTt28vNxlUJ7+XGdPJ98y3VhoDhKoSb2Ra/vkyEjRlsrfOoXAH2sz7lN+sn7+5VCLWvx2g9EF5hRGdQVSFUIvVw02a4XUhh8/CyVEv1IofYQ6g9zOkRT406/Pr2sueg6Jz057ub6OEgp1GNq/VQMVQY1j+mF6+3r22arU1ylMIhc4UUKNVYFGY/9SKHWReeb67ViNS/oCtC60JfO+bZjqpt7egpLJVoGe55IYbA8KS0LAT9SmC1hut3uRQrdHiOX/b1IYS7letnHy3UKvRwnl9fEVQrdJPZc9w1CCnM9Vq77IYVZgiGb0xLwI4W5xBY3+3iRQjflu9nXixS6Kd/Nvs1zamTbau8/yro5VrZ9NVd4lcJc41ku+/mVwlyOkes+SGHa8MKGDASQwgxw2BQ8AaRwmfFrNVJoMtEvAUjhqZx/IUYKg49VlFg8Akihc0xECp25IIVmrkAKixe/onxkpDDKrRfBuiOFZlJDCk0mSKGZ5DP9QowURjAYUuW0BJBC55iIFDpzQQrNfIEUpg0vbMhAACnMAIdNwRNACs2khhSaTJBCM8kjhcHHI0oMJwGk0DkmIoXOXJBCM18gheGMbWGvFVIY9haKWf2QQjOpIYUmE6TQTPJIYcyCIaeTlgBS6BwTkUJnLkihmS+QwrThhQ0ZCCCFGeCwKXgCSKGZ1JBCkwlSaCZ5pDD4eESJ4SSAFDrHRKTQmQtSaOYLpDCcsS3stUIKw95CMasfUmgmNaTQZIIUmkkeKYxZMOR00hJACp1jIlLozAUpNPMFUpg2vLAhAwGkMAMcNgVPACk0kxpSaDJBCs0kjxQGH48oMZwEkELnmIgUOnNBCs18gRSGM7aFvVZIYdhbKGb1QwrNpIYUmkyQQjPJI4UxC4acTloCSKFzTEQKnbkghWa+QArThhc2ZCCAFGaAw6bgCSCFZlJDCk0mSKGZ5JHC4OMRJYaTAFLoHBORQmcuSKGZL5DCcMa2sNcKKQx7C8WsfkihmdSQQpMJUmgmeaQwZsGQ00lLACl0jolIoTMXpNDMF0hh2vDChgwEkMIMcNgUPAGk0ExqSKHJBCk0kzxSGHw8osRwEkAKnWMiUujMBSk08wVSGM7YFvZaIYVhb6GY1a+1tVVqqitk8bzaot8qysukaWZV0esxd1a1aFILA5P6mgqpqwlH+yiTXbt2heoTsGfPHqutGpqaJUy38ooKqamfFao6VdfOlPr6+lC1H5WJBoGTJ09an7P5s2uKHhfnNoYnPs+sq5SaqnDE5+qqcmmsryx6+2je1FxR2zCn6PGvbubc0OQHjb+1tbXR+MBTy9AQQApD0xSlUZHt27fLsmXLZOvWrUW/tbS0yNq1a4tej/Xr18vixYuLXg9tk9dee826haF9lMmRI0dC9cE4duxYaNoquY30vbxmzZpQvIfseq1evdqqU6gakMpEhoB+/jdu3Fj093SY4vOqVatCkz+XLl0q+hm3P+/FvF+0aJFoOxWzDnrsDRs2hCY/aNvo+4V/EHBDACl0Q4t9IQABCEAAAhCAAAQgAAEIxIwAUhizBuV0IAABCEAAAhCAAAQgAAEIuCGAFLqhxb4QgAAEIAABCEAAAhCAAARiRgApjFmDcjoQgAAEIAABCEAAAhCAAATcEEAK3dBiXwhAAAIQgAAEIAABCEAAAjEjgBTGrEE5HQhAAAIQgAAEIAABCEAAAm4IIIVuaLEvBCAAAQhAAAIQgAAEIACBmBFACmPWoJwOBCAAAQhAAAIQgAAEIAABNwSQQje02BcCEIAABCAAAQhAAAIQgEDMCCCFMWtQTgcCEIAABCAAAQhAAAIQgIAbAkihG1rsCwEIQAACEIAABCAAAQhAIGYEkMKYNSinAwEIQAACEIAABCAAAQhAwA0BpNANLfaFAAQgAAEIQAACEIAABCAQMwJIYcwalNOBAAQgAAEIQAACEIAABCDghgBS6IYW+0IgQAKztr4sQxt6ym0ze8mGD14LsGSKggAEIAABCEAAAhCAQO4EkMLcWbEnBAIlYEvhyFl9ZNeRrYGWTWEQgAAEIAABCEAAAhDIlQBSmCsp9oNAwASQwoCBUhwEIAABCEAAAhCAgCcCSKEnbLwIAv4JIIX+GVICBCAAAQhAAAIQgIB/Akihf4aUAAFPBJBCT9h4EQQgAAEIQAACEIBAwASQwoCBUhwEciWQLIVbD66VGeuekBGNV8mwhsvl3nkDZdnuedLWfibX4tgPAhCAAAQgAAEIQAACnggghZ6w8SII+CdgS6GuPjpq9tXWSqS6Gql9UzmctfUVaZd2/wejBAhAAAIQgAAEIAABCKQhgBSmAcPTEMg3AVsKVQLvmN1X1r+/TM60nZYdhzfJ6LkDLDnU5/d+sjPfVaF8CEAAAhCAAAQgAIESJoAUlnDjc+rFJZAshRXrp3bqEWzZNSvRY9i0rby4FeXoEIAABCAAAQhAAAKxJoAUxrp5ObkwE0iWwjX7lnSq6p5j2xNDSp9eOb7TNv6AAAQgAAEIQAACEIBAkASQwiBpUhYEXBCwpfD2Wb1l++E3Or3y46+PyD0/DCFFCjuh4Q8IQAACEIAABCAAgYAJIIUBA6U4CORKwJZCnVOYqafw5bWTci2S/SAAAQhAAAIQgAAEIOCaAFLoGhkvgEAwBJKlsGrj9E6FLnlnjnVpChXGpe/M7bSNPyAAAQhAAAIQgAAEIBAkAaQwSJqUBQEXBJKlUFcZXbtvieiw0bX7lsqdTddYC83cN/8GOXL8oItS2RUCEIAABCAAAQhAAALuCCCF7nixNwQCI2BLoV6w3uk6hbfNvEJWvrsosONREAQgAAEIQAACEIAABJwIIIVOVHgOAgUgYEvh9BX3y5Hjh2Taa2NFRVAvWv/Q4mHy5ofrC1ALDgEBCEAAAhCAAAQgUOoEkMJSfwdw/hCAAAQgAAEIQAACEIBASRNACku6+Tl5CEAAAhCAAAQgAAEIQKDUCSCFpf4O4PwhAAEIQAACEIAABCAAgZImgBSWdPNz8hCAAAQgAAEIQAACEIBAqRNACkv9HcD5QwACEIAABCAAAQhAAAIlTQApLOnm5+QhAAEIQAACEIAABCAAgVIngBSW+juA84cABCAAAQhAAAIQgAAESpoAUljSzc/JQwACEIAABCAAAQhAAAKlTgApLPV3QIHPf+HChVJWVsYNBjm9B7Zv317gdyiHgwAEIAABCEAAAqVHACksvTYv6hmvXbtWamZVyvyNdUW/VVSVS+OS6qLXY9byGikvLy96PbRNaudUSe2ccLRPeXmZHDhwoKjvVw4OAQhAAAIQgAAESoEAUlgKrRyic9y0aZMlHYvfaZBi3yqqy6VpdU3R6zF3fa3Va1ZsHnr8+oVVUregsuhMtC5lZTPk8OHDIXr3UhUIQAACEIAABCAQTwJIYTzbNbRnhRSaMowUmkyQwtB+hKkYBCAAAQhAAAIxJIAUxrBRw3xKSKEpQEihyQQpDPOnmLpBAAIQgAAEIBA3Akhh3Fo05OeDFJoChBSaTJDCkH+QqR4EIAABCEAAArEigBTGqjnDfzJIoSlASKHJBCkM/2eZGkIAAhCAAAQgEB8CSGF82jISZ4IUmgKEFJpMkMJIfJypJAQgAAEIQAACMSGAFMakIaNyGkihKUBIockEKYzKJ5p6QgACEIAABCAQBwJIYRxaMULngBSaAoQUmkyQwgh9qKkqBCAAAQhAAAKRJ4AURr4Jo3UCSKEpQEihyQQpjNbnmtpCAAIQgAAEIBBtAkhhtNsvcrVHCk0BQgpNJkhh5D7aVBgCEIAABCAAgQgTQAoj3HhRrDpSaAoQUmgyQQqj+OmmzhCAAAQgAAEIRJUAUhjVlotovf1K4dxtVTL+qfvk4h4XyU3Dr5f5b1aLCoSXW0V1uTStrvH02sYNM2TE2CHS7aJu0qXrhXLj8IFSt/olT2X5kcIF22vkkRfulyv6XC4XXHCBXH5VT3mi4iFp3lnnqS71C6ukbkGlp9cmt0H9mpfliqsvl1EPDPNcVlnZDDl8+HBE3+lUGwIQgAAEIAABCESHAFIYnbaKRU39SOEL8yZLj8suseRHBahYUjhz3SvSd2AfSwiH3n2z6E3lsN/APqKymCxHuTz2I4XPz50sl1x6sVx38zWWgKkUXtjlQple/5jremhdg5BCFVVlom2EFMbiY8tJQAACEIAABCAQcwJIYcwbOGyn50cKtSfugen3yrS6Ry05LJYUzn6jXIbfd6s8N+fJhHg9/Pw4S4KebXoi8VwuQqj7+JFCfX3TpgpZtKveOu4ri6dL94u7e5axIKTw8fKHLDFFCsP26aM+EIAABCAAAQhAwJkAUujMhWfzRMCPFNqSVbH0WbnksouL1lNo1yP5XodsqgQVQwqT6/Fy8zRLCsc8fpdrOdVy/Eph1fLnpOcVl8qQu2+2xJ2ewjx9kCgWAhCAAAQgAAEIBEgAKQwQJkVlJxBHKWx+u05GjhtqzXMsa3nKtYz57SlUmVMZ1TmOOrx2wOBrPQ1j9SuFOr9z8KhBMvCW/vLigqmWuCOF2T8T7AEBCEAAAhCAAASKTQApLHYLlNjx4yiFT8963JpTOHzMrbJwR21RpFDlS3sqddEbrYcOcU3uQcz1sdeeQh2+qkNodejqiwumiN2bixSW2Aec04UABCAAAQhAIJIEkMJINlt0Kx03KaxY8ow1XFIXntEFaHKVr+T9gugp1PJ0xdFp9Y9Zgqo9l9qDmXycXB57lUJ72OhV/a6QuyaMkGH3DJau3bpIn2uvlPsm3iENa192XRdWH43u55yaQwACEIAABCAQLQJIYbTaK/K1jZMUam9Yr949LSlUOcxFupz2CUoKtWxddObaQX2l9zVXyKyNZa7r5FUKdfiq9lQ63XT+p7JyOvdMzyGFkf+4cwIQgAAEIAABCESEAFIYkYaKSzXjIoXJQljW8rRr4UmWIT9S2LS5Qp6aOTGx+mjd6y9Z1ypUMVRBTD5OLo+9SmFq2QwfjcsnlvOAAAQgAAEIQKAUCCCFpdDKITrHOEihXhrjyr69rF6x/jf2s4ZL6pBJvT3dOMm1iPmRQl1lVK9LOGjYALnzweFWD6H+/eiLv3NdDxU7pDBEHxaqAgEIQAACEIAABApEACksEGgO00EgDlJo94I5DZXUxVZSe82y/e1HCnVBGZXRSy/vYUmqXg5ChdDLgjdIIZ9SCEAAAhCAAAQgUJoEkMLSbPeinXUQUphNsnLdXlFdLk2ra1xLXK7l57qfHynM9Ri57hdUT2Gux8u0H3MKi/Yx5cAQgAAEIAABCJQYAaSwxBq82KeLFDYYEooUmkxUFpHCYn9aOT4EIAABCEAAAqVCACkslZYOyXkihaYAIYUmE6QwJB9YqgEBCEAAAhCAQEkQQApLopnDc5JIoSlASKHJBCkMz2eWmkAAAhCAAAQgEH8CSGH82zhUZ4gUmgKEFJpMkMJQfWypDAQgAAEIQAACMSeAFMa8gcN2ekihKUBIockEKQzbJ5f6QAACEIAABCAQZwJIYZxbN4TnhhSaAoQUmkyQwhB+eKkSBCAAAQhAAAKxJYAUxrZpw3liSKEpQEihyQQpDOfnl1pBAAIQgAAEIBBPAkhhPNs1tGeFFJoChBSaTJDC0H6EqRgEIAABCEAAAjEkgBTGsFHDfEpIoSlASKHJBCkM86eYukEAAhCAAAQgEDcCSGHcWjTk54MUmgKEFJpMkMKQf5CpHgQgAAEIQAACsSKAFMaqOcN/MgsXLpSysjJuMMjpPbB9+/bwv6mpIQQgAAEIQAACEIg4AaQw4g0YteqvXbtWamZVyvyNdUW/VVSVS+OS6qLXY9byGikvLy96PbRNaudUSe2ccLRPeXmZHDhwIGpvceoLAQhAAAIQgAAEIkcAKYxck0W7wgwfNYdKMnzUZMLw0Wh/zqk9BCAAAQhAAALRIoAURqu9Il9bpNAUIKTQZIIURv6jzglAAAIQgAAEIBAhAkhhhBorDlVFCk0BQgpNJkhhHD7tnAMEIAABCEAAAlEhgBRGpaViUk+k0BQgpNBkghTG5APPaUAAAhCAAAQgEAkCSGEkmik+lUQKTQFCCk0mSGF8PvOcCQQgAAEIQAAC4SeAFIa/jWJVQ6TQFCCk0GSCFMbqY8/JQAACEIAABCAQcgJIYcgbKG7VQwpNAUIKTSZIYdw++ZwPBCAAAQhAAAJhJoAUhrl1Ylg3pNAUIKTQZIIUxvDDzylBAAIQgAAEIBBaAkhhaJsmnhVDCk0BQgpNJkhhPD//nBUEIAABCEAAAuEkgBSGs11iWyuk0BQgpNBkghTGNgRwYhCAAAQgAAEIhJAAUhjCRolzlZBCU4CQQpMJUhjnKMC5QQACEIAABCAQNgJIYdhaJOb18SOFszaWSe9rrpALLrig023UA8NEJcLtraK6XJpW17h+nX2cquXPycBb+suFXS6UnldcKvdPGS3z3qx2XZ4fKXy26YlOLGw2ykl52XXN9b5+YZXULah0/Totf+GOWnn0xd9ZLLQeV/btJc/NeVIW7ar3VF5Z2Qw5fPhwzD8RnB4EIAABCEAAAhAoPgGksPhtUFI1CEIK+1x7pdw1YUTiNrnqYU/S4UcKVQhVBC/ucZGMGDNEBg0bIP0G9pGZ615xXRc/Uli5/LkEB2Uy7J7B0rVbF7l+SH+Zu9W93PmRwsfLH7IE+dpBfWXUA7fJJZddbN0qlj7rmolKJlJYUqGBk4UABCAAAQhAoIgEkMIiwi/FQ/uRQhWxSy+/RO59bJQnyUjtLfMqhc1v18nIcUMtIXxl0XSrLs0762T+W956Hf1IYeo5TZrxoNVzqPep23L526sUai/hkLtukiuuvlzq17xsHduuy+SqCZ7qghSWYoTgnCEAAQhAAAIQKAYBpLAY1Ev4mH6kUHuctPfp4efHeZKMVCnyKoWNG2bIVf2ukFvvuFEWbPcmgsl1CUoKtS5ap8uvukxqVr7giZFXKdTzUVnXXkodMqp/63Ba/fvFBVM91QUpLOFAwalDAAIQgAAEIFBQAkhhQXFzMD9S+Mri6dL94u5Wb1S3i7qJ3kaMHSKz3yj3JB1epbB8yTPS47JLrCGjNw4faA2ZvPq63p7lJygpLGt5yuq91F5M7c1MFs9cH/uRQh0623dgn0QdVOC193C+h3mWWl+kkHgBAQhAAAIQgAAECkMAKSwMZ47yAwE/UmgvqqJz1nT+nN7rgibDx9xqLXKSq/jY+3mVQrseusCMziW058/16t3TUw9dUFI4/ql7LUHV+tnn6PbejxSqnA+9+2bp0rWLVQ/tJdSFZ3Rordt66P5IIWEDAhCAAAQgAAEIFIYAUlgYzhzlBwJ+pFDnrdW9/lJCAJs2V1irf3odLulXCnVRF62TCsyUmkcsQVUJcitAQUjh3K1VMmDwtdKn/1XSuMH9qqN2nb1KofYGDh41yFp8p6zladEhtnYv6vT6x1wzQQoJGRCAAAQgAAEIQKBwBJDCwrHmSCLiRwptcUm+18tR6DBFLytcepVCe25j8qUw7CGlXuY7BiGF9tDaO8cP93wJCOXqVQrt8x95/9DE8e3nht93q6fhrPQUEjIgAAEIQAACEIBAYQgghYXhzFF+IOBHCvUagNoTpz2EKjB2T6Eu+tKw1v2lILxKYdOmCmvoql6Cwp7PaPcUTqt71HWvWBBSqIu66HBWP0NH/UihLaXJi++83DzNmgOKFPLxhwAEIAABCEAAAuEmgBSGu31iVzs/Uqjio3MI9cLsdz44PDGn8L5JdyZ6p5J7EbM99iqFWm7yNfn0OoV6vUKVRB02me24qdv9SqE9dNSrHCfXx2tPoQ4fvWn49ZaYdsyzHCaXXt7DWgzIq6jSUxi7jz8nBAEIQAACEIBASAkghSFtmLhWy48U6iUXHnnhfrmiz+WWHOrF4/Vvr5eF8COFOpdQey11FVLtobth6HVSt/ol10KoQuZXCu1eOq89ckFIoZahvaa6GqyuCqvyfmXfXjK9YaInYdfykMK4RgHOCwIQgAAEIACBsBFACsPWIjGvjx8pTJaXIB77kcIgjm+X4VcK7XKCuPfaUxjEsVPLQApjHgw4PQhAAAIQgAAEQkMAKQxNU5RGRZDCBqM3ESk0maggIoWlERM4SwhAAAIQgAAEik8AKSx+G5RUDZBCU4CQQpMJUlhSYYGThQAEIAABCECgyASQwiI3QKkdHik0BQgpNJkghaUWGThfCEAAAhCAAASKSQApLCb9Ejw2UmgKEFJoMkEKSzA4cMoQgAAEIAABCBSNAFJYNPSleWCk0BQgpNBkghSWZnzgrCEAAQhAAAIQKA4BpLA43Ev2qEihKUBIockEKSzZEMGJQwACEIAABCBQBAJIYRGgl/IhkUJTgJBCkwlSWMpRgnOHAAQgAAEIQKDQBJDCQhMv8eMhhaYAIYUmE6SwxAMFpw8BCEAAAhCAQEEJIIUFxc3BkEJTgJBCkwlSSKyAAAQgAAEIQAAChSOAFBaONUcSEaTQFCCk0GSCFBIuIAABCEAAAhCAQOEIIIWFY82RRGThwoVSVlbGDQY5vQe2b9/O5wYCEIAABCAAAQhAIM8EkMI8A6b4zgSOHDki7733nuh9sW/vvPOOHDhwoOj1OHTokOzcubPo9dD22Lt3r3Urdtvo8ZXJ119/3fkNxF8QgAAEIAABCEAAAoETQAoDR0qBEIAABCAAAQhAAAIQgAAEokMAKYxOW1FTCEAAAhCAAAQgAAEIQAACgRNACgNHSoEQgAAEIAABCEAAAhCAAASiQwApjE5bUVMIQAACEIAABCAAAQhAAAKBE0AKA0dKgRCAAAQgAAEIQAACEIAABKJDACmMTltRUwhAAAIQgAAEIAABCEAAAoETQAoDR0qBEIAABCAAAQhAAAIQgAAEokMAKYxOW1FTCEAAAhCAAAQgAAEIQAACgRNACgNHSoEQgAAEIAABCEAAAhCAAASiQwApjE5bUVMIQAACEIAABCAAAQhAAAKBE0AKA0dKgRCAAAQgAAEIQAACEIAABKJDACmMTltRUwhAAAIQgAAEIAABCEAAAoETQAoDR0qBEIAABCAAAQhAAAIQgAAEokMAKYxOW1FTCEAAAhCAAAQgAAEIQAACgRNACgNHSoEQgAAEIAABCEAAAhCAAASiQwApjE5bUVMIQAACEIAABCAAAQhAAAKBE0AKA0dKgRCAAAQgAAEIQAACEIAABKJDACmMTltR0wgT+L5N5IOvRd7/yt3txOkInzRVhwAEIAABCEAAAhCIBAGkMBLNRCWjTmD3lyL/qVbkT6rd3RYciPqZU38IQAACEIAABCAAgbATQArD3kLULxYEdn0h8ocVIj+a4e7WtD8Wp89JQAACEIAABCAAAQiEmABSGOLGoWrxIYAUxqctORMIQAACEIAABCAQNwJIYdxalPMJJQGkMJTNQqUgAAEIQAACEIAABEQEKeRtAIECEEAKCwCZQ0AAAhCAAAQgAAEIeCKAFHrCxosg4I4AUuiOF3tDAAIQgAAEIAABCBSOAFJYONYcqYQJIIUl3PicOgQgAAEIQAA5FD16AAAgAElEQVQCEAg5AaQw5A1E9eJBACmMRztyFhCAAAQgAAEIQCCOBJDCOLYq5xQ6Akhh6JqECkEAAhCAAAQgAAEI/EAAKeStAIECEEAKCwCZQ0AAAhCAAAQgAAEIeCKAFHrCxosg4I4AUuiOF3tDAAIQgAAEIAABCBSOAFJYONYcqYQJIIUl3PicOgQgAAEIQAACEAg5AaQw5A1E9eJBACmMRztyFhCAAAQgAAEIQCCOBJDCOLYq5xQ6Akhh6JqECkEAAhCAAAQgAAEI/EAAKeStAIECEEAKCwCZQ0AAAhCAAAQgAAEIeCKAFHrCxotKkcCX34msOSrSfND97fl3RP6XcpEfzXB3G7PZ/bG0fiuOiHz6bSm2EucMAQhAAAIQgAAEIOCWAFLolhj7lyyBD74WGbBK5I8q3ImdWxH0u7/KZ/dWkZ1flGxTceIQgAAEIAABCEAAAi4IIIUuYLFraRNoE5Gtn4r8U7PIH5SFUwx/r0zkb+eKLDss0tZe2u3F2UMAAhCAAAQgAAEI5EYAKcyNE3tBwCLwfZvI3P0iP5sbPilUITy3TuSVPSInz9BgEIAABCAAAQhAAAIQyI0AUpgbJ/aCQIKAiuHTO0X+rYc5gn6HhmZ6/Z9Wi4zdLPL194mq8gACEIAABCAAAQhAAAJZCSCFWRGxAwRMAkdPity2TuQ/VIejx1DnEep8R60Xo0bN9uIZCEAAAhCAAAQgAIH0BJDC9GzYAoG0BHS+3uenRHovL/78Qp3f+E+LRDZ+LNKOEaZtMzZAAAIQgAAEIAABCDgTQAqdufAsBLISUP96/ajIrxYWt7fwb5pEXj0k8p2uhMM/CEAAAhCAAAQgAAEIuCSAFLoExu4QSCZw6oxI036Rv2gsjhj+l3qRp94WOXk6uVY8hgAEIAABCEAAAhCAQO4EkMLcWbEnBBwJHP9O5NE3Rf6POpHfc3lx+kwLx2Tb9u8qRe7cKHLspGO1eBICEIAABCAAAQhAAAI5EUAKc8LEThDITEBX/LyhgBe2/zflHfMID5zIXC+2QgACEIAABCAAAQhAIBsBpDAbIbZDIAcCOr/w7c9FLl2S/2GkurDMr5pFNn0iopfH4B8EIAABCEAAAhCAAAT8EEAK/dDjtRBIInCmXWTpYZHzm/K7IulfNoo07BPRFVD5BwEIQAACEIAABCAAAb8EkEK/BHk9BJIIfHtGZPb7In/ekJ8ewz+pFpm8Q+QrLlCfRJ2HEIAABCAAAQhAAAJ+CCCFfujxWgikENDOOxW2B7YEf2H7P64QGbZO5MNvuEB9Cnb+hAAEIAABCEAAAhDwQQAp9AGPl0LAiYCK4b6vRG58XeQPK4LpMfy35SLdWzrmLTJs1Ik6z0EAAhCAAAQgAAEIeCWAFHolx+sgkIXAlk9Fft0soiuFZru8RLbtv5gnsuzDLAdkMwQgAAEIQAACEIAABDwQQAo9QOMlEMiFgK4MuvCAyN/O9X79Qr3u4b+vEpmxR+Q0C8vkgp19IAABCEAAAhCAAARcEkAKXQJjdwi4IXC6TeSZnSL/scZbb+E5NSIPbhX59Fs3R2VfCEAAAhCAAAQgAAEI5E4AKcydFXtCwBOBY9+KjNvsbRipzks8/p1IO72EntjzIghAAAIQgAAEIACB7ASQwuyM2AMCvgjowjB7j4v0W5H7wjM6D7Fri8i6Y74OzYshAAEIQAACEIAABCCQlQBSmBURO0AgGAKbPhb5h/kivz8j81DS3y8T+atZIosPcYH6YMhTCgQgAAEIQAACEIBAJgJIYSY6bINAgAR04ZmZ74v8ZWNmKTy3XuSpnSInTwd4cIqCAAQgAAEIQAACEIBAGgJIYRowPA2BfBD4+nuRSW+J/GmahWd0pdG7Nop8fiofR6dMCEAAAhCAAAQgAAEImASQQpMJz0AgrwSOney4sL0KYPL1Cf+gTOTK5R3zD/NaAQqHAAQgAAEIQAACEIBAEgGkMAkGDyFQCAK6kOiHJ0QuaT17/UIVwp/OEdF5h7owDf8gAAEIQAACEIAABCBQKAJIYaFIcxwIJBFQ8VvyocjP5orowjJ/PVtk/n6Rk2eSduIhBCAAAQhAAAIQgAAECkAAKSwAZA4BAScC35wWaXxf5OdzRSZtF9G/+QcBCEAAAhCAAAQgAIFCE0AKC02c40EgicCX34msOdoxnDTpaR5CAAIQgAAEIAABCECgYASQwoKh5kAQSE+AaYTp2bAFAhCAAAQgAAEIQCC/BJDC/PKldAhAAAIQgAAEIAABCEAAAqEmgBSGunmoHAQgAAEIQAACEIAABCAAgfwSQArzy5fSIQABCEAAAhCAAAQgAAEIhJoAUhjq5qFyEIAABCAAAQhAAAIQgAAE8ksAKcwvX0qHAAQgAAEIQAACEIAABCAQagJIYaibh8pBAAIQgAAEIAABCEAAAhDILwGkML98KR0CEIAABCAAAQhAAAIQgECoCSCFoW4eKgcBCEAAAhCAAAQgAAEIQCC/BJDC/PKldAhAAAIQgAAEIAABCEAAAqEmgBSGunmoHAQgAAEIQAACEIAABCAAgfwSQArzy5fSIQABCEAAAhCAAAQgAAEIhJoAUhjq5qFyEIAABCAAAQhAAAIQgAAE8ksAKcwvX0qHQN4JnDhxQqZMmSKNjY05Hcvt/jkVGoKdPvnkExk1apRs2bJF2tvbs9Zo3bp1MnbsWPn444+z7ssOEIAABCAAAQhAIM4EkMI4ty7nFnsC27Ztk65du8qPfvQjGTFihJw6dSrjObvdP2NhIdu4ceNGOffcc+XHP/6xPPnkk3Ly5Mm0NVRpnDx5ssXtZz/7mSxbtiwnkUxbIBsgAAEIQAACEIBAhAkghRFuPKoebQLtjQ9I25A/t27tS15wfTKrVq2S8847zxKbc845R6ZNm5ZRCt3u77pCAb3gxHdfySMtt8vQhp4ydsGN8umJozmVvHv3bunVq5fFQyX59ttvF+0Vdfp35swZmT9/fid+9fX1iKETLJ6DAAQgAAEIQCD2BJDC2DcxJxhWAp2kcE2dq2ru2rVLfvnLX1oCpPebN2/O+Hq3+2csLM8bk6VQ5VD/zvWf9g5OmDDB6i1UMZw4caKcPn067cv379+fEMmf/OQnsnLlyrT7sgECEIAABCAAAQjElQBSGNeW5bwyE/jwHWl7ope03fUzaZt6tcjpzMMuMxfmbatXKTx+/LgMGDAgIYQqfJn+ud0/U1mF2OZHCrV+KoEqgyqFOpS0tbU1Y7WPHj0qPXv2tPb/7W9/Kx9++GHG/dkIAQhAAAIQgAAE4kYAKYxbi3I+uRHYtUrabj+vY+hm4wO5vSbgvbxK4bx58yzZUeHRx9n+ud0/W3n53u5XCrV+n3/+ufTu3dsSPb3XvzP927Rpk2hPoYqkDsPNZaGaTOWxDQIQgAAEIAABCESJAFIYpdairsEReHuFtI34H+GVwm+/Emkzhz3qHLnrr7/ekhe9Tzdnzgbldn/7dcW8D0IKtf66eIyKs970caZ/Osfw/vvvt7heeOGF8tFHH2XanW0QgAAEIAABCEAgVgSQwlg1p7eTWbNmjfVlWHtJ9LEu6W8v2PGb3/xGmpqaEvOydM7WLbfcYu2v9/v27ZM777xTdKET7WnRSwIcPHjQW0Xa26XtxVs6Fl8Z8Vci21O+yH9yQNru/fsOkau8o/Mxdq6UtkmXSduwv+h4vd4/dIG0r23oJFdtz97Qsf2HBV7shV4S96P/TuTj/WfL1ksb7FgubY/3lLaRf93x2qE/kbaxv5L218o6lZ14Udtp67htD/6rtOm+eqw7fyrtZcM7lZ22p3Df5sR5tt33DyIHtieK1sVUdLVMbauamprE8+keuNrfy7mmO7CP51OlcNeRrfLwqyNkWMPlctvMK6zH+z55J+sR9BIV3bt3t1jpPMNsvX/63rclUh/zDwIQgAAEIAABCJQKAaSwVFo6w3kmS+G4ceMSw+hUPPSmX5R1ZUb9lyyFOv/qn//5n6197H31Xhc+yTbPLW11ti+TthF/ZYlUe6r47VkrbSPPt0Sr/fXaRBHtKyvOyqCT7E3rJ3LyuLV/21P9XUlhe8P9Z8XOqeznB4l8nzQf8atPpG1K7/THuPOnIjs7FjNxlMLda6Tt/2/v7p+rqPMFj/8X8+Pu3rt3amqm9m7dW1Nbe8uprZ1a5BnkUQQFQUZQgSAgqCAOTyoPoyAIKAh5giQ8hQgBBlAGeXREBUSelIwKEnFG7+io9/rAJJ+tz/ekD53zPUn6dHdOP5w3VamcJOd0f/vV6ZRvv326Z/1r5vVP3CbSfDm7nfpAryCqxnrrha4uLlPo8wve1nYjC+8LdxQ+vP1OmbptmLkSqV6N1PmYsWOknP+084vr/PDDD+Z/UqjXmDFj5OuvO79gjV505rbbbjO+L71U+NVgwxNgSQgggAACCCCAQHEFiMLiesdybe4o1Nm+TZs2mf+AvnTpkuhMof5H9fDhw+Wrr75qF4X6/VGjRonORukNwPV1zvuydPawq3vm5cXQqNIZNg2wOf8m8vnV7NP0tg3m+7P+ReR628VV/vNv0vJ038z3F/UU+fhsJtJuXJGW9Q9Ky+R/kNbG57LLkL/9xczWtR5Ym3nNQ/9F9LGZHdQZwi+utZ/9a75sxtGi8ffxu5nnaZwu6JF5/eR/lNZ39mSWf/N7aXnp/uxydeZS3j+RWd/rVZnZP33+65Xm+VYU6mznI/+ceX2eINQX6eyguutsobp39a+g5xeyrV2tOMDP3VGoEaizhNe//Eh+/PsPsvNshZkt1O8vPfiIfHez43sR6hAWLlxovHr37i1ffPFFp6PSn+vz1Fdfxz8EEEAAAQQQQKBUBIjCUtnTnWynOwr1ht7u0+yWL1/eLkLcM4U//elP5fTp09klu9+X9ctf/lKuXLmS/VkhD1pfWdoWXP8grW/syLxUg+v5UZnvr3tARE911H+5UXjDtU59jgabeyYv8ypp1Uhrm/lr7ep2ED9+d2t9ba+XM7+XlrJ/MsvIzmi6Ll7TsnyEvd5LxzKB2jZ2dxSamJz+i8yY5v1fkc+anDW1+1xQ5PmISPG6re1GFe4X7ijUWcJ3rh3LrkDD8LnXHjczhtN33CXv//nWqbXZJ7keEIUuDB4igAACCCCAAAIdCBCFHcCU0rfdUaiP3f9yI8QdhflmX5zTG3W2JXdZ7uV2+ljfUzfjf2QCafW9mSC7flFaZv1LZubvVEO7l7c7fVTfwzfnf4sJNZ01dOKx3StEskE26b9K68ltOT/N+fLH76X1zXppeWFMZrZPT+/UW1k47xdcNdq8oLX+qcyYdZmu01tzlpb9MjsG92mpU/67tJ7q+Iqiufsju7AOHhT6fA1oL9vawepC+bY7Ch9ruFf+8s2NdsutP1ORPY30+J8OtvtZ7hdEYa4IXyOAAAIIIIAAArYAUWiblNx3/EahXmhGI9H9r7NluZ/X6WP3rGDbqaLZ2cMF/0/k68/bv7y1VVrf3p05zdMdWPp4/q8zp5S2f8WtKHz4ZyIXj+T81PWlvsev7eI2zsyi9dmJwm3zMlHY1TLbFp83CnXMenGZnPcSOiNyfPV9nm+88Ybz7Q4/F/T8Ara1wxWG8AN3FC7cN1m+/v6rdkvVEHTeW9hZFH733XcyadIkM9Od73e13UJFzMy2znDr/9DQmOYfAggggAACCCBQKgJEYans6U620wmHfLN7uTNN7pnC/v37W/d/O3jwoPmP6nzL6mQI1o/0tFF9P6DOxpkZuDn/ZoJL49D6p7ducGYEP78qrftWSstv/8+tmbw8IZkNsrJ/Ej0VNO+/L66Zq4xm3sf4r+aUU/n+28xTP7kgLTP/ZyYCnSgMMlO45j5pPfjirQvmLBss8t031rAKvRiK5+cXuK3WwEL8hjsKO5spnLJ1iJz6uOOgb25ull//+tfm91FPg+7qn/O76/UiPl0tj58jgAACCCCAAAJJESAKk7KnunGcfqPw5z//uZw/fz47Mi/vKdSLo6xatUrOnj3b7r2L2YU4D/T2E20h2DLpv2UC7/H/JXLjA+cZmc83v8/c6uG9Q+2/LyKt+1d3OHOXvWiNXmjmoOtKkxqXbfcHbD3VkAlTfU5OjJqAyzl9VG+h4Vw5VS9+Y81o6kVzrr2XHWc2THX5+r7GH78XvaCNiVCN4e3zb8Vu26v04j1Tp041oaO3Denqpuxen1/wtma3IvwH7ijU9xSe+eTWjKi+p3DFH54wM4Wzdo6WT778sMMB6K1U9H9OaOS9+eabHT5Pf+DVqdOF8EMEEEAAAQQQQCChAkRhQndcmMP2G4X6H9wTJkwQnY3ycvXRq1evZm9hkRuU+bandfNjmUBqOyVUv7b+OSFW9lNp3Tjl1hVCP35XWlbclXm9+2qlzgJcF4rRq53Kn942Vwpt+d0Qad2+wDzLHUrmwjF6SudfPpbWQxulxbkojI6tbabQRN3yEbfGrKeuntlnLhpjZi/1dhquU0OtKNS16tVXF/XMLEOvVJrnvYnOTdnVX6/46r4wkLN57s9enl/wtrpW8MEHH5j7Wuq9KteuXZu9p6XrKQU9dEehc/XRD7+4JJ99fV1q3lpj7leo3197dJHcbPkx77Jv3LghOpOtRuPGjZNvv22b4c37bJFDhw6ZeNTnb9iwoYNn8W0EEEAAAQQQQCCdAkRhOvdrQVvlNwp/8pOfmHsY6n9Iuz86uk/hu+++K3rFUn2up/fEOcGn4TX9FyJNp6ztan1zZ+behW3haL3fr4MZN/n2S2lZ3P9WwLlfv7i/yHdfi3x5Q1oWtt16wv1zfaw3stfTW/WxE4U6Op3hdG6Rkfsa/Xr6L0QDTP/ljUL9wfk/3IpOV0SaF7XdK3LKlCnGUW9Nce5c51fg1FN+u3y+n21tG9ALL7yQ3f9eb5XhbEu+z+4onFE/KnsLCud9hPp5zq7x0vzVx/lebmb9nnnmGTMmvUWK/n539u/69esyaNAg83ydfdX/wcE/BBBAAAEEEECglASIwlLa2x1sq98o1FnCY8eOmXsV6iyR/gf49OnT5dq1a3nXdPPmTdFbXujpfHPnzu1y9kbfU9eyZEAmvPQG9DddN4l3r+GbL6R1xyJpmfurW+/Jm/yPJujk9F7rFMzsSzXgdDZRn6vB9sg/S2vFNJFvXPez0+esvU9ayn6aeY5+fvE3mSt0PvwzOwp14XoFz0MbMu9HdE4x1WWXl2Xuc9g2gA6jUINRZyOd6MxzKqrOzml8a2Dr565uZO/p+X62VcSs+2c/+5kZi6fYz+6A/A+cKJy8ZbAcurxLTl87IXMbJ5gZwqnbhsuLR5+Sz3OuSOosSQN4/vz5Zixqs2zZMtHTmjv6p7Pczoyil4DsaDl8HwEEEEAAAQQQSLIAUZjkvRfB2N0XmvFyRccIhlgyq7x48WI2DDXK9WIqun86+lfo8ztaTr7vV1VVmRC77bbbzOnE+Z7T3d87c+aMDBgwIBuEOluo7xXM90//B0Vtba04MatBqKeQdnUqbr5l8T0EEEAAAQQQQCDpAkRh0vdgkcdPFBYZvIvV6UyXnvKos2J9+vSRzz/PuV1HzusLfX7Oy/N+qYE1Z84cM4auZubyLiCkbzpXytVArqys7PS9je7f41/96lfyzjvvhDQKFoMAAggggAACCCRPgChM3j6LdMTu/5hmpjDSXZFduc6G6ayXzhR6mekq9PnZFeV5oOurqakx7xHV9+V99tlneZ5VnG/pKbLTpk2Tjz76yNMKt23bZsy6ugiNp4XxJAQQQAABBBBAIMECRGGCd14UQycKo1CP9zp19lH/B4HeboR/CCCAAAIIIIAAAskTIAqTt88YMQIIIIAAAggggAACCCAQmgBRGBolC0IAAQQQQAABBBBAAAEEkidAFCZvnzFiBBBAAAEEEEAAAQQQQCA0AaIwNEoWhAACCCCAAAIIIIAAAggkT4AoTN4+Y8QIIIAAAggggAACCCCAQGgCRGFolCwIAQQQQAABBBBAAAEEEEieAFGYvH3GiBFAAAEEEEAAAQQQQACB0ASIwtAoWRACCCCAAAIIIIAAAgggkDwBojB5+4wRI4AAAggggAACCCCAAAKhCRCFoVGyIAQQQAABBBBAAAEEEEAgeQJEYfL2GSNGAAEEEEAAAQQQQAABBEITIApDo2RBCCCAAAIIIIAAAggggEDyBIjC5O0zRowAAggggAACCCCAAAIIhCZAFIZGyYK8CBw5ckS2bt0q+/bti/yjpqZGGhoaIh/Hrl27ZPPmzZGPQ/fJtm3bzEcc9o+aXLlyxcuvFc9BAAEEEEAAAQQQCCBAFAbA46WFCxw+fFi211XJ6SM7Iv+orqqQ1/bURT6OI7/fIhs3box8HLpPGrZvkoZt1bEYi5o0NTUV/kvGKxBAAAEEEEAAAQQKEiAKC+LiyUEF3nrrLTmwu1bk09ci/6irqZKmt3dFPo7mc3ukvLw88nHoPjl6YKsc2b8lFmNRk+bm5qC/crweAQQQQAABBBBAoAsBorALIH4crgBRaMcwUWibaKASheEeeywNAQQQQAABBBDoSIAo7EiG73eLAFFoBxBRaJsQhd1y+LFQBBBAAAEEEEAgrwBRmJeFb3aXAFFoBxBRaJsQhd11BLJcBBBAAAEEEEDAFiAKbRO+040CRKEdQEShbUIUduNByKIRQAABBBBAAIEcAaIwB4Qvu1eAKLQDiCi0TYjC7j0OWToCCCCAAAIIIOAWIArdGjzudgGi0A4gotA2IQq7/VBkBQgggAACCCCAQFaAKMxS8KAYAkShHUBEoW1CFBbjaGQdCCCAAAIIIIBARoAo5DehqAJEoR1ARKFtQhQW9bBkZQgggAACCCBQ4gJEYYn/AhR784NG4X/8aa9sWf+U3DGwn8yeMVG++2if7xutB7l5/RcXGmTZgmnSr28f6dWrpzw+fYI0n9nuayxBovCHj/dLQ+USuWfkUOnRo4eMGjFEDm5bIS3XD/oaS1g3r7/x7g4ZPWqYrHh6pq9xEIXFPjJZHwIIIIAAAgiUsgBRWMp7P4JtDxKFp1/dIEMGDTDxowEUVRT+5b2dMnH8KBOEi+ZMEf3QOHxg/N2isahBU8hHkCh85+DLMnhQf5n64FgTYBqFPXveLsd2ryloDM54w4hCDdVFT0wx+4kojOAgY5UIIIAAAggggECBAkRhgWA8PZhAkCjUmbjadQvlyCurTRxGFYVfXt4lS+Y9LG8dWJ8Nr52VS0wEndq/Lvs9J7S6+hwkCnXZf3t/t7Q2v2rWe/FolQzo39f3DF0YUbh/y3ITphruRGGw44VXI4AAAggggAACxRAgCouhzDqyAkGi0ImrpjdqIo1CZxzuzwe2rogsCt3jeO9whYnC8lVPFhynupygUfjhm7UyYvggWThnstlHRGH2V58HCCCAAAIIIIBAbAWIwtjumnQOLI1R+PdPDsqzC2eY9zlePl5dcIwFnSnUmNMZSn2Po55eO23SOF+nsQaNQn1/55OzHpTpk++Ts4fKicJ0HsJsFQIIIIAAAgikUIAoTOFOjfMmpTEK39j7knlP4dL50+TmtQORRKHOyOnpmnrRGx2HnuLqnkH0+tjvTKGevrqzcrGZpTx7aKM4s7nMFMb5aGRsCCCAAAIIIIBARoAo5DehqAJpi8IrJ2vM6ZJ64Rm9AI3X+HI/L4yZQl2eXnH06K7VJlB15lJnMN3r8fLYbxQ6p42OvedOWb30MXl6bpn06dNLxt97l7y84gn587n6gsdSXl4uzc3NRf39ZGUIIIAAAggggEApChCFpbjXI9zmNEWhzobp1T71PXQah16iK99zwopCXbZedGbShNEybvQI+eulwmcL/Uahnr6qM5X5PvSUVrXKt+2dfY8ojPBAZdUIIIAAAgggUFICRGFJ7e7oNzYtUegOwsvHNxUcPO4YChKFX3/QKCca12avPvrp2e0mVDUMNRDd6/Hy2G8U5i6b00ejP9YYAQIIIIAAAggg4FWAKPQqxfNCEUhDFOqtMcbcPdzMik15YIw5XVJPmdSPk3teLDjEgkShXmVU70v46MP3y6rFj5oZQv16V/WygsehYUcUhvJrzkIQQAABBBBAAIFECRCFidpdyR9sGqLQmQXLd6qk3q8wd9asq6+DRKFeUEZjdNiQgSZS9VRWDUI/F7whCpN/fLEFCCCAAAIIIICAHwGi0I8ar/EtEEYUdhVZXn9eV1MlTW8X/r47r8v3+rwgUeh1HV6fF9ZModf1dfY83lPo+zDjhQgggAACCCCAQEECRGFBXDw5qABR+Jo1k0gU2iYai0Rh0KON1yOAAAIIIIAAAt4EiEJvTjwrJAGi0A4gotA2IQpDOuBYDAIIIIAAAggg4EGAKPSAxFPCEyAK7QAiCm0TojC8Y44lIYAAAggggAACXQkQhV0J8fNQBYhCO4CIQtuEKAz1sGNhCCCAAAIIIIBApwJEYac8/DBsAaLQDiCi0DYhCsM+8lgeAggggAACCCDQsQBR2LENP+kGAaLQDiCi0DYhCrvh4GORCCCAAAIIIIBABwJEYQcwfLt7BIhCO4CIQtuEKOye44+lIoAAAggggAAC+QSIwnwqfK/bBIhCO4CIQtuEKOy2Q5AFI4AAAggggAAClgBRaJHwje4UaGxsNPef03vQ8YFBV78D586d685fR5aNAAIIIIAAAgggICJEIb8GRRU4ceKENO6skRsX9kb+UbO5St45Uh/5OM6fbJCKiorIx6H75GBjnRzYXRuLsajJ1atXi/r7ycoQQAABBBBAAIFSFCAKS3GvR7jNnD5qnyrJ6aO2CaePRniQsmoEEEAAAQQQKDkBorDkdnm0G0wU2gFEFNomRGG0xylrRwABBBBAAIHSEiAKS2t/R761RKEdQEShbUIURn6oMgAEEEAAAQQQKCEBorCEdnYcNpUotAOIKLRNiMI4HK2MAQEEEEAAAQRKRYAoLJU9HZPtJArtACIKbZS4hzwAAB7XSURBVBOiMCYHLMNAAAEEEEAAgZIQIApLYjfHZyOJQjuAiELbhCiMzzHLSBBAAAEEEEAg/QJEYfr3cay2kCi0A4gotE2IwlgdtgwGAQQQQAABBFIuQBSmfAfHbfOIQjuAiELbhCiM25HLeBBAAAEEEEAgzQJEYZr3bgy3jSi0A4gotE2IwhgevAwJAQQQQAABBFIrQBSmdtfGc8OCROFfL+2ScaNHSI8ePdp9rHh6pmhEFPpRV1MlTW/vKvh1zno+fLNWpk++T3r2vF1GDB8k1Wvmy3cf7St4eUGi8NT+de0sHBt1Ui9nrF4/Hz2wVY7s31Lw63T5N68dkF3Vy4yFjmPM3cPlrQPrpbX5VV/LKy8vl+bm5nj+IjMqBBBAAAEEEEAgRQJEYYp2ZhI2JYwoHH/vXbJ66WPZj9d2rPQVHUGiUINQQ/COgf1k6fxp8ujD98sD4++Wv7y3s+CxBIlCHYfb4um5ZdKnTy95pGy8fNu0p+CxBInC/VuWm0CeNGG0aKgPGTTAfDS9UVPwODQyicIkHNGMEQEEEEAAAQTSIEAUpmEvJmgbgkThR6fqZNiQgbJ++RO+IiN3tsxvFP79k4Py7MIZJggvHKk0Y2m5flC+/+j3vsYVJApzt2lf3XNm5lA/5/7My9d+o/DHq/tlwezJMnrUMPnsXL1ZtzOW13Y872ssRGGCDmyGigACCCCAAAKJFiAKE737kjf4IFGoM046+7SzcomvyMiNIr9R+MWFBhk7+k6Z99hD8sPH+wOPJawo1LHomEbeOUQ+eWerr3H5jUK11VjXWUo9ZVS/3rR2vvn63T+U+xoLUZi845sRI4AAAggggEAyBYjCZO63xI46SBRePFolA/r3NbNR/fr2Ef1YtmCafHm58PfOabT4jcIrJzebONVTRh+fPsGcMnn/uJFy9pC/+AkrCi8frzazlzqLqbOZuRHs5esgUainzk4cPyo7Bg14nT308z5LHStRmNjDnIEjgAACCCCAQMIEiMKE7bCkDzdIFDoXVdH3rOn76PSzXtBE39OnFznxEj3u5/iNQmcceoEZDUPn/XOjRgyRa28XPkMXVhTWrV9kAvXU/sxMnXtbvT4OEoUa54vmTJHevXuZceis4a7qpaKn1npdv/t5RGHSj3bGjwACCCCAAAJJESAKk7KnUjLOIFGo4ffp2e3ZAPz6g0Zz9U+/p0sGjUK9qIsTo3+oX2UCVSPIHTZeHocRhXpRmWmTxolehOffL75S8BiccfqNQp0NfHLWg+biO5ePbxI9xdaZRT22e42v8RCFKTno2QwEEEAAAQQQiL0AURj7XZSuAQaJQidc3J+dWTo/V7j0G4XOexvdt8JwTin1837HMKLQObV25eJZvm8Boa5+o9DZ/ucWzciu3/neknkP+zqdlShM17HP1iCAAAIIIIBAfAWIwvjum1SOLEgU6myU3gdPZwg1YJyZQr3oy5/fy1zx0h2MXT32G4V/e3+3OXVVb0HhvJ/RmSk88srqgmfFwohCvaiLns4a5NTRIFHoRKn74jvvHa4w7wElClN5KLNRCCCAAAIIIJAiAaIwRTszCZsSJAr15vD6HkK9MfuqxY9m31O44fm52dmprkLQ/XO/UajLcN+TT9/TqPcr1EjU0ybd6/DyOGgUOqeO+o1j9xj9zhRqsM+eMdGEqfM+y+FD7zAXA/IbqswUJuGIZowIIIAAAgggkAYBojANezFB2xAkCvWWCw2VS+SekUNNHOrN4/Vrv7eFCBKF+l5CnbXUK2zqDN3MqeOl+cz2goNQgyxoFDqzdH5n5MKIQl2Gzprq1WD1qrAa72PuHi7HG9f4CnZdHlGYoAOboSKAAAIIIIBAogWIwkTvvuQNPkgUuuMljMdBojCM9TvLCBqFznLC+Ox3pjCMdecugyhM3vHNiBFAAAEEEEAgmQJEYTL3W2JHTRS+Zs0mEoW2iQYiUZjYw5yBI4AAAggggEDCBIjChO2wpA+XKLQDiCi0TYjCpB/pjB8BBBBAAAEEkiRAFCZpb6VgrEShHUBEoW1CFKbgYGcTEEAAAQQQQCAxAkRhYnZVOgZKFNoBRBTaJkRhOo53tgIBBBBAAAEEkiFAFCZjP6VmlEShHUBEoW1CFKbmkGdDEEAAAQQQQCABAkRhAnZSmoZIFNoBRBTaJkRhmo56tgUBBBBAAAEE4i5AFMZ9D6VsfEShHUBEoW1CFKbswGdzEEAAAQQQQCDWAkRhrHdP+gZ34sQJadxZIzcu7I38o2ZzlbxzpD7ycZw/2SAVFRWRj0P3ycHGOjmwuzYWY1GTq1evpu8gYIsQQAABBBBAAIGYCRCFMdshaR9OY2Ojuf+c3oOODwy6+h04d+5c2g8Jtg8BBBBAAAEEEIhcgCiMfBeU1gA4fdQ+VZLTR20TTh8trb8LbC0CCCCAAAIIRCtAFEbrX3JrJwrtACIKbROisOT+NLDBCCCAAAIIIBChAFEYIX4prpootAOIKLRNiMJS/OvANiOAAAIIIIBAVAJEYVTyJbpeotAOIKLQNiEKS/QPBJuNAAIIIIAAApEIEIWRsJfuSolCO4CIQtuEKCzdvxFsOQIIIIAAAggUX4AoLL55Sa+RKLQDiCi0TYjCkv4zwcYjgAACCCCAQJEFiMIig5f66ohCO4CIQtuEKCz1vxRsPwIIIIAAAggUU4AoLKY26xKi0A4gotA2IQr5Y4EAAggggAACCBRPgCgsnjVrEiEKP7UDiCi0TYhC/lwggAACCCCAAALFEyAKi2fNmohC0djJ/SAKbROikD8XCCCAAAIIIIBA8QSIwuJZs6YQovD865XywPi7pUePHjJqxBA53rhGWptftUIrN7zyfV1XUyVNb+/y9FpdxwcnN8v0yfeZdZ/av67d61quH5R9dc/JiOGDpFevnjLnkYny53P17Z6Tbwz6vUKj8D/+tFe2rH9K7hjYT2bPmCjffbSv3Xq6GmtH49DvHz2wVY7s39JueZ09//rpbbJozhTp2fN22Vm5pN3r1OTortUy5u7hxkxtdlUvk5vXDrR7XkfLLy8vl+bmZo4bBBBAAAEEEEAAgW4WIAq7GZjFtxcI8p7Cs4c2Sr++fWTc6BGy4umZ5rN+rd/vKCw6+77XKNToenpumQkfjVH9yI3C1xteMD+fNGG0LJ0/zQSbBuTXHzR2ObZCovD0qxtkyKABZgw6jtwo9DLWzky8RqEG38aVT5oAdkzcUahhurNysTG5f9xIs7/0s8ajhmFnY3B+RhS2P3b4CgEEEEAAAQQQ6C4BorC7ZFluXgG/Ufj3Tw7KswtnmJm4q29nZrIuH6828bVy8Sxfs4Veo1ADZ2/ts3Kica2Jw9wo/LZpjzxSNt7MYH55OTPzqLOGGkDHdq/pMoAKicLmM9uldt1COfLKahOHuVHY1Vid4Oros9co1Nerx4GtK6Ry9TwTqblReLxxrQlkZybz3y++IuPvvcsK2Y7GQhTmPYT4JgIIIIAAAgggELoAURg6KQvsTMBvFGpYaACVPXhvdvbtb+/vFp2Ze/Th++U/P2x/CmVHoeH+vtcodL9GZyhzo/DKyc0m0NYvf8IEoJ4euXrpY+Z5zy2a0WWwFhKFzlia3qjJG4XOz/VzvrG6f57vcSFR6LxeY1BN3FHo/Mz92dlfuSHrfo77MVHY2ZHEzxBAAAEEEEAAgfAEiMLwLFmSBwG/Ufjj1f2yYPZk8z7CT89uN/HlhKKeTvrXS97eG+iOjrCiUE8ldaLIOW1y4vhRXUabM5ZSiUJnZldnfHXm19n+jj4ThR4OKJ6CAAIIIIAAAgiEIEAUhoDIIrwL+I1CDQfnfXt6oRmdidMZQj1FMy5RqHH4xt6XZMoDY0RPcdUZMS+zYqUQhXqK7RMzHzCn+144UtllEOr+Jgq9H1c8EwEEEEAAAQQQCCJAFAbR47UFCwSJQr24ycFtK8xsocagvj9NL7oS9emjzkzhwjmTRWcIr5ysMTOXGqtE4WvmaqMa8brP9OIzOpva0eyg+/tEYcGHFy9AAAEEEEAAAQR8CRCFvth4kV+BIFHoDgZ9/Nm5ehk9apgsmfewp9MRc18f1umjznsK9UqoOlPoHlupv6dQ31/54rOzTRBqGHq9HYUaEoV+jzJehwACCCCAAAIIFCZAFBbmxbMDCgSJQg2Kz883mOjS2ab6isXmvXx6Bczc4PPydVhR6FxA5eGHxoo+1nU7p7p6GVtaTx91B+ELSx6VHz7eX9B+IgoDHmy8HAEEEEAAAQQQ8ChAFHqE4mnhCASJQr1R/bAhA81tDvRUTb1JvF599Ku2EPMSgu7nhBWFusz9W5ab2TB931z1mvnmtFavY0trFFatnmdMBvTvK79bMN28D1RnC/X+hl7u30gUhnPMsRQEEEAAAQQQQKArAaKwKyF+HqpAkCi8dKxaZk4db2JQg3DRE1Pkz+fqC5p96q4o1FkxvSm7vsdR3zun49R7CrrX19HjtEahc0sMvTKr+8PrhYGIwlAPPRaGAAIIIIAAAgh0KEAUdkjDD7pDIEgUdhRVfr/vZ6bQ77o6e52fKOxseUF+5uc+hUHW19lricLuOAJZJgIIIIAAAgggYAsQhbYJ3+lGAaLwNWv2kCi0TTQWicJuPBBZNAIIIIAAAggg4BIgCl0YPOx+AaLQDiCi0DYhCrv/WGQNCCCAAAIIIICAI0AUOhJ8LooAUWgHEFFomxCFRTkcWQkCCCCAAAIIIGAEiEJ+EYoqQBTaAUQU2iZEYVEPS1aGAAIIIIAAAiUuQBSW+C9AsTefKLQDiCi0TYjCYh+ZrA8BBBBAAAEESlmAKCzlvR/BthOFdgARhbYJURjBwckqEUAAAQQQQKBkBYjCkt310Ww4UWgHEFFomxCF0RyfrBUBBBBAAAEESlOAKCzN/R7ZVh8+fFi211XJ6SM7Iv+orqqQ1/bURT6OI7/fIhs3box8HLpPGrZvkoZt1bEYi5o0NTVF9rvKihFAAAEEEEAAgVIRIApLZU/HZDsPHDggFdXlsnlHZeQf5RXlUlVXEfk4qrdUmHvyxcGkclOFVG6Kyf4p3ygXL16MyW8uw0AAAQQQQAABBNIrQBSmd9/Gcsv09NGanVWy79KWyD80gOqPbo58HA1v1JgojINJXWO11O6Ox/4pL98ozc3Nsfw9ZlAIIIAAAggggECaBIjCNO3NBGwLUWjHMFFom2ggE4UJOKAZIgIIIIAAAgikQoAoTMVuTM5GEIV2ABGFtglRmJxjmpEigAACCCCAQPIFiMLk78NEbQFRaAcQUWibEIWJOqwZLAIIIIAAAggkXIAoTPgOTNrwiUI7gIhC24QoTNqRzXgRQAABBBBAIMkCRGGS914Cx04U2gFEFNomRGECD26GjAACCCCAAAKJFSAKE7vrkjlwotAOIKLQNiEKk3l8M2oEEEAAAQQQSKYAUZjM/ZbYUROFdgARhbYJUZjYQ5yBI4AAAggggEACBYjCBO60JA+ZKLQDiCi0TYjCJB/ljB0BBBBAAAEEkiZAFCZtjyV8vEShHUBEoW1CFCb8QGf4CCCAAAIIIJAoAaIwUbsr+YMNGoUNZ6pl/qrZ0m9AX7m/bJzsOrtJNCD8fFRuqpD6o5t9vXbbHzfK1Ccekt59e0vPXrfLb8rGSu3R9b6WFSQKd5/bLE+/9KQMHTFYevToIYOHD5LfVS6UPRdqfY2lrrFaandX+Xqtex/UHX9Zht41WKbPm+x7Wdy8PvnHO1uAAAIIIIAAAskQIAqTsZ9SM8ogUfjSK8/JgDv6m/jRAIoqCree3CAjx44wQThp1gTRD43DUWNHiMaiO468PA4ShS82PCf9B/aTMRPuNgGmUXh7z9tlZd3igsehYw0jCjVU1UT3EVGYmkOXDUEAAQQQQACBFAsQhSneuXHctCBRqDNx81Y+Ls/XPmPiMKoo3HGqQspmPyhrdz6bDa+nXpxrImhN/e+y3/MShPqcIFGor69/q1L2Xqwz692wb6X06dfHd4yFEYXLKhaaMCUK43gEMiYEEEAAAQQQQMAWIAptE77TjQJBotCJrMpX10j/O/pFNlPojMP9WU/Z1AiKIgrd43h5z/MmCucsm1lwnOpygkZh9aG1MmjoQHlo1gQT7swUduPBxKIRQAABBBBAAIGQBIjCkCBZjDeBNEbhnvO1Mm3uJPM+x/L9qwqOsaAzhRpzGqP6Hkc9vfbeiff4Oo01aBTq+zsnTh8vYx8YLet2rzDhThR6Oy54FgIIIIAAAgggEKUAURilfgmuO41R+ML2ZeY9hWVzHpTG92oiiUKNL52p1Ive6Dj0FFf3DKLXx35nCvX0VT2FVk9dXbd7uTizuURhCR7kbDICCCCAAAIIJE6AKEzcLkv2gNMWhZUHV5vTJfXCM3oBGq/x5X5eGDOFujy94ujzdYtNoOrMpc5gutfj5bHfKHROGx0+aqjMXDRVJj82UXr17ikj7hkms5fMkC0nXi54LFx9NNnHOqNHAAEEEEAAgeQIEIXJ2VepGGmaolBnw4bcOchEocahl+jK95ywolCXrReduWf8SLnz7qGy/c3ygsfkNwr19FWdqcz3oe//VKt8297Z94jCVBzybAQCCCCAAAIIJECAKEzATkrTENMShe4gLN//QsHB446hIFFY/3alrNq6JHv10dpj6829CjUMNRDd6/Hy2G8U5i6b00fTdNSyLQgggAACCCCQdgGiMO17OGbbl4Yo1FtjDBs5xMyKjf7NKHO6pJ4yqR8vbFtacIgFiUK9yqjel3D85HvlkQVlZoZQv35m3W8LHoeGHVEYswOG4SCAAAIIIIAAAkUQIAqLgMwqbgmkIQqdWbB8p0rqxVZyZ826+jpIFOoFZTRGBw4eYCJVbwehQejngjdE4a3fUx4hgAACCCCAAAKlJEAUltLejsG2hhGFXUWW159XbqqQ+qObC444r8v3+rwgUeh1HV6fF9ZModf1dfY83lMYgwOWISCAAAIIIIBASQgQhSWxm+OzkUThFitCiULbRGORKIzPcctIEEAAAQQQQCDdAkRhuvdv7LaOKLQDiCi0TYjC2B26DAgBBBBAAAEEUixAFKZ458Zx04hCO4CIQtuEKIzj0cuYEEAAAQQQQCCtAkRhWvdsTLeLKLQDiCi0TYjCmB7ADAsBBBBAAAEEUilAFKZyt8Z3o4hCO4CIQtuEKIzvMczIEEAAAQQQQCB9AkRh+vZprLeIKLQDiCi0TYjCWB/GDA4BBBBAAAEEUiZAFKZsh8Z9c4hCO4CIQtuEKIz7kcz4EEAAAQQQQCBNAkRhmvZmArblwIEDUlFdLpt3VEb+UV5RLlV1FZGPo3pLhZSXx8NE791YuSkeY9FbUly8eDEBv9UMEQEEEEAAAQQQSLYAUZjs/Ze40R8+fFiqaipk68HqyD/KK8ulpqEy8nHU7q6SjRs3Rj4O3ScaqBrKcdg/atLU1JS433EGjAACCCCAAAIIJE2AKEzaHkv4eDl91D5VktNHbRNOH034gc7wEUAAAQQQQCBRAkRhonZX8gdLFNoBRBTaJkRh8o91tgABBBBAAAEEkiNAFCZnX6VipEShHUBEoW1CFKbicGcjEEAAAQQQQCAhAkRhQnZUWoZJFNoBRBTaJkRhWo54tgMBBBBAAAEEkiBAFCZhL6VojEShHUBEoW1CFKbooGdTEEAAAQQQQCD2AkRh7HdRugZIFNoBRBTaJkRhuo57tgYBBBBAAAEE4i1AFMZ7/6RudEShHUBEoW1CFKbu0GeDEEAAAQQQQCDGAkRhjHdOGodGFNoBRBTaJkRhGo9+tgkBBBBAAAEE4ipAFMZ1z6R0XEShHUBEoW1CFKb0DwCbhQACCCCAAAKxFCAKY7lb0juoIFG4/c1yufPuodKjR492H9PnTRaNiEI/KjdVSP3RzQW/zllP9aG1MvaB0XJ7z9tl0NCB8uTyR+WVs5sKXl6QKFxT/7t2Fo6NOqmXM1avn+saq6V2d1XBr9PlN75XI8+s+62x0HEMGzlE1u58VvZerPO1vPLyjdLc3Jzeg4EtQwABBBBAAAEEYiJAFMZkR5TKMMKIwhH3DJOZi6ZmP56rfspXdASJQg1CDcF+A/rK1DkPyfjJ98qosSNk68kNBY8lSBRWHVqbdVCTyY9NlF69e8q4h0ZLw+nC4y5IFC6rWGgC+Z7xI2X6vCnS/45+5qPy1TUFm2hkEoWl8leB7UQAAQQQQACBqAWIwqj3QImtP0gUaogNHNxfHl883Vdk5M6W+Y3CPedrZdrcSSYIN+xdacay50Kt7HrX36xjkCjM3aalGxeYmUP9nPszL1/7jUKdJXxo5v0y9K7BUnf8ZbNuZyzPVS/yNRaisMT+OLC5CCCAAAIIIBCZAFEYGX1prjhIFOqMk84+PfXiXF+RkRtFfqNw2x83yvBRQ+XBGb+R3ef8haB7LGFFoY5FxzR4+B2y+fWXfBn5jULdHo11naXUU0b1az2dVr9et3uFr7EQhaX5N4KtRgABBBBAAIHiCxCFxTcv6TUGicIN+1ZKn359zGxU7769RT+mPvGQ7DhV4Ss6/EZhxcHVMuCO/uaU0d+UjTWnTN415k7f8RNWFJbvX2VmL3UWU2cz3eHp9XGQKNRTZ0eOHZEdgwa8zh7u8vE+Sx0vUVjSfyrYeAQQQAABBBAoogBRWERsViUSJAqdi6roe9b0/XP6WS9oUjbnQXORE6/h4zzPbxQ649ALzOh7CZ33zw25c5CvGbqwonD+qsdNoOr4nG0s9HOQKNQ4nzRrgvTs1dOMQ2cJ9cIzemptoePQ5xOF/MVAAAEEEEAAAQSKI0AUFseZtbQJBIlCfd9a7bH12QCsf7vSXP3T7+mSQaNQL+qiY9KAWb75aROoGkGFBlAYUdhwulrunXiPjBg9XLb9sfCrjjpj9huFOhs4cfp4c/Gd8v0viJ5i68yirqxbXLAJUcifDAQQQAABBBBAoHgCRGHxrFmTBJspdMLF/VlvR6GnKfq5wqXfKHTe2+i+FYZzSqmf9zuGEYXOqbWPzC/zfQsIdfUbhc72T3tyUnb9zvfKZj/o63RWZgr5k4EAAggggAACCBRHgCgsjjNraRMIMlOo9wDUmTidIdSAcWYK9aIvW04UfisIv1FY/1alOXVVb0HhvJ/RmSl8vvaZgmfFwohCvaiLns4a5NTRIFHoRKn74jsv73nevAeUKOTwRwABBBBAAAEE4i1AFMZ7/6RudEGiUMNH30OoN2Z/ZEFZ9j2Fs5c+kp2dcs8idvXYbxTqct335NP7FOr9CjUS9bTJrtab+/OgUeicOuo3jt3j8TtTqKeP3l82zoRp5n2Wk2Xg4AHmYkB+Q5WZwtQd/mwQAggggAACCMRUgCiM6Y5J67CCRKHecuHpl56UoSMGmzjUm8fr135vCxEkCvW9hDprqVch1Rm6+yaNkdqj6wsOQg2yoFHozNL5nZELIwp1GTprqleD1avCarwPGzlEVm5Z4ivYdXlEYVr/CrBdCCCAAAIIIBA3AaIwbnsk5eMJEoXueAnjcZAoDGP9zjKCRqGznDA++50pDGPducsgClP+x4DNQwABBBBAAIHYCBCFsdkVpTEQonCLNZtIFNomGohEYWn8TWArEUAAAQQQQCB6AaIw+n1QUiMgCu0AIgptE6KwpP4ssLEIIIAAAgggELEAURjxDii11ROFdgARhbYJUVhqfxnYXgQQQAABBBCIUoAojFK/BNdNFNoBRBTaJkRhCf5xYJMRQAABBBBAIDIBojAy+tJcMVFoBxBRaJsQhaX594GtRgABBBBAAIFoBIjCaNxLdq1EoR1ARKFtQhSW7J8INhwBBBBAAAEEIhAgCiNAL+VVEoV2ABGFtglRWMp/Jdh2BBBAAAEEECi2AFFYbPESXx9RaAcQUWibEIUl/oeCzUcAAQQQQACBogoQhUXlZmWNjY1SXl7OBwaefgfOnTvHQYMAAggggAACCCDQzQJEYTcDs/j2Ajdu3JArV66Ifo7649KlS3L16tXIx/HJJ5/IhQsXIh+H7o+mpibzEfW+0fWryTfffNP+F4ivEEAAAQQQQAABBEIXIApDJ2WBCCCAAAIIIIAAAggggEByBIjC5OwrRooAAggggAACCCCAAAIIhC5AFIZOygIRQAABBBBAAAEEEEAAgeQIEIXJ2VeMFAEEEEAAAQQQQAABBBAIXYAoDJ2UBSKAAAIIIIAAAggggAACyREgCpOzrxgpAggggAACCCCAAAIIIBC6AFEYOikLRAABBBBAAAEEEEAAAQSSI0AUJmdfMVIEEEAAAQQQQAABBBBAIHQBojB0UhaIAAIIIIAAAggggAACCCRHgChMzr5ipAgggAACCCCAAAIIIIBA6AJEYeikLBABBBBAAAEEEEAAAQQQSI4AUZicfcVIEUAAAQQQQAABBBBAAIHQBYjC0ElZIAIIIIAAAggggAACCCCQHAGiMDn7ipEigAACCCCAAAIIIIAAAqELEIWhk7JABBBAAAEEEEAAAQQQQCA5AkRhcvYVI0UAAQQQQAABBBBAAAEEQhcgCkMnZYEIIIAAAggggAACCCCAQHIE/j/zGKiJru0K0QAAAABJRU5ErkJggg==)"
      ]
    },
    {
      "cell_type": "markdown",
      "metadata": {
        "id": "PnkDGSu0gjpw"
      },
      "source": [
        "## Ejercicio 1.8.\n",
        "\n",
        "Crea una copia de people_df llamada personajes_df y renombra las columnas con su traducción al castellano. \n",
        "\n",
        "Muestra los 5 primeros registros del nuevo data frame con `.head()`."
      ]
    },
    {
      "cell_type": "code",
      "execution_count": 82,
      "metadata": {
        "colab": {
          "base_uri": "https://localhost:8080/",
          "height": 237
        },
        "id": "7jK-a6Engjpx",
        "outputId": "e523a9dd-ef65-41cb-c960-8d6d4f30cb29"
      },
      "outputs": [
        {
          "output_type": "execute_result",
          "data": {
            "text/plain": [
              "                altura   peso   edad  género                             home\n",
              "nombre                                                                       \n",
              "Luke Skywalker   172.0   77.0   19.0    male  http://swapi.dev/api/planets/1/\n",
              "C-3PO            167.0   75.0  112.0    none  http://swapi.dev/api/planets/1/\n",
              "R2-D2             96.0   32.0   33.0    none  http://swapi.dev/api/planets/8/\n",
              "Darth Vader      202.0  136.0   41.9    male  http://swapi.dev/api/planets/1/\n",
              "Leia Organa      150.0   49.0   19.0  female  http://swapi.dev/api/planets/2/"
            ],
            "text/html": [
              "\n",
              "  <div id=\"df-e1ec50c7-5f9c-4689-94b4-f60a7dd9c98d\">\n",
              "    <div class=\"colab-df-container\">\n",
              "      <div>\n",
              "<style scoped>\n",
              "    .dataframe tbody tr th:only-of-type {\n",
              "        vertical-align: middle;\n",
              "    }\n",
              "\n",
              "    .dataframe tbody tr th {\n",
              "        vertical-align: top;\n",
              "    }\n",
              "\n",
              "    .dataframe thead th {\n",
              "        text-align: right;\n",
              "    }\n",
              "</style>\n",
              "<table border=\"1\" class=\"dataframe\">\n",
              "  <thead>\n",
              "    <tr style=\"text-align: right;\">\n",
              "      <th></th>\n",
              "      <th>altura</th>\n",
              "      <th>peso</th>\n",
              "      <th>edad</th>\n",
              "      <th>género</th>\n",
              "      <th>home</th>\n",
              "    </tr>\n",
              "    <tr>\n",
              "      <th>nombre</th>\n",
              "      <th></th>\n",
              "      <th></th>\n",
              "      <th></th>\n",
              "      <th></th>\n",
              "      <th></th>\n",
              "    </tr>\n",
              "  </thead>\n",
              "  <tbody>\n",
              "    <tr>\n",
              "      <th>Luke Skywalker</th>\n",
              "      <td>172.0</td>\n",
              "      <td>77.0</td>\n",
              "      <td>19.0</td>\n",
              "      <td>male</td>\n",
              "      <td>http://swapi.dev/api/planets/1/</td>\n",
              "    </tr>\n",
              "    <tr>\n",
              "      <th>C-3PO</th>\n",
              "      <td>167.0</td>\n",
              "      <td>75.0</td>\n",
              "      <td>112.0</td>\n",
              "      <td>none</td>\n",
              "      <td>http://swapi.dev/api/planets/1/</td>\n",
              "    </tr>\n",
              "    <tr>\n",
              "      <th>R2-D2</th>\n",
              "      <td>96.0</td>\n",
              "      <td>32.0</td>\n",
              "      <td>33.0</td>\n",
              "      <td>none</td>\n",
              "      <td>http://swapi.dev/api/planets/8/</td>\n",
              "    </tr>\n",
              "    <tr>\n",
              "      <th>Darth Vader</th>\n",
              "      <td>202.0</td>\n",
              "      <td>136.0</td>\n",
              "      <td>41.9</td>\n",
              "      <td>male</td>\n",
              "      <td>http://swapi.dev/api/planets/1/</td>\n",
              "    </tr>\n",
              "    <tr>\n",
              "      <th>Leia Organa</th>\n",
              "      <td>150.0</td>\n",
              "      <td>49.0</td>\n",
              "      <td>19.0</td>\n",
              "      <td>female</td>\n",
              "      <td>http://swapi.dev/api/planets/2/</td>\n",
              "    </tr>\n",
              "  </tbody>\n",
              "</table>\n",
              "</div>\n",
              "      <button class=\"colab-df-convert\" onclick=\"convertToInteractive('df-e1ec50c7-5f9c-4689-94b4-f60a7dd9c98d')\"\n",
              "              title=\"Convert this dataframe to an interactive table.\"\n",
              "              style=\"display:none;\">\n",
              "        \n",
              "  <svg xmlns=\"http://www.w3.org/2000/svg\" height=\"24px\"viewBox=\"0 0 24 24\"\n",
              "       width=\"24px\">\n",
              "    <path d=\"M0 0h24v24H0V0z\" fill=\"none\"/>\n",
              "    <path d=\"M18.56 5.44l.94 2.06.94-2.06 2.06-.94-2.06-.94-.94-2.06-.94 2.06-2.06.94zm-11 1L8.5 8.5l.94-2.06 2.06-.94-2.06-.94L8.5 2.5l-.94 2.06-2.06.94zm10 10l.94 2.06.94-2.06 2.06-.94-2.06-.94-.94-2.06-.94 2.06-2.06.94z\"/><path d=\"M17.41 7.96l-1.37-1.37c-.4-.4-.92-.59-1.43-.59-.52 0-1.04.2-1.43.59L10.3 9.45l-7.72 7.72c-.78.78-.78 2.05 0 2.83L4 21.41c.39.39.9.59 1.41.59.51 0 1.02-.2 1.41-.59l7.78-7.78 2.81-2.81c.8-.78.8-2.07 0-2.86zM5.41 20L4 18.59l7.72-7.72 1.47 1.35L5.41 20z\"/>\n",
              "  </svg>\n",
              "      </button>\n",
              "      \n",
              "  <style>\n",
              "    .colab-df-container {\n",
              "      display:flex;\n",
              "      flex-wrap:wrap;\n",
              "      gap: 12px;\n",
              "    }\n",
              "\n",
              "    .colab-df-convert {\n",
              "      background-color: #E8F0FE;\n",
              "      border: none;\n",
              "      border-radius: 50%;\n",
              "      cursor: pointer;\n",
              "      display: none;\n",
              "      fill: #1967D2;\n",
              "      height: 32px;\n",
              "      padding: 0 0 0 0;\n",
              "      width: 32px;\n",
              "    }\n",
              "\n",
              "    .colab-df-convert:hover {\n",
              "      background-color: #E2EBFA;\n",
              "      box-shadow: 0px 1px 2px rgba(60, 64, 67, 0.3), 0px 1px 3px 1px rgba(60, 64, 67, 0.15);\n",
              "      fill: #174EA6;\n",
              "    }\n",
              "\n",
              "    [theme=dark] .colab-df-convert {\n",
              "      background-color: #3B4455;\n",
              "      fill: #D2E3FC;\n",
              "    }\n",
              "\n",
              "    [theme=dark] .colab-df-convert:hover {\n",
              "      background-color: #434B5C;\n",
              "      box-shadow: 0px 1px 3px 1px rgba(0, 0, 0, 0.15);\n",
              "      filter: drop-shadow(0px 1px 2px rgba(0, 0, 0, 0.3));\n",
              "      fill: #FFFFFF;\n",
              "    }\n",
              "  </style>\n",
              "\n",
              "      <script>\n",
              "        const buttonEl =\n",
              "          document.querySelector('#df-e1ec50c7-5f9c-4689-94b4-f60a7dd9c98d button.colab-df-convert');\n",
              "        buttonEl.style.display =\n",
              "          google.colab.kernel.accessAllowed ? 'block' : 'none';\n",
              "\n",
              "        async function convertToInteractive(key) {\n",
              "          const element = document.querySelector('#df-e1ec50c7-5f9c-4689-94b4-f60a7dd9c98d');\n",
              "          const dataTable =\n",
              "            await google.colab.kernel.invokeFunction('convertToInteractive',\n",
              "                                                     [key], {});\n",
              "          if (!dataTable) return;\n",
              "\n",
              "          const docLinkHtml = 'Like what you see? Visit the ' +\n",
              "            '<a target=\"_blank\" href=https://colab.research.google.com/notebooks/data_table.ipynb>data table notebook</a>'\n",
              "            + ' to learn more about interactive tables.';\n",
              "          element.innerHTML = '';\n",
              "          dataTable['output_type'] = 'display_data';\n",
              "          await google.colab.output.renderOutput(dataTable, element);\n",
              "          const docLink = document.createElement('div');\n",
              "          docLink.innerHTML = docLinkHtml;\n",
              "          element.appendChild(docLink);\n",
              "        }\n",
              "      </script>\n",
              "    </div>\n",
              "  </div>\n",
              "  "
            ]
          },
          "metadata": {},
          "execution_count": 82
        }
      ],
      "source": [
        "# Solución:\n",
        "personajes_df=people_df.rename_axis(index='nombre')\n",
        "personajes_df.columns=['altura','peso','edad','género','home']\n",
        "personajes_df.head(5)"
      ]
    },
    {
      "cell_type": "markdown",
      "metadata": {
        "id": "blkoKgizgjp5"
      },
      "source": [
        "## Ejercicio 1.9.\n",
        "\n",
        "Haz el mismo cálculo de IMC que has hecho en 1.5. pero directamente sobre el objeto personajes_df.\n",
        "\n",
        "Ordena el data frame de mayor a menor IMC y muestra el nombre e IMC de los personajes con IMC por encima de 30.\n",
        "\n",
        "> ¿Sabias que IMC por encima de 30 se considera obeso?\n"
      ]
    },
    {
      "cell_type": "code",
      "execution_count": 90,
      "metadata": {
        "colab": {
          "base_uri": "https://localhost:8080/",
          "height": 237
        },
        "id": "CHIIcuANgjp6",
        "outputId": "2bcc55d5-65cd-49c6-b9a7-fc8a382dd4d4"
      },
      "outputs": [
        {
          "output_type": "execute_result",
          "data": {
            "text/plain": [
              "                   IMC\n",
              "nombre                \n",
              "Yoda         39.026630\n",
              "Owen Lars    37.874006\n",
              "IG-88        35.000000\n",
              "R2-D2        34.722222\n",
              "Darth Vader  33.330066"
            ],
            "text/html": [
              "\n",
              "  <div id=\"df-504e0350-e97d-49dd-920a-de4a5ec0bbba\">\n",
              "    <div class=\"colab-df-container\">\n",
              "      <div>\n",
              "<style scoped>\n",
              "    .dataframe tbody tr th:only-of-type {\n",
              "        vertical-align: middle;\n",
              "    }\n",
              "\n",
              "    .dataframe tbody tr th {\n",
              "        vertical-align: top;\n",
              "    }\n",
              "\n",
              "    .dataframe thead th {\n",
              "        text-align: right;\n",
              "    }\n",
              "</style>\n",
              "<table border=\"1\" class=\"dataframe\">\n",
              "  <thead>\n",
              "    <tr style=\"text-align: right;\">\n",
              "      <th></th>\n",
              "      <th>IMC</th>\n",
              "    </tr>\n",
              "    <tr>\n",
              "      <th>nombre</th>\n",
              "      <th></th>\n",
              "    </tr>\n",
              "  </thead>\n",
              "  <tbody>\n",
              "    <tr>\n",
              "      <th>Yoda</th>\n",
              "      <td>39.026630</td>\n",
              "    </tr>\n",
              "    <tr>\n",
              "      <th>Owen Lars</th>\n",
              "      <td>37.874006</td>\n",
              "    </tr>\n",
              "    <tr>\n",
              "      <th>IG-88</th>\n",
              "      <td>35.000000</td>\n",
              "    </tr>\n",
              "    <tr>\n",
              "      <th>R2-D2</th>\n",
              "      <td>34.722222</td>\n",
              "    </tr>\n",
              "    <tr>\n",
              "      <th>Darth Vader</th>\n",
              "      <td>33.330066</td>\n",
              "    </tr>\n",
              "  </tbody>\n",
              "</table>\n",
              "</div>\n",
              "      <button class=\"colab-df-convert\" onclick=\"convertToInteractive('df-504e0350-e97d-49dd-920a-de4a5ec0bbba')\"\n",
              "              title=\"Convert this dataframe to an interactive table.\"\n",
              "              style=\"display:none;\">\n",
              "        \n",
              "  <svg xmlns=\"http://www.w3.org/2000/svg\" height=\"24px\"viewBox=\"0 0 24 24\"\n",
              "       width=\"24px\">\n",
              "    <path d=\"M0 0h24v24H0V0z\" fill=\"none\"/>\n",
              "    <path d=\"M18.56 5.44l.94 2.06.94-2.06 2.06-.94-2.06-.94-.94-2.06-.94 2.06-2.06.94zm-11 1L8.5 8.5l.94-2.06 2.06-.94-2.06-.94L8.5 2.5l-.94 2.06-2.06.94zm10 10l.94 2.06.94-2.06 2.06-.94-2.06-.94-.94-2.06-.94 2.06-2.06.94z\"/><path d=\"M17.41 7.96l-1.37-1.37c-.4-.4-.92-.59-1.43-.59-.52 0-1.04.2-1.43.59L10.3 9.45l-7.72 7.72c-.78.78-.78 2.05 0 2.83L4 21.41c.39.39.9.59 1.41.59.51 0 1.02-.2 1.41-.59l7.78-7.78 2.81-2.81c.8-.78.8-2.07 0-2.86zM5.41 20L4 18.59l7.72-7.72 1.47 1.35L5.41 20z\"/>\n",
              "  </svg>\n",
              "      </button>\n",
              "      \n",
              "  <style>\n",
              "    .colab-df-container {\n",
              "      display:flex;\n",
              "      flex-wrap:wrap;\n",
              "      gap: 12px;\n",
              "    }\n",
              "\n",
              "    .colab-df-convert {\n",
              "      background-color: #E8F0FE;\n",
              "      border: none;\n",
              "      border-radius: 50%;\n",
              "      cursor: pointer;\n",
              "      display: none;\n",
              "      fill: #1967D2;\n",
              "      height: 32px;\n",
              "      padding: 0 0 0 0;\n",
              "      width: 32px;\n",
              "    }\n",
              "\n",
              "    .colab-df-convert:hover {\n",
              "      background-color: #E2EBFA;\n",
              "      box-shadow: 0px 1px 2px rgba(60, 64, 67, 0.3), 0px 1px 3px 1px rgba(60, 64, 67, 0.15);\n",
              "      fill: #174EA6;\n",
              "    }\n",
              "\n",
              "    [theme=dark] .colab-df-convert {\n",
              "      background-color: #3B4455;\n",
              "      fill: #D2E3FC;\n",
              "    }\n",
              "\n",
              "    [theme=dark] .colab-df-convert:hover {\n",
              "      background-color: #434B5C;\n",
              "      box-shadow: 0px 1px 3px 1px rgba(0, 0, 0, 0.15);\n",
              "      filter: drop-shadow(0px 1px 2px rgba(0, 0, 0, 0.3));\n",
              "      fill: #FFFFFF;\n",
              "    }\n",
              "  </style>\n",
              "\n",
              "      <script>\n",
              "        const buttonEl =\n",
              "          document.querySelector('#df-504e0350-e97d-49dd-920a-de4a5ec0bbba button.colab-df-convert');\n",
              "        buttonEl.style.display =\n",
              "          google.colab.kernel.accessAllowed ? 'block' : 'none';\n",
              "\n",
              "        async function convertToInteractive(key) {\n",
              "          const element = document.querySelector('#df-504e0350-e97d-49dd-920a-de4a5ec0bbba');\n",
              "          const dataTable =\n",
              "            await google.colab.kernel.invokeFunction('convertToInteractive',\n",
              "                                                     [key], {});\n",
              "          if (!dataTable) return;\n",
              "\n",
              "          const docLinkHtml = 'Like what you see? Visit the ' +\n",
              "            '<a target=\"_blank\" href=https://colab.research.google.com/notebooks/data_table.ipynb>data table notebook</a>'\n",
              "            + ' to learn more about interactive tables.';\n",
              "          element.innerHTML = '';\n",
              "          dataTable['output_type'] = 'display_data';\n",
              "          await google.colab.output.renderOutput(dataTable, element);\n",
              "          const docLink = document.createElement('div');\n",
              "          docLink.innerHTML = docLinkHtml;\n",
              "          element.appendChild(docLink);\n",
              "        }\n",
              "      </script>\n",
              "    </div>\n",
              "  </div>\n",
              "  "
            ]
          },
          "metadata": {},
          "execution_count": 90
        }
      ],
      "source": [
        "# Solución:\n",
        "personajes_df=personajes_df.assign(\n",
        "    IMC=personajes_df[\"peso\"]/(personajes_df[\"altura\"]/100)**2)\n",
        "\n",
        "personajes_df=personajes_df.sort_values(\"IMC\", ascending = False).\\\n",
        "    loc[personajes_df.IMC > 30, [\"IMC\"]]\n",
        "\n",
        "personajes_df.head()"
      ]
    },
    {
      "cell_type": "markdown",
      "metadata": {
        "id": "E-goVaMEgjqB"
      },
      "source": [
        "## Ejercicio 1.10.\n",
        "\n",
        "Inserta un valor faltante en los valores de IMC que sean superiores a 100 y dibuja el histograma del IMC transformado con `.plot.hist()`."
      ]
    },
    {
      "cell_type": "code",
      "execution_count": 88,
      "metadata": {
        "colab": {
          "base_uri": "https://localhost:8080/",
          "height": 301
        },
        "id": "oWQQoDs_gjqD",
        "outputId": "fb7139ed-d827-40cf-bf58-3992eb55644e"
      },
      "outputs": [
        {
          "output_type": "display_data",
          "data": {
            "text/plain": [
              "<Figure size 432x288 with 1 Axes>"
            ],
            "image/png": "[encoded data removed]"
          },
          "metadata": {}
        }
      ],
      "source": [
        "# Solución:\n",
        "personajes_df[personajes_df.IMC > 100] = np.nan\n",
        "\n",
        "plt.hist(personajes_df.IMC, color='#F2AB6D', rwidth=0.85)\n",
        "plt.title(\"Histograma - IMC\")\n",
        "plt.xlabel('IMC')\n",
        "plt.ylabel('Frecuencia')\n",
        "\n",
        "plt.xlim([0,100])\n",
        "plt.show()"
      ]
    }
  ],
  "metadata": {
    "colab": {
      "provenance": []
    },
    "kernelspec": {
      "display_name": "Python 3",
      "language": "python",
      "name": "python3"
    },
    "language_info": {
      "codemirror_mode": {
        "name": "ipython",
        "version": 3
      },
      "file_extension": ".py",
      "mimetype": "text/x-python",
      "name": "python",
      "nbconvert_exporter": "python",
      "pygments_lexer": "ipython3",
      "version": "3.11.0 (main, Oct 24 2022, 18:26:48) [MSC v.1933 64 bit (AMD64)]"
    },
    "vscode": {
      "interpreter": {
        "hash": "6ae8529147ccb9d33df701f347986e210c9a7a1d6d4d5547492a51dd24d46ea9"
      }
    }
  },
  "nbformat": 4,
  "nbformat_minor": 0
}