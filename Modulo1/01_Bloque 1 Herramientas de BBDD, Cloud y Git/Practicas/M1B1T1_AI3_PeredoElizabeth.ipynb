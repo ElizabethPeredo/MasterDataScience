{
  "cells": [
    {
      "cell_type": "markdown",
      "source": [
        "# **M1B1T1_AI3. PROCESAMIENTO DE DATOS CON SPARK 2.X. NATALIDAD EE.UU.**"
      ],
      "metadata": {
        "id": "IjUUZ10YzpZh"
      }
    },
    {
      "cell_type": "markdown",
      "source": [
        "NOMBRE: ELIZABETH PEREDO MESCCO"
      ],
      "metadata": {
        "id": "quuA_dUbz4fH"
      }
    },
    {
      "cell_type": "code",
      "source": [
        "pip install pyspark"
      ],
      "metadata": {
        "id": "YdCKLTb1IdH2"
      },
      "execution_count": null,
      "outputs": []
    },
    {
      "cell_type": "code",
      "source": [
        "pip install numpy"
      ],
      "metadata": {
        "id": "aJFsNZKRIyW5"
      },
      "execution_count": null,
      "outputs": []
    },
    {
      "cell_type": "code",
      "source": [
        "pip install panda"
      ],
      "metadata": {
        "id": "nhBqBfT2I0jp"
      },
      "execution_count": null,
      "outputs": []
    },
    {
      "cell_type": "code",
      "source": [
        "!pip install -U -q PyDrive"
      ],
      "metadata": {
        "id": "elh6zu0ZKcvj"
      },
      "execution_count": null,
      "outputs": []
    },
    {
      "cell_type": "code",
      "source": [
        "from pydrive.auth import GoogleAuth\n",
        "from pydrive.drive import GoogleDrive\n",
        "from google.colab import auth\n",
        "from oauth2client.client import GoogleCredentials\n",
        " \n",
        "from google.colab import files\n",
        "uploaded = files.upload()"
      ],
      "metadata": {
        "id": "M6Q_ylE3KBqR",
        "colab": {
          "base_uri": "https://localhost:8080/",
          "height": 72
        },
        "outputId": "23073715-3cbe-4e19-f36d-43f899690051"
      },
      "execution_count": null,
      "outputs": [
        {
          "output_type": "display_data",
          "data": {
            "text/plain": [
              "<IPython.core.display.HTML object>"
            ],
            "text/html": [
              "\n",
              "     <input type=\"file\" id=\"files-7cfea2d6-547b-43c3-81bc-4892a9fef217\" name=\"files[]\" multiple disabled\n",
              "        style=\"border:none\" />\n",
              "     <output id=\"result-7cfea2d6-547b-43c3-81bc-4892a9fef217\">\n",
              "      Upload widget is only available when the cell has been executed in the\n",
              "      current browser session. Please rerun this cell to enable.\n",
              "      </output>\n",
              "      <script>// Copyright 2017 Google LLC\n",
              "//\n",
              "// Licensed under the Apache License, Version 2.0 (the \"License\");\n",
              "// you may not use this file except in compliance with the License.\n",
              "// You may obtain a copy of the License at\n",
              "//\n",
              "//      http://www.apache.org/licenses/LICENSE-2.0\n",
              "//\n",
              "// Unless required by applicable law or agreed to in writing, software\n",
              "// distributed under the License is distributed on an \"AS IS\" BASIS,\n",
              "// WITHOUT WARRANTIES OR CONDITIONS OF ANY KIND, either express or implied.\n",
              "// See the License for the specific language governing permissions and\n",
              "// limitations under the License.\n",
              "\n",
              "/**\n",
              " * @fileoverview Helpers for google.colab Python module.\n",
              " */\n",
              "(function(scope) {\n",
              "function span(text, styleAttributes = {}) {\n",
              "  const element = document.createElement('span');\n",
              "  element.textContent = text;\n",
              "  for (const key of Object.keys(styleAttributes)) {\n",
              "    element.style[key] = styleAttributes[key];\n",
              "  }\n",
              "  return element;\n",
              "}\n",
              "\n",
              "// Max number of bytes which will be uploaded at a time.\n",
              "const MAX_PAYLOAD_SIZE = 100 * 1024;\n",
              "\n",
              "function _uploadFiles(inputId, outputId) {\n",
              "  const steps = uploadFilesStep(inputId, outputId);\n",
              "  const outputElement = document.getElementById(outputId);\n",
              "  // Cache steps on the outputElement to make it available for the next call\n",
              "  // to uploadFilesContinue from Python.\n",
              "  outputElement.steps = steps;\n",
              "\n",
              "  return _uploadFilesContinue(outputId);\n",
              "}\n",
              "\n",
              "// This is roughly an async generator (not supported in the browser yet),\n",
              "// where there are multiple asynchronous steps and the Python side is going\n",
              "// to poll for completion of each step.\n",
              "// This uses a Promise to block the python side on completion of each step,\n",
              "// then passes the result of the previous step as the input to the next step.\n",
              "function _uploadFilesContinue(outputId) {\n",
              "  const outputElement = document.getElementById(outputId);\n",
              "  const steps = outputElement.steps;\n",
              "\n",
              "  const next = steps.next(outputElement.lastPromiseValue);\n",
              "  return Promise.resolve(next.value.promise).then((value) => {\n",
              "    // Cache the last promise value to make it available to the next\n",
              "    // step of the generator.\n",
              "    outputElement.lastPromiseValue = value;\n",
              "    return next.value.response;\n",
              "  });\n",
              "}\n",
              "\n",
              "/**\n",
              " * Generator function which is called between each async step of the upload\n",
              " * process.\n",
              " * @param {string} inputId Element ID of the input file picker element.\n",
              " * @param {string} outputId Element ID of the output display.\n",
              " * @return {!Iterable<!Object>} Iterable of next steps.\n",
              " */\n",
              "function* uploadFilesStep(inputId, outputId) {\n",
              "  const inputElement = document.getElementById(inputId);\n",
              "  inputElement.disabled = false;\n",
              "\n",
              "  const outputElement = document.getElementById(outputId);\n",
              "  outputElement.innerHTML = '';\n",
              "\n",
              "  const pickedPromise = new Promise((resolve) => {\n",
              "    inputElement.addEventListener('change', (e) => {\n",
              "      resolve(e.target.files);\n",
              "    });\n",
              "  });\n",
              "\n",
              "  const cancel = document.createElement('button');\n",
              "  inputElement.parentElement.appendChild(cancel);\n",
              "  cancel.textContent = 'Cancel upload';\n",
              "  const cancelPromise = new Promise((resolve) => {\n",
              "    cancel.onclick = () => {\n",
              "      resolve(null);\n",
              "    };\n",
              "  });\n",
              "\n",
              "  // Wait for the user to pick the files.\n",
              "  const files = yield {\n",
              "    promise: Promise.race([pickedPromise, cancelPromise]),\n",
              "    response: {\n",
              "      action: 'starting',\n",
              "    }\n",
              "  };\n",
              "\n",
              "  cancel.remove();\n",
              "\n",
              "  // Disable the input element since further picks are not allowed.\n",
              "  inputElement.disabled = true;\n",
              "\n",
              "  if (!files) {\n",
              "    return {\n",
              "      response: {\n",
              "        action: 'complete',\n",
              "      }\n",
              "    };\n",
              "  }\n",
              "\n",
              "  for (const file of files) {\n",
              "    const li = document.createElement('li');\n",
              "    li.append(span(file.name, {fontWeight: 'bold'}));\n",
              "    li.append(span(\n",
              "        `(${file.type || 'n/a'}) - ${file.size} bytes, ` +\n",
              "        `last modified: ${\n",
              "            file.lastModifiedDate ? file.lastModifiedDate.toLocaleDateString() :\n",
              "                                    'n/a'} - `));\n",
              "    const percent = span('0% done');\n",
              "    li.appendChild(percent);\n",
              "\n",
              "    outputElement.appendChild(li);\n",
              "\n",
              "    const fileDataPromise = new Promise((resolve) => {\n",
              "      const reader = new FileReader();\n",
              "      reader.onload = (e) => {\n",
              "        resolve(e.target.result);\n",
              "      };\n",
              "      reader.readAsArrayBuffer(file);\n",
              "    });\n",
              "    // Wait for the data to be ready.\n",
              "    let fileData = yield {\n",
              "      promise: fileDataPromise,\n",
              "      response: {\n",
              "        action: 'continue',\n",
              "      }\n",
              "    };\n",
              "\n",
              "    // Use a chunked sending to avoid message size limits. See b/62115660.\n",
              "    let position = 0;\n",
              "    do {\n",
              "      const length = Math.min(fileData.byteLength - position, MAX_PAYLOAD_SIZE);\n",
              "      const chunk = new Uint8Array(fileData, position, length);\n",
              "      position += length;\n",
              "\n",
              "      const base64 = btoa(String.fromCharCode.apply(null, chunk));\n",
              "      yield {\n",
              "        response: {\n",
              "          action: 'append',\n",
              "          file: file.name,\n",
              "          data: base64,\n",
              "        },\n",
              "      };\n",
              "\n",
              "      let percentDone = fileData.byteLength === 0 ?\n",
              "          100 :\n",
              "          Math.round((position / fileData.byteLength) * 100);\n",
              "      percent.textContent = `${percentDone}% done`;\n",
              "\n",
              "    } while (position < fileData.byteLength);\n",
              "  }\n",
              "\n",
              "  // All done.\n",
              "  yield {\n",
              "    response: {\n",
              "      action: 'complete',\n",
              "    }\n",
              "  };\n",
              "}\n",
              "\n",
              "scope.google = scope.google || {};\n",
              "scope.google.colab = scope.google.colab || {};\n",
              "scope.google.colab._files = {\n",
              "  _uploadFiles,\n",
              "  _uploadFilesContinue,\n",
              "};\n",
              "})(self);\n",
              "</script> "
            ]
          },
          "metadata": {}
        },
        {
          "output_type": "stream",
          "name": "stdout",
          "text": [
            "Saving natality.csv to natality.csv\n"
          ]
        }
      ]
    },
    {
      "cell_type": "code",
      "execution_count": null,
      "metadata": {
        "colab": {
          "base_uri": "https://localhost:8080/"
        },
        "id": "8ooSxL3CIKKH",
        "outputId": "575e1a42-7a9e-4cf2-f9ad-7f46524bfa2c"
      },
      "outputs": [
        {
          "output_type": "stream",
          "name": "stdout",
          "text": [
            "root\n",
            " |-- source_year: integer (nullable = true)\n",
            " |-- year: integer (nullable = true)\n",
            " |-- month: integer (nullable = true)\n",
            " |-- day: string (nullable = true)\n",
            " |-- wday: integer (nullable = true)\n",
            " |-- state: string (nullable = true)\n",
            " |-- is_male: boolean (nullable = true)\n",
            " |-- child_race: string (nullable = true)\n",
            " |-- weight_pounds: double (nullable = true)\n",
            " |-- plurality: integer (nullable = true)\n",
            " |-- apgar_1min: string (nullable = true)\n",
            " |-- apgar_5min: integer (nullable = true)\n",
            " |-- mother_residence_state: string (nullable = true)\n",
            " |-- mother_race: string (nullable = true)\n",
            " |-- mother_age: integer (nullable = true)\n",
            " |-- gestation_weeks: integer (nullable = true)\n",
            " |-- lmp: integer (nullable = true)\n",
            " |-- mother_married: boolean (nullable = true)\n",
            " |-- mother_birth_state: string (nullable = true)\n",
            " |-- cigarette_use: string (nullable = true)\n",
            " |-- cigarettes_per_day: string (nullable = true)\n",
            " |-- alcohol_use: string (nullable = true)\n",
            " |-- drinks_per_week: string (nullable = true)\n",
            " |-- weight_gain_pounds: integer (nullable = true)\n",
            " |-- born_alive_alive: integer (nullable = true)\n",
            " |-- born_alive_dead: integer (nullable = true)\n",
            " |-- born_dead: integer (nullable = true)\n",
            " |-- ever_born: integer (nullable = true)\n",
            " |-- father_race: string (nullable = true)\n",
            " |-- father_age: integer (nullable = true)\n",
            " |-- record_weight: integer (nullable = true)\n",
            "\n"
          ]
        }
      ],
      "source": [
        "from pyspark.sql import SparkSession\n",
        "from pyspark.sql.functions import when, col, desc, avg, mean, column\n",
        "\n",
        "spark=SparkSession\\\n",
        "    .builder\\\n",
        "    .appName(\"Test\")\\\n",
        "    .getOrCreate()\n",
        "\n",
        "df=spark.read\\\n",
        "    .option(\"header\",\"true\")\\\n",
        "    .option(\"inferSchema\",\"true\")\\\n",
        "    .csv(\"natality.csv\")\n",
        "df.printSchema()\n",
        "\n",
        "df.createOrReplaceTempView(\"natality\")\n"
      ]
    },
    {
      "cell_type": "markdown",
      "source": [
        "# **1. Obtén en qué 10 estados nacieron más bebés en 2003.**"
      ],
      "metadata": {
        "id": "uSFDAnSnLvsV"
      }
    },
    {
      "cell_type": "code",
      "execution_count": null,
      "metadata": {
        "colab": {
          "base_uri": "https://localhost:8080/"
        },
        "id": "DcvQwmRyIKKK",
        "outputId": "1788a092-9c69-4258-e804-ca39e8a28796"
      },
      "outputs": [
        {
          "output_type": "stream",
          "name": "stdout",
          "text": [
            "+-----+-----+\n",
            "|state|count|\n",
            "+-----+-----+\n",
            "|   PA|   39|\n",
            "|   WA|   20|\n",
            "+-----+-----+\n",
            "\n"
          ]
        }
      ],
      "source": [
        "df.where(df.year==2003)\\\n",
        "    .groupBy(\"state\").count()\\\n",
        "    .sort(desc(\"count\"))\\\n",
        "    .show(10)\n"
      ]
    },
    {
      "cell_type": "code",
      "source": [
        "sqlDF = spark.sql(\n",
        "\"\"\"\n",
        "SELECT state, COUNT(state) \n",
        "FROM natality \n",
        "WHERE YEAR=2003 \n",
        "GROUP BY state \n",
        "ORDER BY COUNT(state) \n",
        "DESC\n",
        "\"\"\")\n",
        "sqlDF.show()"
      ],
      "metadata": {
        "colab": {
          "base_uri": "https://localhost:8080/"
        },
        "id": "Acl-RPQRx1Tf",
        "outputId": "1a9e440f-b9cc-4110-aa0e-e7f27469d5c1"
      },
      "execution_count": null,
      "outputs": [
        {
          "output_type": "stream",
          "name": "stdout",
          "text": [
            "+-----+------------+\n",
            "|state|count(state)|\n",
            "+-----+------------+\n",
            "|   PA|          39|\n",
            "|   WA|          20|\n",
            "+-----+------------+\n",
            "\n"
          ]
        }
      ]
    },
    {
      "cell_type": "markdown",
      "source": [
        "# **2. Obtén la media de peso de los bebés por año y estado.**"
      ],
      "metadata": {
        "id": "Ti8KPHVtMAMX"
      }
    },
    {
      "cell_type": "code",
      "execution_count": null,
      "metadata": {
        "colab": {
          "base_uri": "https://localhost:8080/"
        },
        "id": "OUtEOfIYIKKL",
        "outputId": "aa99fd56-ff65-46c9-b42d-4dee350bd62b"
      },
      "outputs": [
        {
          "output_type": "stream",
          "name": "stdout",
          "text": [
            "+----+-----+------------------+\n",
            "|year|state|avg(weight_pounds)|\n",
            "+----+-----+------------------+\n",
            "|2003|   WA| 7.220139080499999|\n",
            "|2003|   PA| 7.205867049854738|\n",
            "|2004|   WA| 7.211556799586427|\n",
            "|2004|   TN|    7.506188865445|\n",
            "|2004|   KY| 7.708830427933333|\n",
            "|2004|   SC|      6.4705673897|\n",
            "|2004|   PA| 7.104341277384499|\n",
            "|2004|   NH|     8.24969784404|\n",
            "|2004|   ID|    6.340053730596|\n",
            "|2004|   NY|  7.21329067831872|\n",
            "|2004|   FL| 7.099987147710001|\n",
            "+----+-----+------------------+\n",
            "\n"
          ]
        }
      ],
      "source": [
        "df.groupBy(\"year\",\"state\").avg(\"weight_pounds\")\\\n",
        ".na.drop(subset=[\"state\"])\\\n",
        ".orderBy(\"year\").show()\n"
      ]
    },
    {
      "cell_type": "code",
      "source": [
        "sqlDF = spark.sql(\n",
        "\"\"\"\n",
        "SELECT year, state, AVG(weight_pounds) \n",
        "FROM natality\n",
        "WHERE state IS NOT NULL \n",
        "GROUP BY year, state \n",
        "ORDER BY year ASC\n",
        "\"\"\")\n",
        "sqlDF.show()"
      ],
      "metadata": {
        "colab": {
          "base_uri": "https://localhost:8080/"
        },
        "id": "qRBNMnnc48Be",
        "outputId": "0124364a-002a-4f0a-f342-dbb8d5d30d95"
      },
      "execution_count": null,
      "outputs": [
        {
          "output_type": "stream",
          "name": "stdout",
          "text": [
            "+----+-----+------------------+\n",
            "|year|state|avg(weight_pounds)|\n",
            "+----+-----+------------------+\n",
            "|2003|   WA| 7.220139080499999|\n",
            "|2003|   PA| 7.205867049854738|\n",
            "|2004|   WA| 7.211556799586427|\n",
            "|2004|   TN|    7.506188865445|\n",
            "|2004|   KY| 7.708830427933333|\n",
            "|2004|   SC|      6.4705673897|\n",
            "|2004|   PA| 7.104341277384499|\n",
            "|2004|   NH|     8.24969784404|\n",
            "|2004|   ID|    6.340053730596|\n",
            "|2004|   NY|  7.21329067831872|\n",
            "|2004|   FL| 7.099987147710001|\n",
            "+----+-----+------------------+\n",
            "\n"
          ]
        }
      ]
    },
    {
      "cell_type": "markdown",
      "source": [
        "# **3. Evolución por año y por mes del número de niños y niñas nacidas (Resultado por separado con una sola consulta, cada registro debe tener 4 columnas: año, mes, numero de niños nacidos, numero de niñas nacidas).**\n"
      ],
      "metadata": {
        "id": "-CF-DMirMMkH"
      }
    },
    {
      "cell_type": "code",
      "execution_count": null,
      "metadata": {
        "colab": {
          "base_uri": "https://localhost:8080/"
        },
        "id": "k6eElpSpIKKL",
        "outputId": "2609d9be-dace-4c7b-cd18-4e3a8b7c5744"
      },
      "outputs": [
        {
          "output_type": "stream",
          "name": "stdout",
          "text": [
            "+----+-----+---------+----------+\n",
            "|year|month|sum(Boys)|sum(Girls)|\n",
            "+----+-----+---------+----------+\n",
            "|2003|    1|        3|         1|\n",
            "|2003|    3|        0|         4|\n",
            "|2003|    5|        2|         6|\n",
            "|2003|    6|        4|         5|\n",
            "|2003|    7|        2|         4|\n",
            "|2003|    8|        2|         3|\n",
            "|2003|    9|        4|         3|\n",
            "|2003|   10|        5|         2|\n",
            "|2003|   11|        2|         3|\n",
            "|2003|   12|        3|         1|\n",
            "|2004|    1|        4|        10|\n",
            "|2004|    2|        6|         5|\n",
            "|2004|    3|        9|         6|\n",
            "|2004|    4|       10|         6|\n",
            "|2004|    5|        8|         5|\n",
            "|2004|    6|       10|        10|\n",
            "|2004|    7|        9|         6|\n",
            "|2004|    8|        4|         9|\n",
            "|2004|    9|        6|         5|\n",
            "|2004|   10|        6|        11|\n",
            "+----+-----+---------+----------+\n",
            "only showing top 20 rows\n",
            "\n"
          ]
        }
      ],
      "source": [
        "df.withColumn(\"Boys\",when(df.is_male==True,1).otherwise(0))\\\n",
        "    .withColumn(\"Girls\",when(df.is_male==False,1).otherwise(0))\\\n",
        "    .groupBy(\"year\",\"month\").sum(\"Boys\",\"Girls\")\\\n",
        "    .orderBy(\"year\",\"month\").show()\n"
      ]
    },
    {
      "cell_type": "code",
      "source": [
        "sqlDF = spark.sql(\n",
        "\"\"\"\n",
        "SELECT year, month,SUM(Boys), SUM(Girls) FROM \n",
        "(SELECT year, month, \n",
        "CASE WHEN is_male = 'true' THEN 1 ELSE 0 END as Boys,\n",
        "CASE WHEN is_male = 'false' THEN 1 ELSE 0 END as Girls\n",
        "FROM natality) \n",
        "GROUP BY year, month\n",
        "ORDER BY year,month ASC\n",
        "\"\"\"\n",
        ")\n",
        "sqlDF.show()"
      ],
      "metadata": {
        "colab": {
          "base_uri": "https://localhost:8080/"
        },
        "id": "yAp-1iQc513U",
        "outputId": "eb5b6a59-3e8b-4caa-8cf6-373661b84d15"
      },
      "execution_count": null,
      "outputs": [
        {
          "output_type": "stream",
          "name": "stdout",
          "text": [
            "+----+-----+---------+----------+\n",
            "|year|month|sum(Boys)|sum(Girls)|\n",
            "+----+-----+---------+----------+\n",
            "|2003|    1|        3|         1|\n",
            "|2003|    3|        0|         4|\n",
            "|2003|    5|        2|         6|\n",
            "|2003|    6|        4|         5|\n",
            "|2003|    7|        2|         4|\n",
            "|2003|    8|        2|         3|\n",
            "|2003|    9|        4|         3|\n",
            "|2003|   10|        5|         2|\n",
            "|2003|   11|        2|         3|\n",
            "|2003|   12|        3|         1|\n",
            "|2004|    1|        4|        10|\n",
            "|2004|    2|        6|         5|\n",
            "|2004|    3|        9|         6|\n",
            "|2004|    4|       10|         6|\n",
            "|2004|    5|        8|         5|\n",
            "|2004|    6|       10|        10|\n",
            "|2004|    7|        9|         6|\n",
            "|2004|    8|        4|         9|\n",
            "|2004|    9|        6|         5|\n",
            "|2004|   10|        6|        11|\n",
            "+----+-----+---------+----------+\n",
            "only showing top 20 rows\n",
            "\n"
          ]
        }
      ]
    },
    {
      "cell_type": "markdown",
      "source": [
        "# **4. Obtén los tres meses de 2005 en que nacieron más bebés.**"
      ],
      "metadata": {
        "id": "vejiqLjsMcOl"
      }
    },
    {
      "cell_type": "code",
      "execution_count": null,
      "metadata": {
        "colab": {
          "base_uri": "https://localhost:8080/"
        },
        "id": "i1IteQUIIKKM",
        "outputId": "3ba7d506-03d4-4cd0-da78-f65b4e05672f"
      },
      "outputs": [
        {
          "output_type": "stream",
          "name": "stdout",
          "text": [
            "+-----+-----+\n",
            "|month|count|\n",
            "+-----+-----+\n",
            "|    3|  360|\n",
            "|   12|  352|\n",
            "|    8|  350|\n",
            "+-----+-----+\n",
            "only showing top 3 rows\n",
            "\n"
          ]
        }
      ],
      "source": [
        "df.where(df.year==2005).groupBy(\"month\").count().sort(desc(\"count\")).show(3)\n"
      ]
    },
    {
      "cell_type": "code",
      "source": [
        "sqlDF = spark.sql(\n",
        "\"\"\"\n",
        "SELECT month, count(month)\n",
        "FROM natality \n",
        "WHERE year=2005\n",
        "GROUP BY month\n",
        "ORDER BY count(month) DESC\n",
        "LIMIT 3\n",
        "\"\"\"\n",
        ")\n",
        "sqlDF.show()"
      ],
      "metadata": {
        "colab": {
          "base_uri": "https://localhost:8080/"
        },
        "id": "YXz9uKoNGRru",
        "outputId": "9974a264-2bbd-4926-89bf-2e333e0e67f4"
      },
      "execution_count": null,
      "outputs": [
        {
          "output_type": "stream",
          "name": "stdout",
          "text": [
            "+-----+------------+\n",
            "|month|count(month)|\n",
            "+-----+------------+\n",
            "|    3|         360|\n",
            "|   12|         352|\n",
            "|    8|         350|\n",
            "+-----+------------+\n",
            "\n"
          ]
        }
      ]
    },
    {
      "cell_type": "markdown",
      "source": [
        "Los meses de marzo, agosto y diciembre del 2005 nacieron más bebés."
      ],
      "metadata": {
        "id": "aX-qiWQoxUhD"
      }
    },
    {
      "cell_type": "markdown",
      "source": [
        "# **5. Obtén los estados donde las semanas de gestación son superiores a la media de EE. UU.**"
      ],
      "metadata": {
        "id": "00rFuFTXMm4f"
      }
    },
    {
      "cell_type": "code",
      "execution_count": null,
      "metadata": {
        "colab": {
          "base_uri": "https://localhost:8080/"
        },
        "id": "hfDsCPsVIKKM",
        "outputId": "4770a01b-6a2c-48eb-9bb9-627fbad9e59a"
      },
      "outputs": [
        {
          "output_type": "stream",
          "name": "stdout",
          "text": [
            "La media de las las semanas de gestación es 38.656659939455096\n",
            "\n",
            "Cantidad de madres con semanas de \n",
            "gestación superiores a la media de EEUU por estado\n",
            "+-----+-----+\n",
            "|state|count|\n",
            "+-----+-----+\n",
            "|   PA|   40|\n",
            "|   WA|   30|\n",
            "|   NY|   30|\n",
            "|   FL|   20|\n",
            "|   TN|    9|\n",
            "|   KY|    3|\n",
            "|   ID|    2|\n",
            "|   SC|    1|\n",
            "+-----+-----+\n",
            "\n",
            "\n",
            "Media de madres con semanas de gestación \n",
            "superiores a la media de EEUU por estado\n",
            "+-----+---------+\n",
            "|state|avg_weeks|\n",
            "+-----+---------+\n",
            "|   KY|     39.0|\n",
            "+-----+---------+\n",
            "\n"
          ]
        }
      ],
      "source": [
        "avgGestation=df.select(avg(\"gestation_weeks\").cast(\"double\")).collect()[0][0]\n",
        "print(\"La media de las las semanas de gestación es \"+str(avgGestation))\n",
        "\n",
        "print(\"\"\"\n",
        "Cantidad de madres con semanas de \n",
        "gestación superiores a la media de EEUU por estado\"\"\")\n",
        "df.where(df.gestation_weeks>avgGestation)\\\n",
        ".groupBy(\"state\").count().na.drop(subset=[\"state\"])\\\n",
        ".sort(desc(\"count\")).show()\n",
        "\n",
        "print(\"\"\"\n",
        "Media de madres con semanas de gestación \n",
        "superiores a la media de EEUU por estado\"\"\")\n",
        "df.groupBy(\"state\")\\\n",
        ".agg(avg(\"gestation_weeks\").alias(\"avg_weeks\"))\\\n",
        ".na.drop(subset=[\"state\"])\\\n",
        ".where(col(\"avg_weeks\")>avgGestation)\\\n",
        ".sort(desc(\"avg_weeks\")).show()\n"
      ]
    },
    {
      "cell_type": "code",
      "source": [
        "print(\"\"\"\n",
        "Cantidad de madres con semanas de \n",
        "gestación superiores a la media de EEUU por estado\"\"\")\n",
        "sqlDF = spark.sql(\n",
        "\"\"\"\n",
        "SELECT state, COUNT(state)\n",
        "FROM natality \n",
        "WHERE gestation_weeks>(SELECT AVG(gestation_weeks) FROM natality)\n",
        "AND state IS NOT NULL\n",
        "GROUP BY state\n",
        "ORDER BY count(state) DESC\n",
        "\"\"\"\n",
        ")\n",
        "sqlDF.show()\n",
        "\n",
        "\n",
        "print(\"\"\"\n",
        "Media de madres con semanas de gestación \n",
        "superiores a la media de EEUU por estado\"\"\")\n",
        "sqlDF = spark.sql(\n",
        "\"\"\"\n",
        "SELECT * FROM \n",
        "(SELECT state, \n",
        "AVG(gestation_weeks) AS AVG_WEEKS\n",
        "FROM natality \n",
        "GROUP BY state)\n",
        "WHERE AVG_WEEKS>(SELECT AVG(gestation_weeks) FROM natality)\n",
        "AND state IS NOT NULL\n",
        "ORDER BY AVG_WEEKS DESC\n",
        "\"\"\"\n",
        ")\n",
        "sqlDF.show()"
      ],
      "metadata": {
        "colab": {
          "base_uri": "https://localhost:8080/"
        },
        "id": "jLUwPef7JFMU",
        "outputId": "58525646-5d3e-4208-839c-f0fef1870d01"
      },
      "execution_count": null,
      "outputs": [
        {
          "output_type": "stream",
          "name": "stdout",
          "text": [
            "\n",
            "Cantidad de madres con semanas de \n",
            "gestación superiores a la media de EEUU por estado\n",
            "+-----+------------+\n",
            "|state|count(state)|\n",
            "+-----+------------+\n",
            "|   PA|          40|\n",
            "|   WA|          30|\n",
            "|   NY|          30|\n",
            "|   FL|          20|\n",
            "|   TN|           9|\n",
            "|   KY|           3|\n",
            "|   ID|           2|\n",
            "|   SC|           1|\n",
            "+-----+------------+\n",
            "\n",
            "\n",
            "Media de madres con semanas de gestación \n",
            "superiores a la media de EEUU por estado\n",
            "+-----+---------+\n",
            "|state|AVG_WEEKS|\n",
            "+-----+---------+\n",
            "|   KY|     39.0|\n",
            "+-----+---------+\n",
            "\n"
          ]
        }
      ]
    },
    {
      "cell_type": "markdown",
      "source": [
        "# **6. Obtén los cinco estados donde la media de edad de las madres ha sido mayor.**\n"
      ],
      "metadata": {
        "id": "A2-Ze3POMyjs"
      }
    },
    {
      "cell_type": "code",
      "execution_count": null,
      "metadata": {
        "colab": {
          "base_uri": "https://localhost:8080/"
        },
        "id": "10N6yfjEIKKN",
        "outputId": "95fbea48-af0d-4a8d-d224-0ac5c4c9846c"
      },
      "outputs": [
        {
          "output_type": "stream",
          "name": "stdout",
          "text": [
            "La edad media de las madres es 25\n",
            "+-----+------------------+\n",
            "|state|           avg_age|\n",
            "+-----+------------------+\n",
            "|   ID|              34.8|\n",
            "|   KY|33.333333333333336|\n",
            "|   SC|31.666666666666668|\n",
            "|   WA|31.346938775510203|\n",
            "|   PA|31.024390243902438|\n",
            "+-----+------------------+\n",
            "only showing top 5 rows\n",
            "\n"
          ]
        }
      ],
      "source": [
        "avgAgeMother=df.select(avg(\"mother_age\").cast(\"int\")).collect()[0][0]\n",
        "print(\"La edad media de las madres es \"+str(avgAgeMother))\n",
        "\n",
        "df.groupBy(\"state\")\\\n",
        ".agg(avg(\"mother_age\").alias(\"avg_age\"))\\\n",
        ".na.drop(subset=[\"state\"])\\\n",
        ".where(col(\"avg_age\")> avgAgeMother)\\\n",
        ".sort(desc(\"avg_age\")).show(5)\n"
      ]
    },
    {
      "cell_type": "code",
      "source": [
        "sqlDF = spark.sql(\n",
        "\"\"\"\n",
        "SELECT * FROM \n",
        "(SELECT state, \n",
        "AVG(mother_age) AS AVG_MOTHER_AGE\n",
        "FROM natality \n",
        "GROUP BY state)\n",
        "WHERE AVG_MOTHER_AGE>(SELECT AVG(mother_age) \n",
        "FROM natality)\n",
        "AND state IS NOT NULL\n",
        "ORDER BY AVG_MOTHER_AGE DESC\n",
        "LIMIT 5\n",
        "\"\"\"\n",
        ")\n",
        "sqlDF.show()"
      ],
      "metadata": {
        "colab": {
          "base_uri": "https://localhost:8080/"
        },
        "id": "SCOr2cmdbAGM",
        "outputId": "ae37b4c9-8310-4115-9e94-813bf55cd8aa"
      },
      "execution_count": null,
      "outputs": [
        {
          "output_type": "stream",
          "name": "stdout",
          "text": [
            "+-----+------------------+\n",
            "|state|    AVG_MOTHER_AGE|\n",
            "+-----+------------------+\n",
            "|   ID|              34.8|\n",
            "|   KY|33.333333333333336|\n",
            "|   SC|31.666666666666668|\n",
            "|   WA|31.346938775510203|\n",
            "|   PA|31.024390243902438|\n",
            "+-----+------------------+\n",
            "\n"
          ]
        }
      ]
    },
    {
      "cell_type": "markdown",
      "source": [
        "# **7. Indica cómo influye en el peso del bebé y las semanas de gestación que la madre haya tenido un parto múltiple (campo plurality) a las que no lo han tenido.**"
      ],
      "metadata": {
        "id": "IRBLLLYKM8ki"
      }
    },
    {
      "cell_type": "code",
      "execution_count": null,
      "metadata": {
        "colab": {
          "base_uri": "https://localhost:8080/"
        },
        "id": "PqzLCIN-IKKN",
        "outputId": "fb51e9d4-2409-4c9e-c4f4-035109145a62"
      },
      "outputs": [
        {
          "output_type": "stream",
          "name": "stdout",
          "text": [
            "+---------+------------------+--------------------+\n",
            "|plurality|avg(weight_pounds)|avg(gestation_weeks)|\n",
            "+---------+------------------+--------------------+\n",
            "|4        |4.06311948866     |32.5                |\n",
            "|3        |3.814878981648    |31.733333333333334  |\n",
            "|2        |4.842073024972972 |34.708708708708706  |\n",
            "|1        |7.152029712115611 |38.748935895782274  |\n",
            "+---------+------------------+--------------------+\n",
            "\n"
          ]
        }
      ],
      "source": [
        "df_plurality=df.groupBy(\"plurality\")\\\n",
        "    .agg(avg(\"weight_pounds\"),avg(\"gestation_weeks\"))\\\n",
        "    .orderBy(column(\"plurality\").desc())\\\n",
        "    .show(truncate=False)"
      ]
    },
    {
      "cell_type": "markdown",
      "source": [
        "En la tabla precedente se evidencia que el peso del bebé y las semanas de gestación de la madre tiene una relación inversa con el parto múltiple de la madre. Esto indica que mientras mayor sea el número de hijos, el peso y tiempo de gestación es menor."
      ],
      "metadata": {
        "id": "srC5V3usNbfK"
      }
    },
    {
      "cell_type": "code",
      "execution_count": null,
      "metadata": {
        "id": "XkMgI1whIKKP",
        "colab": {
          "base_uri": "https://localhost:8080/"
        },
        "outputId": "da80dee0-7b8c-4134-e866-b4c78fa1d985"
      },
      "outputs": [
        {
          "output_type": "stream",
          "name": "stdout",
          "text": [
            "+---------+------------------+--------------------+\n",
            "|plurality|avg(weight_pounds)|avg(gestation_weeks)|\n",
            "+---------+------------------+--------------------+\n",
            "|        4|     4.06311948866|                32.5|\n",
            "|        3|    3.814878981648|  31.733333333333334|\n",
            "|        2| 4.842073024972972|  34.708708708708706|\n",
            "|        1| 7.152029712115611|  38.748935895782274|\n",
            "+---------+------------------+--------------------+\n",
            "\n"
          ]
        }
      ],
      "source": [
        "sqlDF = spark.sql(\n",
        "\"\"\"\n",
        "SELECT plurality, \n",
        "AVG(weight_pounds),\n",
        "AVG(gestation_weeks)\n",
        "FROM natality \n",
        "GROUP BY plurality\n",
        "ORDER BY plurality DESC\n",
        "\"\"\"\n",
        ")\n",
        "sqlDF.show()"
      ]
    }
  ],
  "metadata": {
    "kernelspec": {
      "display_name": "Python 3.11.0 64-bit",
      "language": "python",
      "name": "python3"
    },
    "language_info": {
      "codemirror_mode": {
        "name": "ipython",
        "version": 3
      },
      "file_extension": ".py",
      "mimetype": "text/x-python",
      "name": "python",
      "nbconvert_exporter": "python",
      "pygments_lexer": "ipython3",
      "version": "3.11.0"
    },
    "orig_nbformat": 4,
    "vscode": {
      "interpreter": {
        "hash": "6ae8529147ccb9d33df701f347986e210c9a7a1d6d4d5547492a51dd24d46ea9"
      }
    },
    "colab": {
      "provenance": []
    }
  },
  "nbformat": 4,
  "nbformat_minor": 0
}