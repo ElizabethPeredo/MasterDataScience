{
  "nbformat": 4,
  "nbformat_minor": 0,
  "metadata": {
    "colab": {
      "provenance": []
    },
    "kernelspec": {
      "name": "python3",
      "display_name": "Python 3"
    },
    "language_info": {
      "name": "python"
    }
  },
  "cells": [
    {
      "cell_type": "markdown",
      "source": [
        "# **`M2_AI1_PRECIO GASOLINA`**"
      ],
      "metadata": {
        "id": "i8oaaEetkyDx"
      }
    },
    {
      "cell_type": "markdown",
      "source": [
        "NOMBRE: Elzabeth Peredo"
      ],
      "metadata": {
        "id": "066b0datk3Go"
      }
    },
    {
      "cell_type": "code",
      "source": [
        "import numpy as np\n",
        "import pandas as pd\n",
        "import seaborn as sns\n",
        "import matplotlib.pyplot as plt\n",
        "from plotnine import *\n",
        "import datetime\n",
        "import locale\n",
        "import math\n",
        "from math import log, log10\n",
        "from IPython.display import display, HTML\n",
        "from tabulate import tabulate"
      ],
      "metadata": {
        "id": "pb9gOJ21h7FG"
      },
      "execution_count": 89,
      "outputs": []
    },
    {
      "cell_type": "code",
      "source": [
        "!pip install -U -q PyDrive\n",
        "from pydrive.auth import GoogleAuth\n",
        "from pydrive.drive import GoogleDrive\n",
        "from google.colab import auth\n",
        "from oauth2client.client import GoogleCredentials\n",
        "\n",
        "\n",
        "auth.authenticate_user()\n",
        "gauth = GoogleAuth()\n",
        "gauth.credentials = GoogleCredentials.get_application_default()\n",
        "drive = GoogleDrive(gauth)\n",
        "\n",
        "url='https://drive.google.com/file/d/1pXjkOdBJDFGiJJlihcs0pjcZPKScP7jx/view?usp=share_link'\n",
        "file_id = url.split('/')[-2]\n",
        "\n",
        "fileDownloaded = drive.CreateFile({'id':file_id})\n",
        "\n",
        "fileDownloaded.GetContentFile('precio_gasolina.csv')\n",
        "\n",
        "df = pd.read_csv('precio_gasolina.csv', delimiter=';')\n",
        "df.head()"
      ],
      "metadata": {
        "colab": {
          "base_uri": "https://localhost:8080/",
          "height": 582
        },
        "id": "IGKtaWCc0jAS",
        "outputId": "dd73133f-fe7b-4c36-e06f-1ac769e2dd76"
      },
      "execution_count": 22,
      "outputs": [
        {
          "output_type": "execute_result",
          "data": {
            "text/plain": [
              "                Provincia                 Localidad  Codigo_postal  \\\n",
              "0  SANTA CRUZ DE TENERIFE         CUESTA LA                  38320   \n",
              "1  SANTA CRUZ DE TENERIFE                 LA LAGUNA          38200   \n",
              "2  SANTA CRUZ DE TENERIFE  SANTA CRUZ DE TENERIFE            38110   \n",
              "3  SANTA CRUZ DE TENERIFE  SANTA CRUZ DE TENERIFE            38010   \n",
              "4  SANTA CRUZ DE TENERIFE           ADEJE                    38670   \n",
              "\n",
              "                                      Direccion Margen    Toma_de_datos  \\\n",
              "0                      AVENIDA LOS MENCEYES 223      D  01 08 2020 1353   \n",
              "1                      CARRETERA TF111 KM 8 346      D  01 08 2020 0900   \n",
              "2              CALLE LAURA GROTE DE LA PUERTA 2      D  27 07 2020 1202   \n",
              "3                      POLIGONO EL MAYORAZGO SN      N  29 07 2020 0000   \n",
              "4  CALLE CHARFA ESQUINA AVENIDA LAS PALMITAS SN      D  27 07 2020 1159   \n",
              "\n",
              "  Precio         Rotulo Tipo_venta Rem                       Horario  \\\n",
              "0  0,758           PCAN          P  dm                        LD 24H   \n",
              "1  0,759         OCEANO          P  dm        LS 06002200 D 07002200   \n",
              "2  0,769          GMOIL          P  dm  LV 24H S 06002000 D 08001500   \n",
              "3  0,789  TGASTU TREBOL          P  dm        LS 07302100 D 08001400   \n",
              "4  0,789          GMOIL          P  dm        LS 07002200 D 09001600   \n",
              "\n",
              "                              Tipo_servicio Fecha_extraccion  \n",
              "0                                LD 24H  A        01 08 2020  \n",
              "1            LS 06002200  A  D 07002200  A        01 08 2020  \n",
              "2  LV 24H  A  S 06002000  A  D 08001500  A        01 08 2020  \n",
              "3            LS 07302100  A  D 08001400  A        01 08 2020  \n",
              "4            LS 07002200  A  D 09001600  A        01 08 2020  "
            ],
            "text/html": [
              "\n",
              "  <div id=\"df-f2367063-7893-4458-b954-cc0efbf60d39\">\n",
              "    <div class=\"colab-df-container\">\n",
              "      <div>\n",
              "<style scoped>\n",
              "    .dataframe tbody tr th:only-of-type {\n",
              "        vertical-align: middle;\n",
              "    }\n",
              "\n",
              "    .dataframe tbody tr th {\n",
              "        vertical-align: top;\n",
              "    }\n",
              "\n",
              "    .dataframe thead th {\n",
              "        text-align: right;\n",
              "    }\n",
              "</style>\n",
              "<table border=\"1\" class=\"dataframe\">\n",
              "  <thead>\n",
              "    <tr style=\"text-align: right;\">\n",
              "      <th></th>\n",
              "      <th>Provincia</th>\n",
              "      <th>Localidad</th>\n",
              "      <th>Codigo_postal</th>\n",
              "      <th>Direccion</th>\n",
              "      <th>Margen</th>\n",
              "      <th>Toma_de_datos</th>\n",
              "      <th>Precio</th>\n",
              "      <th>Rotulo</th>\n",
              "      <th>Tipo_venta</th>\n",
              "      <th>Rem</th>\n",
              "      <th>Horario</th>\n",
              "      <th>Tipo_servicio</th>\n",
              "      <th>Fecha_extraccion</th>\n",
              "    </tr>\n",
              "  </thead>\n",
              "  <tbody>\n",
              "    <tr>\n",
              "      <th>0</th>\n",
              "      <td>SANTA CRUZ DE TENERIFE</td>\n",
              "      <td>CUESTA LA</td>\n",
              "      <td>38320</td>\n",
              "      <td>AVENIDA LOS MENCEYES 223</td>\n",
              "      <td>D</td>\n",
              "      <td>01 08 2020 1353</td>\n",
              "      <td>0,758</td>\n",
              "      <td>PCAN</td>\n",
              "      <td>P</td>\n",
              "      <td>dm</td>\n",
              "      <td>LD 24H</td>\n",
              "      <td>LD 24H  A</td>\n",
              "      <td>01 08 2020</td>\n",
              "    </tr>\n",
              "    <tr>\n",
              "      <th>1</th>\n",
              "      <td>SANTA CRUZ DE TENERIFE</td>\n",
              "      <td>LA LAGUNA</td>\n",
              "      <td>38200</td>\n",
              "      <td>CARRETERA TF111 KM 8 346</td>\n",
              "      <td>D</td>\n",
              "      <td>01 08 2020 0900</td>\n",
              "      <td>0,759</td>\n",
              "      <td>OCEANO</td>\n",
              "      <td>P</td>\n",
              "      <td>dm</td>\n",
              "      <td>LS 06002200 D 07002200</td>\n",
              "      <td>LS 06002200  A  D 07002200  A</td>\n",
              "      <td>01 08 2020</td>\n",
              "    </tr>\n",
              "    <tr>\n",
              "      <th>2</th>\n",
              "      <td>SANTA CRUZ DE TENERIFE</td>\n",
              "      <td>SANTA CRUZ DE TENERIFE</td>\n",
              "      <td>38110</td>\n",
              "      <td>CALLE LAURA GROTE DE LA PUERTA 2</td>\n",
              "      <td>D</td>\n",
              "      <td>27 07 2020 1202</td>\n",
              "      <td>0,769</td>\n",
              "      <td>GMOIL</td>\n",
              "      <td>P</td>\n",
              "      <td>dm</td>\n",
              "      <td>LV 24H S 06002000 D 08001500</td>\n",
              "      <td>LV 24H  A  S 06002000  A  D 08001500  A</td>\n",
              "      <td>01 08 2020</td>\n",
              "    </tr>\n",
              "    <tr>\n",
              "      <th>3</th>\n",
              "      <td>SANTA CRUZ DE TENERIFE</td>\n",
              "      <td>SANTA CRUZ DE TENERIFE</td>\n",
              "      <td>38010</td>\n",
              "      <td>POLIGONO EL MAYORAZGO SN</td>\n",
              "      <td>N</td>\n",
              "      <td>29 07 2020 0000</td>\n",
              "      <td>0,789</td>\n",
              "      <td>TGASTU TREBOL</td>\n",
              "      <td>P</td>\n",
              "      <td>dm</td>\n",
              "      <td>LS 07302100 D 08001400</td>\n",
              "      <td>LS 07302100  A  D 08001400  A</td>\n",
              "      <td>01 08 2020</td>\n",
              "    </tr>\n",
              "    <tr>\n",
              "      <th>4</th>\n",
              "      <td>SANTA CRUZ DE TENERIFE</td>\n",
              "      <td>ADEJE</td>\n",
              "      <td>38670</td>\n",
              "      <td>CALLE CHARFA ESQUINA AVENIDA LAS PALMITAS SN</td>\n",
              "      <td>D</td>\n",
              "      <td>27 07 2020 1159</td>\n",
              "      <td>0,789</td>\n",
              "      <td>GMOIL</td>\n",
              "      <td>P</td>\n",
              "      <td>dm</td>\n",
              "      <td>LS 07002200 D 09001600</td>\n",
              "      <td>LS 07002200  A  D 09001600  A</td>\n",
              "      <td>01 08 2020</td>\n",
              "    </tr>\n",
              "  </tbody>\n",
              "</table>\n",
              "</div>\n",
              "      <button class=\"colab-df-convert\" onclick=\"convertToInteractive('df-f2367063-7893-4458-b954-cc0efbf60d39')\"\n",
              "              title=\"Convert this dataframe to an interactive table.\"\n",
              "              style=\"display:none;\">\n",
              "        \n",
              "  <svg xmlns=\"http://www.w3.org/2000/svg\" height=\"24px\"viewBox=\"0 0 24 24\"\n",
              "       width=\"24px\">\n",
              "    <path d=\"M0 0h24v24H0V0z\" fill=\"none\"/>\n",
              "    <path d=\"M18.56 5.44l.94 2.06.94-2.06 2.06-.94-2.06-.94-.94-2.06-.94 2.06-2.06.94zm-11 1L8.5 8.5l.94-2.06 2.06-.94-2.06-.94L8.5 2.5l-.94 2.06-2.06.94zm10 10l.94 2.06.94-2.06 2.06-.94-2.06-.94-.94-2.06-.94 2.06-2.06.94z\"/><path d=\"M17.41 7.96l-1.37-1.37c-.4-.4-.92-.59-1.43-.59-.52 0-1.04.2-1.43.59L10.3 9.45l-7.72 7.72c-.78.78-.78 2.05 0 2.83L4 21.41c.39.39.9.59 1.41.59.51 0 1.02-.2 1.41-.59l7.78-7.78 2.81-2.81c.8-.78.8-2.07 0-2.86zM5.41 20L4 18.59l7.72-7.72 1.47 1.35L5.41 20z\"/>\n",
              "  </svg>\n",
              "      </button>\n",
              "      \n",
              "  <style>\n",
              "    .colab-df-container {\n",
              "      display:flex;\n",
              "      flex-wrap:wrap;\n",
              "      gap: 12px;\n",
              "    }\n",
              "\n",
              "    .colab-df-convert {\n",
              "      background-color: #E8F0FE;\n",
              "      border: none;\n",
              "      border-radius: 50%;\n",
              "      cursor: pointer;\n",
              "      display: none;\n",
              "      fill: #1967D2;\n",
              "      height: 32px;\n",
              "      padding: 0 0 0 0;\n",
              "      width: 32px;\n",
              "    }\n",
              "\n",
              "    .colab-df-convert:hover {\n",
              "      background-color: #E2EBFA;\n",
              "      box-shadow: 0px 1px 2px rgba(60, 64, 67, 0.3), 0px 1px 3px 1px rgba(60, 64, 67, 0.15);\n",
              "      fill: #174EA6;\n",
              "    }\n",
              "\n",
              "    [theme=dark] .colab-df-convert {\n",
              "      background-color: #3B4455;\n",
              "      fill: #D2E3FC;\n",
              "    }\n",
              "\n",
              "    [theme=dark] .colab-df-convert:hover {\n",
              "      background-color: #434B5C;\n",
              "      box-shadow: 0px 1px 3px 1px rgba(0, 0, 0, 0.15);\n",
              "      filter: drop-shadow(0px 1px 2px rgba(0, 0, 0, 0.3));\n",
              "      fill: #FFFFFF;\n",
              "    }\n",
              "  </style>\n",
              "\n",
              "      <script>\n",
              "        const buttonEl =\n",
              "          document.querySelector('#df-f2367063-7893-4458-b954-cc0efbf60d39 button.colab-df-convert');\n",
              "        buttonEl.style.display =\n",
              "          google.colab.kernel.accessAllowed ? 'block' : 'none';\n",
              "\n",
              "        async function convertToInteractive(key) {\n",
              "          const element = document.querySelector('#df-f2367063-7893-4458-b954-cc0efbf60d39');\n",
              "          const dataTable =\n",
              "            await google.colab.kernel.invokeFunction('convertToInteractive',\n",
              "                                                     [key], {});\n",
              "          if (!dataTable) return;\n",
              "\n",
              "          const docLinkHtml = 'Like what you see? Visit the ' +\n",
              "            '<a target=\"_blank\" href=https://colab.research.google.com/notebooks/data_table.ipynb>data table notebook</a>'\n",
              "            + ' to learn more about interactive tables.';\n",
              "          element.innerHTML = '';\n",
              "          dataTable['output_type'] = 'display_data';\n",
              "          await google.colab.output.renderOutput(dataTable, element);\n",
              "          const docLink = document.createElement('div');\n",
              "          docLink.innerHTML = docLinkHtml;\n",
              "          element.appendChild(docLink);\n",
              "        }\n",
              "      </script>\n",
              "    </div>\n",
              "  </div>\n",
              "  "
            ]
          },
          "metadata": {},
          "execution_count": 22
        }
      ]
    },
    {
      "cell_type": "code",
      "source": [
        "# Colores de gráficos\n",
        "colors = ['#0069c0','#137fd9',\"#2196f3\",\"#20f26f\",'#3df883']"
      ],
      "metadata": {
        "id": "o57OXOn_vfE3"
      },
      "execution_count": 113,
      "outputs": []
    },
    {
      "cell_type": "markdown",
      "source": [
        "# **Identifica el tipo de variables**"
      ],
      "metadata": {
        "id": "vEKRdEgBxpZo"
      }
    },
    {
      "cell_type": "code",
      "source": [
        "df.info()"
      ],
      "metadata": {
        "colab": {
          "base_uri": "https://localhost:8080/"
        },
        "id": "jNYl3oRwUeOy",
        "outputId": "ec324d04-965d-4357-e921-2b1e89e7aecf"
      },
      "execution_count": 23,
      "outputs": [
        {
          "output_type": "stream",
          "name": "stdout",
          "text": [
            "<class 'pandas.core.frame.DataFrame'>\n",
            "RangeIndex: 9991 entries, 0 to 9990\n",
            "Data columns (total 13 columns):\n",
            " #   Column            Non-Null Count  Dtype \n",
            "---  ------            --------------  ----- \n",
            " 0   Provincia         9991 non-null   object\n",
            " 1   Localidad         9991 non-null   object\n",
            " 2   Codigo_postal     9991 non-null   int64 \n",
            " 3   Direccion         9991 non-null   object\n",
            " 4   Margen            9991 non-null   object\n",
            " 5   Toma_de_datos     9991 non-null   object\n",
            " 6   Precio            9991 non-null   object\n",
            " 7   Rotulo            9990 non-null   object\n",
            " 8   Tipo_venta        9991 non-null   object\n",
            " 9   Rem               9991 non-null   object\n",
            " 10  Horario           9991 non-null   object\n",
            " 11  Tipo_servicio     9845 non-null   object\n",
            " 12  Fecha_extraccion  9991 non-null   object\n",
            "dtypes: int64(1), object(12)\n",
            "memory usage: 1014.8+ KB\n"
          ]
        }
      ]
    },
    {
      "cell_type": "markdown",
      "source": [
        "El método **info()** imprime información sobre un DataFrame, incluido el tipo de índice y las columnas, los valores no nulos y el uso de la memoria.\n",
        "\n"
      ],
      "metadata": {
        "id": "4nFWsE3FS9qE"
      }
    },
    {
      "cell_type": "markdown",
      "source": [
        "Al usar los datos de una base de datos en csv, ciertas variables se convierten en object, en el siguiente apartado se convertira algunas variables object a su respectiva clasificación."
      ],
      "metadata": {
        "id": "UoaCrxmVeV5f"
      }
    },
    {
      "cell_type": "markdown",
      "source": [
        "# **Identifica la clasificación a la que corresponden las variables.**\n"
      ],
      "metadata": {
        "id": "xgz3LVJRxuXC"
      }
    },
    {
      "cell_type": "code",
      "source": [
        "df_new=df.copy()"
      ],
      "metadata": {
        "id": "Kht7QZs9jm7_"
      },
      "execution_count": null,
      "outputs": []
    },
    {
      "cell_type": "markdown",
      "source": [
        "La variable \"**Precio**\" deberia ser una variable float, debido a que en el archivo csv el decimal esta con \",\", no reconoce la variable como numérica. En primera instancia se debe reemplzar \",\" por \".\", despues usando la propiedad \"**astype**\" lo convertimos a \"**float**\"."
      ],
      "metadata": {
        "id": "dLGDwtuWh-MP"
      }
    },
    {
      "cell_type": "code",
      "source": [
        "df_new['Precio']= df_new[\"Precio\"].str.replace(',', '.', case = False)\n",
        "df_new['Precio'] = df_new['Precio'].astype(float)"
      ],
      "metadata": {
        "id": "U4y-ST4Bjj4P"
      },
      "execution_count": null,
      "outputs": []
    },
    {
      "cell_type": "markdown",
      "source": [
        "Las variables \"**Toma_de_datos**\" y \"**Fecha_extraccion**\" usando la propiedad de pandas \"**to_datetime**\", nos permite convertir la variable a tipo datetime."
      ],
      "metadata": {
        "id": "EDp__1BUjqoh"
      }
    },
    {
      "cell_type": "code",
      "source": [
        "df_new['Toma_de_datos'] = pd.to_datetime(df_new['Toma_de_datos'])\n",
        "df_new['Fecha_extraccion'] = pd.to_datetime(df_new['Fecha_extraccion'])"
      ],
      "metadata": {
        "id": "1x0IF3pGzg7q"
      },
      "execution_count": 40,
      "outputs": []
    },
    {
      "cell_type": "code",
      "source": [
        "df_new.info()"
      ],
      "metadata": {
        "colab": {
          "base_uri": "https://localhost:8080/"
        },
        "id": "2ZiS9_vzjv9E",
        "outputId": "79777519-0079-4b05-f5a8-16c5c9e1ee50"
      },
      "execution_count": 41,
      "outputs": [
        {
          "output_type": "stream",
          "name": "stdout",
          "text": [
            "<class 'pandas.core.frame.DataFrame'>\n",
            "RangeIndex: 9991 entries, 0 to 9990\n",
            "Data columns (total 13 columns):\n",
            " #   Column            Non-Null Count  Dtype         \n",
            "---  ------            --------------  -----         \n",
            " 0   Provincia         9991 non-null   object        \n",
            " 1   Localidad         9991 non-null   object        \n",
            " 2   Codigo_postal     9991 non-null   int64         \n",
            " 3   Direccion         9991 non-null   object        \n",
            " 4   Margen            9991 non-null   object        \n",
            " 5   Toma_de_datos     9991 non-null   datetime64[ns]\n",
            " 6   Precio            9991 non-null   float64       \n",
            " 7   Rotulo            9990 non-null   object        \n",
            " 8   Tipo_venta        9991 non-null   object        \n",
            " 9   Rem               9991 non-null   object        \n",
            " 10  Horario           9991 non-null   object        \n",
            " 11  Tipo_servicio     9845 non-null   object        \n",
            " 12  Fecha_extraccion  9991 non-null   datetime64[ns]\n",
            "dtypes: datetime64[ns](2), float64(1), int64(1), object(9)\n",
            "memory usage: 1014.8+ KB\n"
          ]
        }
      ]
    },
    {
      "cell_type": "markdown",
      "source": [
        "# **Identifica el tipo de variables que sería desde el punto de vista del análisis de datos.**"
      ],
      "metadata": {
        "id": "N33INwNQxxde"
      }
    },
    {
      "cell_type": "markdown",
      "source": [
        "En la siguiente tabla se evidencia el tipo de dato, tipo de variable estadistica y los atributos de esta variable."
      ],
      "metadata": {
        "id": "kMa9yoCF55Sd"
      }
    },
    {
      "cell_type": "code",
      "source": [
        "df_var = pd.DataFrame()\n",
        "\n",
        "# creamos las columnas\n",
        "df_var['Tipo'] = None\n",
        "df_var['Variable Estadistica'] = None\n",
        "df_var['Key'] = None\n",
        "\n",
        "# añadimos filas por su nombre de fila\n",
        "df_var.loc['Provincia']=['Varchar','Cualitativa nominal','']\n",
        "df_var.loc['Localidad']=['Varchar','Cualitativa nominal','']\n",
        "df_var.loc['Codigo_postal']=['Integer','Cuantitativa discreta','']\n",
        "df_var.loc['Direccion']=['Varchar','Cualitativa nominal','']\n",
        "df_var.loc['Margen']=['Varchar','Cualitativa nominal',\"\"\"\n",
        "D: Derecho.\n",
        "I: Izquierdo.\n",
        "N: No aplica\n",
        "\"\"\"]\n",
        "df_var.loc['Toma_de_datos']=['Date','Cualitativa nominal','']\n",
        "df_var.loc['Precio']=['Decimal','Cuantitativa continua','']\n",
        "df_var.loc['Rotulo']=['Varchar','Cualitativa nominal','']\n",
        "df_var.loc['Tipo_venta']=['Varchar','Cualitativa ordinal',\"\"\"\n",
        "P: Venta al público en general.\n",
        "R: Venta reVarcharida a socios o cooperativistas\n",
        "\"\"\"]\n",
        "df_var.loc['Rem']=['Varchar','Cualitativa ordinal',\"\"\"\n",
        "OM: Datos procedentes del operador mayorista.\n",
        "DM: Datos procedentes del distribuidor minorista\n",
        "\"\"\"]\n",
        "df_var.loc['Horario']=['Date','Cuantitativa','']\n",
        "df_var.loc['Tipo_servicio']=['Varchar','Cualitativa ordinal',\"\"\"\n",
        "P: Servicio asistido por personal.\n",
        "A: Autoservicio por parte del cliente, con presencia de personal en la instalación.\n",
        "D: Autoservicio por parte del cliente, sin presencia de personal en la instalación.\n",
        "N: No aplica, no se tiene información.\n",
        "\"\"\"]\n",
        "df_var.loc['Fecha_extraccion']=['Date','Cuantitativa','']"
      ],
      "metadata": {
        "id": "McvGbqZVft_N"
      },
      "execution_count": 123,
      "outputs": []
    },
    {
      "cell_type": "code",
      "source": [
        "print(tabulate(df_var, headers = 'keys', tablefmt = 'psql'))"
      ],
      "metadata": {
        "colab": {
          "base_uri": "https://localhost:8080/"
        },
        "id": "IYLGf6ySqNcC",
        "outputId": "8cf072a6-c064-4ec8-8455-697b170f887a"
      },
      "execution_count": 124,
      "outputs": [
        {
          "output_type": "stream",
          "name": "stdout",
          "text": [
            "+------------------+---------+------------------------+-------------------------------------------------------------------------------------+\n",
            "|                  | Tipo    | Variable Estadistica   | Key                                                                                 |\n",
            "|------------------+---------+------------------------+-------------------------------------------------------------------------------------|\n",
            "| Provincia        | Varchar | Cualitativa nominal    |                                                                                     |\n",
            "| Localidad        | Varchar | Cualitativa nominal    |                                                                                     |\n",
            "| Codigo_postal    | Integer | Cuantitativa discreta  |                                                                                     |\n",
            "| Direccion        | Varchar | Cualitativa nominal    |                                                                                     |\n",
            "| Margen           | Varchar | Cualitativa nominal    | D: Derecho.                                                                         |\n",
            "|                  |         |                        | I: Izquierdo.                                                                       |\n",
            "|                  |         |                        | N: No aplica                                                                        |\n",
            "| Toma_de_datos    | Date    | Cualitativa nominal    |                                                                                     |\n",
            "| Precio           | Decimal | Cuantitativa continua  |                                                                                     |\n",
            "| Rotulo           | Varchar | Cualitativa nominal    |                                                                                     |\n",
            "| Tipo_venta       | Varchar | Cualitativa ordinal    | P: Venta al público en general.                                                     |\n",
            "|                  |         |                        | R: Venta reVarcharida a socios o cooperativistas                                    |\n",
            "| Rem              | Varchar | Cualitativa ordinal    | OM: Datos procedentes del operador mayorista.                                       |\n",
            "|                  |         |                        | DM: Datos procedentes del distribuidor minorista                                    |\n",
            "| Horario          | Date    | Cuantitativa           |                                                                                     |\n",
            "| Tipo_servicio    | Varchar | Cualitativa ordinal    | P: Servicio asistido por personal.                                                  |\n",
            "|                  |         |                        | A: Autoservicio por parte del cliente, con presencia de personal en la instalación. |\n",
            "|                  |         |                        | D: Autoservicio por parte del cliente, sin presencia de personal en la instalación. |\n",
            "|                  |         |                        | N: No aplica, no se tiene información.                                              |\n",
            "| Fecha_extraccion | Date    | Cuantitativa           |                                                                                     |\n",
            "+------------------+---------+------------------------+-------------------------------------------------------------------------------------+\n"
          ]
        }
      ]
    },
    {
      "cell_type": "markdown",
      "source": [
        "# **Crear una tabla de frecuencias y el gráfico correspondiente para las variables siguientes: provincia, margen y precio**"
      ],
      "metadata": {
        "id": "GVx2tpu5x-yH"
      }
    },
    {
      "cell_type": "markdown",
      "source": [
        "## 1. Provincia"
      ],
      "metadata": {
        "id": "nNoklLu0xYQx"
      }
    },
    {
      "cell_type": "code",
      "source": [
        "#FRECUENCIA ABSOLUTA\n",
        "df_provincia=df_new.groupby('Provincia').agg(ni=(\"Provincia\", \"count\")).sort_values(['ni'],ascending=True)\n",
        "#FRECUENCIA RELATIVA\n",
        "df_provincia['fi%'] = round((df_provincia.ni / df_provincia.ni.sum())* 100,1)\n",
        "\n",
        "#FRECUENCIA ABSOLUTA ACUMULADA\n",
        "df_provincia['Ni'] = round(df_provincia.ni.cumsum(),1)\n",
        "#FRECUENCIA RELATIVA ACUMULADA\n",
        "df_provincia['Fi%'] = round((df_provincia.ni.cumsum() / df_provincia.ni.sum())* 100,1)\n",
        "\n",
        "df_provincia.head()"
      ],
      "metadata": {
        "colab": {
          "base_uri": "https://localhost:8080/",
          "height": 237
        },
        "id": "zLI2XG_L16hN",
        "outputId": "5fdc7d8c-8bac-4113-bbc2-dba749310fa2"
      },
      "execution_count": 25,
      "outputs": [
        {
          "output_type": "execute_result",
          "data": {
            "text/plain": [
              "             ni  fi%   Ni  Fi%\n",
              "Provincia                     \n",
              "CEUTA         9  0.1    9  0.1\n",
              "MELILLA      13  0.1   22  0.2\n",
              "SORIA        36  0.4   58  0.6\n",
              "ARABA ALAVA  61  0.6  119  1.2\n",
              "TERUEL       62  0.6  181  1.8"
            ],
            "text/html": [
              "\n",
              "  <div id=\"df-567fd288-369e-41af-a6bc-e7fc8ea1fdfd\">\n",
              "    <div class=\"colab-df-container\">\n",
              "      <div>\n",
              "<style scoped>\n",
              "    .dataframe tbody tr th:only-of-type {\n",
              "        vertical-align: middle;\n",
              "    }\n",
              "\n",
              "    .dataframe tbody tr th {\n",
              "        vertical-align: top;\n",
              "    }\n",
              "\n",
              "    .dataframe thead th {\n",
              "        text-align: right;\n",
              "    }\n",
              "</style>\n",
              "<table border=\"1\" class=\"dataframe\">\n",
              "  <thead>\n",
              "    <tr style=\"text-align: right;\">\n",
              "      <th></th>\n",
              "      <th>ni</th>\n",
              "      <th>fi%</th>\n",
              "      <th>Ni</th>\n",
              "      <th>Fi%</th>\n",
              "    </tr>\n",
              "    <tr>\n",
              "      <th>Provincia</th>\n",
              "      <th></th>\n",
              "      <th></th>\n",
              "      <th></th>\n",
              "      <th></th>\n",
              "    </tr>\n",
              "  </thead>\n",
              "  <tbody>\n",
              "    <tr>\n",
              "      <th>CEUTA</th>\n",
              "      <td>9</td>\n",
              "      <td>0.1</td>\n",
              "      <td>9</td>\n",
              "      <td>0.1</td>\n",
              "    </tr>\n",
              "    <tr>\n",
              "      <th>MELILLA</th>\n",
              "      <td>13</td>\n",
              "      <td>0.1</td>\n",
              "      <td>22</td>\n",
              "      <td>0.2</td>\n",
              "    </tr>\n",
              "    <tr>\n",
              "      <th>SORIA</th>\n",
              "      <td>36</td>\n",
              "      <td>0.4</td>\n",
              "      <td>58</td>\n",
              "      <td>0.6</td>\n",
              "    </tr>\n",
              "    <tr>\n",
              "      <th>ARABA ALAVA</th>\n",
              "      <td>61</td>\n",
              "      <td>0.6</td>\n",
              "      <td>119</td>\n",
              "      <td>1.2</td>\n",
              "    </tr>\n",
              "    <tr>\n",
              "      <th>TERUEL</th>\n",
              "      <td>62</td>\n",
              "      <td>0.6</td>\n",
              "      <td>181</td>\n",
              "      <td>1.8</td>\n",
              "    </tr>\n",
              "  </tbody>\n",
              "</table>\n",
              "</div>\n",
              "      <button class=\"colab-df-convert\" onclick=\"convertToInteractive('df-567fd288-369e-41af-a6bc-e7fc8ea1fdfd')\"\n",
              "              title=\"Convert this dataframe to an interactive table.\"\n",
              "              style=\"display:none;\">\n",
              "        \n",
              "  <svg xmlns=\"http://www.w3.org/2000/svg\" height=\"24px\"viewBox=\"0 0 24 24\"\n",
              "       width=\"24px\">\n",
              "    <path d=\"M0 0h24v24H0V0z\" fill=\"none\"/>\n",
              "    <path d=\"M18.56 5.44l.94 2.06.94-2.06 2.06-.94-2.06-.94-.94-2.06-.94 2.06-2.06.94zm-11 1L8.5 8.5l.94-2.06 2.06-.94-2.06-.94L8.5 2.5l-.94 2.06-2.06.94zm10 10l.94 2.06.94-2.06 2.06-.94-2.06-.94-.94-2.06-.94 2.06-2.06.94z\"/><path d=\"M17.41 7.96l-1.37-1.37c-.4-.4-.92-.59-1.43-.59-.52 0-1.04.2-1.43.59L10.3 9.45l-7.72 7.72c-.78.78-.78 2.05 0 2.83L4 21.41c.39.39.9.59 1.41.59.51 0 1.02-.2 1.41-.59l7.78-7.78 2.81-2.81c.8-.78.8-2.07 0-2.86zM5.41 20L4 18.59l7.72-7.72 1.47 1.35L5.41 20z\"/>\n",
              "  </svg>\n",
              "      </button>\n",
              "      \n",
              "  <style>\n",
              "    .colab-df-container {\n",
              "      display:flex;\n",
              "      flex-wrap:wrap;\n",
              "      gap: 12px;\n",
              "    }\n",
              "\n",
              "    .colab-df-convert {\n",
              "      background-color: #E8F0FE;\n",
              "      border: none;\n",
              "      border-radius: 50%;\n",
              "      cursor: pointer;\n",
              "      display: none;\n",
              "      fill: #1967D2;\n",
              "      height: 32px;\n",
              "      padding: 0 0 0 0;\n",
              "      width: 32px;\n",
              "    }\n",
              "\n",
              "    .colab-df-convert:hover {\n",
              "      background-color: #E2EBFA;\n",
              "      box-shadow: 0px 1px 2px rgba(60, 64, 67, 0.3), 0px 1px 3px 1px rgba(60, 64, 67, 0.15);\n",
              "      fill: #174EA6;\n",
              "    }\n",
              "\n",
              "    [theme=dark] .colab-df-convert {\n",
              "      background-color: #3B4455;\n",
              "      fill: #D2E3FC;\n",
              "    }\n",
              "\n",
              "    [theme=dark] .colab-df-convert:hover {\n",
              "      background-color: #434B5C;\n",
              "      box-shadow: 0px 1px 3px 1px rgba(0, 0, 0, 0.15);\n",
              "      filter: drop-shadow(0px 1px 2px rgba(0, 0, 0, 0.3));\n",
              "      fill: #FFFFFF;\n",
              "    }\n",
              "  </style>\n",
              "\n",
              "      <script>\n",
              "        const buttonEl =\n",
              "          document.querySelector('#df-567fd288-369e-41af-a6bc-e7fc8ea1fdfd button.colab-df-convert');\n",
              "        buttonEl.style.display =\n",
              "          google.colab.kernel.accessAllowed ? 'block' : 'none';\n",
              "\n",
              "        async function convertToInteractive(key) {\n",
              "          const element = document.querySelector('#df-567fd288-369e-41af-a6bc-e7fc8ea1fdfd');\n",
              "          const dataTable =\n",
              "            await google.colab.kernel.invokeFunction('convertToInteractive',\n",
              "                                                     [key], {});\n",
              "          if (!dataTable) return;\n",
              "\n",
              "          const docLinkHtml = 'Like what you see? Visit the ' +\n",
              "            '<a target=\"_blank\" href=https://colab.research.google.com/notebooks/data_table.ipynb>data table notebook</a>'\n",
              "            + ' to learn more about interactive tables.';\n",
              "          element.innerHTML = '';\n",
              "          dataTable['output_type'] = 'display_data';\n",
              "          await google.colab.output.renderOutput(dataTable, element);\n",
              "          const docLink = document.createElement('div');\n",
              "          docLink.innerHTML = docLinkHtml;\n",
              "          element.appendChild(docLink);\n",
              "        }\n",
              "      </script>\n",
              "    </div>\n",
              "  </div>\n",
              "  "
            ]
          },
          "metadata": {},
          "execution_count": 25
        }
      ]
    },
    {
      "cell_type": "code",
      "source": [
        "n_max=df_provincia['ni'].max()\n",
        "pkt_bar = df_provincia['ni'].plot(kind=\"barh\", y=\"Total_Power\", figsize=(8, 17),\n",
        "                   legend=False, color=colors)\n",
        "pkt_bar.set_xlim((0, n_max))\n",
        "pkt_bar.set_xlabel(\"Frecuencia\")\n",
        "pkt_bar.set_title(\"Frecuencia por Provincia\",\n",
        "                  fontsize=16, weight=\"bold\")"
      ],
      "metadata": {
        "colab": {
          "base_uri": "https://localhost:8080/",
          "height": 1000
        },
        "id": "kRV0x2_pjlen",
        "outputId": "d554c645-4ff0-46f9-a318-ecd14a02c0c7"
      },
      "execution_count": 114,
      "outputs": [
        {
          "output_type": "execute_result",
          "data": {
            "text/plain": [
              "Text(0.5, 1.0, 'Frecuencia por Provincia')"
            ]
          },
          "metadata": {},
          "execution_count": 114
        },
        {
          "output_type": "display_data",
          "data": {
            "text/plain": [
              "<Figure size 576x1224 with 1 Axes>"
            ],
            "image/png": "[encoded data removed]"
          },
          "metadata": {
            "needs_background": "light"
          }
        }
      ]
    },
    {
      "cell_type": "markdown",
      "source": [
        "En el gráfico precedente se observa que la provincia de Madrid es la que mayor cantidad de datos recopilados tiene al igual que Barcelona. Esto se debe a la dimensión poblacional de cada uno."
      ],
      "metadata": {
        "id": "dbK_qH5CS5MN"
      }
    },
    {
      "cell_type": "markdown",
      "source": [
        "## 2. Margen"
      ],
      "metadata": {
        "id": "6-NQ62TsxiqB"
      }
    },
    {
      "cell_type": "code",
      "source": [
        "df_new['Margen1'] = np.where(df_new['Margen']=='D', 'D: Derecho',\n",
        "                             np.where(df_new['Margen']=='I', 'I: Izquierdo',\n",
        "                                      np.where(df_new['Margen']=='N', 'N: No aplica','')))"
      ],
      "metadata": {
        "id": "W04uoJxWxtlV"
      },
      "execution_count": 99,
      "outputs": []
    },
    {
      "cell_type": "code",
      "source": [
        "#FRECUENCIA ABSOLUTA\n",
        "df_margen=df_new.groupby('Margen1').agg(ni=(\"Margen1\", \"count\"))\n",
        "#FRECUENCIA RELATIVA\n",
        "df_margen['fi%'] = round((df_margen.ni / df_margen.ni.sum())* 100,1)\n",
        "\n",
        "#FRECUENCIA ABSOLUTA ACUMULADA\n",
        "df_margen['Ni'] = round(df_margen.ni.cumsum(),1)\n",
        "#FRECUENCIA RELATIVA ACUMULADA\n",
        "df_margen['Fi%'] = round((df_margen.ni.cumsum() / df_margen.ni.sum())* 100,1)\n",
        "\n",
        "df_margen.head()"
      ],
      "metadata": {
        "colab": {
          "base_uri": "https://localhost:8080/",
          "height": 175
        },
        "id": "9SUqc09P4wCG",
        "outputId": "1bb55d50-4df3-425f-ed89-8d1c971b159f"
      },
      "execution_count": 100,
      "outputs": [
        {
          "output_type": "execute_result",
          "data": {
            "text/plain": [
              "                ni   fi%    Ni    Fi%\n",
              "Margen1                              \n",
              "D: Derecho    5016  50.2  5016   50.2\n",
              "I: Izquierdo  2596  26.0  7612   76.2\n",
              "N: No aplica  2379  23.8  9991  100.0"
            ],
            "text/html": [
              "\n",
              "  <div id=\"df-39e077e0-7ee8-4059-bba7-d5bdade7cd5c\">\n",
              "    <div class=\"colab-df-container\">\n",
              "      <div>\n",
              "<style scoped>\n",
              "    .dataframe tbody tr th:only-of-type {\n",
              "        vertical-align: middle;\n",
              "    }\n",
              "\n",
              "    .dataframe tbody tr th {\n",
              "        vertical-align: top;\n",
              "    }\n",
              "\n",
              "    .dataframe thead th {\n",
              "        text-align: right;\n",
              "    }\n",
              "</style>\n",
              "<table border=\"1\" class=\"dataframe\">\n",
              "  <thead>\n",
              "    <tr style=\"text-align: right;\">\n",
              "      <th></th>\n",
              "      <th>ni</th>\n",
              "      <th>fi%</th>\n",
              "      <th>Ni</th>\n",
              "      <th>Fi%</th>\n",
              "    </tr>\n",
              "    <tr>\n",
              "      <th>Margen1</th>\n",
              "      <th></th>\n",
              "      <th></th>\n",
              "      <th></th>\n",
              "      <th></th>\n",
              "    </tr>\n",
              "  </thead>\n",
              "  <tbody>\n",
              "    <tr>\n",
              "      <th>D: Derecho</th>\n",
              "      <td>5016</td>\n",
              "      <td>50.2</td>\n",
              "      <td>5016</td>\n",
              "      <td>50.2</td>\n",
              "    </tr>\n",
              "    <tr>\n",
              "      <th>I: Izquierdo</th>\n",
              "      <td>2596</td>\n",
              "      <td>26.0</td>\n",
              "      <td>7612</td>\n",
              "      <td>76.2</td>\n",
              "    </tr>\n",
              "    <tr>\n",
              "      <th>N: No aplica</th>\n",
              "      <td>2379</td>\n",
              "      <td>23.8</td>\n",
              "      <td>9991</td>\n",
              "      <td>100.0</td>\n",
              "    </tr>\n",
              "  </tbody>\n",
              "</table>\n",
              "</div>\n",
              "      <button class=\"colab-df-convert\" onclick=\"convertToInteractive('df-39e077e0-7ee8-4059-bba7-d5bdade7cd5c')\"\n",
              "              title=\"Convert this dataframe to an interactive table.\"\n",
              "              style=\"display:none;\">\n",
              "        \n",
              "  <svg xmlns=\"http://www.w3.org/2000/svg\" height=\"24px\"viewBox=\"0 0 24 24\"\n",
              "       width=\"24px\">\n",
              "    <path d=\"M0 0h24v24H0V0z\" fill=\"none\"/>\n",
              "    <path d=\"M18.56 5.44l.94 2.06.94-2.06 2.06-.94-2.06-.94-.94-2.06-.94 2.06-2.06.94zm-11 1L8.5 8.5l.94-2.06 2.06-.94-2.06-.94L8.5 2.5l-.94 2.06-2.06.94zm10 10l.94 2.06.94-2.06 2.06-.94-2.06-.94-.94-2.06-.94 2.06-2.06.94z\"/><path d=\"M17.41 7.96l-1.37-1.37c-.4-.4-.92-.59-1.43-.59-.52 0-1.04.2-1.43.59L10.3 9.45l-7.72 7.72c-.78.78-.78 2.05 0 2.83L4 21.41c.39.39.9.59 1.41.59.51 0 1.02-.2 1.41-.59l7.78-7.78 2.81-2.81c.8-.78.8-2.07 0-2.86zM5.41 20L4 18.59l7.72-7.72 1.47 1.35L5.41 20z\"/>\n",
              "  </svg>\n",
              "      </button>\n",
              "      \n",
              "  <style>\n",
              "    .colab-df-container {\n",
              "      display:flex;\n",
              "      flex-wrap:wrap;\n",
              "      gap: 12px;\n",
              "    }\n",
              "\n",
              "    .colab-df-convert {\n",
              "      background-color: #E8F0FE;\n",
              "      border: none;\n",
              "      border-radius: 50%;\n",
              "      cursor: pointer;\n",
              "      display: none;\n",
              "      fill: #1967D2;\n",
              "      height: 32px;\n",
              "      padding: 0 0 0 0;\n",
              "      width: 32px;\n",
              "    }\n",
              "\n",
              "    .colab-df-convert:hover {\n",
              "      background-color: #E2EBFA;\n",
              "      box-shadow: 0px 1px 2px rgba(60, 64, 67, 0.3), 0px 1px 3px 1px rgba(60, 64, 67, 0.15);\n",
              "      fill: #174EA6;\n",
              "    }\n",
              "\n",
              "    [theme=dark] .colab-df-convert {\n",
              "      background-color: #3B4455;\n",
              "      fill: #D2E3FC;\n",
              "    }\n",
              "\n",
              "    [theme=dark] .colab-df-convert:hover {\n",
              "      background-color: #434B5C;\n",
              "      box-shadow: 0px 1px 3px 1px rgba(0, 0, 0, 0.15);\n",
              "      filter: drop-shadow(0px 1px 2px rgba(0, 0, 0, 0.3));\n",
              "      fill: #FFFFFF;\n",
              "    }\n",
              "  </style>\n",
              "\n",
              "      <script>\n",
              "        const buttonEl =\n",
              "          document.querySelector('#df-39e077e0-7ee8-4059-bba7-d5bdade7cd5c button.colab-df-convert');\n",
              "        buttonEl.style.display =\n",
              "          google.colab.kernel.accessAllowed ? 'block' : 'none';\n",
              "\n",
              "        async function convertToInteractive(key) {\n",
              "          const element = document.querySelector('#df-39e077e0-7ee8-4059-bba7-d5bdade7cd5c');\n",
              "          const dataTable =\n",
              "            await google.colab.kernel.invokeFunction('convertToInteractive',\n",
              "                                                     [key], {});\n",
              "          if (!dataTable) return;\n",
              "\n",
              "          const docLinkHtml = 'Like what you see? Visit the ' +\n",
              "            '<a target=\"_blank\" href=https://colab.research.google.com/notebooks/data_table.ipynb>data table notebook</a>'\n",
              "            + ' to learn more about interactive tables.';\n",
              "          element.innerHTML = '';\n",
              "          dataTable['output_type'] = 'display_data';\n",
              "          await google.colab.output.renderOutput(dataTable, element);\n",
              "          const docLink = document.createElement('div');\n",
              "          docLink.innerHTML = docLinkHtml;\n",
              "          element.appendChild(docLink);\n",
              "        }\n",
              "      </script>\n",
              "    </div>\n",
              "  </div>\n",
              "  "
            ]
          },
          "metadata": {},
          "execution_count": 100
        }
      ]
    },
    {
      "cell_type": "code",
      "source": [
        "df_margen['ni'].plot.bar(x='Margen1',y='ni',title='Frecuencia Absoluta por Margen',color=colors)\n",
        "plt.xticks(rotation=360)\n",
        "plt.xlabel('Margen')\n",
        "plt.ylabel('Frecuencia')\n",
        "plt.show()"
      ],
      "metadata": {
        "id": "46IKiojS6ZZR",
        "colab": {
          "base_uri": "https://localhost:8080/",
          "height": 295
        },
        "outputId": "3c7304c7-d534-45af-cddc-95919128288e"
      },
      "execution_count": 115,
      "outputs": [
        {
          "output_type": "display_data",
          "data": {
            "text/plain": [
              "<Figure size 432x288 with 1 Axes>"
            ],
            "image/png": "[encoded data removed]"
          },
          "metadata": {
            "needs_background": "light"
          }
        }
      ]
    },
    {
      "cell_type": "code",
      "source": [
        "fig, ax = plt.subplots(figsize=(6, 6))\n",
        "\n",
        "patches, texts, pcts = ax.pie(df_margen[['fi%']], \n",
        "         labels=df_margen.index, \n",
        "         autopct='%.1f%%',\n",
        "         colors = colors,\n",
        "         textprops={'fontsize': 14},\n",
        "         wedgeprops={'linewidth': 3.0, 'edgecolor': 'white'})\n",
        "\n",
        "for i, patch in enumerate(patches):\n",
        "  texts[i].set_color(patch.get_facecolor())\n",
        "plt.setp(pcts, color='white')\n",
        "plt.setp(texts, fontweight=600)\n",
        "ax.set_title('''Frecuencia Absoluta por Margen''', fontsize=18,fontweight=\"bold\")\n",
        "\n",
        "plt.tight_layout()"
      ],
      "metadata": {
        "colab": {
          "base_uri": "https://localhost:8080/",
          "height": 446
        },
        "id": "wt77HSCW4KGQ",
        "outputId": "c4b987fa-2544-4fd3-b1a9-8104f1a46b99"
      },
      "execution_count": 122,
      "outputs": [
        {
          "output_type": "stream",
          "name": "stderr",
          "text": [
            "<ipython-input-122-12f0d3dd41b5>:3: MatplotlibDeprecationWarning: Non-1D inputs to pie() are currently squeeze()d, but this behavior is deprecated since 3.1 and will be removed in 3.3; pass a 1D array instead.\n"
          ]
        },
        {
          "output_type": "display_data",
          "data": {
            "text/plain": [
              "<Figure size 432x432 with 1 Axes>"
            ],
            "image/png": "[encoded data removed]"
          },
          "metadata": {}
        }
      ]
    },
    {
      "cell_type": "markdown",
      "source": [
        "El gráfico precedente evidencia que el mayor margen se encuentra en el lado derecho con una representación del 50.2%, en segundo lugar se encuentra el lado izquierdo con un 26%, siendo el valor más significativo el lado derecho por tener un valor mayor del 50%."
      ],
      "metadata": {
        "id": "k5bWwRtXS2Nb"
      }
    },
    {
      "cell_type": "markdown",
      "source": [
        "## 3. Precio"
      ],
      "metadata": {
        "id": "dRU41q9jxmYy"
      }
    },
    {
      "cell_type": "markdown",
      "source": [
        "Para poder determiar la cantidad de intervalos se uso la** Regla de Sturges** con la fórmula `1 + 3.22 ⋅ log10N` debido a que N es grande."
      ],
      "metadata": {
        "id": "uxz4T1jh6zKX"
      }
    },
    {
      "cell_type": "code",
      "source": [
        "rango=df_new['Precio'].max()-df_new['Precio'].min()\n",
        "intervalos=round(1+3.32*log10(df_new['Precio'].count()))\n",
        "amplitud=rango/intervalos\n",
        "\n",
        "df_new['Precio_range'] = pd.cut(df_new['Precio'], bins=intervalos, precision=0, include_lowest=True)\n",
        "df_new.head()"
      ],
      "metadata": {
        "colab": {
          "base_uri": "https://localhost:8080/",
          "height": 582
        },
        "id": "TiCLeU7142Dp",
        "outputId": "e221b675-a58d-4c4e-b805-e02a3fea1787"
      },
      "execution_count": 27,
      "outputs": [
        {
          "output_type": "execute_result",
          "data": {
            "text/plain": [
              "                Provincia                 Localidad  Codigo_postal  \\\n",
              "0  SANTA CRUZ DE TENERIFE         CUESTA LA                  38320   \n",
              "1  SANTA CRUZ DE TENERIFE                 LA LAGUNA          38200   \n",
              "2  SANTA CRUZ DE TENERIFE  SANTA CRUZ DE TENERIFE            38110   \n",
              "3  SANTA CRUZ DE TENERIFE  SANTA CRUZ DE TENERIFE            38010   \n",
              "4  SANTA CRUZ DE TENERIFE           ADEJE                    38670   \n",
              "\n",
              "                                      Direccion Margen       Toma_de_datos  \\\n",
              "0                      AVENIDA LOS MENCEYES 223      D 2020-01-08 13:53:00   \n",
              "1                      CARRETERA TF111 KM 8 346      D 2020-01-08 09:00:00   \n",
              "2              CALLE LAURA GROTE DE LA PUERTA 2      D 2020-07-27 12:02:00   \n",
              "3                      POLIGONO EL MAYORAZGO SN      N 2020-07-29 00:00:00   \n",
              "4  CALLE CHARFA ESQUINA AVENIDA LAS PALMITAS SN      D 2020-07-27 11:59:00   \n",
              "\n",
              "   Precio         Rotulo Tipo_venta Rem                       Horario  \\\n",
              "0   0.758           PCAN          P  dm                        LD 24H   \n",
              "1   0.759         OCEANO          P  dm        LS 06002200 D 07002200   \n",
              "2   0.769          GMOIL          P  dm  LV 24H S 06002000 D 08001500   \n",
              "3   0.789  TGASTU TREBOL          P  dm        LS 07302100 D 08001400   \n",
              "4   0.789          GMOIL          P  dm        LS 07002200 D 09001600   \n",
              "\n",
              "                              Tipo_servicio Fecha_extraccion  Precio_range  \n",
              "0                                LD 24H  A        2020-01-08  (0.75, 0.81]  \n",
              "1            LS 06002200  A  D 07002200  A        2020-01-08  (0.75, 0.81]  \n",
              "2  LV 24H  A  S 06002000  A  D 08001500  A        2020-01-08  (0.75, 0.81]  \n",
              "3            LS 07302100  A  D 08001400  A        2020-01-08  (0.75, 0.81]  \n",
              "4            LS 07002200  A  D 09001600  A        2020-01-08  (0.75, 0.81]  "
            ],
            "text/html": [
              "\n",
              "  <div id=\"df-4bdada47-d599-4f2d-8468-b2d33c3d8176\">\n",
              "    <div class=\"colab-df-container\">\n",
              "      <div>\n",
              "<style scoped>\n",
              "    .dataframe tbody tr th:only-of-type {\n",
              "        vertical-align: middle;\n",
              "    }\n",
              "\n",
              "    .dataframe tbody tr th {\n",
              "        vertical-align: top;\n",
              "    }\n",
              "\n",
              "    .dataframe thead th {\n",
              "        text-align: right;\n",
              "    }\n",
              "</style>\n",
              "<table border=\"1\" class=\"dataframe\">\n",
              "  <thead>\n",
              "    <tr style=\"text-align: right;\">\n",
              "      <th></th>\n",
              "      <th>Provincia</th>\n",
              "      <th>Localidad</th>\n",
              "      <th>Codigo_postal</th>\n",
              "      <th>Direccion</th>\n",
              "      <th>Margen</th>\n",
              "      <th>Toma_de_datos</th>\n",
              "      <th>Precio</th>\n",
              "      <th>Rotulo</th>\n",
              "      <th>Tipo_venta</th>\n",
              "      <th>Rem</th>\n",
              "      <th>Horario</th>\n",
              "      <th>Tipo_servicio</th>\n",
              "      <th>Fecha_extraccion</th>\n",
              "      <th>Precio_range</th>\n",
              "    </tr>\n",
              "  </thead>\n",
              "  <tbody>\n",
              "    <tr>\n",
              "      <th>0</th>\n",
              "      <td>SANTA CRUZ DE TENERIFE</td>\n",
              "      <td>CUESTA LA</td>\n",
              "      <td>38320</td>\n",
              "      <td>AVENIDA LOS MENCEYES 223</td>\n",
              "      <td>D</td>\n",
              "      <td>2020-01-08 13:53:00</td>\n",
              "      <td>0.758</td>\n",
              "      <td>PCAN</td>\n",
              "      <td>P</td>\n",
              "      <td>dm</td>\n",
              "      <td>LD 24H</td>\n",
              "      <td>LD 24H  A</td>\n",
              "      <td>2020-01-08</td>\n",
              "      <td>(0.75, 0.81]</td>\n",
              "    </tr>\n",
              "    <tr>\n",
              "      <th>1</th>\n",
              "      <td>SANTA CRUZ DE TENERIFE</td>\n",
              "      <td>LA LAGUNA</td>\n",
              "      <td>38200</td>\n",
              "      <td>CARRETERA TF111 KM 8 346</td>\n",
              "      <td>D</td>\n",
              "      <td>2020-01-08 09:00:00</td>\n",
              "      <td>0.759</td>\n",
              "      <td>OCEANO</td>\n",
              "      <td>P</td>\n",
              "      <td>dm</td>\n",
              "      <td>LS 06002200 D 07002200</td>\n",
              "      <td>LS 06002200  A  D 07002200  A</td>\n",
              "      <td>2020-01-08</td>\n",
              "      <td>(0.75, 0.81]</td>\n",
              "    </tr>\n",
              "    <tr>\n",
              "      <th>2</th>\n",
              "      <td>SANTA CRUZ DE TENERIFE</td>\n",
              "      <td>SANTA CRUZ DE TENERIFE</td>\n",
              "      <td>38110</td>\n",
              "      <td>CALLE LAURA GROTE DE LA PUERTA 2</td>\n",
              "      <td>D</td>\n",
              "      <td>2020-07-27 12:02:00</td>\n",
              "      <td>0.769</td>\n",
              "      <td>GMOIL</td>\n",
              "      <td>P</td>\n",
              "      <td>dm</td>\n",
              "      <td>LV 24H S 06002000 D 08001500</td>\n",
              "      <td>LV 24H  A  S 06002000  A  D 08001500  A</td>\n",
              "      <td>2020-01-08</td>\n",
              "      <td>(0.75, 0.81]</td>\n",
              "    </tr>\n",
              "    <tr>\n",
              "      <th>3</th>\n",
              "      <td>SANTA CRUZ DE TENERIFE</td>\n",
              "      <td>SANTA CRUZ DE TENERIFE</td>\n",
              "      <td>38010</td>\n",
              "      <td>POLIGONO EL MAYORAZGO SN</td>\n",
              "      <td>N</td>\n",
              "      <td>2020-07-29 00:00:00</td>\n",
              "      <td>0.789</td>\n",
              "      <td>TGASTU TREBOL</td>\n",
              "      <td>P</td>\n",
              "      <td>dm</td>\n",
              "      <td>LS 07302100 D 08001400</td>\n",
              "      <td>LS 07302100  A  D 08001400  A</td>\n",
              "      <td>2020-01-08</td>\n",
              "      <td>(0.75, 0.81]</td>\n",
              "    </tr>\n",
              "    <tr>\n",
              "      <th>4</th>\n",
              "      <td>SANTA CRUZ DE TENERIFE</td>\n",
              "      <td>ADEJE</td>\n",
              "      <td>38670</td>\n",
              "      <td>CALLE CHARFA ESQUINA AVENIDA LAS PALMITAS SN</td>\n",
              "      <td>D</td>\n",
              "      <td>2020-07-27 11:59:00</td>\n",
              "      <td>0.789</td>\n",
              "      <td>GMOIL</td>\n",
              "      <td>P</td>\n",
              "      <td>dm</td>\n",
              "      <td>LS 07002200 D 09001600</td>\n",
              "      <td>LS 07002200  A  D 09001600  A</td>\n",
              "      <td>2020-01-08</td>\n",
              "      <td>(0.75, 0.81]</td>\n",
              "    </tr>\n",
              "  </tbody>\n",
              "</table>\n",
              "</div>\n",
              "      <button class=\"colab-df-convert\" onclick=\"convertToInteractive('df-4bdada47-d599-4f2d-8468-b2d33c3d8176')\"\n",
              "              title=\"Convert this dataframe to an interactive table.\"\n",
              "              style=\"display:none;\">\n",
              "        \n",
              "  <svg xmlns=\"http://www.w3.org/2000/svg\" height=\"24px\"viewBox=\"0 0 24 24\"\n",
              "       width=\"24px\">\n",
              "    <path d=\"M0 0h24v24H0V0z\" fill=\"none\"/>\n",
              "    <path d=\"M18.56 5.44l.94 2.06.94-2.06 2.06-.94-2.06-.94-.94-2.06-.94 2.06-2.06.94zm-11 1L8.5 8.5l.94-2.06 2.06-.94-2.06-.94L8.5 2.5l-.94 2.06-2.06.94zm10 10l.94 2.06.94-2.06 2.06-.94-2.06-.94-.94-2.06-.94 2.06-2.06.94z\"/><path d=\"M17.41 7.96l-1.37-1.37c-.4-.4-.92-.59-1.43-.59-.52 0-1.04.2-1.43.59L10.3 9.45l-7.72 7.72c-.78.78-.78 2.05 0 2.83L4 21.41c.39.39.9.59 1.41.59.51 0 1.02-.2 1.41-.59l7.78-7.78 2.81-2.81c.8-.78.8-2.07 0-2.86zM5.41 20L4 18.59l7.72-7.72 1.47 1.35L5.41 20z\"/>\n",
              "  </svg>\n",
              "      </button>\n",
              "      \n",
              "  <style>\n",
              "    .colab-df-container {\n",
              "      display:flex;\n",
              "      flex-wrap:wrap;\n",
              "      gap: 12px;\n",
              "    }\n",
              "\n",
              "    .colab-df-convert {\n",
              "      background-color: #E8F0FE;\n",
              "      border: none;\n",
              "      border-radius: 50%;\n",
              "      cursor: pointer;\n",
              "      display: none;\n",
              "      fill: #1967D2;\n",
              "      height: 32px;\n",
              "      padding: 0 0 0 0;\n",
              "      width: 32px;\n",
              "    }\n",
              "\n",
              "    .colab-df-convert:hover {\n",
              "      background-color: #E2EBFA;\n",
              "      box-shadow: 0px 1px 2px rgba(60, 64, 67, 0.3), 0px 1px 3px 1px rgba(60, 64, 67, 0.15);\n",
              "      fill: #174EA6;\n",
              "    }\n",
              "\n",
              "    [theme=dark] .colab-df-convert {\n",
              "      background-color: #3B4455;\n",
              "      fill: #D2E3FC;\n",
              "    }\n",
              "\n",
              "    [theme=dark] .colab-df-convert:hover {\n",
              "      background-color: #434B5C;\n",
              "      box-shadow: 0px 1px 3px 1px rgba(0, 0, 0, 0.15);\n",
              "      filter: drop-shadow(0px 1px 2px rgba(0, 0, 0, 0.3));\n",
              "      fill: #FFFFFF;\n",
              "    }\n",
              "  </style>\n",
              "\n",
              "      <script>\n",
              "        const buttonEl =\n",
              "          document.querySelector('#df-4bdada47-d599-4f2d-8468-b2d33c3d8176 button.colab-df-convert');\n",
              "        buttonEl.style.display =\n",
              "          google.colab.kernel.accessAllowed ? 'block' : 'none';\n",
              "\n",
              "        async function convertToInteractive(key) {\n",
              "          const element = document.querySelector('#df-4bdada47-d599-4f2d-8468-b2d33c3d8176');\n",
              "          const dataTable =\n",
              "            await google.colab.kernel.invokeFunction('convertToInteractive',\n",
              "                                                     [key], {});\n",
              "          if (!dataTable) return;\n",
              "\n",
              "          const docLinkHtml = 'Like what you see? Visit the ' +\n",
              "            '<a target=\"_blank\" href=https://colab.research.google.com/notebooks/data_table.ipynb>data table notebook</a>'\n",
              "            + ' to learn more about interactive tables.';\n",
              "          element.innerHTML = '';\n",
              "          dataTable['output_type'] = 'display_data';\n",
              "          await google.colab.output.renderOutput(dataTable, element);\n",
              "          const docLink = document.createElement('div');\n",
              "          docLink.innerHTML = docLinkHtml;\n",
              "          element.appendChild(docLink);\n",
              "        }\n",
              "      </script>\n",
              "    </div>\n",
              "  </div>\n",
              "  "
            ]
          },
          "metadata": {},
          "execution_count": 27
        }
      ]
    },
    {
      "cell_type": "markdown",
      "source": [
        "Para este caso en concreto se tiene 14 intervalos, este dato es necesario para determinar los rangos de precio y la frecuencia en cada uno de estos."
      ],
      "metadata": {
        "id": "SjR0lb0L7dLT"
      }
    },
    {
      "cell_type": "code",
      "source": [
        "#FRECUENCIA ABSOLUTA\n",
        "#df_precio_range=df.groupby('Precio_range').agg(ni=(\"Precio_range\", \"count\"))\n",
        "data_precio=df_new['Precio_range'].copy(deep='True')\n",
        "df_precio_range=pd.DataFrame(data_precio)\n",
        "df_precio_range['ni']=df_new.groupby('Precio_range')['Precio_range'].transform('count')\n",
        "df_precio_range=df_precio_range.drop_duplicates()\n",
        "\n",
        "#FRECUENCIA RELATIVA\n",
        "df_precio_range['fi%'] = round(df_precio_range.ni / df_precio_range.ni.sum()* 100,2)\n",
        " \n",
        "#FRECUENCIA ABSOLUTA ACUMULADA\n",
        "df_precio_range['Ni'] = round(df_precio_range.ni.cumsum(),2)\n",
        "#FRECUENCIA RELATIVA ACUMULADA\n",
        "df_precio_range['Fi%'] = round(df_precio_range.ni.cumsum() / df_precio_range.ni.sum()* 100,2)\n",
        "\n",
        "df_precio_range.head(intervalos)"
      ],
      "metadata": {
        "colab": {
          "base_uri": "https://localhost:8080/",
          "height": 457
        },
        "id": "96GOjBioUtJe",
        "outputId": "90377516-59c5-4550-f79c-2db4dd87d0af"
      },
      "execution_count": 33,
      "outputs": [
        {
          "output_type": "execute_result",
          "data": {
            "text/plain": [
              "      Precio_range    ni    fi%    Ni     Fi%\n",
              "0     (0.75, 0.81]     6   0.06     6    0.06\n",
              "6     (0.81, 0.86]    29   0.29    35    0.35\n",
              "35    (0.86, 0.91]   112   1.12   147    1.47\n",
              "147   (0.91, 0.96]    86   0.86   233    2.33\n",
              "233    (0.96, 1.0]   240   2.40   473    4.73\n",
              "473    (1.0, 1.05]   456   4.56   929    9.30\n",
              "929    (1.05, 1.1]  1124  11.25  2053   20.55\n",
              "2053   (1.1, 1.15]  1427  14.28  3480   34.83\n",
              "3480   (1.15, 1.2]  3721  37.24  7201   72.07\n",
              "7201   (1.2, 1.25]  2543  25.45  9744   97.53\n",
              "9744   (1.25, 1.3]   241   2.41  9985   99.94\n",
              "9985   (1.3, 1.35]     4   0.04  9989   99.98\n",
              "9989   (1.4, 1.45]     2   0.02  9991  100.00"
            ],
            "text/html": [
              "\n",
              "  <div id=\"df-cb73f5e5-05a6-4333-8315-3c42b471902e\">\n",
              "    <div class=\"colab-df-container\">\n",
              "      <div>\n",
              "<style scoped>\n",
              "    .dataframe tbody tr th:only-of-type {\n",
              "        vertical-align: middle;\n",
              "    }\n",
              "\n",
              "    .dataframe tbody tr th {\n",
              "        vertical-align: top;\n",
              "    }\n",
              "\n",
              "    .dataframe thead th {\n",
              "        text-align: right;\n",
              "    }\n",
              "</style>\n",
              "<table border=\"1\" class=\"dataframe\">\n",
              "  <thead>\n",
              "    <tr style=\"text-align: right;\">\n",
              "      <th></th>\n",
              "      <th>Precio_range</th>\n",
              "      <th>ni</th>\n",
              "      <th>fi%</th>\n",
              "      <th>Ni</th>\n",
              "      <th>Fi%</th>\n",
              "    </tr>\n",
              "  </thead>\n",
              "  <tbody>\n",
              "    <tr>\n",
              "      <th>0</th>\n",
              "      <td>(0.75, 0.81]</td>\n",
              "      <td>6</td>\n",
              "      <td>0.06</td>\n",
              "      <td>6</td>\n",
              "      <td>0.06</td>\n",
              "    </tr>\n",
              "    <tr>\n",
              "      <th>6</th>\n",
              "      <td>(0.81, 0.86]</td>\n",
              "      <td>29</td>\n",
              "      <td>0.29</td>\n",
              "      <td>35</td>\n",
              "      <td>0.35</td>\n",
              "    </tr>\n",
              "    <tr>\n",
              "      <th>35</th>\n",
              "      <td>(0.86, 0.91]</td>\n",
              "      <td>112</td>\n",
              "      <td>1.12</td>\n",
              "      <td>147</td>\n",
              "      <td>1.47</td>\n",
              "    </tr>\n",
              "    <tr>\n",
              "      <th>147</th>\n",
              "      <td>(0.91, 0.96]</td>\n",
              "      <td>86</td>\n",
              "      <td>0.86</td>\n",
              "      <td>233</td>\n",
              "      <td>2.33</td>\n",
              "    </tr>\n",
              "    <tr>\n",
              "      <th>233</th>\n",
              "      <td>(0.96, 1.0]</td>\n",
              "      <td>240</td>\n",
              "      <td>2.40</td>\n",
              "      <td>473</td>\n",
              "      <td>4.73</td>\n",
              "    </tr>\n",
              "    <tr>\n",
              "      <th>473</th>\n",
              "      <td>(1.0, 1.05]</td>\n",
              "      <td>456</td>\n",
              "      <td>4.56</td>\n",
              "      <td>929</td>\n",
              "      <td>9.30</td>\n",
              "    </tr>\n",
              "    <tr>\n",
              "      <th>929</th>\n",
              "      <td>(1.05, 1.1]</td>\n",
              "      <td>1124</td>\n",
              "      <td>11.25</td>\n",
              "      <td>2053</td>\n",
              "      <td>20.55</td>\n",
              "    </tr>\n",
              "    <tr>\n",
              "      <th>2053</th>\n",
              "      <td>(1.1, 1.15]</td>\n",
              "      <td>1427</td>\n",
              "      <td>14.28</td>\n",
              "      <td>3480</td>\n",
              "      <td>34.83</td>\n",
              "    </tr>\n",
              "    <tr>\n",
              "      <th>3480</th>\n",
              "      <td>(1.15, 1.2]</td>\n",
              "      <td>3721</td>\n",
              "      <td>37.24</td>\n",
              "      <td>7201</td>\n",
              "      <td>72.07</td>\n",
              "    </tr>\n",
              "    <tr>\n",
              "      <th>7201</th>\n",
              "      <td>(1.2, 1.25]</td>\n",
              "      <td>2543</td>\n",
              "      <td>25.45</td>\n",
              "      <td>9744</td>\n",
              "      <td>97.53</td>\n",
              "    </tr>\n",
              "    <tr>\n",
              "      <th>9744</th>\n",
              "      <td>(1.25, 1.3]</td>\n",
              "      <td>241</td>\n",
              "      <td>2.41</td>\n",
              "      <td>9985</td>\n",
              "      <td>99.94</td>\n",
              "    </tr>\n",
              "    <tr>\n",
              "      <th>9985</th>\n",
              "      <td>(1.3, 1.35]</td>\n",
              "      <td>4</td>\n",
              "      <td>0.04</td>\n",
              "      <td>9989</td>\n",
              "      <td>99.98</td>\n",
              "    </tr>\n",
              "    <tr>\n",
              "      <th>9989</th>\n",
              "      <td>(1.4, 1.45]</td>\n",
              "      <td>2</td>\n",
              "      <td>0.02</td>\n",
              "      <td>9991</td>\n",
              "      <td>100.00</td>\n",
              "    </tr>\n",
              "  </tbody>\n",
              "</table>\n",
              "</div>\n",
              "      <button class=\"colab-df-convert\" onclick=\"convertToInteractive('df-cb73f5e5-05a6-4333-8315-3c42b471902e')\"\n",
              "              title=\"Convert this dataframe to an interactive table.\"\n",
              "              style=\"display:none;\">\n",
              "        \n",
              "  <svg xmlns=\"http://www.w3.org/2000/svg\" height=\"24px\"viewBox=\"0 0 24 24\"\n",
              "       width=\"24px\">\n",
              "    <path d=\"M0 0h24v24H0V0z\" fill=\"none\"/>\n",
              "    <path d=\"M18.56 5.44l.94 2.06.94-2.06 2.06-.94-2.06-.94-.94-2.06-.94 2.06-2.06.94zm-11 1L8.5 8.5l.94-2.06 2.06-.94-2.06-.94L8.5 2.5l-.94 2.06-2.06.94zm10 10l.94 2.06.94-2.06 2.06-.94-2.06-.94-.94-2.06-.94 2.06-2.06.94z\"/><path d=\"M17.41 7.96l-1.37-1.37c-.4-.4-.92-.59-1.43-.59-.52 0-1.04.2-1.43.59L10.3 9.45l-7.72 7.72c-.78.78-.78 2.05 0 2.83L4 21.41c.39.39.9.59 1.41.59.51 0 1.02-.2 1.41-.59l7.78-7.78 2.81-2.81c.8-.78.8-2.07 0-2.86zM5.41 20L4 18.59l7.72-7.72 1.47 1.35L5.41 20z\"/>\n",
              "  </svg>\n",
              "      </button>\n",
              "      \n",
              "  <style>\n",
              "    .colab-df-container {\n",
              "      display:flex;\n",
              "      flex-wrap:wrap;\n",
              "      gap: 12px;\n",
              "    }\n",
              "\n",
              "    .colab-df-convert {\n",
              "      background-color: #E8F0FE;\n",
              "      border: none;\n",
              "      border-radius: 50%;\n",
              "      cursor: pointer;\n",
              "      display: none;\n",
              "      fill: #1967D2;\n",
              "      height: 32px;\n",
              "      padding: 0 0 0 0;\n",
              "      width: 32px;\n",
              "    }\n",
              "\n",
              "    .colab-df-convert:hover {\n",
              "      background-color: #E2EBFA;\n",
              "      box-shadow: 0px 1px 2px rgba(60, 64, 67, 0.3), 0px 1px 3px 1px rgba(60, 64, 67, 0.15);\n",
              "      fill: #174EA6;\n",
              "    }\n",
              "\n",
              "    [theme=dark] .colab-df-convert {\n",
              "      background-color: #3B4455;\n",
              "      fill: #D2E3FC;\n",
              "    }\n",
              "\n",
              "    [theme=dark] .colab-df-convert:hover {\n",
              "      background-color: #434B5C;\n",
              "      box-shadow: 0px 1px 3px 1px rgba(0, 0, 0, 0.15);\n",
              "      filter: drop-shadow(0px 1px 2px rgba(0, 0, 0, 0.3));\n",
              "      fill: #FFFFFF;\n",
              "    }\n",
              "  </style>\n",
              "\n",
              "      <script>\n",
              "        const buttonEl =\n",
              "          document.querySelector('#df-cb73f5e5-05a6-4333-8315-3c42b471902e button.colab-df-convert');\n",
              "        buttonEl.style.display =\n",
              "          google.colab.kernel.accessAllowed ? 'block' : 'none';\n",
              "\n",
              "        async function convertToInteractive(key) {\n",
              "          const element = document.querySelector('#df-cb73f5e5-05a6-4333-8315-3c42b471902e');\n",
              "          const dataTable =\n",
              "            await google.colab.kernel.invokeFunction('convertToInteractive',\n",
              "                                                     [key], {});\n",
              "          if (!dataTable) return;\n",
              "\n",
              "          const docLinkHtml = 'Like what you see? Visit the ' +\n",
              "            '<a target=\"_blank\" href=https://colab.research.google.com/notebooks/data_table.ipynb>data table notebook</a>'\n",
              "            + ' to learn more about interactive tables.';\n",
              "          element.innerHTML = '';\n",
              "          dataTable['output_type'] = 'display_data';\n",
              "          await google.colab.output.renderOutput(dataTable, element);\n",
              "          const docLink = document.createElement('div');\n",
              "          docLink.innerHTML = docLinkHtml;\n",
              "          element.appendChild(docLink);\n",
              "        }\n",
              "      </script>\n",
              "    </div>\n",
              "  </div>\n",
              "  "
            ]
          },
          "metadata": {},
          "execution_count": 33
        }
      ]
    },
    {
      "cell_type": "code",
      "source": [
        "df_precio_range.plot.bar(x='Precio_range',y='ni',title='Frecuencia Absoluta por rango de precio', color=colors)\n",
        "plt.show()"
      ],
      "metadata": {
        "colab": {
          "base_uri": "https://localhost:8080/",
          "height": 345
        },
        "id": "vMDn5TYQ8Pnx",
        "outputId": "96357a61-e1b7-4344-8696-096b5d42a638"
      },
      "execution_count": 118,
      "outputs": [
        {
          "output_type": "display_data",
          "data": {
            "text/plain": [
              "<Figure size 432x288 with 1 Axes>"
            ],
            "image/png": "[encoded data removed]"
          },
          "metadata": {
            "needs_background": "light"
          }
        }
      ]
    },
    {
      "cell_type": "markdown",
      "source": [
        "El gráfico precedente evidencia que la mayor concentración se enceuntra en el rango de precio de 1.15 a 1.2 representando un 37.24% de la muestra total."
      ],
      "metadata": {
        "id": "U_kYhkTl6vKt"
      }
    },
    {
      "cell_type": "code",
      "source": [
        "n, bins, parches = plt.hist(df_new['Precio'], edgecolor = 'black')\n",
        "plt.show ()"
      ],
      "metadata": {
        "colab": {
          "base_uri": "https://localhost:8080/",
          "height": 265
        },
        "id": "WSpi_1RhaN_c",
        "outputId": "186969a4-4b6d-4c5e-fcd0-a42204a8eec1"
      },
      "execution_count": 121,
      "outputs": [
        {
          "output_type": "display_data",
          "data": {
            "text/plain": [
              "<Figure size 432x288 with 1 Axes>"
            ],
            "image/png": "[encoded data removed]"
          },
          "metadata": {
            "needs_background": "light"
          }
        }
      ]
    }
  ]
}