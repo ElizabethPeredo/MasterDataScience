{
  "nbformat": 4,
  "nbformat_minor": 0,
  "metadata": {
    "colab": {
      "provenance": []
    },
    "kernelspec": {
      "name": "python3",
      "display_name": "Python 3"
    },
    "language_info": {
      "name": "python"
    }
  },
  "cells": [
    {
      "cell_type": "markdown",
      "source": [
        "**NOMBRE:** Elizabeth Peredo"
      ],
      "metadata": {
        "id": "Q7Sl32HT73sS"
      }
    },
    {
      "cell_type": "code",
      "execution_count": 63,
      "metadata": {
        "id": "4xoFXPAsNh91"
      },
      "outputs": [],
      "source": [
        "import numpy as np\n",
        "import pandas as pd\n",
        "import seaborn as sns\n",
        "import matplotlib.pyplot as plt\n",
        "from plotnine import *\n",
        "import datetime\n",
        "import locale\n",
        "import math\n",
        "from math import log, log10\n",
        "from IPython.display import display, HTML\n",
        "from tabulate import tabulate\n",
        "import scipy.stats as ss\n",
        "import plotly.express as px\n",
        "import matplotlib.image as mpimg\n",
        "from sklearn.linear_model import LinearRegression\n",
        "from sklearn.metrics import mean_squared_error, r2_score\n",
        "from sklearn import datasets\n",
        "from sklearn.model_selection import train_test_split\n",
        "import statsmodels.api as sm\n",
        "from scipy.stats import skew, kurtosis"
      ]
    },
    {
      "cell_type": "code",
      "source": [
        "!pip install -U -q PyDrive\n",
        "from pydrive.auth import GoogleAuth\n",
        "from pydrive.drive import GoogleDrive\n",
        "from google.colab import auth\n",
        "from oauth2client.client import GoogleCredentials\n",
        "\n",
        "\n",
        "auth.authenticate_user()\n",
        "gauth = GoogleAuth()\n",
        "gauth.credentials = GoogleCredentials.get_application_default()\n",
        "drive = GoogleDrive(gauth)\n",
        "\n",
        "url='https://drive.google.com/file/d/1VmtLJ1YCVFTqkExGtJ6V-m1kri2IbL4J/view?usp=drivesdk'\n",
        "file_id = url.split('/')[-2]\n",
        "\n",
        "fileDownloaded = drive.CreateFile({'id':file_id})\n",
        "\n",
        "fileDownloaded.GetContentFile('datos_ventas.csv')\n",
        "\n",
        "df = pd.read_csv('datos_ventas.csv', delimiter=';')\n",
        "df.head()"
      ],
      "metadata": {
        "id": "GcflaUc0NrSN",
        "colab": {
          "base_uri": "https://localhost:8080/",
          "height": 206
        },
        "outputId": "3623c56c-d2e9-42a5-8d22-aa81c609c496"
      },
      "execution_count": 64,
      "outputs": [
        {
          "output_type": "execute_result",
          "data": {
            "text/plain": [
              "   Fecha_anual Inversion Ventas\n",
              "0         1980      1,00   4,61\n",
              "1         1981      1,50   5,18\n",
              "2         1982      2,00   5,09\n",
              "3         1983      2,50   5,44\n",
              "4         1984      3,00   0,62"
            ],
            "text/html": [
              "\n",
              "  <div id=\"df-7381cc4c-72f9-4e19-a912-135af7ca9056\">\n",
              "    <div class=\"colab-df-container\">\n",
              "      <div>\n",
              "<style scoped>\n",
              "    .dataframe tbody tr th:only-of-type {\n",
              "        vertical-align: middle;\n",
              "    }\n",
              "\n",
              "    .dataframe tbody tr th {\n",
              "        vertical-align: top;\n",
              "    }\n",
              "\n",
              "    .dataframe thead th {\n",
              "        text-align: right;\n",
              "    }\n",
              "</style>\n",
              "<table border=\"1\" class=\"dataframe\">\n",
              "  <thead>\n",
              "    <tr style=\"text-align: right;\">\n",
              "      <th></th>\n",
              "      <th>Fecha_anual</th>\n",
              "      <th>Inversion</th>\n",
              "      <th>Ventas</th>\n",
              "    </tr>\n",
              "  </thead>\n",
              "  <tbody>\n",
              "    <tr>\n",
              "      <th>0</th>\n",
              "      <td>1980</td>\n",
              "      <td>1,00</td>\n",
              "      <td>4,61</td>\n",
              "    </tr>\n",
              "    <tr>\n",
              "      <th>1</th>\n",
              "      <td>1981</td>\n",
              "      <td>1,50</td>\n",
              "      <td>5,18</td>\n",
              "    </tr>\n",
              "    <tr>\n",
              "      <th>2</th>\n",
              "      <td>1982</td>\n",
              "      <td>2,00</td>\n",
              "      <td>5,09</td>\n",
              "    </tr>\n",
              "    <tr>\n",
              "      <th>3</th>\n",
              "      <td>1983</td>\n",
              "      <td>2,50</td>\n",
              "      <td>5,44</td>\n",
              "    </tr>\n",
              "    <tr>\n",
              "      <th>4</th>\n",
              "      <td>1984</td>\n",
              "      <td>3,00</td>\n",
              "      <td>0,62</td>\n",
              "    </tr>\n",
              "  </tbody>\n",
              "</table>\n",
              "</div>\n",
              "      <button class=\"colab-df-convert\" onclick=\"convertToInteractive('df-7381cc4c-72f9-4e19-a912-135af7ca9056')\"\n",
              "              title=\"Convert this dataframe to an interactive table.\"\n",
              "              style=\"display:none;\">\n",
              "        \n",
              "  <svg xmlns=\"http://www.w3.org/2000/svg\" height=\"24px\"viewBox=\"0 0 24 24\"\n",
              "       width=\"24px\">\n",
              "    <path d=\"M0 0h24v24H0V0z\" fill=\"none\"/>\n",
              "    <path d=\"M18.56 5.44l.94 2.06.94-2.06 2.06-.94-2.06-.94-.94-2.06-.94 2.06-2.06.94zm-11 1L8.5 8.5l.94-2.06 2.06-.94-2.06-.94L8.5 2.5l-.94 2.06-2.06.94zm10 10l.94 2.06.94-2.06 2.06-.94-2.06-.94-.94-2.06-.94 2.06-2.06.94z\"/><path d=\"M17.41 7.96l-1.37-1.37c-.4-.4-.92-.59-1.43-.59-.52 0-1.04.2-1.43.59L10.3 9.45l-7.72 7.72c-.78.78-.78 2.05 0 2.83L4 21.41c.39.39.9.59 1.41.59.51 0 1.02-.2 1.41-.59l7.78-7.78 2.81-2.81c.8-.78.8-2.07 0-2.86zM5.41 20L4 18.59l7.72-7.72 1.47 1.35L5.41 20z\"/>\n",
              "  </svg>\n",
              "      </button>\n",
              "      \n",
              "  <style>\n",
              "    .colab-df-container {\n",
              "      display:flex;\n",
              "      flex-wrap:wrap;\n",
              "      gap: 12px;\n",
              "    }\n",
              "\n",
              "    .colab-df-convert {\n",
              "      background-color: #E8F0FE;\n",
              "      border: none;\n",
              "      border-radius: 50%;\n",
              "      cursor: pointer;\n",
              "      display: none;\n",
              "      fill: #1967D2;\n",
              "      height: 32px;\n",
              "      padding: 0 0 0 0;\n",
              "      width: 32px;\n",
              "    }\n",
              "\n",
              "    .colab-df-convert:hover {\n",
              "      background-color: #E2EBFA;\n",
              "      box-shadow: 0px 1px 2px rgba(60, 64, 67, 0.3), 0px 1px 3px 1px rgba(60, 64, 67, 0.15);\n",
              "      fill: #174EA6;\n",
              "    }\n",
              "\n",
              "    [theme=dark] .colab-df-convert {\n",
              "      background-color: #3B4455;\n",
              "      fill: #D2E3FC;\n",
              "    }\n",
              "\n",
              "    [theme=dark] .colab-df-convert:hover {\n",
              "      background-color: #434B5C;\n",
              "      box-shadow: 0px 1px 3px 1px rgba(0, 0, 0, 0.15);\n",
              "      filter: drop-shadow(0px 1px 2px rgba(0, 0, 0, 0.3));\n",
              "      fill: #FFFFFF;\n",
              "    }\n",
              "  </style>\n",
              "\n",
              "      <script>\n",
              "        const buttonEl =\n",
              "          document.querySelector('#df-7381cc4c-72f9-4e19-a912-135af7ca9056 button.colab-df-convert');\n",
              "        buttonEl.style.display =\n",
              "          google.colab.kernel.accessAllowed ? 'block' : 'none';\n",
              "\n",
              "        async function convertToInteractive(key) {\n",
              "          const element = document.querySelector('#df-7381cc4c-72f9-4e19-a912-135af7ca9056');\n",
              "          const dataTable =\n",
              "            await google.colab.kernel.invokeFunction('convertToInteractive',\n",
              "                                                     [key], {});\n",
              "          if (!dataTable) return;\n",
              "\n",
              "          const docLinkHtml = 'Like what you see? Visit the ' +\n",
              "            '<a target=\"_blank\" href=https://colab.research.google.com/notebooks/data_table.ipynb>data table notebook</a>'\n",
              "            + ' to learn more about interactive tables.';\n",
              "          element.innerHTML = '';\n",
              "          dataTable['output_type'] = 'display_data';\n",
              "          await google.colab.output.renderOutput(dataTable, element);\n",
              "          const docLink = document.createElement('div');\n",
              "          docLink.innerHTML = docLinkHtml;\n",
              "          element.appendChild(docLink);\n",
              "        }\n",
              "      </script>\n",
              "    </div>\n",
              "  </div>\n",
              "  "
            ]
          },
          "metadata": {},
          "execution_count": 64
        }
      ]
    },
    {
      "cell_type": "code",
      "source": [
        "df_new=df.copy()"
      ],
      "metadata": {
        "id": "gRHM8DgRO7j-"
      },
      "execution_count": 65,
      "outputs": []
    },
    {
      "cell_type": "code",
      "source": [
        "df_new['Ventas']= df[\"Ventas\"].str.replace(',', '.', case = False)\n",
        "df_new['Ventas'] = df_new['Ventas'].astype(float)\n",
        "\n",
        "df_new['Inversion']= df[\"Inversion\"].str.replace(',', '.', case = False)\n",
        "df_new['Inversion'] = df_new['Inversion'].astype(float)"
      ],
      "metadata": {
        "id": "3eMte2BTYOjA"
      },
      "execution_count": 66,
      "outputs": []
    },
    {
      "cell_type": "markdown",
      "source": [],
      "metadata": {
        "id": "uv4o0SW_zMaJ"
      }
    },
    {
      "cell_type": "markdown",
      "source": [
        "# Modelo de regresion lineal. Obtener una estimacion de los parametros del modelo y su interpretacion"
      ],
      "metadata": {
        "id": "dkwdEsGUYTFV"
      }
    },
    {
      "cell_type": "code",
      "source": [
        "df_new['Beneficio']=df_new['Ventas']-df_new['Inversion']"
      ],
      "metadata": {
        "id": "9o7O8B4iATWa"
      },
      "execution_count": 67,
      "outputs": []
    },
    {
      "cell_type": "code",
      "source": [
        "df_year=pd.pivot_table(df_new,index=['Fecha_anual'], \n",
        "               values=['Inversion', 'Ventas','Beneficio'], \n",
        "               aggfunc=['sum'], \n",
        "               margins=True)\n",
        "\n",
        "df_year.tail(5)"
      ],
      "metadata": {
        "id": "hPFRUKFMUQOd",
        "colab": {
          "base_uri": "https://localhost:8080/",
          "height": 268
        },
        "outputId": "2f1407c2-9ecf-4ecf-a724-f00e888223c7"
      },
      "execution_count": 68,
      "outputs": [
        {
          "output_type": "execute_result",
          "data": {
            "text/plain": [
              "                  sum                  \n",
              "            Beneficio Inversion  Ventas\n",
              "Fecha_anual                            \n",
              "2014            -3.36      18.0   14.64\n",
              "2015            -2.29      18.5   16.21\n",
              "2016            -2.28      19.0   16.72\n",
              "2017            -2.05      19.5   17.45\n",
              "All              9.23     389.5  398.73"
            ],
            "text/html": [
              "\n",
              "  <div id=\"df-2901b3e8-98b6-419b-9a9e-b3bc10068412\">\n",
              "    <div class=\"colab-df-container\">\n",
              "      <div>\n",
              "<style scoped>\n",
              "    .dataframe tbody tr th:only-of-type {\n",
              "        vertical-align: middle;\n",
              "    }\n",
              "\n",
              "    .dataframe tbody tr th {\n",
              "        vertical-align: top;\n",
              "    }\n",
              "\n",
              "    .dataframe thead tr th {\n",
              "        text-align: left;\n",
              "    }\n",
              "\n",
              "    .dataframe thead tr:last-of-type th {\n",
              "        text-align: right;\n",
              "    }\n",
              "</style>\n",
              "<table border=\"1\" class=\"dataframe\">\n",
              "  <thead>\n",
              "    <tr>\n",
              "      <th></th>\n",
              "      <th colspan=\"3\" halign=\"left\">sum</th>\n",
              "    </tr>\n",
              "    <tr>\n",
              "      <th></th>\n",
              "      <th>Beneficio</th>\n",
              "      <th>Inversion</th>\n",
              "      <th>Ventas</th>\n",
              "    </tr>\n",
              "    <tr>\n",
              "      <th>Fecha_anual</th>\n",
              "      <th></th>\n",
              "      <th></th>\n",
              "      <th></th>\n",
              "    </tr>\n",
              "  </thead>\n",
              "  <tbody>\n",
              "    <tr>\n",
              "      <th>2014</th>\n",
              "      <td>-3.36</td>\n",
              "      <td>18.0</td>\n",
              "      <td>14.64</td>\n",
              "    </tr>\n",
              "    <tr>\n",
              "      <th>2015</th>\n",
              "      <td>-2.29</td>\n",
              "      <td>18.5</td>\n",
              "      <td>16.21</td>\n",
              "    </tr>\n",
              "    <tr>\n",
              "      <th>2016</th>\n",
              "      <td>-2.28</td>\n",
              "      <td>19.0</td>\n",
              "      <td>16.72</td>\n",
              "    </tr>\n",
              "    <tr>\n",
              "      <th>2017</th>\n",
              "      <td>-2.05</td>\n",
              "      <td>19.5</td>\n",
              "      <td>17.45</td>\n",
              "    </tr>\n",
              "    <tr>\n",
              "      <th>All</th>\n",
              "      <td>9.23</td>\n",
              "      <td>389.5</td>\n",
              "      <td>398.73</td>\n",
              "    </tr>\n",
              "  </tbody>\n",
              "</table>\n",
              "</div>\n",
              "      <button class=\"colab-df-convert\" onclick=\"convertToInteractive('df-2901b3e8-98b6-419b-9a9e-b3bc10068412')\"\n",
              "              title=\"Convert this dataframe to an interactive table.\"\n",
              "              style=\"display:none;\">\n",
              "        \n",
              "  <svg xmlns=\"http://www.w3.org/2000/svg\" height=\"24px\"viewBox=\"0 0 24 24\"\n",
              "       width=\"24px\">\n",
              "    <path d=\"M0 0h24v24H0V0z\" fill=\"none\"/>\n",
              "    <path d=\"M18.56 5.44l.94 2.06.94-2.06 2.06-.94-2.06-.94-.94-2.06-.94 2.06-2.06.94zm-11 1L8.5 8.5l.94-2.06 2.06-.94-2.06-.94L8.5 2.5l-.94 2.06-2.06.94zm10 10l.94 2.06.94-2.06 2.06-.94-2.06-.94-.94-2.06-.94 2.06-2.06.94z\"/><path d=\"M17.41 7.96l-1.37-1.37c-.4-.4-.92-.59-1.43-.59-.52 0-1.04.2-1.43.59L10.3 9.45l-7.72 7.72c-.78.78-.78 2.05 0 2.83L4 21.41c.39.39.9.59 1.41.59.51 0 1.02-.2 1.41-.59l7.78-7.78 2.81-2.81c.8-.78.8-2.07 0-2.86zM5.41 20L4 18.59l7.72-7.72 1.47 1.35L5.41 20z\"/>\n",
              "  </svg>\n",
              "      </button>\n",
              "      \n",
              "  <style>\n",
              "    .colab-df-container {\n",
              "      display:flex;\n",
              "      flex-wrap:wrap;\n",
              "      gap: 12px;\n",
              "    }\n",
              "\n",
              "    .colab-df-convert {\n",
              "      background-color: #E8F0FE;\n",
              "      border: none;\n",
              "      border-radius: 50%;\n",
              "      cursor: pointer;\n",
              "      display: none;\n",
              "      fill: #1967D2;\n",
              "      height: 32px;\n",
              "      padding: 0 0 0 0;\n",
              "      width: 32px;\n",
              "    }\n",
              "\n",
              "    .colab-df-convert:hover {\n",
              "      background-color: #E2EBFA;\n",
              "      box-shadow: 0px 1px 2px rgba(60, 64, 67, 0.3), 0px 1px 3px 1px rgba(60, 64, 67, 0.15);\n",
              "      fill: #174EA6;\n",
              "    }\n",
              "\n",
              "    [theme=dark] .colab-df-convert {\n",
              "      background-color: #3B4455;\n",
              "      fill: #D2E3FC;\n",
              "    }\n",
              "\n",
              "    [theme=dark] .colab-df-convert:hover {\n",
              "      background-color: #434B5C;\n",
              "      box-shadow: 0px 1px 3px 1px rgba(0, 0, 0, 0.15);\n",
              "      filter: drop-shadow(0px 1px 2px rgba(0, 0, 0, 0.3));\n",
              "      fill: #FFFFFF;\n",
              "    }\n",
              "  </style>\n",
              "\n",
              "      <script>\n",
              "        const buttonEl =\n",
              "          document.querySelector('#df-2901b3e8-98b6-419b-9a9e-b3bc10068412 button.colab-df-convert');\n",
              "        buttonEl.style.display =\n",
              "          google.colab.kernel.accessAllowed ? 'block' : 'none';\n",
              "\n",
              "        async function convertToInteractive(key) {\n",
              "          const element = document.querySelector('#df-2901b3e8-98b6-419b-9a9e-b3bc10068412');\n",
              "          const dataTable =\n",
              "            await google.colab.kernel.invokeFunction('convertToInteractive',\n",
              "                                                     [key], {});\n",
              "          if (!dataTable) return;\n",
              "\n",
              "          const docLinkHtml = 'Like what you see? Visit the ' +\n",
              "            '<a target=\"_blank\" href=https://colab.research.google.com/notebooks/data_table.ipynb>data table notebook</a>'\n",
              "            + ' to learn more about interactive tables.';\n",
              "          element.innerHTML = '';\n",
              "          dataTable['output_type'] = 'display_data';\n",
              "          await google.colab.output.renderOutput(dataTable, element);\n",
              "          const docLink = document.createElement('div');\n",
              "          docLink.innerHTML = docLinkHtml;\n",
              "          element.appendChild(docLink);\n",
              "        }\n",
              "      </script>\n",
              "    </div>\n",
              "  </div>\n",
              "  "
            ]
          },
          "metadata": {},
          "execution_count": 68
        }
      ]
    },
    {
      "cell_type": "markdown",
      "source": [
        "La tabla precedente muestra que existen perdidas en ciertos años, debido a que las ventas no cubren la inversion inicial. Sin embargo, los beneficios globales desde 1980 a 2017 generaron beneficios de 9.23 millones."
      ],
      "metadata": {
        "id": "13Cwvrqd46Jn"
      }
    },
    {
      "cell_type": "markdown",
      "source": [
        "## **ANALISIS 1**"
      ],
      "metadata": {
        "id": "VNBqMfYh0Eo3"
      }
    },
    {
      "cell_type": "markdown",
      "source": [
        "Para el primer analisis se esta considerando 3 variables, las variables independientes son FECHA_ANUAL e INVERSIÓN y la variable dependiente es la de VENTAS"
      ],
      "metadata": {
        "id": "NWQlomCC0Hrw"
      }
    },
    {
      "cell_type": "code",
      "source": [
        "X = df_new[[\"Fecha_anual\", \"Inversion\"]]\n",
        "y = df_new[\"Ventas\"]\n",
        "\n",
        "X_train, X_test, y_train, y_test = train_test_split(X, y, test_size=0.2, random_state=42)\n",
        "\n",
        "model = LinearRegression()\n",
        "model.fit(X_train, y_train)\n",
        "\n",
        "# PREDICCIÓN\n",
        "y_pred = model.predict(X_test)\n",
        "\n",
        "# MÉTRICAS\n",
        "r2 = r2_score(y_test, y_pred)\n",
        "mse = mean_squared_error(y_test, y_pred)\n",
        "\n",
        "print(\"Coeficiente de determinación (R²):\", r2)\n",
        "print(\"Error cuadrático medio (MSE):\", mse)\n",
        "\n",
        "plt.scatter(X_test[\"Fecha_anual\"], y_test, color=\"blue\")\n",
        "plt.plot(X_test[\"Fecha_anual\"], y_pred, color=\"red\")\n",
        "plt.title(\"Ventas vs. Fecha anual y Inversión\")\n",
        "plt.xlabel(\"Fecha anual e Inversión (millones)\")\n",
        "plt.ylabel(\"Ventas (millones)\")\n",
        "plt.show()\n"
      ],
      "metadata": {
        "colab": {
          "base_uri": "https://localhost:8080/",
          "height": 330
        },
        "id": "u0afMy6Qzyrn",
        "outputId": "4aa948a5-e1ec-4a97-993d-d4d784db5516"
      },
      "execution_count": 69,
      "outputs": [
        {
          "output_type": "stream",
          "name": "stdout",
          "text": [
            "Coeficiente de determinación (R²): 0.79180604456645\n",
            "Error cuadrático medio (MSE): 7.8693798627853395\n"
          ]
        },
        {
          "output_type": "display_data",
          "data": {
            "text/plain": [
              "<Figure size 432x288 with 1 Axes>"
            ],
            "image/png": "[encoded data removed]"
          },
          "metadata": {
            "needs_background": "light"
          }
        }
      ]
    },
    {
      "cell_type": "markdown",
      "source": [
        "## **ANALISIS 2**"
      ],
      "metadata": {
        "id": "ZBwCp0-zmMKH"
      }
    },
    {
      "cell_type": "markdown",
      "source": [
        "Para comprobar las diferencias, en este segundo analisis se esta considerando las varaibles Inversion y Ventas"
      ],
      "metadata": {
        "id": "CA8HuVI31ove"
      }
    },
    {
      "cell_type": "code",
      "source": [
        "X = df_new[\"Inversion\"].values.reshape(-1, 1)\n",
        "y = df_new[\"Ventas\"].values.reshape(-1, 1)\n",
        "\n",
        "X_train, X_test, y_train, y_test = train_test_split(X, y, test_size=0.2, random_state=42)\n",
        "\n",
        "model = LinearRegression()\n",
        "model.fit(X_train, y_train)\n",
        "\n",
        "y_pred = model.predict(X_test)\n",
        "\n",
        "r2 = r2_score(y_test, y_pred)\n",
        "mse = mean_squared_error(y_test, y_pred)\n",
        "\n",
        "print(\"Coeficiente de determinación (R²):\", r2)\n",
        "print(\"Error cuadrático medio (MSE):\", mse)\n",
        "\n",
        "plt.figure(figsize=(8, 6))\n",
        "plt.plot(X_test, y_pred, color=\"black\")\n",
        "plt.scatter(df_new['Inversion'], df_new['Ventas'], \n",
        "            c=df_new['Fecha_anual'], cmap='viridis')  \n",
        "plt.colorbar(label='Fecha_anual') \n",
        "plt.title('Relación entre Inversion y Ventas')  \n",
        "plt.xlabel('Inversion (millones)')  \n",
        "plt.ylabel('Ventas (millones)')  \n",
        "plt.show()\n"
      ],
      "metadata": {
        "colab": {
          "base_uri": "https://localhost:8080/",
          "height": 439
        },
        "id": "MHzuO4No1btx",
        "outputId": "41ff2e0e-ff25-4877-f1c9-ab0c23cd71e9"
      },
      "execution_count": 70,
      "outputs": [
        {
          "output_type": "stream",
          "name": "stdout",
          "text": [
            "Coeficiente de determinación (R²): 0.7917446219870267\n",
            "Error cuadrático medio (MSE): 7.871701532540966\n"
          ]
        },
        {
          "output_type": "display_data",
          "data": {
            "text/plain": [
              "<Figure size 576x432 with 2 Axes>"
            ],
            "image/png": "[encoded data removed]"
          },
          "metadata": {
            "needs_background": "light"
          }
        }
      ]
    },
    {
      "cell_type": "markdown",
      "source": [
        "Los gráficos precedentes evidencian que las ventas y la inversion tiene una relacion directa, asimismo. Asimismo, el esquema de colores evidencia que los montos inversión y ventas incrementaron año tras año, excepto algunos datos que se dieron entre 1980 y 1985."
      ],
      "metadata": {
        "id": "fj3HVkXrnHOk"
      }
    },
    {
      "cell_type": "code",
      "source": [
        "x = df_new[['Inversion']]\n",
        "y = df_new['Ventas']\n",
        "\n",
        "model = LinearRegression().fit(x, y)\n",
        "\n",
        "print(\"Intercepto:\", model.intercept_)\n",
        "print(\"Coeficiente:\", list(zip(x.columns, model.coef_.flatten(), )))\n",
        "print(\"Coeficiente de determinación R^2:\", model.score(x, y))"
      ],
      "metadata": {
        "id": "a8lrtcTBYU_A",
        "colab": {
          "base_uri": "https://localhost:8080/"
        },
        "outputId": "5774cea2-c605-498b-da63-38c82ffb9330"
      },
      "execution_count": 71,
      "outputs": [
        {
          "output_type": "stream",
          "name": "stdout",
          "text": [
            "Intercepto: 2.8805285042127133\n",
            "Coeficiente: [('Inversion', 0.7426698763540869)]\n",
            "Coeficiente de determinación R^2: 0.9144759177150086\n"
          ]
        }
      ]
    },
    {
      "cell_type": "markdown",
      "source": [
        "* El intercepto es el valor de la variable \n",
        "dependiente (Ventas) cuando la variable independiente (Inversion) es igual a cero. En este caso en especifico **el intercepto es de 2.88 millones**, por lo tanto este dato proporciona información sobre la posición de la línea de regresión en el eje y, incluso cuando la variable independiente es cero.\n",
        "* El coeficiente es la pendiente, debido a que es el cambio en la variable dependiente (Ventas) por una unidad adicional en la variable independiente (Inversion). Siendo este la tasa de cambio de la variable dependiente en función de la variable independiente. \n",
        "En este caso en especifico el **coeficiente es 0.74 millones, valor positivo** que indica una relación directa, donde un aumento en la variable independiente se asocia con un aumento en la variable dependiente.\n"
      ],
      "metadata": {
        "id": "maberQ7U58-j"
      }
    },
    {
      "cell_type": "code",
      "source": [
        "y = df_new['Ventas']\n",
        "#X = df_new[['Inversion', 'Fecha_anual']]\n",
        "X = df_new['Inversion']\n",
        "X = sm.add_constant(X)\n",
        "model = sm.OLS(y, X)\n",
        "results = model.fit()\n",
        "print(results.summary())"
      ],
      "metadata": {
        "colab": {
          "base_uri": "https://localhost:8080/"
        },
        "id": "U9_FSPUuuO65",
        "outputId": "66e0c36d-74d2-428e-b331-ec0e01f22c75"
      },
      "execution_count": 72,
      "outputs": [
        {
          "output_type": "stream",
          "name": "stdout",
          "text": [
            "                            OLS Regression Results                            \n",
            "==============================================================================\n",
            "Dep. Variable:                 Ventas   R-squared:                       0.914\n",
            "Model:                            OLS   Adj. R-squared:                  0.912\n",
            "Method:                 Least Squares   F-statistic:                     384.9\n",
            "Date:                Mon, 20 Feb 2023   Prob (F-statistic):           8.25e-21\n",
            "Time:                        18:33:14   Log-Likelihood:                -62.255\n",
            "No. Observations:                  38   AIC:                             128.5\n",
            "Df Residuals:                      36   BIC:                             131.8\n",
            "Df Model:                           1                                         \n",
            "Covariance Type:            nonrobust                                         \n",
            "==============================================================================\n",
            "                 coef    std err          t      P>|t|      [0.025      0.975]\n",
            "------------------------------------------------------------------------------\n",
            "const          2.8805      0.440      6.546      0.000       1.988       3.773\n",
            "Inversion      0.7427      0.038     19.620      0.000       0.666       0.819\n",
            "==============================================================================\n",
            "Omnibus:                       49.123   Durbin-Watson:                   2.334\n",
            "Prob(Omnibus):                  0.000   Jarque-Bera (JB):              209.563\n",
            "Skew:                          -3.131   Prob(JB):                     3.12e-46\n",
            "Kurtosis:                      12.651   Cond. No.                         24.8\n",
            "==============================================================================\n",
            "\n",
            "Notes:\n",
            "[1] Standard Errors assume that the covariance matrix of the errors is correctly specified.\n"
          ]
        }
      ]
    },
    {
      "cell_type": "markdown",
      "source": [
        "Como dato adicional, el valor de skewness de -3.131 indica una asimetría negativa pronunciada en la distribución.\n",
        "\n",
        "Por otro lado, la curtosis mide el grado de \"pico\" o \"aplanamiento\" de la distribución en relación a una distribución normal. En este modelo, el valor de curtosis es de 12.651, lo que indica una distribución con un pico muy alto y colas pesadas (distribución leptocúrtica).\n"
      ],
      "metadata": {
        "id": "B_42F6mi_1UT"
      }
    },
    {
      "cell_type": "markdown",
      "source": [
        "# Cuantas ventas se obtendran si se invirtiesen 7 milllones de euros"
      ],
      "metadata": {
        "id": "xINc6YosYic8"
      }
    },
    {
      "cell_type": "code",
      "source": [
        "from sklearn.linear_model import LinearRegression\n",
        "modelo = LinearRegression()\n",
        "modelo.fit(df_new[['Inversion']], df_new['Ventas'])\n",
        "\n",
        "nuevo_X = 7\n",
        "prediccion = modelo.predict([[nuevo_X]])\n",
        "beneficio = prediccion - nuevo_X\n",
        "print('Predicción para Inversion =', nuevo_X, ':', prediccion[0], 'Beneficio:',beneficio)"
      ],
      "metadata": {
        "id": "mpClxP6YT4kK",
        "colab": {
          "base_uri": "https://localhost:8080/"
        },
        "outputId": "9d2a8685-c258-47fe-b6c7-91ac757dc00c"
      },
      "execution_count": 73,
      "outputs": [
        {
          "output_type": "stream",
          "name": "stdout",
          "text": [
            "Predicción para Inversion = 7 : 8.079217638691322 Beneficio: [1.07921764]\n"
          ]
        },
        {
          "output_type": "stream",
          "name": "stderr",
          "text": [
            "/usr/local/lib/python3.8/dist-packages/sklearn/base.py:450: UserWarning: X does not have valid feature names, but LinearRegression was fitted with feature names\n"
          ]
        }
      ]
    },
    {
      "cell_type": "markdown",
      "source": [
        "Si no se considera el flujo de los años en el modelo de prediccion, al inviertier 7 millones, se tendria ventas de 8.08 millones, lo que significa que tendria beneficios de 1.08 millones."
      ],
      "metadata": {
        "id": "wj5sk7KyUVxm"
      }
    },
    {
      "cell_type": "code",
      "source": [
        "y = df_new['Ventas']\n",
        "X = df_new[['Inversion', 'Fecha_anual']]\n",
        "X = sm.add_constant(X)\n",
        "model = sm.OLS(y, X)\n",
        "results = model.fit()\n",
        "nueva_inversion = pd.DataFrame({'const': 1, \n",
        "                                'Inversion': [7], \n",
        "                                'Fecha_anual': [2023]})\n",
        "prediccion_ventas = round(results.predict(nueva_inversion),2)\n",
        "beneficio = round(float(prediccion_ventas - 7),2)\n",
        "\n",
        "print(\"\"\"La proyección de ventas para una inversión \n",
        "de 7 millones en el año 2023 es:\"\"\", prediccion_ventas[0],\"\"\" \n",
        "millones generando beneficios de\"\"\",beneficio, \" millones\")\n"
      ],
      "metadata": {
        "colab": {
          "base_uri": "https://localhost:8080/"
        },
        "id": "WG-VG00XERkc",
        "outputId": "b504140d-8f90-49ad-e69c-f97a40b947e1"
      },
      "execution_count": 74,
      "outputs": [
        {
          "output_type": "stream",
          "name": "stdout",
          "text": [
            "La proyección de ventas para una inversión \n",
            "de 7 millones en el año 2023 es: 8.12  \n",
            "millones generando beneficios de 1.12  millones\n"
          ]
        }
      ]
    },
    {
      "cell_type": "markdown",
      "source": [
        "La proyección de ventas para una inversión \n",
        "de 7 millones en el año 2023 es de 8.12  \n",
        "millones generando beneficios de 1.12  millones."
      ],
      "metadata": {
        "id": "U2QcqPH6FyWa"
      }
    },
    {
      "cell_type": "markdown",
      "source": [
        "# **3. Calcular SCE y el coeficiente de determinacion**"
      ],
      "metadata": {
        "id": "vGTv4Pt5YxtJ"
      }
    },
    {
      "cell_type": "markdown",
      "source": [
        "## **Suma de Cuadrados del Error**"
      ],
      "metadata": {
        "id": "MSj4R-6m1ggw"
      }
    },
    {
      "cell_type": "code",
      "source": [
        "# Residuos\n",
        "residuos = df_new['Inversion'] - df_new['Ventas']\n",
        "\n",
        "# Residuo estándar de error (RSE)\n",
        "rse = np.sqrt(np.sum(residuos**2) / (len(df) - 2))\n",
        "\n",
        "# Suma de cuadrados de error (SSE)\n",
        "sse = np.sum(residuos**2)\n",
        "\n",
        "print('Suma de cuadrados de error (SSE):', sse)\n",
        "print('Residuo estándar de error (RSE):', rse)"
      ],
      "metadata": {
        "id": "sMQy8WE11g2d",
        "colab": {
          "base_uri": "https://localhost:8080/"
        },
        "outputId": "2c9823ab-fa9b-44c5-aa2c-0b2ddc8fac39"
      },
      "execution_count": 75,
      "outputs": [
        {
          "output_type": "stream",
          "name": "stdout",
          "text": [
            "Suma de cuadrados de error (SSE): 136.8159\n",
            "Residuo estándar de error (RSE): 1.949472150779966\n"
          ]
        }
      ]
    },
    {
      "cell_type": "markdown",
      "source": [
        "La SCE es la suma de los cuadrados de las diferencias entre los valores reales de \"y\" y las predicciones del modelo. Un valor de SCE más bajo indica que el modelo ajustado se ajusta mejor a los datos. \n",
        "\n",
        "La SSE es de 136.82 y el RSE es de 1.95, denota que el modelo de regresión lineal no explica toda la variabilidad en los datos, y que los errores residuales tienen una dispersión de alrededor de 1.95 unidades en la variable de respuesta. Cuanto menor sea la SSE y el RSE, mejor será la calidad del ajuste del modelo a los datos."
      ],
      "metadata": {
        "id": "YcrYnQuy2nUy"
      }
    },
    {
      "cell_type": "markdown",
      "source": [
        "## **COEFICIENTE DE DETERMINACIÓN**"
      ],
      "metadata": {
        "id": "cAE2WNrV0zfb"
      }
    },
    {
      "cell_type": "code",
      "source": [
        "y_pred = modelo.predict(df_new[['Inversion']])\n",
        "r2 = r2_score(df_new['Ventas'], y_pred)\n",
        "\n",
        "print('Coeficiente de determinación:', r2)"
      ],
      "metadata": {
        "id": "SzFpLQ1TY_Rm",
        "colab": {
          "base_uri": "https://localhost:8080/"
        },
        "outputId": "d5343ca8-9fc2-44a7-c891-c70f45ed4157"
      },
      "execution_count": 76,
      "outputs": [
        {
          "output_type": "stream",
          "name": "stdout",
          "text": [
            "Coeficiente de determinación: 0.9144759177150086\n"
          ]
        }
      ]
    },
    {
      "cell_type": "markdown",
      "source": [
        "El valor de R² puede variar entre 0 y 1. El valor de R² en este modelo es de 0.91, valor que es cercano a 1, lo que indica que el modelo ajustado explica bien los datos, sin embargo, si este valor hubiera sido un valor cercano a 0, significaria que el modelo no se ajusta bien a los datos."
      ],
      "metadata": {
        "id": "OfSXl0N_1HV5"
      }
    }
  ]
}